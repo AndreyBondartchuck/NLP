{
  "cells": [
    {
      "cell_type": "markdown",
      "metadata": {
        "id": "z90P3gjtYlkC"
      },
      "source": [
        "Andrey_Bondarchuk_stepik_id_346032105"
      ]
    },
    {
      "cell_type": "markdown",
      "source": [
        "collab\n",
        "\n",
        "https://drive.google.com/file/d/1pEkACTIDJTGpW0wJM2fOxi3NGTW7toKu/view?usp=sharing"
      ],
      "metadata": {
        "id": "9lk_yXqKYnQX"
      }
    },
    {
      "cell_type": "markdown",
      "metadata": {
        "id": "Ot3c4fjZwC4T"
      },
      "source": [
        "<img src=\"https://s8.hostingkartinok.com/uploads/images/2018/08/308b49fcfbc619d629fe4604bceb67ac.jpg\" width=500, height=450>\n",
        "<h3 style=\"text-align: center;\"><b>Физтех-Школа Прикладной математики и информатики (ФПМИ) МФТИ</b></h3>"
      ]
    },
    {
      "cell_type": "markdown",
      "metadata": {
        "id": "P2JdzEXmwRU5"
      },
      "source": [
        "---"
      ]
    },
    {
      "cell_type": "markdown",
      "metadata": {
        "id": "eYtJxkhKpYK2"
      },
      "source": [
        "# Embeddings\n",
        "\n",
        "Привет! В этом домашнем задании мы с помощью эмбеддингов решим задачу семантической классификации твитов.\n",
        "\n",
        "Для этого мы воспользуемся предобученными эмбеддингами word2vec."
      ]
    },
    {
      "cell_type": "markdown",
      "metadata": {
        "id": "jBOdoFS8AdpP"
      },
      "source": [
        "Для начала скачаем датасет для семантической классификации твитов:"
      ]
    },
    {
      "cell_type": "code",
      "execution_count": null,
      "metadata": {
        "id": "wXjhtsfF_gBK"
      },
      "outputs": [],
      "source": [
        "# !gdown https://drive.google.com/uc?id=1eE1FiUkXkcbw0McId4i7qY-L8hH-_Qph&export=download\n",
        "# !unzip archive.zip"
      ]
    },
    {
      "cell_type": "code",
      "execution_count": null,
      "metadata": {
        "id": "AjpyNAWYYlkU"
      },
      "outputs": [],
      "source": [
        "collab = False"
      ]
    },
    {
      "cell_type": "code",
      "execution_count": null,
      "metadata": {
        "id": "OfllYsNRNQ0O"
      },
      "outputs": [],
      "source": [
        "import os\n",
        "if collab and (not 'training.1600000.processed.noemoticon.csv' in os.listdir('./')):\n",
        "    from google.colab import drive\n",
        "    drive.mount('/content/gdrive/')\n",
        "    !unzip -q /content/gdrive/My\\ Drive/archive.zip"
      ]
    },
    {
      "cell_type": "markdown",
      "metadata": {
        "id": "Sh6wW-K53Mle"
      },
      "source": [
        "Импортируем нужные библиотеки:"
      ]
    },
    {
      "cell_type": "code",
      "execution_count": null,
      "metadata": {
        "id": "A2Y5CHRm6NFe"
      },
      "outputs": [],
      "source": [
        "import math\n",
        "import random\n",
        "import string\n",
        "\n",
        "import numpy as np\n",
        "import pandas as pd\n",
        "import seaborn as sns\n",
        "\n",
        "import torch\n",
        "import nltk\n",
        "import gensim\n",
        "import gensim.downloader as api"
      ]
    },
    {
      "cell_type": "code",
      "execution_count": null,
      "metadata": {
        "id": "L_Wv-4bu83Fl"
      },
      "outputs": [],
      "source": [
        "data = pd.read_csv(\"training.1600000.processed.noemoticon.csv\", encoding=\"latin\", header=None, \\\n",
        "                   names=[\"emotion\", \"id\", \"date\", \"flag\", \"user\", \"text\"])"
      ]
    },
    {
      "cell_type": "markdown",
      "metadata": {
        "id": "RY1pvYDS3Yuj"
      },
      "source": [
        "Посмотрим на данные:"
      ]
    },
    {
      "cell_type": "code",
      "execution_count": null,
      "metadata": {
        "id": "73Lb0wbESrgQ"
      },
      "outputs": [],
      "source": [
        "random.seed(42)\n",
        "np.random.seed(42)\n",
        "torch.random.manual_seed(42)\n",
        "torch.cuda.random.manual_seed(42)\n",
        "torch.cuda.random.manual_seed_all(42)\n",
        "\n",
        "device = \"cuda\" if torch.cuda.is_available() else \"cpu\""
      ]
    },
    {
      "cell_type": "code",
      "execution_count": null,
      "metadata": {
        "id": "zt9zf6wqYlkh",
        "outputId": "2c6707d5-91ea-4a66-bbc0-506adc0cf4bb"
      },
      "outputs": [
        {
          "data": {
            "text/plain": [
              "'cpu'"
            ]
          },
          "execution_count": 125,
          "metadata": {},
          "output_type": "execute_result"
        }
      ],
      "source": [
        "device"
      ]
    },
    {
      "cell_type": "code",
      "execution_count": null,
      "metadata": {
        "colab": {
          "base_uri": "https://localhost:8080/",
          "height": 206
        },
        "id": "jST2tjgjCTWD",
        "outputId": "87ead204-8871-46f5-f58d-1cb9226dc85e"
      },
      "outputs": [
        {
          "data": {
            "text/html": [
              "<div>\n",
              "<style scoped>\n",
              "    .dataframe tbody tr th:only-of-type {\n",
              "        vertical-align: middle;\n",
              "    }\n",
              "\n",
              "    .dataframe tbody tr th {\n",
              "        vertical-align: top;\n",
              "    }\n",
              "\n",
              "    .dataframe thead th {\n",
              "        text-align: right;\n",
              "    }\n",
              "</style>\n",
              "<table border=\"1\" class=\"dataframe\">\n",
              "  <thead>\n",
              "    <tr style=\"text-align: right;\">\n",
              "      <th></th>\n",
              "      <th>emotion</th>\n",
              "      <th>id</th>\n",
              "      <th>date</th>\n",
              "      <th>flag</th>\n",
              "      <th>user</th>\n",
              "      <th>text</th>\n",
              "    </tr>\n",
              "  </thead>\n",
              "  <tbody>\n",
              "    <tr>\n",
              "      <th>0</th>\n",
              "      <td>0</td>\n",
              "      <td>1467810369</td>\n",
              "      <td>Mon Apr 06 22:19:45 PDT 2009</td>\n",
              "      <td>NO_QUERY</td>\n",
              "      <td>_TheSpecialOne_</td>\n",
              "      <td>@switchfoot http://twitpic.com/2y1zl - Awww, t...</td>\n",
              "    </tr>\n",
              "    <tr>\n",
              "      <th>1</th>\n",
              "      <td>0</td>\n",
              "      <td>1467810672</td>\n",
              "      <td>Mon Apr 06 22:19:49 PDT 2009</td>\n",
              "      <td>NO_QUERY</td>\n",
              "      <td>scotthamilton</td>\n",
              "      <td>is upset that he can't update his Facebook by ...</td>\n",
              "    </tr>\n",
              "    <tr>\n",
              "      <th>2</th>\n",
              "      <td>0</td>\n",
              "      <td>1467810917</td>\n",
              "      <td>Mon Apr 06 22:19:53 PDT 2009</td>\n",
              "      <td>NO_QUERY</td>\n",
              "      <td>mattycus</td>\n",
              "      <td>@Kenichan I dived many times for the ball. Man...</td>\n",
              "    </tr>\n",
              "    <tr>\n",
              "      <th>3</th>\n",
              "      <td>0</td>\n",
              "      <td>1467811184</td>\n",
              "      <td>Mon Apr 06 22:19:57 PDT 2009</td>\n",
              "      <td>NO_QUERY</td>\n",
              "      <td>ElleCTF</td>\n",
              "      <td>my whole body feels itchy and like its on fire</td>\n",
              "    </tr>\n",
              "    <tr>\n",
              "      <th>4</th>\n",
              "      <td>0</td>\n",
              "      <td>1467811193</td>\n",
              "      <td>Mon Apr 06 22:19:57 PDT 2009</td>\n",
              "      <td>NO_QUERY</td>\n",
              "      <td>Karoli</td>\n",
              "      <td>@nationwideclass no, it's not behaving at all....</td>\n",
              "    </tr>\n",
              "  </tbody>\n",
              "</table>\n",
              "</div>"
            ],
            "text/plain": [
              "   emotion          id                          date      flag  \\\n",
              "0        0  1467810369  Mon Apr 06 22:19:45 PDT 2009  NO_QUERY   \n",
              "1        0  1467810672  Mon Apr 06 22:19:49 PDT 2009  NO_QUERY   \n",
              "2        0  1467810917  Mon Apr 06 22:19:53 PDT 2009  NO_QUERY   \n",
              "3        0  1467811184  Mon Apr 06 22:19:57 PDT 2009  NO_QUERY   \n",
              "4        0  1467811193  Mon Apr 06 22:19:57 PDT 2009  NO_QUERY   \n",
              "\n",
              "              user                                               text  \n",
              "0  _TheSpecialOne_  @switchfoot http://twitpic.com/2y1zl - Awww, t...  \n",
              "1    scotthamilton  is upset that he can't update his Facebook by ...  \n",
              "2         mattycus  @Kenichan I dived many times for the ball. Man...  \n",
              "3          ElleCTF    my whole body feels itchy and like its on fire   \n",
              "4           Karoli  @nationwideclass no, it's not behaving at all....  "
            ]
          },
          "execution_count": 126,
          "metadata": {},
          "output_type": "execute_result"
        }
      ],
      "source": [
        "data.head()"
      ]
    },
    {
      "cell_type": "markdown",
      "metadata": {
        "id": "OhbR5JJyA2VW"
      },
      "source": [
        "Выведем несколько примеров твитов, чтобы понимать, с чем мы имеем дело:"
      ]
    },
    {
      "cell_type": "code",
      "execution_count": null,
      "metadata": {
        "colab": {
          "base_uri": "https://localhost:8080/"
        },
        "id": "kCBwe0wR83C2",
        "outputId": "f8a30bbe-be84-4304-d5ef-4177f33b74e8"
      },
      "outputs": [
        {
          "name": "stdout",
          "output_type": "stream",
          "text": [
            "@chrishasboobs AHHH I HOPE YOUR OK!!! \n",
            "@misstoriblack cool , i have no tweet apps  for my razr 2\n",
            "@TiannaChaos i know  just family drama. its lame.hey next time u hang out with kim n u guys like have a sleepover or whatever, ill call u\n",
            "School email won't open  and I have geography stuff on there to revise! *Stupid School* :'(\n",
            "upper airways problem \n",
            "Going to miss Pastor's sermon on Faith... \n",
            "on lunch....dj should come eat with me \n",
            "@piginthepoke oh why are you feeling like that? \n",
            "gahh noo!peyton needs to live!this is horrible \n",
            "@mrstessyman thank you glad you like it! There is a product review bit on the site  Enjoy knitting it!\n"
          ]
        }
      ],
      "source": [
        "examples = data[\"text\"].sample(10)\n",
        "print(\"\\n\".join(examples))"
      ]
    },
    {
      "cell_type": "markdown",
      "metadata": {
        "id": "GvcYW8aX3mKt"
      },
      "source": [
        "Как вилим, тексты твитов очень \"грязные\". Нужно предобработать датасет, прежде чем строить для него модель классификации.\n",
        "\n",
        "Чтобы сравнивать различные методы обработки текста/модели/прочее, разделим датасет на dev(для обучения модели) и test(для получения качества модели)."
      ]
    },
    {
      "cell_type": "code",
      "execution_count": null,
      "metadata": {
        "id": "f8hUK-jnQg6O"
      },
      "outputs": [],
      "source": [
        "indexes = np.arange(data.shape[0])\n",
        "np.random.shuffle(indexes)\n",
        "dev_size = math.ceil(data.shape[0] * 0.8)\n",
        "\n",
        "dev_indexes = indexes[:dev_size]\n",
        "test_indexes = indexes[dev_size:]\n",
        "\n",
        "dev_data = data.iloc[dev_indexes]\n",
        "test_data = data.iloc[test_indexes]\n",
        "\n",
        "dev_data.reset_index(drop=True, inplace=True)\n",
        "test_data.reset_index(drop=True, inplace=True)"
      ]
    },
    {
      "cell_type": "markdown",
      "metadata": {
        "id": "6ivcpeFoCnZA"
      },
      "source": [
        "## Обработка текста"
      ]
    },
    {
      "cell_type": "markdown",
      "metadata": {
        "id": "Df4nca285Dar"
      },
      "source": [
        "Токенизируем текст, избавимся от знаков пунктуации и выкинем все слова, состоящие менее чем из 4 букв:"
      ]
    },
    {
      "cell_type": "code",
      "execution_count": null,
      "metadata": {
        "colab": {
          "base_uri": "https://localhost:8080/"
        },
        "id": "nsNHNDES9ZVF",
        "outputId": "88df7e4f-1323-44cd-b83a-cb65563e0a21"
      },
      "outputs": [
        {
          "name": "stdout",
          "output_type": "stream",
          "text": [
            "@ claire_nelson i ' m on the north devon coast the next few weeks will be down in devon again in may sometime i hope though !\n"
          ]
        }
      ],
      "source": [
        "tokenizer = nltk.WordPunctTokenizer()\n",
        "line = tokenizer.tokenize(dev_data[\"text\"][0].lower())\n",
        "print(\" \".join(line))"
      ]
    },
    {
      "cell_type": "code",
      "execution_count": null,
      "metadata": {
        "colab": {
          "base_uri": "https://localhost:8080/"
        },
        "id": "GcBS_u_hTuxp",
        "outputId": "2d752798-a0b3-4250-bb13-aff8e0fa473c"
      },
      "outputs": [
        {
          "name": "stdout",
          "output_type": "stream",
          "text": [
            "north devon coast next weeks will down devon again sometime hope though\n"
          ]
        }
      ],
      "source": [
        "filtered_line = [w for w in line if all(c not in string.punctuation for c in w) and len(w) > 3]\n",
        "print(\" \".join(filtered_line))"
      ]
    },
    {
      "cell_type": "code",
      "execution_count": null,
      "metadata": {
        "colab": {
          "base_uri": "https://localhost:8080/"
        },
        "id": "tUOv4g6vWfTb",
        "outputId": "fce80010-782d-4a47-ad77-ed0fb5bb4ea6"
      },
      "outputs": [
        {
          "name": "stdout",
          "output_type": "stream",
          "text": [
            "['north', 'devon', 'coast', 'next', 'weeks', 'will', 'down', 'devon', 'again', 'sometime', 'hope', 'though']\n"
          ]
        }
      ],
      "source": [
        "# посмотрим\n",
        "print(filtered_line)"
      ]
    },
    {
      "cell_type": "markdown",
      "metadata": {
        "id": "cuFmlXkC6E7X"
      },
      "source": [
        "Загрузим предобученную модель эмбеддингов. \n",
        "\n",
        "Если хотите, можно попробовать другую. Полный список можно найти здесь: https://github.com/RaRe-Technologies/gensim-data.\n",
        "\n",
        "Данная модель выдает эмбеддинги для **слов**. Строить по эмбеддингам слов эмбеддинги предложений мы будем ниже."
      ]
    },
    {
      "cell_type": "markdown",
      "metadata": {
        "id": "tEdB66NwYlkv"
      },
      "source": [
        "### Небольшая предобработка текста"
      ]
    },
    {
      "cell_type": "code",
      "execution_count": null,
      "metadata": {
        "id": "4aZKWqugYlkv",
        "outputId": "f2d35d25-62cf-4460-fdc6-be23794944c6"
      },
      "outputs": [
        {
          "name": "stdout",
          "output_type": "stream",
          "text": [
            "{\"mustn't\", 'my', 'yours', 'not', 'until', 'where', 'don', \"hadn't\", 'from', 'all', 'these', 'ourselves', 'wasn', 'who', 'theirs', 'in', 'to', \"hasn't\", \"wouldn't\", 'yourselves', 'we', 'some', \"needn't\", 'during', 'of', 'are', 'll', 'nor', \"you'd\", 'own', 'won', 'shouldn', 'does', 'their', 'few', 'ain', 'same', 'whom', 've', 'before', 'on', \"that'll\", \"aren't\", \"isn't\", 'when', 'didn', 'himself', 'isn', 'so', 'ma', 'wouldn', 'm', 'such', 'between', \"you'll\", 'it', 'an', 'aren', 'or', 'having', 'against', 'under', \"couldn't\", 'here', 'other', \"you've\", 'hasn', 'off', 'this', 'if', 'once', \"wasn't\", 'through', 'up', 'and', 'too', 'doing', 'any', 'hadn', 'very', 'needn', 'yourself', 'shan', 'themselves', 'is', 'mustn', \"haven't\", 'be', 'haven', 'but', 'had', 'again', 'can', 'while', \"mightn't\", 'was', 'for', 'your', 'now', 'has', \"don't\", 'y', 'more', 'by', 'than', \"shouldn't\", 'being', 'the', \"won't\", 'which', 'herself', 's', 'each', 't', 'both', 'hers', 'because', 'mightn', 'only', 'did', 'with', 'myself', \"should've\", \"it's\", 'further', 'will', \"shan't\", 're', 'him', 'i', 'at', \"doesn't\", 'couldn', 'into', 'you', 'weren', 'after', 'its', 'how', 'those', 'just', 'been', 'her', \"weren't\", 'ours', 'itself', 'above', 'about', 'doesn', \"didn't\", 'have', 'o', 'as', 'over', \"she's\", 'most', 'what', 'a', 'am', 'were', 'that', 'why', 'me', 'down', 'then', 'd', 'his', 'they', 'she', 'below', 'there', \"you're\", 'our', 'them', 'do', 'no', 'should', 'he', 'out'}\n"
          ]
        },
        {
          "name": "stderr",
          "output_type": "stream",
          "text": [
            "[nltk_data] Downloading package stopwords to\n",
            "[nltk_data]     C:\\Users\\Admin\\AppData\\Roaming\\nltk_data...\n",
            "[nltk_data]   Package stopwords is already up-to-date!\n"
          ]
        }
      ],
      "source": [
        "import re\n",
        "nltk.download('stopwords')\n",
        "from nltk.corpus import stopwords\n",
        "\n",
        "stopWords = set(stopwords.words('english'))\n",
        "print(stopWords)"
      ]
    },
    {
      "cell_type": "code",
      "execution_count": null,
      "metadata": {
        "id": "r-LxlkeJYlkw"
      },
      "outputs": [],
      "source": [
        "def prepocess_df(strin):\n",
        "    try:\n",
        "        strin = strin.lower()\n",
        "        strin = re.sub(r\"http?://[^,\\s]+,?\",\"\",strin)\n",
        "        strin = re.sub(r'@[\\w]+',\"\",strin)\n",
        "        \n",
        "        tokens = tokenizer.tokenize(strin.lower())\n",
        "          \n",
        "        filtered_line = [w for w in tokens if all(c not in string.punctuation for c in w) and len(w) > 3]\n",
        "        filtered_line = [word for word in filtered_line if word not in stopWords]\n",
        "        filtered_line = \" \".join(filtered_line)\n",
        "        return filtered_line\n",
        "    except:\n",
        "        return \"\"\n",
        "\n",
        "data[\"tokens\"] = data[\"text\"].apply(prepocess_df)"
      ]
    },
    {
      "cell_type": "code",
      "execution_count": null,
      "metadata": {
        "id": "YIxt2H9QYlkx",
        "outputId": "5d70a748-3e4e-44d6-a0ff-eb9edc1ef61d"
      },
      "outputs": [
        {
          "data": {
            "text/html": [
              "<div>\n",
              "<style scoped>\n",
              "    .dataframe tbody tr th:only-of-type {\n",
              "        vertical-align: middle;\n",
              "    }\n",
              "\n",
              "    .dataframe tbody tr th {\n",
              "        vertical-align: top;\n",
              "    }\n",
              "\n",
              "    .dataframe thead th {\n",
              "        text-align: right;\n",
              "    }\n",
              "</style>\n",
              "<table border=\"1\" class=\"dataframe\">\n",
              "  <thead>\n",
              "    <tr style=\"text-align: right;\">\n",
              "      <th></th>\n",
              "      <th>emotion</th>\n",
              "      <th>text</th>\n",
              "      <th>tokens</th>\n",
              "    </tr>\n",
              "  </thead>\n",
              "  <tbody>\n",
              "    <tr>\n",
              "      <th>0</th>\n",
              "      <td>0</td>\n",
              "      <td>@switchfoot http://twitpic.com/2y1zl - Awww, t...</td>\n",
              "      <td>awww bummer shoulda david carr third</td>\n",
              "    </tr>\n",
              "    <tr>\n",
              "      <th>1</th>\n",
              "      <td>0</td>\n",
              "      <td>is upset that he can't update his Facebook by ...</td>\n",
              "      <td>upset update facebook texting might result sch...</td>\n",
              "    </tr>\n",
              "    <tr>\n",
              "      <th>2</th>\n",
              "      <td>0</td>\n",
              "      <td>@Kenichan I dived many times for the ball. Man...</td>\n",
              "      <td>dived many times ball managed save rest bounds</td>\n",
              "    </tr>\n",
              "    <tr>\n",
              "      <th>3</th>\n",
              "      <td>0</td>\n",
              "      <td>my whole body feels itchy and like its on fire</td>\n",
              "      <td>whole body feels itchy like fire</td>\n",
              "    </tr>\n",
              "    <tr>\n",
              "      <th>4</th>\n",
              "      <td>0</td>\n",
              "      <td>@nationwideclass no, it's not behaving at all....</td>\n",
              "      <td>behaving</td>\n",
              "    </tr>\n",
              "    <tr>\n",
              "      <th>5</th>\n",
              "      <td>0</td>\n",
              "      <td>@Kwesidei not the whole crew</td>\n",
              "      <td>whole crew</td>\n",
              "    </tr>\n",
              "    <tr>\n",
              "      <th>6</th>\n",
              "      <td>0</td>\n",
              "      <td>Need a hug</td>\n",
              "      <td>need</td>\n",
              "    </tr>\n",
              "    <tr>\n",
              "      <th>7</th>\n",
              "      <td>0</td>\n",
              "      <td>@LOLTrish hey  long time no see! Yes.. Rains a...</td>\n",
              "      <td>long time rains fine thanks</td>\n",
              "    </tr>\n",
              "    <tr>\n",
              "      <th>8</th>\n",
              "      <td>0</td>\n",
              "      <td>@Tatiana_K nope they didn't have it</td>\n",
              "      <td>nope</td>\n",
              "    </tr>\n",
              "    <tr>\n",
              "      <th>9</th>\n",
              "      <td>0</td>\n",
              "      <td>@twittera que me muera ?</td>\n",
              "      <td>muera</td>\n",
              "    </tr>\n",
              "  </tbody>\n",
              "</table>\n",
              "</div>"
            ],
            "text/plain": [
              "   emotion                                               text  \\\n",
              "0        0  @switchfoot http://twitpic.com/2y1zl - Awww, t...   \n",
              "1        0  is upset that he can't update his Facebook by ...   \n",
              "2        0  @Kenichan I dived many times for the ball. Man...   \n",
              "3        0    my whole body feels itchy and like its on fire    \n",
              "4        0  @nationwideclass no, it's not behaving at all....   \n",
              "5        0                      @Kwesidei not the whole crew    \n",
              "6        0                                        Need a hug    \n",
              "7        0  @LOLTrish hey  long time no see! Yes.. Rains a...   \n",
              "8        0               @Tatiana_K nope they didn't have it    \n",
              "9        0                          @twittera que me muera ?    \n",
              "\n",
              "                                              tokens  \n",
              "0               awww bummer shoulda david carr third  \n",
              "1  upset update facebook texting might result sch...  \n",
              "2     dived many times ball managed save rest bounds  \n",
              "3                   whole body feels itchy like fire  \n",
              "4                                           behaving  \n",
              "5                                         whole crew  \n",
              "6                                               need  \n",
              "7                        long time rains fine thanks  \n",
              "8                                               nope  \n",
              "9                                              muera  "
            ]
          },
          "execution_count": 179,
          "metadata": {},
          "output_type": "execute_result"
        }
      ],
      "source": [
        "data[['emotion','text','tokens']].head(10)"
      ]
    },
    {
      "cell_type": "code",
      "execution_count": null,
      "metadata": {
        "id": "zBCe2y37Ylky"
      },
      "outputs": [],
      "source": [
        ""
      ]
    },
    {
      "cell_type": "code",
      "execution_count": null,
      "metadata": {
        "colab": {
          "base_uri": "https://localhost:8080/"
        },
        "id": "cACJpje2T5bc",
        "outputId": "a44bdb62-7571-49c1-b25c-aead67530b88"
      },
      "outputs": [
        {
          "name": "stdout",
          "output_type": "stream",
          "text": [
            "Wall time: 1min 8s\n"
          ]
        }
      ],
      "source": [
        "%%time\n",
        "word2vec = api.load(\"word2vec-google-news-300\")"
      ]
    },
    {
      "cell_type": "code",
      "execution_count": null,
      "metadata": {
        "colab": {
          "base_uri": "https://localhost:8080/"
        },
        "id": "NafmYHrkT5YD",
        "outputId": "4a9349df-4d67-429b-f1ca-6e499dbfe082"
      },
      "outputs": [
        {
          "name": "stdout",
          "output_type": "stream",
          "text": [
            "(300,)\n"
          ]
        }
      ],
      "source": [
        "emb_line = [word2vec.get_vector(w) for w in filtered_line if w in word2vec]\n",
        "print(sum(emb_line).shape)"
      ]
    },
    {
      "cell_type": "code",
      "execution_count": null,
      "metadata": {
        "id": "2LsJpd2dZF9R",
        "outputId": "d763aff2-66ba-4ed9-e157-e5a5b03b04f8"
      },
      "outputs": [
        {
          "data": {
            "text/plain": [
              "(300,)"
            ]
          },
          "execution_count": 186,
          "metadata": {},
          "output_type": "execute_result"
        }
      ],
      "source": [
        "# средний эмбеддинг\n",
        "_emb = np.mean(emb_line, axis=0)\n",
        "_emb.shape"
      ]
    },
    {
      "cell_type": "markdown",
      "metadata": {
        "id": "LTS6LCkd6_E7"
      },
      "source": [
        "Нормализуем эмбеддинги, прежде чем обучать на них сеть. \n",
        "(наверное, вы помните, что нейронные сети гораздо лучше обучаются на нормализованных данных)"
      ]
    },
    {
      "cell_type": "code",
      "execution_count": null,
      "metadata": {
        "colab": {
          "base_uri": "https://localhost:8080/"
        },
        "id": "3PyLTZ6xf3Oq",
        "outputId": "a64a0178-126f-41a8-f511-bf824e009ef5"
      },
      "outputs": [
        {
          "name": "stdout",
          "output_type": "stream",
          "text": [
            "(300,)\n",
            "[False, False, False, False, False, False, False, False, False, False, False, False]\n"
          ]
        }
      ],
      "source": [
        "mean = np.mean(word2vec.vectors, 0)\n",
        "std = np.std(word2vec.vectors, 0)\n",
        "norm_emb_line = [(word2vec.get_vector(w) - mean) / std for w in filtered_line if w in word2vec and len(w) > 3]\n",
        "print(sum(norm_emb_line).shape)\n",
        "print([all(norm_emb_line[i] == emb_line[i]) for i in range(len(emb_line))])"
      ]
    },
    {
      "cell_type": "markdown",
      "metadata": {
        "id": "q7vm6Ppd7Ubw"
      },
      "source": [
        "Сделаем датасет, который будет по запросу возвращать подготовленные данные."
      ]
    },
    {
      "cell_type": "code",
      "execution_count": null,
      "metadata": {
        "id": "b4eZajF7pZ1X"
      },
      "outputs": [],
      "source": [
        "from torch.utils.data import Dataset, random_split\n",
        "\n",
        "class TwitterDataset(Dataset):\n",
        "    def __init__(self, data: pd.DataFrame, feature_column: str, target_column: str, word2vec: gensim.models.Word2Vec):\n",
        "        self.tokenizer = nltk.WordPunctTokenizer()\n",
        "        \n",
        "        self.data = data\n",
        "\n",
        "        self.feature_column = feature_column\n",
        "        self.target_column = target_column\n",
        "\n",
        "        self.word2vec = word2vec\n",
        "\n",
        "        self.label2num = lambda label: 0 if label == 0 else 1\n",
        "        self.mean = np.mean(word2vec.vectors, axis=0)\n",
        "        self.std = np.std(word2vec.vectors, axis=0)\n",
        "\n",
        "    def __getitem__(self, item):\n",
        "        text = self.data[self.feature_column][item]\n",
        "        label = self.label2num(self.data[self.target_column][item])\n",
        "\n",
        "        tokens = self.get_tokens_(text)\n",
        "        embeddings = self.get_embeddings_(tokens)\n",
        "\n",
        "        return {\"feature\": embeddings, \"target\": label}\n",
        "\n",
        "    def get_tokens_(self, text):\n",
        "        # Получи все токены из текста и профильтруй их\n",
        "        text = re.sub(r\"http?://[^,\\s]+,?\",\"\",text)\n",
        "        text = re.sub(r'@[\\w]+',\"\",text)\n",
        "        line = tokenizer.tokenize(text.lower())\n",
        "        filtered_line = [w for w in line if all(c not in string.punctuation for c in w) and len(w) > 3]\n",
        "        filtered_line = [word for word in filtered_line if word not in stopWords]\n",
        "        return filtered_line\n",
        "\n",
        "    def get_embeddings_(self, tokens):\n",
        "        # Получи эмбеддинги слов и усредни их\n",
        "\n",
        "        # не нормализованные эмбеддинги\n",
        "        #embeddings = [self.word2vec.get_vector(w) for w in tokens if w in self.word2vec]\n",
        "        \n",
        "        # нормализованные эмбеддинги \n",
        "        embeddings = [((self.word2vec.get_vector(w) - self.mean)/self.std) for w in tokens if w in self.word2vec] \n",
        "  \n",
        "        if len(embeddings) == 0:\n",
        "            embeddings = np.zeros((1, self.word2vec.vector_size))\n",
        "        else:\n",
        "            embeddings = np.array(embeddings)\n",
        "            if len(embeddings.shape) == 1:\n",
        "                embeddings = embeddings.reshape(-1, 1)\n",
        "\n",
        "        #embeddings = np.mean(embeddings, axis=0)\n",
        "\n",
        "        return embeddings\n",
        "\n",
        "    def __len__(self):\n",
        "        return self.data.shape[0]"
      ]
    },
    {
      "cell_type": "code",
      "execution_count": null,
      "metadata": {
        "id": "IZJpttbXpZyz"
      },
      "outputs": [],
      "source": [
        "dev = TwitterDataset(dev_data, \"text\", \"emotion\",word2vec)"
      ]
    },
    {
      "cell_type": "code",
      "execution_count": null,
      "metadata": {
        "colab": {
          "base_uri": "https://localhost:8080/"
        },
        "id": "DNT7pYyMbH_m",
        "outputId": "098eb3d9-3072-4d97-d754-4ba6bdcf00b1"
      },
      "outputs": [
        {
          "data": {
            "text/plain": [
              "{'feature': array([[-0.36991876, -1.1144205 ,  0.33723447, ...,  0.35792458,\n",
              "          2.792679  , -2.6243513 ],\n",
              "        [-2.044868  ,  0.15058553, -0.67700225, ...,  0.05009809,\n",
              "         -1.0761887 ,  0.66978776],\n",
              "        [ 0.22370882,  0.888091  , -2.4832325 , ...,  0.18854395,\n",
              "          0.8179045 ,  0.31222534],\n",
              "        ...,\n",
              "        [ 0.9292662 ,  1.2742614 , -0.07795607, ..., -0.979371  ,\n",
              "          0.74874896, -1.8027185 ],\n",
              "        [ 0.13376525,  1.1946386 ,  1.9293033 , ..., -0.5168706 ,\n",
              "          0.3837614 , -0.7129138 ],\n",
              "        [ 0.73338914,  0.16750537, -0.20423055, ..., -0.19839445,\n",
              "          0.95621556, -0.53127974]], dtype=float32),\n",
              " 'target': 0}"
            ]
          },
          "execution_count": 200,
          "metadata": {},
          "output_type": "execute_result"
        }
      ],
      "source": [
        "# посмотрим что получилось\n",
        "next(iter(dev))"
      ]
    },
    {
      "cell_type": "markdown",
      "metadata": {
        "id": "Sr-aetH0_LH1"
      },
      "source": [
        "Отлично, мы готовы с помощью эмбеддингов слов превращать твиты в векторы и обучать нейронную сеть.\n",
        "\n",
        "Превращать твиты в векторы, используя эмбеддинги слов, можно несколькими способами. А именно такими:"
      ]
    },
    {
      "cell_type": "markdown",
      "metadata": {
        "id": "4AhHrWa196Yc"
      },
      "source": [
        "## Average embedding (2 балла)\n",
        "---\n",
        "Это самый простой вариант, как получить вектор предложения, используя векторные представления слов в предложении. А именно: вектор предложения есть средний вектор всех слов в предлоежнии (которые остались после токенизации и удаления коротких слов, конечно). "
      ]
    },
    {
      "cell_type": "code",
      "execution_count": null,
      "metadata": {
        "colab": {
          "base_uri": "https://localhost:8080/"
        },
        "id": "ScdokSW-994t",
        "outputId": "b6da4b3c-5746-41b2-f237-321e893b4072"
      },
      "outputs": [
        {
          "name": "stdout",
          "output_type": "stream",
          "text": [
            "1280\n"
          ]
        }
      ],
      "source": [
        "indexes = np.arange(len(dev))\n",
        "np.random.shuffle(indexes)\n",
        "example_indexes = indexes[::1000]\n",
        "\n",
        "examples = {\"features\": [np.mean(dev[i][\"feature\"], axis=0) for i in example_indexes],   # было [np.sum(dev[i][\"feature\"], axis=0) for i in example_indexes]\n",
        "            \"targets\": [dev[i][\"target\"] for i in example_indexes]}\n",
        "print(len(examples[\"features\"]))"
      ]
    },
    {
      "cell_type": "code",
      "execution_count": null,
      "metadata": {
        "colab": {
          "base_uri": "https://localhost:8080/",
          "height": 206
        },
        "id": "CAxWRCx9o_gU",
        "outputId": "39be3498-07f2-48f2-bee6-374ccde0b324"
      },
      "outputs": [
        {
          "data": {
            "text/html": [
              "<div>\n",
              "<style scoped>\n",
              "    .dataframe tbody tr th:only-of-type {\n",
              "        vertical-align: middle;\n",
              "    }\n",
              "\n",
              "    .dataframe tbody tr th {\n",
              "        vertical-align: top;\n",
              "    }\n",
              "\n",
              "    .dataframe thead th {\n",
              "        text-align: right;\n",
              "    }\n",
              "</style>\n",
              "<table border=\"1\" class=\"dataframe\">\n",
              "  <thead>\n",
              "    <tr style=\"text-align: right;\">\n",
              "      <th></th>\n",
              "      <th>features</th>\n",
              "      <th>targets</th>\n",
              "    </tr>\n",
              "  </thead>\n",
              "  <tbody>\n",
              "    <tr>\n",
              "      <th>0</th>\n",
              "      <td>[0.79884803, 0.29639465, -0.22475016, 0.827617...</td>\n",
              "      <td>0</td>\n",
              "    </tr>\n",
              "    <tr>\n",
              "      <th>1</th>\n",
              "      <td>[0.23503505, 0.33106375, 0.0489919, 0.18425526...</td>\n",
              "      <td>0</td>\n",
              "    </tr>\n",
              "    <tr>\n",
              "      <th>2</th>\n",
              "      <td>[-0.22001284, 1.2040938, -0.2605174, 0.578202,...</td>\n",
              "      <td>0</td>\n",
              "    </tr>\n",
              "    <tr>\n",
              "      <th>3</th>\n",
              "      <td>[0.21771257, -0.3414166, 0.64904827, 0.4894894...</td>\n",
              "      <td>1</td>\n",
              "    </tr>\n",
              "    <tr>\n",
              "      <th>4</th>\n",
              "      <td>[0.46089336, 0.37187043, -0.133843, 0.6015578,...</td>\n",
              "      <td>0</td>\n",
              "    </tr>\n",
              "  </tbody>\n",
              "</table>\n",
              "</div>"
            ],
            "text/plain": [
              "                                            features  targets\n",
              "0  [0.79884803, 0.29639465, -0.22475016, 0.827617...        0\n",
              "1  [0.23503505, 0.33106375, 0.0489919, 0.18425526...        0\n",
              "2  [-0.22001284, 1.2040938, -0.2605174, 0.578202,...        0\n",
              "3  [0.21771257, -0.3414166, 0.64904827, 0.4894894...        1\n",
              "4  [0.46089336, 0.37187043, -0.133843, 0.6015578,...        0"
            ]
          },
          "execution_count": 202,
          "metadata": {},
          "output_type": "execute_result"
        }
      ],
      "source": [
        "# посмотрим\n",
        "pd_examples = pd.DataFrame(examples)\n",
        "pd_examples.head(5)"
      ]
    },
    {
      "cell_type": "markdown",
      "metadata": {
        "id": "1yGQ_lOx_1NL"
      },
      "source": [
        "Давайте сделаем визуализацию полученных векторов твитов тренировочного (dev) датасета. Так мы увидим, насколько хорошо твиты с разными target значениями отделяются друг от друга, т.е. насколько хорошо усреднение эмбеддингов слов предложения передает информацию о предложении."
      ]
    },
    {
      "cell_type": "markdown",
      "metadata": {
        "id": "LZwFksd_8uYO"
      },
      "source": [
        "Для визуализации векторов надо получить их проекцию на плоскость. Сделаем это с помощью `PCA`. Если хотите, можете вместо PCA использовать TSNE: так у вас получится более точная проекция на плоскость (а значит, более информативная, т.е. отражающая реальное положение векторов твитов в пространстве). Но TSNE будет работать намного дольше."
      ]
    },
    {
      "cell_type": "code",
      "execution_count": null,
      "metadata": {
        "id": "aKFZRSHdtIac"
      },
      "outputs": [],
      "source": [
        "from sklearn.decomposition import PCA\n",
        "\n",
        "pca = PCA(n_components=2)\n",
        "#examples[\"transformed_features\"] = # Обучи PCA на эмбеддингах слов"
      ]
    },
    {
      "cell_type": "code",
      "execution_count": null,
      "metadata": {
        "id": "yCSF18RV1Sv0"
      },
      "outputs": [],
      "source": [
        "list_features = pd_examples['features'].to_list()\n",
        "X = np.array(list_features)"
      ]
    },
    {
      "cell_type": "code",
      "execution_count": null,
      "metadata": {
        "colab": {
          "base_uri": "https://localhost:8080/"
        },
        "id": "B3Z2A5Kc699E",
        "outputId": "501542b0-42bf-4980-ef30-2b5c3f738b48"
      },
      "outputs": [
        {
          "data": {
            "text/plain": [
              "(1280, 300)"
            ]
          },
          "execution_count": 205,
          "metadata": {},
          "output_type": "execute_result"
        }
      ],
      "source": [
        "X.shape"
      ]
    },
    {
      "cell_type": "code",
      "execution_count": null,
      "metadata": {
        "id": "4BrQcHO3x8AI"
      },
      "outputs": [],
      "source": [
        "new_X = pca.fit_transform(X)"
      ]
    },
    {
      "cell_type": "code",
      "execution_count": null,
      "metadata": {
        "colab": {
          "base_uri": "https://localhost:8080/"
        },
        "id": "z8EK7FZy65VK",
        "outputId": "099a9516-49f0-426e-ef3d-ebc5f139f3de"
      },
      "outputs": [
        {
          "data": {
            "text/plain": [
              "(1280, 2)"
            ]
          },
          "execution_count": 207,
          "metadata": {},
          "output_type": "execute_result"
        }
      ],
      "source": [
        "new_X.shape"
      ]
    },
    {
      "cell_type": "code",
      "execution_count": null,
      "metadata": {
        "id": "jqpvML-25ajY"
      },
      "outputs": [],
      "source": [
        "examples[\"transformed_features\"] = new_X"
      ]
    },
    {
      "cell_type": "code",
      "execution_count": null,
      "metadata": {
        "scrolled": true,
        "id": "ebgGeNBMYllP"
      },
      "outputs": [],
      "source": [
        "#!pip3 install bokeh"
      ]
    },
    {
      "cell_type": "code",
      "execution_count": null,
      "metadata": {
        "id": "prsII2swYllQ"
      },
      "outputs": [],
      "source": [
        "#!pip3 install typing_extensions"
      ]
    },
    {
      "cell_type": "code",
      "execution_count": null,
      "metadata": {
        "id": "szEOWdiNtIX8",
        "outputId": "e76b6135-1de2-4997-cddb-34b74e81073f"
      },
      "outputs": [
        {
          "data": {
            "text/html": [
              "\n",
              "    <div class=\"bk-root\">\n",
              "        <a href=\"https://bokeh.org\" target=\"_blank\" class=\"bk-logo bk-logo-small bk-logo-notebook\"></a>\n",
              "        <span id=\"1113\">Loading BokehJS ...</span>\n",
              "    </div>"
            ]
          },
          "metadata": {},
          "output_type": "display_data"
        },
        {
          "data": {
            "application/javascript": [
              "\n",
              "(function(root) {\n",
              "  function now() {\n",
              "    return new Date();\n",
              "  }\n",
              "\n",
              "  const force = true;\n",
              "\n",
              "  if (typeof root._bokeh_onload_callbacks === \"undefined\" || force === true) {\n",
              "    root._bokeh_onload_callbacks = [];\n",
              "    root._bokeh_is_loading = undefined;\n",
              "  }\n",
              "\n",
              "  const JS_MIME_TYPE = 'application/javascript';\n",
              "  const HTML_MIME_TYPE = 'text/html';\n",
              "  const EXEC_MIME_TYPE = 'application/vnd.bokehjs_exec.v0+json';\n",
              "  const CLASS_NAME = 'output_bokeh rendered_html';\n",
              "\n",
              "  /**\n",
              "   * Render data to the DOM node\n",
              "   */\n",
              "  function render(props, node) {\n",
              "    const script = document.createElement(\"script\");\n",
              "    node.appendChild(script);\n",
              "  }\n",
              "\n",
              "  /**\n",
              "   * Handle when an output is cleared or removed\n",
              "   */\n",
              "  function handleClearOutput(event, handle) {\n",
              "    const cell = handle.cell;\n",
              "\n",
              "    const id = cell.output_area._bokeh_element_id;\n",
              "    const server_id = cell.output_area._bokeh_server_id;\n",
              "    // Clean up Bokeh references\n",
              "    if (id != null && id in Bokeh.index) {\n",
              "      Bokeh.index[id].model.document.clear();\n",
              "      delete Bokeh.index[id];\n",
              "    }\n",
              "\n",
              "    if (server_id !== undefined) {\n",
              "      // Clean up Bokeh references\n",
              "      const cmd_clean = \"from bokeh.io.state import curstate; print(curstate().uuid_to_server['\" + server_id + \"'].get_sessions()[0].document.roots[0]._id)\";\n",
              "      cell.notebook.kernel.execute(cmd_clean, {\n",
              "        iopub: {\n",
              "          output: function(msg) {\n",
              "            const id = msg.content.text.trim();\n",
              "            if (id in Bokeh.index) {\n",
              "              Bokeh.index[id].model.document.clear();\n",
              "              delete Bokeh.index[id];\n",
              "            }\n",
              "          }\n",
              "        }\n",
              "      });\n",
              "      // Destroy server and session\n",
              "      const cmd_destroy = \"import bokeh.io.notebook as ion; ion.destroy_server('\" + server_id + \"')\";\n",
              "      cell.notebook.kernel.execute(cmd_destroy);\n",
              "    }\n",
              "  }\n",
              "\n",
              "  /**\n",
              "   * Handle when a new output is added\n",
              "   */\n",
              "  function handleAddOutput(event, handle) {\n",
              "    const output_area = handle.output_area;\n",
              "    const output = handle.output;\n",
              "\n",
              "    // limit handleAddOutput to display_data with EXEC_MIME_TYPE content only\n",
              "    if ((output.output_type != \"display_data\") || (!Object.prototype.hasOwnProperty.call(output.data, EXEC_MIME_TYPE))) {\n",
              "      return\n",
              "    }\n",
              "\n",
              "    const toinsert = output_area.element.find(\".\" + CLASS_NAME.split(' ')[0]);\n",
              "\n",
              "    if (output.metadata[EXEC_MIME_TYPE][\"id\"] !== undefined) {\n",
              "      toinsert[toinsert.length - 1].firstChild.textContent = output.data[JS_MIME_TYPE];\n",
              "      // store reference to embed id on output_area\n",
              "      output_area._bokeh_element_id = output.metadata[EXEC_MIME_TYPE][\"id\"];\n",
              "    }\n",
              "    if (output.metadata[EXEC_MIME_TYPE][\"server_id\"] !== undefined) {\n",
              "      const bk_div = document.createElement(\"div\");\n",
              "      bk_div.innerHTML = output.data[HTML_MIME_TYPE];\n",
              "      const script_attrs = bk_div.children[0].attributes;\n",
              "      for (let i = 0; i < script_attrs.length; i++) {\n",
              "        toinsert[toinsert.length - 1].firstChild.setAttribute(script_attrs[i].name, script_attrs[i].value);\n",
              "        toinsert[toinsert.length - 1].firstChild.textContent = bk_div.children[0].textContent\n",
              "      }\n",
              "      // store reference to server id on output_area\n",
              "      output_area._bokeh_server_id = output.metadata[EXEC_MIME_TYPE][\"server_id\"];\n",
              "    }\n",
              "  }\n",
              "\n",
              "  function register_renderer(events, OutputArea) {\n",
              "\n",
              "    function append_mime(data, metadata, element) {\n",
              "      // create a DOM node to render to\n",
              "      const toinsert = this.create_output_subarea(\n",
              "        metadata,\n",
              "        CLASS_NAME,\n",
              "        EXEC_MIME_TYPE\n",
              "      );\n",
              "      this.keyboard_manager.register_events(toinsert);\n",
              "      // Render to node\n",
              "      const props = {data: data, metadata: metadata[EXEC_MIME_TYPE]};\n",
              "      render(props, toinsert[toinsert.length - 1]);\n",
              "      element.append(toinsert);\n",
              "      return toinsert\n",
              "    }\n",
              "\n",
              "    /* Handle when an output is cleared or removed */\n",
              "    events.on('clear_output.CodeCell', handleClearOutput);\n",
              "    events.on('delete.Cell', handleClearOutput);\n",
              "\n",
              "    /* Handle when a new output is added */\n",
              "    events.on('output_added.OutputArea', handleAddOutput);\n",
              "\n",
              "    /**\n",
              "     * Register the mime type and append_mime function with output_area\n",
              "     */\n",
              "    OutputArea.prototype.register_mime_type(EXEC_MIME_TYPE, append_mime, {\n",
              "      /* Is output safe? */\n",
              "      safe: true,\n",
              "      /* Index of renderer in `output_area.display_order` */\n",
              "      index: 0\n",
              "    });\n",
              "  }\n",
              "\n",
              "  // register the mime type if in Jupyter Notebook environment and previously unregistered\n",
              "  if (root.Jupyter !== undefined) {\n",
              "    const events = require('base/js/events');\n",
              "    const OutputArea = require('notebook/js/outputarea').OutputArea;\n",
              "\n",
              "    if (OutputArea.prototype.mime_types().indexOf(EXEC_MIME_TYPE) == -1) {\n",
              "      register_renderer(events, OutputArea);\n",
              "    }\n",
              "  }\n",
              "\n",
              "  \n",
              "  if (typeof (root._bokeh_timeout) === \"undefined\" || force === true) {\n",
              "    root._bokeh_timeout = Date.now() + 5000;\n",
              "    root._bokeh_failed_load = false;\n",
              "  }\n",
              "\n",
              "  const NB_LOAD_WARNING = {'data': {'text/html':\n",
              "     \"<div style='background-color: #fdd'>\\n\"+\n",
              "     \"<p>\\n\"+\n",
              "     \"BokehJS does not appear to have successfully loaded. If loading BokehJS from CDN, this \\n\"+\n",
              "     \"may be due to a slow or bad network connection. Possible fixes:\\n\"+\n",
              "     \"</p>\\n\"+\n",
              "     \"<ul>\\n\"+\n",
              "     \"<li>re-rerun `output_notebook()` to attempt to load from CDN again, or</li>\\n\"+\n",
              "     \"<li>use INLINE resources instead, as so:</li>\\n\"+\n",
              "     \"</ul>\\n\"+\n",
              "     \"<code>\\n\"+\n",
              "     \"from bokeh.resources import INLINE\\n\"+\n",
              "     \"output_notebook(resources=INLINE)\\n\"+\n",
              "     \"</code>\\n\"+\n",
              "     \"</div>\"}};\n",
              "\n",
              "  function display_loaded() {\n",
              "    const el = document.getElementById(\"1113\");\n",
              "    if (el != null) {\n",
              "      el.textContent = \"BokehJS is loading...\";\n",
              "    }\n",
              "    if (root.Bokeh !== undefined) {\n",
              "      if (el != null) {\n",
              "        el.textContent = \"BokehJS \" + root.Bokeh.version + \" successfully loaded.\";\n",
              "      }\n",
              "    } else if (Date.now() < root._bokeh_timeout) {\n",
              "      setTimeout(display_loaded, 100)\n",
              "    }\n",
              "  }\n",
              "\n",
              "\n",
              "  function run_callbacks() {\n",
              "    try {\n",
              "      root._bokeh_onload_callbacks.forEach(function(callback) {\n",
              "        if (callback != null)\n",
              "          callback();\n",
              "      });\n",
              "    } finally {\n",
              "      delete root._bokeh_onload_callbacks\n",
              "    }\n",
              "    console.debug(\"Bokeh: all callbacks have finished\");\n",
              "  }\n",
              "\n",
              "  function load_libs(css_urls, js_urls, callback) {\n",
              "    if (css_urls == null) css_urls = [];\n",
              "    if (js_urls == null) js_urls = [];\n",
              "\n",
              "    root._bokeh_onload_callbacks.push(callback);\n",
              "    if (root._bokeh_is_loading > 0) {\n",
              "      console.debug(\"Bokeh: BokehJS is being loaded, scheduling callback at\", now());\n",
              "      return null;\n",
              "    }\n",
              "    if (js_urls == null || js_urls.length === 0) {\n",
              "      run_callbacks();\n",
              "      return null;\n",
              "    }\n",
              "    console.debug(\"Bokeh: BokehJS not loaded, scheduling load and callback at\", now());\n",
              "    root._bokeh_is_loading = css_urls.length + js_urls.length;\n",
              "\n",
              "    function on_load() {\n",
              "      root._bokeh_is_loading--;\n",
              "      if (root._bokeh_is_loading === 0) {\n",
              "        console.debug(\"Bokeh: all BokehJS libraries/stylesheets loaded\");\n",
              "        run_callbacks()\n",
              "      }\n",
              "    }\n",
              "\n",
              "    function on_error(url) {\n",
              "      console.error(\"failed to load \" + url);\n",
              "    }\n",
              "\n",
              "    for (let i = 0; i < css_urls.length; i++) {\n",
              "      const url = css_urls[i];\n",
              "      const element = document.createElement(\"link\");\n",
              "      element.onload = on_load;\n",
              "      element.onerror = on_error.bind(null, url);\n",
              "      element.rel = \"stylesheet\";\n",
              "      element.type = \"text/css\";\n",
              "      element.href = url;\n",
              "      console.debug(\"Bokeh: injecting link tag for BokehJS stylesheet: \", url);\n",
              "      document.body.appendChild(element);\n",
              "    }\n",
              "\n",
              "    for (let i = 0; i < js_urls.length; i++) {\n",
              "      const url = js_urls[i];\n",
              "      const element = document.createElement('script');\n",
              "      element.onload = on_load;\n",
              "      element.onerror = on_error.bind(null, url);\n",
              "      element.async = false;\n",
              "      element.src = url;\n",
              "      console.debug(\"Bokeh: injecting script tag for BokehJS library: \", url);\n",
              "      document.head.appendChild(element);\n",
              "    }\n",
              "  };\n",
              "\n",
              "  function inject_raw_css(css) {\n",
              "    const element = document.createElement(\"style\");\n",
              "    element.appendChild(document.createTextNode(css));\n",
              "    document.body.appendChild(element);\n",
              "  }\n",
              "\n",
              "  \n",
              "  const js_urls = [\"https://cdn.bokeh.org/bokeh/release/bokeh-2.4.2.min.js\", \"https://cdn.bokeh.org/bokeh/release/bokeh-gl-2.4.2.min.js\", \"https://cdn.bokeh.org/bokeh/release/bokeh-widgets-2.4.2.min.js\", \"https://cdn.bokeh.org/bokeh/release/bokeh-tables-2.4.2.min.js\", \"https://cdn.bokeh.org/bokeh/release/bokeh-mathjax-2.4.2.min.js\"];\n",
              "  const css_urls = [];\n",
              "  \n",
              "\n",
              "  const inline_js = [\n",
              "    function(Bokeh) {\n",
              "      Bokeh.set_log_level(\"info\");\n",
              "    },\n",
              "    function(Bokeh) {\n",
              "    \n",
              "    \n",
              "    }\n",
              "  ];\n",
              "\n",
              "  function run_inline_js() {\n",
              "    \n",
              "    if (root.Bokeh !== undefined || force === true) {\n",
              "      \n",
              "    for (let i = 0; i < inline_js.length; i++) {\n",
              "      inline_js[i].call(root, root.Bokeh);\n",
              "    }\n",
              "    if (force === true) {\n",
              "        display_loaded();\n",
              "      }} else if (Date.now() < root._bokeh_timeout) {\n",
              "      setTimeout(run_inline_js, 100);\n",
              "    } else if (!root._bokeh_failed_load) {\n",
              "      console.log(\"Bokeh: BokehJS failed to load within specified timeout.\");\n",
              "      root._bokeh_failed_load = true;\n",
              "    } else if (force !== true) {\n",
              "      const cell = $(document.getElementById(\"1113\")).parents('.cell').data().cell;\n",
              "      cell.output_area.append_execute_result(NB_LOAD_WARNING)\n",
              "    }\n",
              "\n",
              "  }\n",
              "\n",
              "  if (root._bokeh_is_loading === 0) {\n",
              "    console.debug(\"Bokeh: BokehJS loaded, going straight to plotting\");\n",
              "    run_inline_js();\n",
              "  } else {\n",
              "    load_libs(css_urls, js_urls, function() {\n",
              "      console.debug(\"Bokeh: BokehJS plotting callback run at\", now());\n",
              "      run_inline_js();\n",
              "    });\n",
              "  }\n",
              "}(window));"
            ],
            "application/vnd.bokehjs_load.v0+json": "\n(function(root) {\n  function now() {\n    return new Date();\n  }\n\n  const force = true;\n\n  if (typeof root._bokeh_onload_callbacks === \"undefined\" || force === true) {\n    root._bokeh_onload_callbacks = [];\n    root._bokeh_is_loading = undefined;\n  }\n\n  \n\n  \n  if (typeof (root._bokeh_timeout) === \"undefined\" || force === true) {\n    root._bokeh_timeout = Date.now() + 5000;\n    root._bokeh_failed_load = false;\n  }\n\n  const NB_LOAD_WARNING = {'data': {'text/html':\n     \"<div style='background-color: #fdd'>\\n\"+\n     \"<p>\\n\"+\n     \"BokehJS does not appear to have successfully loaded. If loading BokehJS from CDN, this \\n\"+\n     \"may be due to a slow or bad network connection. Possible fixes:\\n\"+\n     \"</p>\\n\"+\n     \"<ul>\\n\"+\n     \"<li>re-rerun `output_notebook()` to attempt to load from CDN again, or</li>\\n\"+\n     \"<li>use INLINE resources instead, as so:</li>\\n\"+\n     \"</ul>\\n\"+\n     \"<code>\\n\"+\n     \"from bokeh.resources import INLINE\\n\"+\n     \"output_notebook(resources=INLINE)\\n\"+\n     \"</code>\\n\"+\n     \"</div>\"}};\n\n  function display_loaded() {\n    const el = document.getElementById(\"1113\");\n    if (el != null) {\n      el.textContent = \"BokehJS is loading...\";\n    }\n    if (root.Bokeh !== undefined) {\n      if (el != null) {\n        el.textContent = \"BokehJS \" + root.Bokeh.version + \" successfully loaded.\";\n      }\n    } else if (Date.now() < root._bokeh_timeout) {\n      setTimeout(display_loaded, 100)\n    }\n  }\n\n\n  function run_callbacks() {\n    try {\n      root._bokeh_onload_callbacks.forEach(function(callback) {\n        if (callback != null)\n          callback();\n      });\n    } finally {\n      delete root._bokeh_onload_callbacks\n    }\n    console.debug(\"Bokeh: all callbacks have finished\");\n  }\n\n  function load_libs(css_urls, js_urls, callback) {\n    if (css_urls == null) css_urls = [];\n    if (js_urls == null) js_urls = [];\n\n    root._bokeh_onload_callbacks.push(callback);\n    if (root._bokeh_is_loading > 0) {\n      console.debug(\"Bokeh: BokehJS is being loaded, scheduling callback at\", now());\n      return null;\n    }\n    if (js_urls == null || js_urls.length === 0) {\n      run_callbacks();\n      return null;\n    }\n    console.debug(\"Bokeh: BokehJS not loaded, scheduling load and callback at\", now());\n    root._bokeh_is_loading = css_urls.length + js_urls.length;\n\n    function on_load() {\n      root._bokeh_is_loading--;\n      if (root._bokeh_is_loading === 0) {\n        console.debug(\"Bokeh: all BokehJS libraries/stylesheets loaded\");\n        run_callbacks()\n      }\n    }\n\n    function on_error(url) {\n      console.error(\"failed to load \" + url);\n    }\n\n    for (let i = 0; i < css_urls.length; i++) {\n      const url = css_urls[i];\n      const element = document.createElement(\"link\");\n      element.onload = on_load;\n      element.onerror = on_error.bind(null, url);\n      element.rel = \"stylesheet\";\n      element.type = \"text/css\";\n      element.href = url;\n      console.debug(\"Bokeh: injecting link tag for BokehJS stylesheet: \", url);\n      document.body.appendChild(element);\n    }\n\n    for (let i = 0; i < js_urls.length; i++) {\n      const url = js_urls[i];\n      const element = document.createElement('script');\n      element.onload = on_load;\n      element.onerror = on_error.bind(null, url);\n      element.async = false;\n      element.src = url;\n      console.debug(\"Bokeh: injecting script tag for BokehJS library: \", url);\n      document.head.appendChild(element);\n    }\n  };\n\n  function inject_raw_css(css) {\n    const element = document.createElement(\"style\");\n    element.appendChild(document.createTextNode(css));\n    document.body.appendChild(element);\n  }\n\n  \n  const js_urls = [\"https://cdn.bokeh.org/bokeh/release/bokeh-2.4.2.min.js\", \"https://cdn.bokeh.org/bokeh/release/bokeh-gl-2.4.2.min.js\", \"https://cdn.bokeh.org/bokeh/release/bokeh-widgets-2.4.2.min.js\", \"https://cdn.bokeh.org/bokeh/release/bokeh-tables-2.4.2.min.js\", \"https://cdn.bokeh.org/bokeh/release/bokeh-mathjax-2.4.2.min.js\"];\n  const css_urls = [];\n  \n\n  const inline_js = [\n    function(Bokeh) {\n      Bokeh.set_log_level(\"info\");\n    },\n    function(Bokeh) {\n    \n    \n    }\n  ];\n\n  function run_inline_js() {\n    \n    if (root.Bokeh !== undefined || force === true) {\n      \n    for (let i = 0; i < inline_js.length; i++) {\n      inline_js[i].call(root, root.Bokeh);\n    }\n    if (force === true) {\n        display_loaded();\n      }} else if (Date.now() < root._bokeh_timeout) {\n      setTimeout(run_inline_js, 100);\n    } else if (!root._bokeh_failed_load) {\n      console.log(\"Bokeh: BokehJS failed to load within specified timeout.\");\n      root._bokeh_failed_load = true;\n    } else if (force !== true) {\n      const cell = $(document.getElementById(\"1113\")).parents('.cell').data().cell;\n      cell.output_area.append_execute_result(NB_LOAD_WARNING)\n    }\n\n  }\n\n  if (root._bokeh_is_loading === 0) {\n    console.debug(\"Bokeh: BokehJS loaded, going straight to plotting\");\n    run_inline_js();\n  } else {\n    load_libs(css_urls, js_urls, function() {\n      console.debug(\"Bokeh: BokehJS plotting callback run at\", now());\n      run_inline_js();\n    });\n  }\n}(window));"
          },
          "metadata": {},
          "output_type": "display_data"
        }
      ],
      "source": [
        "import bokeh.models as bm, bokeh.plotting as pl\n",
        "from bokeh.io import output_notebook\n",
        "output_notebook()\n",
        "\n",
        "def draw_vectors(x, y, radius=10, alpha=0.25, color='blue',\n",
        "                 width=600, height=400, show=True, **kwargs):\n",
        "    \"\"\" draws an interactive plot for data points with auxilirary info on hover \"\"\"\n",
        "    data_source = bm.ColumnDataSource({ 'x' : x, 'y' : y, 'color': color, **kwargs })\n",
        "\n",
        "    fig = pl.figure(active_scroll='wheel_zoom', width=width, height=height)\n",
        "    fig.scatter('x', 'y', size=radius, color='color', alpha=alpha, source=data_source)\n",
        "\n",
        "    fig.add_tools(bm.HoverTool(tooltips=[(key, \"@\" + key) for key in kwargs.keys()]))\n",
        "    if show: pl.show(fig)\n",
        "    return fig"
      ]
    },
    {
      "cell_type": "code",
      "execution_count": null,
      "metadata": {
        "colab": {
          "base_uri": "https://localhost:8080/",
          "height": 434
        },
        "id": "7OONK8ldtIWe",
        "outputId": "ba12ef77-bbec-4b7e-8d21-bc57c771e355"
      },
      "outputs": [
        {
          "data": {
            "text/html": [
              "\n",
              "\n",
              "\n",
              "\n",
              "\n",
              "\n",
              "  <div class=\"bk-root\" id=\"600f55a7-65c5-4174-94e5-0ed2da401e16\" data-root-id=\"1115\"></div>\n"
            ]
          },
          "metadata": {},
          "output_type": "display_data"
        },
        {
          "data": {
            "application/javascript": [
              "(function(root) {\n",
              "  function embed_document(root) {\n",
              "    \n",
              "  const docs_json = {\"0ce22bf6-2f22-4db7-bc43-60aea5fa56c1\":{\"defs\":[],\"roots\":{\"references\":[{\"attributes\":{\"below\":[{\"id\":\"1124\"}],\"center\":[{\"id\":\"1127\"},{\"id\":\"1131\"}],\"height\":400,\"left\":[{\"id\":\"1128\"}],\"renderers\":[{\"id\":\"1150\"}],\"title\":{\"id\":\"1165\"},\"toolbar\":{\"id\":\"1139\"},\"x_range\":{\"id\":\"1116\"},\"x_scale\":{\"id\":\"1120\"},\"y_range\":{\"id\":\"1118\"},\"y_scale\":{\"id\":\"1122\"}},\"id\":\"1115\",\"subtype\":\"Figure\",\"type\":\"Plot\"},{\"attributes\":{\"coordinates\":null,\"formatter\":{\"id\":\"1168\"},\"group\":null,\"major_label_policy\":{\"id\":\"1169\"},\"ticker\":{\"id\":\"1129\"}},\"id\":\"1128\",\"type\":\"LinearAxis\"},{\"attributes\":{\"coordinates\":null,\"group\":null},\"id\":\"1165\",\"type\":\"Title\"},{\"attributes\":{},\"id\":\"1137\",\"type\":\"HelpTool\"},{\"attributes\":{\"overlay\":{\"id\":\"1138\"}},\"id\":\"1134\",\"type\":\"BoxZoomTool\"},{\"attributes\":{},\"id\":\"1122\",\"type\":\"LinearScale\"},{\"attributes\":{\"callback\":null,\"tooltips\":[]},\"id\":\"1152\",\"type\":\"HoverTool\"},{\"attributes\":{},\"id\":\"1125\",\"type\":\"BasicTicker\"},{\"attributes\":{\"coordinates\":null,\"data_source\":{\"id\":\"1114\"},\"glyph\":{\"id\":\"1147\"},\"group\":null,\"hover_glyph\":null,\"muted_glyph\":{\"id\":\"1149\"},\"nonselection_glyph\":{\"id\":\"1148\"},\"view\":{\"id\":\"1151\"}},\"id\":\"1150\",\"type\":\"GlyphRenderer\"},{\"attributes\":{},\"id\":\"1136\",\"type\":\"ResetTool\"},{\"attributes\":{},\"id\":\"1169\",\"type\":\"AllLabels\"},{\"attributes\":{},\"id\":\"1118\",\"type\":\"DataRange1d\"},{\"attributes\":{\"fill_alpha\":{\"value\":0.2},\"fill_color\":{\"field\":\"color\"},\"hatch_alpha\":{\"value\":0.2},\"hatch_color\":{\"field\":\"color\"},\"line_alpha\":{\"value\":0.2},\"line_color\":{\"field\":\"color\"},\"size\":{\"value\":10},\"x\":{\"field\":\"x\"},\"y\":{\"field\":\"y\"}},\"id\":\"1149\",\"type\":\"Scatter\"},{\"attributes\":{},\"id\":\"1129\",\"type\":\"BasicTicker\"},{\"attributes\":{\"active_scroll\":{\"id\":\"1133\"},\"tools\":[{\"id\":\"1132\"},{\"id\":\"1133\"},{\"id\":\"1134\"},{\"id\":\"1135\"},{\"id\":\"1136\"},{\"id\":\"1137\"},{\"id\":\"1152\"}]},\"id\":\"1139\",\"type\":\"Toolbar\"},{\"attributes\":{},\"id\":\"1120\",\"type\":\"LinearScale\"},{\"attributes\":{\"bottom_units\":\"screen\",\"coordinates\":null,\"fill_alpha\":0.5,\"fill_color\":\"lightgrey\",\"group\":null,\"left_units\":\"screen\",\"level\":\"overlay\",\"line_alpha\":1.0,\"line_color\":\"black\",\"line_dash\":[4,4],\"line_width\":2,\"right_units\":\"screen\",\"syncable\":false,\"top_units\":\"screen\"},\"id\":\"1138\",\"type\":\"BoxAnnotation\"},{\"attributes\":{\"fill_alpha\":{\"value\":0.25},\"fill_color\":{\"field\":\"color\"},\"hatch_alpha\":{\"value\":0.25},\"hatch_color\":{\"field\":\"color\"},\"line_alpha\":{\"value\":0.25},\"line_color\":{\"field\":\"color\"},\"size\":{\"value\":10},\"x\":{\"field\":\"x\"},\"y\":{\"field\":\"y\"}},\"id\":\"1147\",\"type\":\"Scatter\"},{\"attributes\":{},\"id\":\"1173\",\"type\":\"UnionRenderers\"},{\"attributes\":{},\"id\":\"1172\",\"type\":\"AllLabels\"},{\"attributes\":{\"fill_alpha\":{\"value\":0.1},\"fill_color\":{\"field\":\"color\"},\"hatch_alpha\":{\"value\":0.1},\"hatch_color\":{\"field\":\"color\"},\"line_alpha\":{\"value\":0.1},\"line_color\":{\"field\":\"color\"},\"size\":{\"value\":10},\"x\":{\"field\":\"x\"},\"y\":{\"field\":\"y\"}},\"id\":\"1148\",\"type\":\"Scatter\"},{\"attributes\":{},\"id\":\"1116\",\"type\":\"DataRange1d\"},{\"attributes\":{},\"id\":\"1135\",\"type\":\"SaveTool\"},{\"attributes\":{\"axis\":{\"id\":\"1128\"},\"coordinates\":null,\"dimension\":1,\"group\":null,\"ticker\":null},\"id\":\"1131\",\"type\":\"Grid\"},{\"attributes\":{},\"id\":\"1133\",\"type\":\"WheelZoomTool\"},{\"attributes\":{},\"id\":\"1174\",\"type\":\"Selection\"},{\"attributes\":{\"coordinates\":null,\"formatter\":{\"id\":\"1171\"},\"group\":null,\"major_label_policy\":{\"id\":\"1172\"},\"ticker\":{\"id\":\"1125\"}},\"id\":\"1124\",\"type\":\"LinearAxis\"},{\"attributes\":{},\"id\":\"1168\",\"type\":\"BasicTickFormatter\"},{\"attributes\":{\"axis\":{\"id\":\"1124\"},\"coordinates\":null,\"group\":null,\"ticker\":null},\"id\":\"1127\",\"type\":\"Grid\"},{\"attributes\":{},\"id\":\"1171\",\"type\":\"BasicTickFormatter\"},{\"attributes\":{\"data\":{\"color\":[\"red\",\"red\",\"red\",\"blue\",\"red\",\"blue\",\"blue\",\"blue\",\"blue\",\"blue\",\"blue\",\"blue\",\"blue\",\"red\",\"red\",\"blue\",\"blue\",\"blue\",\"red\",\"blue\",\"blue\",\"blue\",\"blue\",\"red\",\"blue\",\"blue\",\"red\",\"red\",\"blue\",\"red\",\"blue\",\"red\",\"red\",\"blue\",\"red\",\"red\",\"blue\",\"red\",\"blue\",\"blue\",\"red\",\"blue\",\"blue\",\"blue\",\"red\",\"red\",\"red\",\"red\",\"blue\",\"red\",\"blue\",\"blue\",\"blue\",\"red\",\"blue\",\"red\",\"blue\",\"blue\",\"red\",\"red\",\"red\",\"blue\",\"blue\",\"red\",\"red\",\"blue\",\"blue\",\"red\",\"blue\",\"blue\",\"blue\",\"blue\",\"red\",\"red\",\"red\",\"red\",\"red\",\"blue\",\"red\",\"red\",\"blue\",\"blue\",\"red\",\"red\",\"blue\",\"red\",\"red\",\"red\",\"blue\",\"red\",\"red\",\"red\",\"red\",\"blue\",\"blue\",\"red\",\"red\",\"blue\",\"red\",\"red\",\"blue\",\"red\",\"blue\",\"red\",\"red\",\"red\",\"red\",\"blue\",\"red\",\"blue\",\"blue\",\"blue\",\"blue\",\"red\",\"red\",\"blue\",\"blue\",\"blue\",\"red\",\"blue\",\"red\",\"red\",\"red\",\"red\",\"blue\",\"blue\",\"red\",\"blue\",\"red\",\"blue\",\"blue\",\"blue\",\"red\",\"blue\",\"red\",\"blue\",\"red\",\"red\",\"blue\",\"red\",\"red\",\"blue\",\"red\",\"red\",\"blue\",\"red\",\"red\",\"blue\",\"blue\",\"blue\",\"blue\",\"red\",\"red\",\"red\",\"blue\",\"red\",\"red\",\"red\",\"blue\",\"red\",\"red\",\"red\",\"red\",\"red\",\"red\",\"blue\",\"blue\",\"red\",\"blue\",\"blue\",\"red\",\"red\",\"red\",\"blue\",\"red\",\"red\",\"blue\",\"red\",\"blue\",\"blue\",\"red\",\"blue\",\"red\",\"red\",\"blue\",\"blue\",\"blue\",\"blue\",\"blue\",\"red\",\"red\",\"red\",\"blue\",\"blue\",\"blue\",\"red\",\"red\",\"blue\",\"blue\",\"blue\",\"blue\",\"blue\",\"blue\",\"red\",\"red\",\"red\",\"red\",\"red\",\"red\",\"red\",\"red\",\"red\",\"blue\",\"blue\",\"blue\",\"red\",\"blue\",\"red\",\"blue\",\"blue\",\"red\",\"blue\",\"red\",\"blue\",\"blue\",\"red\",\"blue\",\"blue\",\"blue\",\"blue\",\"red\",\"blue\",\"red\",\"red\",\"red\",\"blue\",\"red\",\"blue\",\"red\",\"red\",\"red\",\"blue\",\"red\",\"blue\",\"red\",\"blue\",\"red\",\"blue\",\"red\",\"blue\",\"blue\",\"blue\",\"blue\",\"blue\",\"blue\",\"blue\",\"red\",\"red\",\"red\",\"red\",\"blue\",\"red\",\"red\",\"blue\",\"blue\",\"blue\",\"red\",\"red\",\"red\",\"red\",\"blue\",\"blue\",\"blue\",\"blue\",\"blue\",\"blue\",\"blue\",\"red\",\"blue\",\"red\",\"red\",\"red\",\"blue\",\"red\",\"red\",\"blue\",\"blue\",\"red\",\"blue\",\"blue\",\"red\",\"red\",\"blue\",\"red\",\"red\",\"blue\",\"blue\",\"red\",\"blue\",\"red\",\"red\",\"blue\",\"red\",\"red\",\"blue\",\"red\",\"blue\",\"blue\",\"red\",\"red\",\"blue\",\"blue\",\"blue\",\"red\",\"blue\",\"blue\",\"red\",\"red\",\"red\",\"blue\",\"blue\",\"red\",\"blue\",\"red\",\"red\",\"red\",\"red\",\"red\",\"blue\",\"blue\",\"red\",\"red\",\"red\",\"red\",\"red\",\"blue\",\"red\",\"red\",\"red\",\"blue\",\"blue\",\"blue\",\"blue\",\"blue\",\"red\",\"blue\",\"blue\",\"red\",\"red\",\"blue\",\"blue\",\"blue\",\"blue\",\"red\",\"blue\",\"blue\",\"blue\",\"blue\",\"red\",\"blue\",\"red\",\"blue\",\"red\",\"red\",\"blue\",\"blue\",\"blue\",\"red\",\"red\",\"blue\",\"red\",\"red\",\"red\",\"blue\",\"red\",\"blue\",\"blue\",\"blue\",\"red\",\"red\",\"red\",\"blue\",\"blue\",\"red\",\"blue\",\"blue\",\"red\",\"blue\",\"blue\",\"red\",\"blue\",\"blue\",\"red\",\"blue\",\"red\",\"red\",\"blue\",\"blue\",\"blue\",\"red\",\"blue\",\"blue\",\"blue\",\"red\",\"red\",\"blue\",\"blue\",\"blue\",\"red\",\"blue\",\"blue\",\"blue\",\"red\",\"blue\",\"blue\",\"blue\",\"blue\",\"red\",\"blue\",\"blue\",\"red\",\"red\",\"red\",\"blue\",\"blue\",\"blue\",\"red\",\"red\",\"blue\",\"blue\",\"blue\",\"red\",\"blue\",\"blue\",\"blue\",\"blue\",\"blue\",\"red\",\"red\",\"blue\",\"blue\",\"blue\",\"red\",\"red\",\"blue\",\"red\",\"red\",\"red\",\"blue\",\"red\",\"red\",\"blue\",\"red\",\"blue\",\"blue\",\"red\",\"blue\",\"blue\",\"red\",\"red\",\"blue\",\"blue\",\"blue\",\"blue\",\"red\",\"red\",\"red\",\"red\",\"blue\",\"blue\",\"blue\",\"red\",\"blue\",\"blue\",\"red\",\"blue\",\"red\",\"red\",\"blue\",\"red\",\"blue\",\"red\",\"red\",\"blue\",\"red\",\"blue\",\"blue\",\"blue\",\"red\",\"blue\",\"red\",\"blue\",\"blue\",\"blue\",\"blue\",\"blue\",\"red\",\"blue\",\"blue\",\"red\",\"blue\",\"red\",\"blue\",\"red\",\"blue\",\"red\",\"red\",\"red\",\"red\",\"red\",\"red\",\"blue\",\"blue\",\"blue\",\"red\",\"blue\",\"red\",\"red\",\"blue\",\"red\",\"red\",\"red\",\"red\",\"red\",\"red\",\"blue\",\"blue\",\"blue\",\"red\",\"blue\",\"red\",\"blue\",\"blue\",\"red\",\"red\",\"red\",\"blue\",\"red\",\"blue\",\"blue\",\"blue\",\"red\",\"blue\",\"blue\",\"red\",\"blue\",\"blue\",\"blue\",\"blue\",\"blue\",\"blue\",\"red\",\"red\",\"red\",\"blue\",\"blue\",\"red\",\"blue\",\"blue\",\"blue\",\"red\",\"blue\",\"red\",\"blue\",\"blue\",\"red\",\"red\",\"blue\",\"red\",\"red\",\"red\",\"blue\",\"red\",\"red\",\"blue\",\"red\",\"red\",\"blue\",\"blue\",\"blue\",\"red\",\"red\",\"red\",\"blue\",\"blue\",\"blue\",\"red\",\"red\",\"red\",\"red\",\"blue\",\"blue\",\"red\",\"red\",\"red\",\"red\",\"red\",\"red\",\"blue\",\"blue\",\"red\",\"red\",\"red\",\"blue\",\"red\",\"red\",\"red\",\"blue\",\"red\",\"red\",\"blue\",\"red\",\"red\",\"blue\",\"blue\",\"blue\",\"red\",\"blue\",\"blue\",\"blue\",\"red\",\"red\",\"red\",\"blue\",\"blue\",\"red\",\"red\",\"blue\",\"red\",\"blue\",\"blue\",\"blue\",\"red\",\"red\",\"blue\",\"red\",\"red\",\"blue\",\"red\",\"blue\",\"blue\",\"red\",\"red\",\"red\",\"red\",\"red\",\"red\",\"red\",\"red\",\"red\",\"blue\",\"blue\",\"blue\",\"red\",\"red\",\"blue\",\"blue\",\"blue\",\"red\",\"blue\",\"blue\",\"blue\",\"blue\",\"red\",\"blue\",\"red\",\"blue\",\"red\",\"red\",\"red\",\"blue\",\"red\",\"red\",\"red\",\"blue\",\"red\",\"blue\",\"blue\",\"blue\",\"red\",\"red\",\"red\",\"blue\",\"blue\",\"blue\",\"red\",\"red\",\"red\",\"blue\",\"red\",\"red\",\"red\",\"blue\",\"red\",\"blue\",\"red\",\"red\",\"blue\",\"red\",\"blue\",\"blue\",\"red\",\"red\",\"blue\",\"blue\",\"blue\",\"blue\",\"red\",\"blue\",\"blue\",\"red\",\"red\",\"red\",\"red\",\"blue\",\"blue\",\"red\",\"red\",\"red\",\"red\",\"red\",\"blue\",\"blue\",\"red\",\"red\",\"red\",\"blue\",\"blue\",\"blue\",\"blue\",\"blue\",\"red\",\"red\",\"red\",\"blue\",\"blue\",\"red\",\"red\",\"red\",\"red\",\"red\",\"blue\",\"blue\",\"blue\",\"red\",\"red\",\"red\",\"red\",\"red\",\"blue\",\"red\",\"red\",\"red\",\"blue\",\"red\",\"red\",\"red\",\"red\",\"red\",\"red\",\"red\",\"red\",\"red\",\"blue\",\"blue\",\"blue\",\"blue\",\"blue\",\"red\",\"blue\",\"blue\",\"red\",\"blue\",\"red\",\"red\",\"blue\",\"red\",\"red\",\"blue\",\"red\",\"blue\",\"red\",\"red\",\"red\",\"blue\",\"red\",\"blue\",\"blue\",\"blue\",\"red\",\"blue\",\"blue\",\"red\",\"blue\",\"blue\",\"blue\",\"blue\",\"red\",\"blue\",\"red\",\"red\",\"red\",\"red\",\"blue\",\"blue\",\"red\",\"red\",\"blue\",\"red\",\"red\",\"blue\",\"red\",\"blue\",\"red\",\"blue\",\"blue\",\"red\",\"blue\",\"blue\",\"blue\",\"red\",\"blue\",\"red\",\"blue\",\"blue\",\"red\",\"red\",\"red\",\"blue\",\"blue\",\"blue\",\"red\",\"blue\",\"red\",\"blue\",\"blue\",\"red\",\"blue\",\"blue\",\"blue\",\"red\",\"red\",\"red\",\"blue\",\"red\",\"red\",\"red\",\"blue\",\"red\",\"red\",\"blue\",\"red\",\"blue\",\"blue\",\"blue\",\"red\",\"blue\",\"blue\",\"red\",\"red\",\"red\",\"blue\",\"blue\",\"blue\",\"red\",\"blue\",\"red\",\"blue\",\"red\",\"red\",\"blue\",\"red\",\"red\",\"red\",\"blue\",\"blue\",\"blue\",\"red\",\"red\",\"red\",\"red\",\"red\",\"red\",\"blue\",\"red\",\"red\",\"blue\",\"red\",\"red\",\"blue\",\"red\",\"blue\",\"blue\",\"blue\",\"blue\",\"red\",\"blue\",\"blue\",\"blue\",\"blue\",\"red\",\"red\",\"blue\",\"blue\",\"red\",\"red\",\"red\",\"blue\",\"red\",\"red\",\"blue\",\"blue\",\"red\",\"red\",\"blue\",\"red\",\"red\",\"blue\",\"red\",\"red\",\"red\",\"blue\",\"blue\",\"red\",\"red\",\"red\",\"blue\",\"red\",\"blue\",\"red\",\"blue\",\"red\",\"blue\",\"red\",\"blue\",\"red\",\"red\",\"blue\",\"blue\",\"blue\",\"red\",\"red\",\"red\",\"red\",\"red\",\"red\",\"blue\",\"red\",\"blue\",\"red\",\"blue\",\"red\",\"blue\",\"blue\",\"blue\",\"red\",\"blue\",\"blue\",\"red\",\"blue\",\"blue\",\"blue\",\"red\",\"red\",\"red\",\"blue\",\"blue\",\"blue\",\"red\",\"red\",\"blue\",\"red\",\"red\",\"red\",\"red\",\"blue\",\"red\",\"red\",\"red\",\"red\",\"blue\",\"blue\",\"blue\",\"red\",\"blue\",\"red\",\"red\",\"blue\",\"red\",\"blue\",\"blue\",\"red\",\"red\",\"red\",\"blue\",\"blue\",\"blue\",\"blue\",\"red\",\"red\",\"blue\",\"blue\",\"red\",\"blue\",\"blue\",\"blue\",\"blue\",\"red\",\"blue\",\"red\",\"red\",\"blue\",\"blue\",\"blue\",\"blue\",\"blue\",\"red\",\"red\",\"red\",\"red\",\"blue\",\"red\",\"blue\",\"red\",\"blue\",\"red\",\"blue\",\"red\",\"blue\",\"red\",\"blue\",\"blue\",\"red\",\"blue\",\"red\",\"blue\",\"red\",\"blue\",\"blue\",\"blue\",\"red\",\"red\",\"blue\",\"red\",\"red\",\"blue\",\"blue\",\"blue\",\"red\",\"blue\",\"blue\",\"red\",\"red\",\"red\",\"blue\",\"red\",\"blue\",\"blue\",\"red\",\"red\",\"red\",\"blue\",\"red\",\"blue\",\"blue\",\"blue\",\"red\",\"blue\",\"red\",\"red\",\"red\",\"red\",\"red\",\"red\",\"blue\",\"red\",\"blue\",\"blue\",\"blue\",\"red\",\"blue\",\"red\",\"red\",\"blue\",\"blue\",\"red\",\"red\",\"blue\",\"red\",\"blue\",\"red\",\"red\",\"blue\",\"red\",\"red\",\"blue\",\"red\",\"red\",\"red\",\"blue\",\"blue\",\"blue\",\"red\",\"blue\",\"blue\",\"blue\",\"red\",\"blue\",\"red\",\"red\",\"blue\",\"red\",\"blue\",\"blue\",\"red\",\"blue\",\"red\",\"blue\",\"blue\",\"red\",\"blue\",\"blue\",\"red\",\"blue\",\"blue\",\"blue\",\"red\",\"red\",\"blue\",\"blue\",\"red\",\"blue\",\"red\",\"red\",\"red\",\"blue\",\"blue\",\"blue\",\"red\",\"blue\",\"blue\",\"blue\",\"red\",\"blue\",\"blue\",\"blue\",\"blue\",\"blue\",\"red\",\"blue\",\"blue\",\"red\",\"red\",\"blue\",\"red\",\"red\",\"red\",\"blue\",\"blue\",\"blue\",\"red\",\"blue\",\"blue\",\"blue\",\"red\",\"red\",\"red\",\"red\",\"red\",\"blue\",\"blue\",\"red\",\"blue\",\"red\",\"blue\",\"blue\",\"blue\",\"red\",\"red\",\"red\",\"blue\",\"blue\",\"red\",\"red\",\"blue\",\"red\",\"blue\",\"blue\",\"red\",\"blue\",\"blue\",\"red\",\"red\",\"red\",\"red\",\"red\",\"red\",\"blue\",\"red\",\"red\",\"blue\",\"blue\",\"red\",\"blue\",\"blue\",\"blue\",\"red\",\"blue\",\"blue\",\"blue\",\"blue\",\"blue\",\"red\",\"red\",\"red\",\"red\",\"red\",\"red\",\"blue\",\"blue\",\"red\",\"red\",\"red\",\"blue\",\"red\",\"blue\",\"blue\",\"red\",\"blue\",\"blue\",\"red\",\"blue\",\"red\",\"red\",\"blue\",\"red\",\"red\",\"blue\",\"blue\",\"blue\",\"red\",\"red\",\"red\",\"blue\",\"blue\",\"red\",\"blue\",\"blue\",\"blue\",\"red\",\"red\",\"red\",\"blue\",\"red\",\"red\",\"red\",\"blue\",\"blue\",\"red\",\"blue\",\"blue\",\"blue\",\"blue\",\"blue\",\"blue\",\"blue\",\"blue\",\"blue\",\"red\",\"blue\",\"red\",\"red\",\"blue\",\"blue\",\"red\",\"red\",\"blue\",\"blue\",\"blue\",\"red\"],\"x\":{\"__ndarray__\":\"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\",\"dtype\":\"float64\",\"order\":\"little\",\"shape\":[1280]},\"y\":{\"__ndarray__\":\"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\",\"dtype\":\"float64\",\"order\":\"little\",\"shape\":[1280]}},\"selected\":{\"id\":\"1174\"},\"selection_policy\":{\"id\":\"1173\"}},\"id\":\"1114\",\"type\":\"ColumnDataSource\"},{\"attributes\":{\"source\":{\"id\":\"1114\"}},\"id\":\"1151\",\"type\":\"CDSView\"},{\"attributes\":{},\"id\":\"1132\",\"type\":\"PanTool\"}],\"root_ids\":[\"1115\"]},\"title\":\"Bokeh Application\",\"version\":\"2.4.2\"}};\n",
              "  const render_items = [{\"docid\":\"0ce22bf6-2f22-4db7-bc43-60aea5fa56c1\",\"root_ids\":[\"1115\"],\"roots\":{\"1115\":\"600f55a7-65c5-4174-94e5-0ed2da401e16\"}}];\n",
              "  root.Bokeh.embed.embed_items_notebook(docs_json, render_items);\n",
              "\n",
              "  }\n",
              "  if (root.Bokeh !== undefined) {\n",
              "    embed_document(root);\n",
              "  } else {\n",
              "    let attempts = 0;\n",
              "    const timer = setInterval(function(root) {\n",
              "      if (root.Bokeh !== undefined) {\n",
              "        clearInterval(timer);\n",
              "        embed_document(root);\n",
              "      } else {\n",
              "        attempts++;\n",
              "        if (attempts > 100) {\n",
              "          clearInterval(timer);\n",
              "          console.log(\"Bokeh: ERROR: Unable to run BokehJS code because BokehJS library is missing\");\n",
              "        }\n",
              "      }\n",
              "    }, 10, root)\n",
              "  }\n",
              "})(window);"
            ],
            "application/vnd.bokehjs_exec.v0+json": ""
          },
          "metadata": {
            "application/vnd.bokehjs_exec.v0+json": {
              "id": "1115"
            }
          },
          "output_type": "display_data"
        },
        {
          "data": {
            "text/html": [
              "<div style=\"display: table;\"><div style=\"display: table-row;\"><div style=\"display: table-cell;\"><b title=\"bokeh.plotting.figure.Figure\">Figure</b>(</div><div style=\"display: table-cell;\">id&nbsp;=&nbsp;'1115', <span id=\"1232\" style=\"cursor: pointer;\">&hellip;)</span></div></div><div class=\"1231\" style=\"display: none;\"><div style=\"display: table-cell;\"></div><div style=\"display: table-cell;\">above&nbsp;=&nbsp;[],</div></div><div class=\"1231\" style=\"display: none;\"><div style=\"display: table-cell;\"></div><div style=\"display: table-cell;\">align&nbsp;=&nbsp;'start',</div></div><div class=\"1231\" style=\"display: none;\"><div style=\"display: table-cell;\"></div><div style=\"display: table-cell;\">aspect_ratio&nbsp;=&nbsp;None,</div></div><div class=\"1231\" style=\"display: none;\"><div style=\"display: table-cell;\"></div><div style=\"display: table-cell;\">aspect_scale&nbsp;=&nbsp;1,</div></div><div class=\"1231\" style=\"display: none;\"><div style=\"display: table-cell;\"></div><div style=\"display: table-cell;\">background&nbsp;=&nbsp;None,</div></div><div class=\"1231\" style=\"display: none;\"><div style=\"display: table-cell;\"></div><div style=\"display: table-cell;\">background_fill_alpha&nbsp;=&nbsp;1.0,</div></div><div class=\"1231\" style=\"display: none;\"><div style=\"display: table-cell;\"></div><div style=\"display: table-cell;\">background_fill_color&nbsp;=&nbsp;'#ffffff',</div></div><div class=\"1231\" style=\"display: none;\"><div style=\"display: table-cell;\"></div><div style=\"display: table-cell;\">below&nbsp;=&nbsp;[LinearAxis(id='1124', ...)],</div></div><div class=\"1231\" style=\"display: none;\"><div style=\"display: table-cell;\"></div><div style=\"display: table-cell;\">border_fill_alpha&nbsp;=&nbsp;1.0,</div></div><div class=\"1231\" style=\"display: none;\"><div style=\"display: table-cell;\"></div><div style=\"display: table-cell;\">border_fill_color&nbsp;=&nbsp;'#ffffff',</div></div><div class=\"1231\" style=\"display: none;\"><div style=\"display: table-cell;\"></div><div style=\"display: table-cell;\">center&nbsp;=&nbsp;[Grid(id='1127', ...), Grid(id='1131', ...)],</div></div><div class=\"1231\" style=\"display: none;\"><div style=\"display: table-cell;\"></div><div style=\"display: table-cell;\">css_classes&nbsp;=&nbsp;[],</div></div><div class=\"1231\" style=\"display: none;\"><div style=\"display: table-cell;\"></div><div style=\"display: table-cell;\">disabled&nbsp;=&nbsp;False,</div></div><div class=\"1231\" style=\"display: none;\"><div style=\"display: table-cell;\"></div><div style=\"display: table-cell;\">extra_x_ranges&nbsp;=&nbsp;{},</div></div><div class=\"1231\" style=\"display: none;\"><div style=\"display: table-cell;\"></div><div style=\"display: table-cell;\">extra_x_scales&nbsp;=&nbsp;{},</div></div><div class=\"1231\" style=\"display: none;\"><div style=\"display: table-cell;\"></div><div style=\"display: table-cell;\">extra_y_ranges&nbsp;=&nbsp;{},</div></div><div class=\"1231\" style=\"display: none;\"><div style=\"display: table-cell;\"></div><div style=\"display: table-cell;\">extra_y_scales&nbsp;=&nbsp;{},</div></div><div class=\"1231\" style=\"display: none;\"><div style=\"display: table-cell;\"></div><div style=\"display: table-cell;\">frame_height&nbsp;=&nbsp;None,</div></div><div class=\"1231\" style=\"display: none;\"><div style=\"display: table-cell;\"></div><div style=\"display: table-cell;\">frame_width&nbsp;=&nbsp;None,</div></div><div class=\"1231\" style=\"display: none;\"><div style=\"display: table-cell;\"></div><div style=\"display: table-cell;\">height&nbsp;=&nbsp;400,</div></div><div class=\"1231\" style=\"display: none;\"><div style=\"display: table-cell;\"></div><div style=\"display: table-cell;\">height_policy&nbsp;=&nbsp;'auto',</div></div><div class=\"1231\" style=\"display: none;\"><div style=\"display: table-cell;\"></div><div style=\"display: table-cell;\">hidpi&nbsp;=&nbsp;True,</div></div><div class=\"1231\" style=\"display: none;\"><div style=\"display: table-cell;\"></div><div style=\"display: table-cell;\">inner_height&nbsp;=&nbsp;0,</div></div><div class=\"1231\" style=\"display: none;\"><div style=\"display: table-cell;\"></div><div style=\"display: table-cell;\">inner_width&nbsp;=&nbsp;0,</div></div><div class=\"1231\" style=\"display: none;\"><div style=\"display: table-cell;\"></div><div style=\"display: table-cell;\">js_event_callbacks&nbsp;=&nbsp;{},</div></div><div class=\"1231\" style=\"display: none;\"><div style=\"display: table-cell;\"></div><div style=\"display: table-cell;\">js_property_callbacks&nbsp;=&nbsp;{},</div></div><div class=\"1231\" style=\"display: none;\"><div style=\"display: table-cell;\"></div><div style=\"display: table-cell;\">left&nbsp;=&nbsp;[LinearAxis(id='1128', ...)],</div></div><div class=\"1231\" style=\"display: none;\"><div style=\"display: table-cell;\"></div><div style=\"display: table-cell;\">lod_factor&nbsp;=&nbsp;10,</div></div><div class=\"1231\" style=\"display: none;\"><div style=\"display: table-cell;\"></div><div style=\"display: table-cell;\">lod_interval&nbsp;=&nbsp;300,</div></div><div class=\"1231\" style=\"display: none;\"><div style=\"display: table-cell;\"></div><div style=\"display: table-cell;\">lod_threshold&nbsp;=&nbsp;2000,</div></div><div class=\"1231\" style=\"display: none;\"><div style=\"display: table-cell;\"></div><div style=\"display: table-cell;\">lod_timeout&nbsp;=&nbsp;500,</div></div><div class=\"1231\" style=\"display: none;\"><div style=\"display: table-cell;\"></div><div style=\"display: table-cell;\">margin&nbsp;=&nbsp;(0, 0, 0, 0),</div></div><div class=\"1231\" style=\"display: none;\"><div style=\"display: table-cell;\"></div><div style=\"display: table-cell;\">match_aspect&nbsp;=&nbsp;False,</div></div><div class=\"1231\" style=\"display: none;\"><div style=\"display: table-cell;\"></div><div style=\"display: table-cell;\">max_height&nbsp;=&nbsp;None,</div></div><div class=\"1231\" style=\"display: none;\"><div style=\"display: table-cell;\"></div><div style=\"display: table-cell;\">max_width&nbsp;=&nbsp;None,</div></div><div class=\"1231\" style=\"display: none;\"><div style=\"display: table-cell;\"></div><div style=\"display: table-cell;\">min_border&nbsp;=&nbsp;5,</div></div><div class=\"1231\" style=\"display: none;\"><div style=\"display: table-cell;\"></div><div style=\"display: table-cell;\">min_border_bottom&nbsp;=&nbsp;None,</div></div><div class=\"1231\" style=\"display: none;\"><div style=\"display: table-cell;\"></div><div style=\"display: table-cell;\">min_border_left&nbsp;=&nbsp;None,</div></div><div class=\"1231\" style=\"display: none;\"><div style=\"display: table-cell;\"></div><div style=\"display: table-cell;\">min_border_right&nbsp;=&nbsp;None,</div></div><div class=\"1231\" style=\"display: none;\"><div style=\"display: table-cell;\"></div><div style=\"display: table-cell;\">min_border_top&nbsp;=&nbsp;None,</div></div><div class=\"1231\" style=\"display: none;\"><div style=\"display: table-cell;\"></div><div style=\"display: table-cell;\">min_height&nbsp;=&nbsp;None,</div></div><div class=\"1231\" style=\"display: none;\"><div style=\"display: table-cell;\"></div><div style=\"display: table-cell;\">min_width&nbsp;=&nbsp;None,</div></div><div class=\"1231\" style=\"display: none;\"><div style=\"display: table-cell;\"></div><div style=\"display: table-cell;\">name&nbsp;=&nbsp;None,</div></div><div class=\"1231\" style=\"display: none;\"><div style=\"display: table-cell;\"></div><div style=\"display: table-cell;\">outer_height&nbsp;=&nbsp;0,</div></div><div class=\"1231\" style=\"display: none;\"><div style=\"display: table-cell;\"></div><div style=\"display: table-cell;\">outer_width&nbsp;=&nbsp;0,</div></div><div class=\"1231\" style=\"display: none;\"><div style=\"display: table-cell;\"></div><div style=\"display: table-cell;\">outline_line_alpha&nbsp;=&nbsp;1.0,</div></div><div class=\"1231\" style=\"display: none;\"><div style=\"display: table-cell;\"></div><div style=\"display: table-cell;\">outline_line_cap&nbsp;=&nbsp;'butt',</div></div><div class=\"1231\" style=\"display: none;\"><div style=\"display: table-cell;\"></div><div style=\"display: table-cell;\">outline_line_color&nbsp;=&nbsp;'#e5e5e5',</div></div><div class=\"1231\" style=\"display: none;\"><div style=\"display: table-cell;\"></div><div style=\"display: table-cell;\">outline_line_dash&nbsp;=&nbsp;[],</div></div><div class=\"1231\" style=\"display: none;\"><div style=\"display: table-cell;\"></div><div style=\"display: table-cell;\">outline_line_dash_offset&nbsp;=&nbsp;0,</div></div><div class=\"1231\" style=\"display: none;\"><div style=\"display: table-cell;\"></div><div style=\"display: table-cell;\">outline_line_join&nbsp;=&nbsp;'bevel',</div></div><div class=\"1231\" style=\"display: none;\"><div style=\"display: table-cell;\"></div><div style=\"display: table-cell;\">outline_line_width&nbsp;=&nbsp;1,</div></div><div class=\"1231\" style=\"display: none;\"><div style=\"display: table-cell;\"></div><div style=\"display: table-cell;\">output_backend&nbsp;=&nbsp;'canvas',</div></div><div class=\"1231\" style=\"display: none;\"><div style=\"display: table-cell;\"></div><div style=\"display: table-cell;\">renderers&nbsp;=&nbsp;[GlyphRenderer(id='1150', ...)],</div></div><div class=\"1231\" style=\"display: none;\"><div style=\"display: table-cell;\"></div><div style=\"display: table-cell;\">reset_policy&nbsp;=&nbsp;'standard',</div></div><div class=\"1231\" style=\"display: none;\"><div style=\"display: table-cell;\"></div><div style=\"display: table-cell;\">right&nbsp;=&nbsp;[],</div></div><div class=\"1231\" style=\"display: none;\"><div style=\"display: table-cell;\"></div><div style=\"display: table-cell;\">sizing_mode&nbsp;=&nbsp;None,</div></div><div class=\"1231\" style=\"display: none;\"><div style=\"display: table-cell;\"></div><div style=\"display: table-cell;\">subscribed_events&nbsp;=&nbsp;[],</div></div><div class=\"1231\" style=\"display: none;\"><div style=\"display: table-cell;\"></div><div style=\"display: table-cell;\">syncable&nbsp;=&nbsp;True,</div></div><div class=\"1231\" style=\"display: none;\"><div style=\"display: table-cell;\"></div><div style=\"display: table-cell;\">tags&nbsp;=&nbsp;[],</div></div><div class=\"1231\" style=\"display: none;\"><div style=\"display: table-cell;\"></div><div style=\"display: table-cell;\">title&nbsp;=&nbsp;Title(id='1165', ...),</div></div><div class=\"1231\" style=\"display: none;\"><div style=\"display: table-cell;\"></div><div style=\"display: table-cell;\">title_location&nbsp;=&nbsp;'above',</div></div><div class=\"1231\" style=\"display: none;\"><div style=\"display: table-cell;\"></div><div style=\"display: table-cell;\">toolbar&nbsp;=&nbsp;Toolbar(id='1139', ...),</div></div><div class=\"1231\" style=\"display: none;\"><div style=\"display: table-cell;\"></div><div style=\"display: table-cell;\">toolbar_location&nbsp;=&nbsp;'right',</div></div><div class=\"1231\" style=\"display: none;\"><div style=\"display: table-cell;\"></div><div style=\"display: table-cell;\">toolbar_sticky&nbsp;=&nbsp;True,</div></div><div class=\"1231\" style=\"display: none;\"><div style=\"display: table-cell;\"></div><div style=\"display: table-cell;\">visible&nbsp;=&nbsp;True,</div></div><div class=\"1231\" style=\"display: none;\"><div style=\"display: table-cell;\"></div><div style=\"display: table-cell;\">width&nbsp;=&nbsp;600,</div></div><div class=\"1231\" style=\"display: none;\"><div style=\"display: table-cell;\"></div><div style=\"display: table-cell;\">width_policy&nbsp;=&nbsp;'auto',</div></div><div class=\"1231\" style=\"display: none;\"><div style=\"display: table-cell;\"></div><div style=\"display: table-cell;\">x_range&nbsp;=&nbsp;DataRange1d(id='1116', ...),</div></div><div class=\"1231\" style=\"display: none;\"><div style=\"display: table-cell;\"></div><div style=\"display: table-cell;\">x_scale&nbsp;=&nbsp;LinearScale(id='1120', ...),</div></div><div class=\"1231\" style=\"display: none;\"><div style=\"display: table-cell;\"></div><div style=\"display: table-cell;\">y_range&nbsp;=&nbsp;DataRange1d(id='1118', ...),</div></div><div class=\"1231\" style=\"display: none;\"><div style=\"display: table-cell;\"></div><div style=\"display: table-cell;\">y_scale&nbsp;=&nbsp;LinearScale(id='1122', ...))</div></div></div>\n",
              "<script>\n",
              "(function() {\n",
              "  let expanded = false;\n",
              "  const ellipsis = document.getElementById(\"1232\");\n",
              "  ellipsis.addEventListener(\"click\", function() {\n",
              "    const rows = document.getElementsByClassName(\"1231\");\n",
              "    for (let i = 0; i < rows.length; i++) {\n",
              "      const el = rows[i];\n",
              "      el.style.display = expanded ? \"none\" : \"table-row\";\n",
              "    }\n",
              "    ellipsis.innerHTML = expanded ? \"&hellip;)\" : \"&lsaquo;&lsaquo;&lsaquo;\";\n",
              "    expanded = !expanded;\n",
              "  });\n",
              "})();\n",
              "</script>\n"
            ],
            "text/plain": [
              "Figure(id='1115', ...)"
            ]
          },
          "execution_count": 212,
          "metadata": {},
          "output_type": "execute_result"
        }
      ],
      "source": [
        "draw_vectors(\n",
        "    examples[\"transformed_features\"][:, 0], \n",
        "    examples[\"transformed_features\"][:, 1], \n",
        "    color=[[\"red\", \"blue\"][t] for t in examples[\"targets\"]]\n",
        "    )"
      ]
    },
    {
      "cell_type": "markdown",
      "metadata": {
        "id": "0fNF6LRQ9MPI"
      },
      "source": [
        "Скорее всего, на визуализации нет четкого разделения твитов между классами. Это значит, что по полученным нами векторам твитов не так-то просто определить, к какому классу твит пренадлежит. Значит, обычный линейный классификатор не очень хорошо справится с задачей. Надо будет делать глубокую (хотя бы два слоя) нейронную сеть.\n",
        "\n",
        "Подготовим загрузчики данных.\n",
        "Усреднее векторов будем делать в \"батчевалке\"(`collate_fn`). Она используется для того, чтобы собирать из данных `torch.Tensor` батчи, которые можно отправлять в модель.\n"
      ]
    },
    {
      "cell_type": "code",
      "execution_count": null,
      "metadata": {
        "id": "y1XapsADtITv"
      },
      "outputs": [],
      "source": [
        "from torch.utils.data import DataLoader\n",
        "\n",
        "batch_size = 1024\n",
        "num_workers = 0 # 4 - для collab, 0 - local\n",
        "\n",
        "def average_emb(batch):\n",
        "    features = [np.mean(b[\"feature\"], axis=0) for b in batch]\n",
        "    targets = [b[\"target\"] for b in batch]\n",
        "\n",
        "    # было \n",
        "    #return {\"features\": torch.FloatTensor(features), \"targets\": torch.LongTensor(targets)}\n",
        "    # стало\n",
        "    return {\"features\": torch.FloatTensor(np.array(features)), \"targets\": torch.LongTensor(np.array(targets))}\n",
        "\n",
        "\n",
        "train_size = math.ceil(len(dev) * 0.8)\n",
        "\n",
        "train, valid = random_split(dev, [train_size, len(dev) - train_size])\n",
        "\n",
        "# для collab num_workers = 4\n",
        "train_loader = DataLoader(train, batch_size=batch_size, num_workers=num_workers, shuffle=True, drop_last=True, \n",
        "                          collate_fn=average_emb)\n",
        "valid_loader = DataLoader(valid, batch_size=batch_size, num_workers=num_workers, shuffle=False, drop_last=False, \n",
        "                          collate_fn=average_emb)\n"
      ]
    },
    {
      "cell_type": "code",
      "execution_count": null,
      "metadata": {
        "colab": {
          "base_uri": "https://localhost:8080/"
        },
        "id": "ZXnSIBu89Tvn",
        "outputId": "928316f8-4e90-4a6e-d28a-231285bedc5d"
      },
      "outputs": [
        {
          "data": {
            "text/plain": [
              "torch.Size([1024, 300])"
            ]
          },
          "execution_count": 214,
          "metadata": {},
          "output_type": "execute_result"
        }
      ],
      "source": [
        "# смотрим\n",
        "next(iter(train_loader))['features'].shape"
      ]
    },
    {
      "cell_type": "markdown",
      "metadata": {
        "id": "p-zs0WEK-Vkt"
      },
      "source": [
        "Определим функции для тренировки и теста модели:"
      ]
    },
    {
      "cell_type": "code",
      "execution_count": null,
      "metadata": {
        "id": "U--T2Gjw1r27"
      },
      "outputs": [],
      "source": [
        "from tqdm.notebook import tqdm\n",
        "\n",
        "def training(model, optimizer, criterion, train_loader, epoch, device=\"cpu\"):\n",
        "    pbar = tqdm(train_loader, desc=f\"Epoch {e + 1}. Train Loss: {0}\")\n",
        "    model.train()\n",
        "    for batch in pbar:\n",
        "        features = batch[\"features\"].to(device)\n",
        "        targets = batch[\"targets\"].to(device)\n",
        "\n",
        "        # Получи предсказания модели -----\n",
        "        optimizer.zero_grad()\n",
        "        outp = model(features)\n",
        "        preds = outp.argmax(-1)\n",
        "        # --------------------------------  \n",
        "\n",
        "        loss = criterion(outp, targets) # Посчитай лосс\n",
        "\n",
        "        # Обнови параметры модели --------\n",
        "        loss.backward()\n",
        "        optimizer.step()\n",
        "        # --------------------------------  \n",
        "\n",
        "        pbar.set_description(f\"Epoch {e + 1}. Train Loss: {loss:.4}\")\n",
        "        \n",
        "def testing(model, criterion, test_loader, device=\"cpu\"):\n",
        "    pbar = tqdm(test_loader, desc=f\"Test Loss: {0}, Test Acc: {0}\")\n",
        "    mean_loss = 0\n",
        "    mean_acc = 0\n",
        "    model.eval()\n",
        "    with torch.no_grad():\n",
        "        for batch in pbar:\n",
        "            features = batch[\"features\"].to(device)\n",
        "            targets = batch[\"targets\"].to(device)\n",
        "\n",
        "            # Получи предсказания модели\n",
        "            outp = model(features)\n",
        "            preds = outp.argmax(-1)\n",
        "            \n",
        "            loss = criterion(outp, targets) # Посчитай лосс\n",
        "            \n",
        "            acc = (preds == targets).sum(dim=0) # Посчитай точность модели\n",
        "            if not len(preds)==0: \n",
        "                acc = acc / len(preds)\n",
        "\n",
        "            mean_loss += loss.item()\n",
        "            mean_acc += acc.item()\n",
        "\n",
        "            pbar.set_description(f\"Test Loss: {float(loss):.4}, Test Acc: {float(acc):.4}\")\n",
        "\n",
        "    pbar.set_description(f\"Test Loss: {mean_loss / len(test_loader):.4}, Test Acc: {mean_acc / len(test_loader):.4}\")\n",
        "\n",
        "    return {\"Test Loss\": mean_loss / len(test_loader), \"Test Acc\": mean_acc / len(test_loader)}"
      ]
    },
    {
      "cell_type": "markdown",
      "metadata": {
        "id": "oVg_XBBb-YBH"
      },
      "source": [
        "Создадим модель, оптимизатор и целевую функцию. Вы можете сами выбрать количество слоев в нейронной сети, ваш любимый оптимизатор и целевую функцию.\n"
      ]
    },
    {
      "cell_type": "code",
      "execution_count": null,
      "metadata": {
        "id": "N7GsS32ktaG7"
      },
      "outputs": [],
      "source": [
        "import torch.nn as nn\n",
        "from torch.optim import Adam\n",
        "\n",
        "from torchsummary import summary\n",
        "\n",
        "# Не забудь поиграться с параметрами ;)\n",
        "vector_size = dev.word2vec.vector_size\n",
        "num_classes = 2\n",
        "lr = 1e-2\n",
        "num_epochs = 5"
      ]
    },
    {
      "cell_type": "markdown",
      "metadata": {
        "id": "LRYGhIXyYllV"
      },
      "source": [
        "Создадим простой классификатор из трех полносвязных слоев."
      ]
    },
    {
      "cell_type": "code",
      "execution_count": null,
      "metadata": {
        "id": "qcdRKhDRoOz7"
      },
      "outputs": [],
      "source": [
        "# Создадим модель\n",
        "\n",
        "class MyClassifier(nn.Module):   \n",
        "    def __init__(self, num_classes=2, vector_size =300):\n",
        "        super().__init__()       \n",
        "        self.classifier = nn.Sequential(\n",
        "           nn.Flatten(),\n",
        "           nn.Linear(vector_size, vector_size//2, bias=False), # 300 -> 150\n",
        "           nn.BatchNorm1d(vector_size//2),\n",
        "           nn.ELU(),\n",
        "           nn.Linear(vector_size//2, vector_size//2//2, bias=False), # 150 -> 75\n",
        "           nn.BatchNorm1d(vector_size//2//2),\n",
        "           nn.ELU(),\n",
        "           nn.Linear(vector_size//2//2, num_classes, bias=True) # 75 -> 2\n",
        "         )\n",
        "    def forward(self, x):\n",
        "        return self.classifier(x)"
      ]
    },
    {
      "cell_type": "code",
      "execution_count": null,
      "metadata": {
        "id": "_DkT37ppqPGR"
      },
      "outputs": [],
      "source": [
        "model = MyClassifier(num_classes, vector_size) "
      ]
    },
    {
      "cell_type": "code",
      "execution_count": null,
      "metadata": {
        "colab": {
          "base_uri": "https://localhost:8080/"
        },
        "id": "P0xW9iLHqRM3",
        "outputId": "33772ca0-a0f8-4ab3-9fa5-1aa498b97483"
      },
      "outputs": [
        {
          "name": "stdout",
          "output_type": "stream",
          "text": [
            "----------------------------------------------------------------\n",
            "        Layer (type)               Output Shape         Param #\n",
            "================================================================\n",
            "           Flatten-1                [1024, 300]               0\n",
            "            Linear-2                [1024, 150]          45,000\n",
            "       BatchNorm1d-3                [1024, 150]             300\n",
            "               ELU-4                [1024, 150]               0\n",
            "            Linear-5                 [1024, 75]          11,250\n",
            "       BatchNorm1d-6                 [1024, 75]             150\n",
            "               ELU-7                 [1024, 75]               0\n",
            "            Linear-8                  [1024, 2]             152\n",
            "================================================================\n",
            "Total params: 56,852\n",
            "Trainable params: 56,852\n",
            "Non-trainable params: 0\n",
            "----------------------------------------------------------------\n",
            "Input size (MB): 1.17\n",
            "Forward/backward pass size (MB): 7.63\n",
            "Params size (MB): 0.22\n",
            "Estimated Total Size (MB): 9.02\n",
            "----------------------------------------------------------------\n"
          ]
        }
      ],
      "source": [
        "if torch.cuda.is_available():\n",
        "    summary(model.cuda(), (1,vector_size), batch_size=1024)\n",
        "else:\n",
        "    summary(model, (1, vector_size), batch_size=1024)"
      ]
    },
    {
      "cell_type": "code",
      "execution_count": null,
      "metadata": {
        "id": "EBoZ4F3Fx1Hm"
      },
      "outputs": [],
      "source": [
        "criterion = torch.nn.CrossEntropyLoss() # Твой лосс\n",
        "optimizer = torch.optim.Adam(model.parameters()) # Твой оптимайзер"
      ]
    },
    {
      "cell_type": "markdown",
      "metadata": {
        "id": "-AitU8AR-zBj"
      },
      "source": [
        "Наконец, обучим модель и протестируем её.\n",
        "\n",
        "После каждой эпохи будем проверять качество модели на валидационной части датасета. Если метрика стала лучше, будем сохранять модель. **Подумайте, какая метрика (точность или лосс) будет лучше работать в этой задаче?** "
      ]
    },
    {
      "cell_type": "code",
      "execution_count": null,
      "metadata": {
        "id": "LRLYKo0-YllX"
      },
      "outputs": [],
      "source": [
        "if torch.cuda.is_available():\n",
        "    model = model.cuda()\n",
        "else:\n",
        "    pass "
      ]
    },
    {
      "cell_type": "code",
      "execution_count": null,
      "metadata": {
        "colab": {
          "base_uri": "https://localhost:8080/",
          "height": 479,
          "referenced_widgets": [
            "33b5d905218f4357882ac0fba463edf3",
            "5ec39551f190403d916ea95fd389b955",
            "1b80b68a8a9540dc8e7ff7c197282002",
            "9b1876f14ce44d628226896840718c3c",
            "7498500e936146c6b6bd8d7f693047da",
            "13b55ac7660f4ddda6abe5412ff2eda5",
            "e817d25bfe8f4336a3c61a425da14a57",
            "562a55aaadea493994e209613ab644a0",
            "a1c9553b2a63477cafadf60a16f20201",
            "3bfcaf9ff93642e684ac3ba0307d3d5d",
            "71a47e672d0b47c08de25c6286c1ece7",
            "209f95f6d1fc4731a6760ee152ed3cd2",
            "479115169ce9499cabccb16c950a8825",
            "491dc4a61eb548cc92ed161f194b9802",
            "e6389099176f4e969fdd700afa1170da",
            "364d0339fb9c41aaa97690c8f73a82c0",
            "a80ac767d8ba4590b82ab708e2985cb1",
            "b84cb2f675b2454fb41a3c7014928c7d",
            "f424ef931e284132bdd5ce8a9aedc8c3",
            "70d06f0041f94b1e869e3be52eb8c813",
            "437b8d4cac644962b453643b48ac0dca",
            "18bd011d5b8e4e78bee36d22aec40e09",
            "83b5a366b8bc47da809dc2dcd1882edc",
            "fb8842ea7971459eb566e555bd2be03c",
            "3cfab298434e473388a256603b2770aa",
            "5201f77c739e4a4984621bca393c5fc0",
            "b4b0ae1eef284297b8f08c1e97581518",
            "9acb0ec180f34cd599027b82388df5d6",
            "91114d2bba3340c497f252553be11527",
            "dd100dd1a1844176868153d82181cbd0",
            "00d2944400ba4a2a858a2bddec204769",
            "eb9485dd55954d7e8849fb8b4e8c8076",
            "e654e62b020649c7b193e0676dac3302",
            "61ccb7c5caec466686a398132704e00e",
            "659bb39091664aaba1421553578e4b48",
            "8b26e509454149b6be09bb40aecadfcb",
            "fc0421996e204a588eaa5438581a8846",
            "0d0e9e97daf34503b428f885e2e684d5",
            "c5f82c47ad9744d2b8af7e27def5e013",
            "2a548ce928e14835af8ef561b8bca7ab",
            "aa323a4e2d334b718d8cdfaa42d4242c",
            "33125168c4724c2f8f438f803a0c2767",
            "9e3c7ae2b92c406fa830529ae0b2292e",
            "63d057d063ba4089b789d0b3a7de981f",
            "056e49ee13384453878470edc0739b97",
            "b8dc4f964122416cbf8bb2c18c0d3378",
            "f0d36533c4dc448db0e8111850ac32cd",
            "8ac2059e8716412c87fe2262585b8c13",
            "9c05532af5ea4073a6866ebb04b44fc8",
            "d1430548dd534ab59738d78d4547bbd5",
            "00d7e6dca381430bb0920baf2488ac1f",
            "b0a2e11333a94e2aa17f14659479dc3d",
            "5f45e42f5cad4b01b79dbdcb574112fc",
            "cc9b517f8fad4e799f3abf465f329369",
            "0d4f9e29cf4b4f7181a02de1f91c3902",
            "df04a8bd53c84694aa0e475307db8bd1",
            "cc4df2978de04b6b9a96a8562a4e585f",
            "0833cef25c4c4369a29186e000573e28",
            "53f52fea05114b94a7641acf5360653e",
            "7f006484ccf84abba8c9f255c09de1dc",
            "ffe8548b63324647a1108f15b4e978b0",
            "b97778a692cc4a9e8b797eec96c5a512",
            "d601f0a937c84660a9ec31d197d97bc6",
            "5f29eda1a2bb459ebe5fc956fd381177",
            "06a7577fdca043b785af86fb19a0a49f",
            "3f95493bec0e43089b25ccb456d8884b",
            "2c165a2b83384b19b4e43da19e7bf248",
            "9279bc60f21d4694a2b9c03189befd89",
            "ba31b3c72f44428f8c00e0848ace9810",
            "72014077806b43ff885df2cb44a07633",
            "fe82a61cae1c4d52b7c46765c6352cb0",
            "1e9d12a05a6f4c568025ad8a1927d6dc",
            "78c20b8cc9e14f94869c5573a66c34ba",
            "21f848eaa0854430a6d9b7e2e30c338d",
            "b381cde1af834546911e8888b3cf8d1b",
            "350ef099381a473b9119967ee3c035f8",
            "761a5fc5d6ca43d6adf2943ce1df18c0",
            "ac64e3b0f8b94db68bc6e84f2b0b4dc7",
            "e26bbd4b631247839d4149837369e87b",
            "795ea88090b543d691c93a7098450fb1",
            "fe0d12ff5c95478a8f5e2d83a8138413",
            "2b8c2262fa6644de86f21beb9de45423",
            "1a65d9d7ec154f4a9b8ab711fcaf8e30",
            "ecf2a6f5137e42b7b01791ff24f377dc",
            "0973a5913f92492896c2c0a52a3cbd29",
            "556066a38a324ca9a0aa22efef32e242",
            "da78e21456234a498fa82fcdf98c0af4",
            "655a4b20080a4274add02b2becc2c75c",
            "115f8b9117c14a60807135283f819265",
            "1efecf5869a64a84bb069e136cfb901d",
            "d678cedf06ae4a439e42f86c560dadad",
            "469f1258b47c4b82a05d94cd53c06c7a",
            "41b8281aabbb422aad4d95ea3075f449",
            "8d6d96f4b0ab42b59c450c7c94c6ca2c",
            "e0dab4b99b2d4ea19f0ca1aa293d60ed",
            "a0afbf41fcd248a5b176d1ee06506b9b",
            "1b7d17302acf4b06b6b6dfe3c94c214d",
            "61eeb6d0d06745d1abc80bc44e5ed199",
            "6d418767477542b5bfcb509d9271ab6f",
            "e12f0059618b41e6ac67ffc5c8ba030d",
            "8695d8a8f4554d6da1cb087f31f0a1df",
            "ed0ba4f2925043bf9ea1ad973d14cce5",
            "f82e236886a842c3b7ef7aab604c2d03",
            "37a9ef8490e34e23bc658a92fc820489",
            "7beb3fd51b63462d83bcc5b03effac3f",
            "dd4d098bbee54d04ae76b21becc501a0",
            "b239c6accfb941be98a9c0621e8b578b",
            "289d28002995405a9a4d08b868bb90e3",
            "c9c5a64434874ce4b81e68a19e984aef",
            "76f5b85ab30a420185d3832762257879",
            "6f6ae208d1064d6a9360d4d1a7c44cf7",
            "912d481cc3564b7cb5ce4aa78d8b0707",
            "5b1e36115f2941ba935e756408867fc1",
            "4c6af041c31d4ef2b17089de99e97049",
            "50ce417c04554c50b324119031fd3454",
            "a35a88ddbdc148bea57881933b12b9ea",
            "95ccb57d42f743d3bb8bc21df610b36a",
            "9b536812724b400aae28d29b3cbafe02",
            "9e46e3598caa457b9288402442fa985d",
            "6ada3253e04e4e47813db0fda44e5cfb"
          ]
        },
        "id": "gKhk71Pmx1F1",
        "outputId": "5e3d99f9-22a8-4257-e895-1cf2acbac129",
        "scrolled": true
      },
      "outputs": [
        {
          "data": {
            "application/vnd.jupyter.widget-view+json": {
              "model_id": "6f6ae208d1064d6a9360d4d1a7c44cf7",
              "version_major": 2,
              "version_minor": 0
            },
            "text/plain": [
              "Epoch 1. Train Loss: 0:   0%|          | 0/1000 [00:00<?, ?it/s]"
            ]
          },
          "metadata": {},
          "output_type": "display_data"
        },
        {
          "data": {
            "application/vnd.jupyter.widget-view+json": {
              "model_id": "912d481cc3564b7cb5ce4aa78d8b0707",
              "version_major": 2,
              "version_minor": 0
            },
            "text/plain": [
              "Test Loss: 0, Test Acc: 0:   0%|          | 0/250 [00:00<?, ?it/s]"
            ]
          },
          "metadata": {},
          "output_type": "display_data"
        },
        {
          "name": "stdout",
          "output_type": "stream",
          "text": [
            "{'Test Loss': 0.5217936517000198, 'Test Acc': 0.73741796875}\n"
          ]
        },
        {
          "data": {
            "application/vnd.jupyter.widget-view+json": {
              "model_id": "5b1e36115f2941ba935e756408867fc1",
              "version_major": 2,
              "version_minor": 0
            },
            "text/plain": [
              "Epoch 2. Train Loss: 0:   0%|          | 0/1000 [00:00<?, ?it/s]"
            ]
          },
          "metadata": {},
          "output_type": "display_data"
        },
        {
          "data": {
            "application/vnd.jupyter.widget-view+json": {
              "model_id": "4c6af041c31d4ef2b17089de99e97049",
              "version_major": 2,
              "version_minor": 0
            },
            "text/plain": [
              "Test Loss: 0, Test Acc: 0:   0%|          | 0/250 [00:00<?, ?it/s]"
            ]
          },
          "metadata": {},
          "output_type": "display_data"
        },
        {
          "name": "stdout",
          "output_type": "stream",
          "text": [
            "{'Test Loss': 0.512940800666809, 'Test Acc': 0.7444140625}\n"
          ]
        },
        {
          "data": {
            "application/vnd.jupyter.widget-view+json": {
              "model_id": "50ce417c04554c50b324119031fd3454",
              "version_major": 2,
              "version_minor": 0
            },
            "text/plain": [
              "Epoch 3. Train Loss: 0:   0%|          | 0/1000 [00:00<?, ?it/s]"
            ]
          },
          "metadata": {},
          "output_type": "display_data"
        },
        {
          "data": {
            "application/vnd.jupyter.widget-view+json": {
              "model_id": "a35a88ddbdc148bea57881933b12b9ea",
              "version_major": 2,
              "version_minor": 0
            },
            "text/plain": [
              "Test Loss: 0, Test Acc: 0:   0%|          | 0/250 [00:00<?, ?it/s]"
            ]
          },
          "metadata": {},
          "output_type": "display_data"
        },
        {
          "name": "stdout",
          "output_type": "stream",
          "text": [
            "{'Test Loss': 0.5102181084156037, 'Test Acc': 0.74637890625}\n"
          ]
        },
        {
          "data": {
            "application/vnd.jupyter.widget-view+json": {
              "model_id": "95ccb57d42f743d3bb8bc21df610b36a",
              "version_major": 2,
              "version_minor": 0
            },
            "text/plain": [
              "Epoch 4. Train Loss: 0:   0%|          | 0/1000 [00:00<?, ?it/s]"
            ]
          },
          "metadata": {},
          "output_type": "display_data"
        },
        {
          "data": {
            "application/vnd.jupyter.widget-view+json": {
              "model_id": "9b536812724b400aae28d29b3cbafe02",
              "version_major": 2,
              "version_minor": 0
            },
            "text/plain": [
              "Test Loss: 0, Test Acc: 0:   0%|          | 0/250 [00:00<?, ?it/s]"
            ]
          },
          "metadata": {},
          "output_type": "display_data"
        },
        {
          "name": "stdout",
          "output_type": "stream",
          "text": [
            "{'Test Loss': 0.5089089448451996, 'Test Acc': 0.7474609375}\n"
          ]
        },
        {
          "data": {
            "application/vnd.jupyter.widget-view+json": {
              "model_id": "9e46e3598caa457b9288402442fa985d",
              "version_major": 2,
              "version_minor": 0
            },
            "text/plain": [
              "Epoch 5. Train Loss: 0:   0%|          | 0/1000 [00:00<?, ?it/s]"
            ]
          },
          "metadata": {},
          "output_type": "display_data"
        },
        {
          "data": {
            "application/vnd.jupyter.widget-view+json": {
              "model_id": "6ada3253e04e4e47813db0fda44e5cfb",
              "version_major": 2,
              "version_minor": 0
            },
            "text/plain": [
              "Test Loss: 0, Test Acc: 0:   0%|          | 0/250 [00:00<?, ?it/s]"
            ]
          },
          "metadata": {},
          "output_type": "display_data"
        },
        {
          "name": "stdout",
          "output_type": "stream",
          "text": [
            "{'Test Loss': 0.5065802465677262, 'Test Acc': 0.747859375}\n",
            "Wall time: 16min 24s\n"
          ]
        }
      ],
      "source": [
        "%%time\n",
        "\n",
        "num_epochs = 5\n",
        "\n",
        "best_metric = np.inf\n",
        "for e in range(num_epochs):\n",
        "    training(model, optimizer, criterion, train_loader, e, device)\n",
        "    log = testing(model, criterion, valid_loader, device)\n",
        "    print(log)\n",
        "    if log[\"Test Loss\"] < best_metric:\n",
        "        torch.save(model.state_dict(), \"model.pt\")\n",
        "        best_metric = log[\"Test Loss\"]"
      ]
    },
    {
      "cell_type": "code",
      "execution_count": null,
      "metadata": {
        "id": "f_MGEUZEYllY"
      },
      "outputs": [],
      "source": [
        "# результаты будем сохраниять в список\n",
        "result_list = []"
      ]
    },
    {
      "cell_type": "code",
      "execution_count": null,
      "metadata": {
        "colab": {
          "base_uri": "https://localhost:8080/",
          "height": 121,
          "referenced_widgets": [
            "d4ead11d3d034819a242a0e38da91588",
            "9724872bc0ed40868a0c7584a77e4acd",
            "31707e8b4cbc49b8947ddacbcc55a2c3",
            "ccebc39e28484c36a2f40589b3bf1f11",
            "214252e3db784041b11a0e0fbe49dce6",
            "edeace6647d74c709754df8ba7b04014",
            "a6a36f781dfe44d4a44fd40c56e21dc6",
            "35b52b9604bd4225b644d6b78720043c",
            "1cf6867469074b68b3804aba69262950",
            "9773ef299044434da15393295edf1a28",
            "3ce303e4c1ec4adba6c2fe27b1f870f7",
            "0fce9ee766a449b09f14e3e6d23856fa"
          ]
        },
        "id": "di4dGwD4x1Dt",
        "outputId": "dc6fa28f-066f-49f0-95c7-a74827ff6fed",
        "scrolled": true
      },
      "outputs": [
        {
          "data": {
            "application/vnd.jupyter.widget-view+json": {
              "model_id": "0fce9ee766a449b09f14e3e6d23856fa",
              "version_major": 2,
              "version_minor": 0
            },
            "text/plain": [
              "Test Loss: 0, Test Acc: 0:   0%|          | 0/313 [00:00<?, ?it/s]"
            ]
          },
          "metadata": {},
          "output_type": "display_data"
        },
        {
          "name": "stdout",
          "output_type": "stream",
          "text": [
            "{'Test Loss': 0.5083348428288968, 'Test Acc': 0.747678714057508, 'model': 'word2vec'}\n"
          ]
        }
      ],
      "source": [
        "test_loader = DataLoader(\n",
        "    TwitterDataset(test_data, \"text\", \"emotion\", word2vec), \n",
        "    batch_size=batch_size, \n",
        "    num_workers=num_workers, \n",
        "    shuffle=False,\n",
        "    drop_last=False, \n",
        "    collate_fn=average_emb)\n",
        "\n",
        "model.load_state_dict(torch.load(\"model.pt\", map_location=device))\n",
        "\n",
        "res = testing(model, criterion, test_loader, device=device)\n",
        "res['model'] = 'word2vec'\n",
        "result_list.append(res)\n",
        "\n",
        "print(res)"
      ]
    },
    {
      "cell_type": "markdown",
      "metadata": {
        "id": "ZRvzpldHSAu0"
      },
      "source": [
        "## Embeddings for unknown words (8 баллов)\n",
        "\n",
        "Пока что использовалась не вся информация из текста. Часть информации фильтровалось – если слова не было в словаре эмбеддингов, то мы просто превращали слово в нулевой вектор. Хочется использовать информацию по-максимуму. Поэтому рассмотрим другие способы обработки слов, которых нет в словаре. А именно:\n",
        "\n",
        "- Для каждого незнакомого слова будем запоминать его контекст(слова слева и справа от этого слова). Эмбеддингом нашего незнакомого слова будет сумма эмбеддингов всех слов из его контекста. (4 балла)\n",
        "- Для каждого слова текста получим его эмбеддинг из Tfidf с помощью ```TfidfVectorizer``` из [sklearn](https://scikit-learn.org/stable/modules/generated/sklearn.feature_extraction.text.TfidfVectorizer.html#sklearn.feature_extraction.text.TfidfVectorizer). Итоговым эмбеддингом для каждого слова будет сумма двух эмбеддингов: предобученного и Tfidf-ного. Для слов, которых нет в словаре предобученных эмбеддингов, результирующий эмбеддинг будет просто полученный из Tfidf. (4 балла)\n",
        "\n",
        "Реализуйте оба варианта **ниже**. Напишите, какой способ сработал лучше и ваши мысли, почему так получилось."
      ]
    },
    {
      "cell_type": "markdown",
      "metadata": {
        "id": "v_pSJS1QMyWj"
      },
      "source": [
        "### Пункт 1.  Эмбеддингом нашего незнакомого слова будет сумма эмбеддингов всех слов из его контекста"
      ]
    },
    {
      "cell_type": "markdown",
      "metadata": {
        "id": "pw9UwLTPgdSp"
      },
      "source": [
        "#### Разработка алгоритма по сложению эмбеддингов контекстных слов для неизвестного слова"
      ]
    },
    {
      "cell_type": "code",
      "execution_count": null,
      "metadata": {
        "id": "qdYDPfOrOLii"
      },
      "outputs": [],
      "source": [
        "# разбиваем произвольный твит на токены\n",
        "\n",
        "text = dev_data['text'][0]\n",
        "line = tokenizer.tokenize(text.lower())\n",
        "tokens = [w for w in line if all(c not in string.punctuation for c in w) and len(w) > 3]"
      ]
    },
    {
      "cell_type": "code",
      "execution_count": null,
      "metadata": {
        "id": "bO095M3pTXdV"
      },
      "outputs": [],
      "source": [
        "# добавим искусственно неизвестное слово\n",
        "tokens.insert(3,'limpopo')"
      ]
    },
    {
      "cell_type": "code",
      "execution_count": null,
      "metadata": {
        "colab": {
          "base_uri": "https://localhost:8080/"
        },
        "id": "QP6lPOImUQgI",
        "outputId": "e3ea26dd-10ff-4753-a55e-abe2bba924c2",
        "scrolled": false
      },
      "outputs": [
        {
          "name": "stdout",
          "output_type": "stream",
          "text": [
            "['north', 'devon', 'coast', 'limpopo', 'next', 'weeks', 'will', 'down', 'devon', 'again', 'sometime', 'hope', 'though']\n"
          ]
        }
      ],
      "source": [
        "# смотрим\n",
        "print(tokens)"
      ]
    },
    {
      "cell_type": "code",
      "execution_count": null,
      "metadata": {
        "id": "9s34-8MjSmUD"
      },
      "outputs": [],
      "source": [
        "# рассчитываем -> ембединг('limpopo') = ембединг('coast') + ембединг('next')\n",
        "\n",
        "# окно для просмотра контекста в данном примере\n",
        "context_window_size = 1\n",
        "\n",
        "embeddings = []\n",
        "iter_ = enumerate(tokens)\n",
        "for idx, word in iter_:      \n",
        "    if word not in word2vec:  \n",
        "        #continue\n",
        "        start_idx = max(0, idx - context_window_size)\n",
        "        end_idx = min(len(tokens)-1, idx + context_window_size)\n",
        "        emb_context_words =  word2vec.get_vector('python')*0 #нулевой ембеддинг\n",
        "        for idx_context in range(start_idx, end_idx+1):\n",
        "            if idx_context==idx:\n",
        "                continue\n",
        "            if tokens[idx_context] not in word2vec:  \n",
        "                continue\n",
        "            emb_context_words += word2vec.get_vector(tokens[idx_context])\n",
        "        embeddings.append(emb_context_words)\n",
        "    else:\n",
        "        embeddings.append(word2vec.get_vector(word))"
      ]
    },
    {
      "cell_type": "code",
      "execution_count": null,
      "metadata": {
        "id": "2nfPsprXYllc",
        "outputId": "c69e6e9d-3af5-4f73-fcef-dd72104522f5"
      },
      "outputs": [
        {
          "data": {
            "text/plain": [
              "array([ True,  True,  True,  True,  True,  True,  True,  True,  True,\n",
              "        True,  True,  True,  True,  True,  True,  True,  True,  True,\n",
              "        True,  True,  True,  True,  True,  True,  True,  True,  True,\n",
              "        True,  True,  True,  True,  True,  True,  True,  True,  True,\n",
              "        True,  True,  True,  True,  True,  True,  True,  True,  True,\n",
              "        True,  True,  True,  True,  True,  True,  True,  True,  True,\n",
              "        True,  True,  True,  True,  True,  True,  True,  True,  True,\n",
              "        True,  True,  True,  True,  True,  True,  True,  True,  True,\n",
              "        True,  True,  True,  True,  True,  True,  True,  True,  True,\n",
              "        True,  True,  True,  True,  True,  True,  True,  True,  True,\n",
              "        True,  True,  True,  True,  True,  True,  True,  True,  True,\n",
              "        True,  True,  True,  True,  True,  True,  True,  True,  True,\n",
              "        True,  True,  True,  True,  True,  True,  True,  True,  True,\n",
              "        True,  True,  True,  True,  True,  True,  True,  True,  True,\n",
              "        True,  True,  True,  True,  True,  True,  True,  True,  True,\n",
              "        True,  True,  True,  True,  True,  True,  True,  True,  True,\n",
              "        True,  True,  True,  True,  True,  True,  True,  True,  True,\n",
              "        True,  True,  True,  True,  True,  True,  True,  True,  True,\n",
              "        True,  True,  True,  True,  True,  True,  True,  True,  True,\n",
              "        True,  True,  True,  True,  True,  True,  True,  True,  True,\n",
              "        True,  True,  True,  True,  True,  True,  True,  True,  True,\n",
              "        True,  True,  True,  True,  True,  True,  True,  True,  True,\n",
              "        True,  True,  True,  True,  True,  True,  True,  True,  True,\n",
              "        True,  True,  True,  True,  True,  True,  True,  True,  True,\n",
              "        True,  True,  True,  True,  True,  True,  True,  True,  True,\n",
              "        True,  True,  True,  True,  True,  True,  True,  True,  True,\n",
              "        True,  True,  True,  True,  True,  True,  True,  True,  True,\n",
              "        True,  True,  True,  True,  True,  True,  True,  True,  True,\n",
              "        True,  True,  True,  True,  True,  True,  True,  True,  True,\n",
              "        True,  True,  True,  True,  True,  True,  True,  True,  True,\n",
              "        True,  True,  True,  True,  True,  True,  True,  True,  True,\n",
              "        True,  True,  True,  True,  True,  True,  True,  True,  True,\n",
              "        True,  True,  True,  True,  True,  True,  True,  True,  True,\n",
              "        True,  True,  True])"
            ]
          },
          "execution_count": 239,
          "metadata": {},
          "output_type": "execute_result"
        }
      ],
      "source": [
        "emb_context_words == (word2vec.get_vector('coast') + word2vec.get_vector('next'))"
      ]
    },
    {
      "cell_type": "markdown",
      "metadata": {
        "id": "IP2yuBnrhTLM"
      },
      "source": [
        "Все работает."
      ]
    },
    {
      "cell_type": "markdown",
      "metadata": {
        "id": "cRCe-75Mhvmw"
      },
      "source": [
        " Сформируем новый класс для загрузчика, с учетом нового алгоритма для ембеддингов неизвестных слов. (Как среднее из контекста, слова, входящие в контекст заданного слова, будем определять просматривая текст окном определенной ширины)"
      ]
    },
    {
      "cell_type": "code",
      "execution_count": null,
      "metadata": {
        "id": "rlvHiDzDNcPi"
      },
      "outputs": [],
      "source": [
        "from torch.utils.data import Dataset, random_split\n",
        "\n",
        "class TwitterDataset_context_window(Dataset):\n",
        "    def __init__(self, data: pd.DataFrame, feature_column: str, target_column: str, word2vec: gensim.models.Word2Vec, \n",
        "                 context_window_size: int):\n",
        "        self.tokenizer = nltk.WordPunctTokenizer()\n",
        "        \n",
        "        self.data = data\n",
        "\n",
        "        self.feature_column = feature_column\n",
        "        self.target_column = target_column\n",
        "\n",
        "        self.word2vec = word2vec\n",
        "\n",
        "        self.label2num = lambda label: 0 if label == 0 else 1\n",
        "        self.mean = np.mean(word2vec.vectors, axis=0)\n",
        "        self.std = np.std(word2vec.vectors, axis=0)\n",
        "        \n",
        "        # размер окна для просмотра контекста неизвестных слов\n",
        "        self.context_window_size = context_window_size\n",
        "        \n",
        "    def __getitem__(self, item):\n",
        "        text = self.data[self.feature_column][item]\n",
        "        label = self.label2num(self.data[self.target_column][item])\n",
        "\n",
        "        tokens = self.get_tokens_(text)\n",
        "        embeddings = self.get_embeddings_(tokens)\n",
        "\n",
        "        return {\"feature\": embeddings, \"target\": label}\n",
        "        \n",
        "\n",
        "    def get_tokens_(self, text):\n",
        "        # Получи все токены из текста и профильтруй их\n",
        "        text = re.sub(r\"http?://[^,\\s]+,?\",\"\",text)\n",
        "        text = re.sub(r'@[\\w]+',\"\",text)\n",
        "        line = tokenizer.tokenize(text.lower())\n",
        "        filtered_line = [w for w in line if all(c not in string.punctuation for c in w) and len(w) > 3]\n",
        "        filtered_line = [word for word in filtered_line if word not in stopWords]\n",
        "        return filtered_line\n",
        "\n",
        "#     def get_tokens_(self, text):\n",
        "#         # Получим все токены из текста и профильтруй их\n",
        "#         line = tokenizer.tokenize(text.lower())\n",
        "#         filtered_line = [w for w in line if all(c not in string.punctuation for c in w) and len(w) > 3]\n",
        "#         return filtered_line\n",
        "\n",
        "    def get_embeddings_(self, tokens):\n",
        "      \n",
        "        embeddings = []\n",
        "  \n",
        "        iter_ = enumerate(tokens)\n",
        "        for idx, word in iter_:      \n",
        "            if  word not in word2vec: \n",
        "                start_idx = max(0, idx - self.context_window_size)\n",
        "                end_idx = min(len(tokens)-1, idx + self.context_window_size)\n",
        "                emb_sum_of_context_words = word2vec.get_vector('python')*0 #нулевой ембеддинг\n",
        "                for idx_context in range(start_idx, end_idx+1):\n",
        "                    if idx_context==idx:\n",
        "                        continue\n",
        "                    if tokens[idx_context] not in self.word2vec:\n",
        "                        continue\n",
        "                    emb = (self.word2vec.get_vector(tokens[idx_context]) - self.mean)/self.std\n",
        "                    emb_sum_of_context_words += emb\n",
        "                embeddings.append(emb_sum_of_context_words)\n",
        "            else:\n",
        "                emb = (self.word2vec.get_vector(word) - self.mean)/self.std\n",
        "                embeddings.append(emb) \n",
        "        \n",
        "        # было ранее\n",
        "        #embeddings = [((self.word2vec.get_vector(w) - self.mean)/self.std) for w in tokens if w in self.word2vec] \n",
        "  \n",
        "        if len(embeddings) == 0:\n",
        "            embeddings = np.zeros((1, self.word2vec.vector_size))\n",
        "        else:\n",
        "            embeddings = np.array(embeddings)\n",
        "            if len(embeddings.shape) == 1:\n",
        "                embeddings = embeddings.reshape(-1, 1)\n",
        " \n",
        "        return embeddings\n",
        "\n",
        "    def __len__(self):\n",
        "        return self.data.shape[0]"
      ]
    },
    {
      "cell_type": "markdown",
      "metadata": {
        "id": "6vxdrFPkYlle"
      },
      "source": [
        "Определим ширину окна для определения суммового ембеддинга для неизвестного слова в два токена слева и справа."
      ]
    },
    {
      "cell_type": "code",
      "execution_count": null,
      "metadata": {
        "id": "BQ4ZUvzTYlle"
      },
      "outputs": [],
      "source": [
        "context_window_size = 2"
      ]
    },
    {
      "cell_type": "code",
      "execution_count": null,
      "metadata": {
        "id": "GKn-k0YmlVSr"
      },
      "outputs": [],
      "source": [
        "dev_context_window = TwitterDataset_context_window(dev_data, \"text\", \"emotion\", word2vec, context_window_size)"
      ]
    },
    {
      "cell_type": "code",
      "execution_count": null,
      "metadata": {
        "colab": {
          "base_uri": "https://localhost:8080/"
        },
        "id": "GSbqa4vGledk",
        "outputId": "6fc4009b-d076-4416-da7d-1d758e16d69e"
      },
      "outputs": [
        {
          "data": {
            "text/plain": [
              "{'feature': array([[-0.36991876, -1.1144205 ,  0.33723447, ...,  0.35792458,\n",
              "          2.792679  , -2.6243513 ],\n",
              "        [-2.044868  ,  0.15058553, -0.67700225, ...,  0.05009809,\n",
              "         -1.0761887 ,  0.66978776],\n",
              "        [ 0.22370882,  0.888091  , -2.4832325 , ...,  0.18854395,\n",
              "          0.8179045 ,  0.31222534],\n",
              "        ...,\n",
              "        [ 0.9292662 ,  1.2742614 , -0.07795607, ..., -0.979371  ,\n",
              "          0.74874896, -1.8027185 ],\n",
              "        [ 0.13376525,  1.1946386 ,  1.9293033 , ..., -0.5168706 ,\n",
              "          0.3837614 , -0.7129138 ],\n",
              "        [ 0.73338914,  0.16750537, -0.20423055, ..., -0.19839445,\n",
              "          0.95621556, -0.53127974]], dtype=float32),\n",
              " 'target': 0}"
            ]
          },
          "execution_count": 267,
          "metadata": {},
          "output_type": "execute_result"
        }
      ],
      "source": [
        "next(iter(dev_context_window))"
      ]
    },
    {
      "cell_type": "code",
      "execution_count": null,
      "metadata": {
        "id": "ay9p_Tm9Yllf"
      },
      "outputs": [],
      "source": [
        "batch_size = 1024\n",
        "num_workers = 0 # 4 - для collab, 0 - local\n",
        "\n",
        "def average_emb(batch):\n",
        "    features = [np.mean(b[\"feature\"], axis=0) for b in batch]\n",
        "    targets = [b[\"target\"] for b in batch]\n",
        "    return {\"features\": torch.FloatTensor(np.array(features)), \"targets\": torch.LongTensor(np.array(targets))}\n",
        "\n",
        "\n",
        "train_size = math.ceil(len(dev_context_window) * 0.8)\n",
        "\n",
        "train, valid = random_split(dev_context_window, [train_size, len(dev_context_window) - train_size])\n",
        "\n",
        "#для local num_workers = 0\n",
        "train_loader = DataLoader(train, batch_size=batch_size, num_workers=num_workers, shuffle=True, \\\n",
        "                          drop_last=True, collate_fn=average_emb)\n",
        "valid_loader = DataLoader(valid, batch_size=batch_size, num_workers=num_workers, shuffle=False, \\\n",
        "                          drop_last=False, collate_fn=average_emb)\n"
      ]
    },
    {
      "cell_type": "code",
      "execution_count": null,
      "metadata": {
        "id": "g0YlsUrHYllg"
      },
      "outputs": [],
      "source": [
        "model = MyClassifier(num_classes, vector_size) \n",
        "criterion = torch.nn.CrossEntropyLoss() # Твой лосс\n",
        "optimizer = torch.optim.Adam(model.parameters()) # Твой оптимайзер"
      ]
    },
    {
      "cell_type": "code",
      "execution_count": null,
      "metadata": {
        "id": "dm8EW8t9Yllg"
      },
      "outputs": [],
      "source": [
        "lr = 1e-2"
      ]
    },
    {
      "cell_type": "code",
      "execution_count": null,
      "metadata": {
        "colab": {
          "referenced_widgets": [
            "b31c37cd4fed4c7b84abb6a1b3cdcf0d",
            "b36b8bc6ff77406ab34de2efc55751d9",
            "e4d02b15d9e547cd9c27c3f2b2583f31",
            "934b3423dde047169a9fec483215499f",
            "a7d3f0201b924bdba8b2df4448f5bf16",
            "2cfaf191a2434affafed95cacdaf74d0",
            "f714d51d3e764b75a12c5fe8cc7cebf0",
            "ef7063d99736418ca28a32a8eff4fad5",
            "d007b607fcca457ebeac617b9bb3b07d",
            "abccb37a59434848adc68d2193f71163"
          ]
        },
        "id": "anzfQMxHYllg",
        "outputId": "6aadb0d6-6ebb-4379-e536-70701774293a"
      },
      "outputs": [
        {
          "data": {
            "application/vnd.jupyter.widget-view+json": {
              "model_id": "b31c37cd4fed4c7b84abb6a1b3cdcf0d",
              "version_major": 2,
              "version_minor": 0
            },
            "text/plain": [
              "Epoch 1. Train Loss: 0:   0%|          | 0/1000 [00:00<?, ?it/s]"
            ]
          },
          "metadata": {},
          "output_type": "display_data"
        },
        {
          "data": {
            "application/vnd.jupyter.widget-view+json": {
              "model_id": "b36b8bc6ff77406ab34de2efc55751d9",
              "version_major": 2,
              "version_minor": 0
            },
            "text/plain": [
              "Test Loss: 0, Test Acc: 0:   0%|          | 0/250 [00:00<?, ?it/s]"
            ]
          },
          "metadata": {},
          "output_type": "display_data"
        },
        {
          "name": "stdout",
          "output_type": "stream",
          "text": [
            "{'Test Loss': 0.5266181662082672, 'Test Acc': 0.73361328125}\n"
          ]
        },
        {
          "data": {
            "application/vnd.jupyter.widget-view+json": {
              "model_id": "e4d02b15d9e547cd9c27c3f2b2583f31",
              "version_major": 2,
              "version_minor": 0
            },
            "text/plain": [
              "Epoch 2. Train Loss: 0:   0%|          | 0/1000 [00:00<?, ?it/s]"
            ]
          },
          "metadata": {},
          "output_type": "display_data"
        },
        {
          "data": {
            "application/vnd.jupyter.widget-view+json": {
              "model_id": "934b3423dde047169a9fec483215499f",
              "version_major": 2,
              "version_minor": 0
            },
            "text/plain": [
              "Test Loss: 0, Test Acc: 0:   0%|          | 0/250 [00:00<?, ?it/s]"
            ]
          },
          "metadata": {},
          "output_type": "display_data"
        },
        {
          "name": "stdout",
          "output_type": "stream",
          "text": [
            "{'Test Loss': 0.5183924187421799, 'Test Acc': 0.74046875}\n"
          ]
        },
        {
          "data": {
            "application/vnd.jupyter.widget-view+json": {
              "model_id": "a7d3f0201b924bdba8b2df4448f5bf16",
              "version_major": 2,
              "version_minor": 0
            },
            "text/plain": [
              "Epoch 3. Train Loss: 0:   0%|          | 0/1000 [00:00<?, ?it/s]"
            ]
          },
          "metadata": {},
          "output_type": "display_data"
        },
        {
          "data": {
            "application/vnd.jupyter.widget-view+json": {
              "model_id": "2cfaf191a2434affafed95cacdaf74d0",
              "version_major": 2,
              "version_minor": 0
            },
            "text/plain": [
              "Test Loss: 0, Test Acc: 0:   0%|          | 0/250 [00:00<?, ?it/s]"
            ]
          },
          "metadata": {},
          "output_type": "display_data"
        },
        {
          "name": "stdout",
          "output_type": "stream",
          "text": [
            "{'Test Loss': 0.5159729917049408, 'Test Acc': 0.7427265625}\n"
          ]
        },
        {
          "data": {
            "application/vnd.jupyter.widget-view+json": {
              "model_id": "f714d51d3e764b75a12c5fe8cc7cebf0",
              "version_major": 2,
              "version_minor": 0
            },
            "text/plain": [
              "Epoch 4. Train Loss: 0:   0%|          | 0/1000 [00:00<?, ?it/s]"
            ]
          },
          "metadata": {},
          "output_type": "display_data"
        },
        {
          "data": {
            "application/vnd.jupyter.widget-view+json": {
              "model_id": "ef7063d99736418ca28a32a8eff4fad5",
              "version_major": 2,
              "version_minor": 0
            },
            "text/plain": [
              "Test Loss: 0, Test Acc: 0:   0%|          | 0/250 [00:00<?, ?it/s]"
            ]
          },
          "metadata": {},
          "output_type": "display_data"
        },
        {
          "name": "stdout",
          "output_type": "stream",
          "text": [
            "{'Test Loss': 0.5108939216136933, 'Test Acc': 0.745859375}\n"
          ]
        },
        {
          "data": {
            "application/vnd.jupyter.widget-view+json": {
              "model_id": "d007b607fcca457ebeac617b9bb3b07d",
              "version_major": 2,
              "version_minor": 0
            },
            "text/plain": [
              "Epoch 5. Train Loss: 0:   0%|          | 0/1000 [00:00<?, ?it/s]"
            ]
          },
          "metadata": {},
          "output_type": "display_data"
        },
        {
          "data": {
            "application/vnd.jupyter.widget-view+json": {
              "model_id": "abccb37a59434848adc68d2193f71163",
              "version_major": 2,
              "version_minor": 0
            },
            "text/plain": [
              "Test Loss: 0, Test Acc: 0:   0%|          | 0/250 [00:00<?, ?it/s]"
            ]
          },
          "metadata": {},
          "output_type": "display_data"
        },
        {
          "name": "stdout",
          "output_type": "stream",
          "text": [
            "{'Test Loss': 0.5123246805667877, 'Test Acc': 0.7450390625}\n",
            "Wall time: 17min 49s\n"
          ]
        }
      ],
      "source": [
        "%%time\n",
        "\n",
        "num_epochs = 5\n",
        "\n",
        "best_metric = np.inf\n",
        "for e in range(num_epochs):\n",
        "    training(model, optimizer, criterion, train_loader, e, device)\n",
        "    log = testing(model, criterion, valid_loader, device)\n",
        "    print(log)\n",
        "    if log[\"Test Loss\"] < best_metric:\n",
        "        torch.save(model.state_dict(), \"model_context_window.pt\")\n",
        "        best_metric = log[\"Test Loss\"]"
      ]
    },
    {
      "cell_type": "code",
      "execution_count": null,
      "metadata": {
        "colab": {
          "referenced_widgets": [
            "e5316c22042e46b996aa5db0701e5b03"
          ]
        },
        "id": "_wxXuBalYllh",
        "outputId": "5dca0717-7185-42e3-8d42-e8eb658a710c"
      },
      "outputs": [
        {
          "data": {
            "application/vnd.jupyter.widget-view+json": {
              "model_id": "e5316c22042e46b996aa5db0701e5b03",
              "version_major": 2,
              "version_minor": 0
            },
            "text/plain": [
              "Test Loss: 0, Test Acc: 0:   0%|          | 0/313 [00:00<?, ?it/s]"
            ]
          },
          "metadata": {},
          "output_type": "display_data"
        },
        {
          "name": "stdout",
          "output_type": "stream",
          "text": [
            "{'Test Loss': 0.511253299518896, 'Test Acc': 0.7454697484025559, 'model': 'word2vec context window'}\n"
          ]
        }
      ],
      "source": [
        "test_loader = DataLoader(\n",
        "    # новый класс для загрузки данных --------------------------------------------------------\n",
        "    TwitterDataset_context_window(test_data, \"text\", \"emotion\", word2vec, context_window_size), \n",
        "    # ----------------------------------------------------------------------------------------\n",
        "    batch_size=batch_size, \n",
        "    num_workers=num_workers, \n",
        "    shuffle=False,\n",
        "    drop_last=False, \n",
        "    collate_fn=average_emb)\n",
        "\n",
        "model.load_state_dict(torch.load(\"model_context_window.pt\", map_location=device))\n",
        "\n",
        "res = testing(model, criterion, test_loader, device=device)\n",
        "res['model'] = 'word2vec context window'\n",
        "result_list.append(res)\n",
        "\n",
        "print(res)"
      ]
    },
    {
      "cell_type": "markdown",
      "metadata": {
        "id": "7JnV8KL_Yllh"
      },
      "source": [
        "### Пункт 2.  Для каждого слова текста получим его эмбеддинг из Tfidf с помощью TfidfVectorizer из sklearn. Итоговым эмбеддингом для каждого слова будет сумма двух эмбеддингов: предобученного и Tfidf-ного"
      ]
    },
    {
      "cell_type": "markdown",
      "metadata": {
        "id": "4ZKsMKTtYlli"
      },
      "source": [
        "полезные примеры\n",
        "\n",
        "tfidf gensim\n",
        "https://habr.com/ru/post/542048/\n",
        "\n",
        "TF-IDF in scikit-learn and Gensim\n",
        "https://weiliu2k.github.io/CITS4012/gensim/tf-idf.html#id1"
      ]
    },
    {
      "cell_type": "markdown",
      "metadata": {
        "id": "axXI_E2cYlli"
      },
      "source": [
        "#### Соберем из наших данных корпус слов для обучения tfidf."
      ]
    },
    {
      "cell_type": "code",
      "execution_count": null,
      "metadata": {
        "id": "tPR2SsTRYlli"
      },
      "outputs": [],
      "source": [
        "#!pip3ainstall -U scikit-learna"
      ]
    },
    {
      "cell_type": "code",
      "execution_count": null,
      "metadata": {
        "id": "TtQDtRtpYlli"
      },
      "outputs": [],
      "source": [
        "from sklearn.feature_extraction.text import TfidfVectorizer"
      ]
    },
    {
      "cell_type": "code",
      "execution_count": null,
      "metadata": {
        "id": "MK83o1sRYllj"
      },
      "outputs": [],
      "source": [
        "corpus = data['tokens'].values"
      ]
    },
    {
      "cell_type": "code",
      "execution_count": null,
      "metadata": {
        "id": "AlEdrRX3Yllj",
        "outputId": "0aa73368-dd0f-41b4-fc81-1b56c5be713e"
      },
      "outputs": [
        {
          "data": {
            "text/plain": [
              "'awww bummer shoulda david carr third'"
            ]
          },
          "execution_count": 275,
          "metadata": {},
          "output_type": "execute_result"
        }
      ],
      "source": [
        "corpus[0]"
      ]
    },
    {
      "cell_type": "code",
      "execution_count": null,
      "metadata": {
        "id": "77kZSV0qYllj",
        "outputId": "c5c5630b-1bff-4af6-d83b-866fa1b23c9f"
      },
      "outputs": [
        {
          "name": "stdout",
          "output_type": "stream",
          "text": [
            "Wall time: 16.6 s\n"
          ]
        },
        {
          "data": {
            "text/plain": [
              "(1600000, 272542)"
            ]
          },
          "execution_count": 279,
          "metadata": {},
          "output_type": "execute_result"
        }
      ],
      "source": [
        "%%time\n",
        "# обучаем Tfidf\n",
        "vectorizer  = TfidfVectorizer(stop_words=\"english\")\n",
        "X = vectorizer.fit_transform(corpus)\n",
        "X.shape"
      ]
    },
    {
      "cell_type": "code",
      "execution_count": null,
      "metadata": {
        "id": "Ztraz9MLYllj",
        "outputId": "ed69064e-cf3a-4cf1-d8b7-a17d089418ce"
      },
      "outputs": [
        {
          "data": {
            "text/plain": [
              "(272542, 1600000)"
            ]
          },
          "execution_count": 280,
          "metadata": {},
          "output_type": "execute_result"
        }
      ],
      "source": [
        "X.T.shape"
      ]
    },
    {
      "cell_type": "code",
      "execution_count": null,
      "metadata": {
        "id": "ZbfgKhT7Yllk",
        "outputId": "f3fdcc02-ebed-4da9-e105-21d21fcc65e2"
      },
      "outputs": [
        {
          "data": {
            "text/plain": [
              "272542"
            ]
          },
          "execution_count": 281,
          "metadata": {},
          "output_type": "execute_result"
        }
      ],
      "source": [
        "# размер словаря\n",
        "feature_list = vectorizer.get_feature_names_out()\n",
        "len(feature_list)"
      ]
    },
    {
      "cell_type": "markdown",
      "metadata": {
        "id": "g_8G5wsSYllk"
      },
      "source": [
        "#### Понизим размерность получившейся матрицы tfidf (635489, 1600000) до размерности (635489, 300) , используя SVD разложение"
      ]
    },
    {
      "cell_type": "code",
      "execution_count": null,
      "metadata": {
        "id": "ToX56xp_Yllk"
      },
      "outputs": [],
      "source": [
        "from sklearn.decomposition import TruncatedSVD\n",
        "from scipy.sparse import csr_matrix\n",
        "import numpy as np"
      ]
    },
    {
      "cell_type": "code",
      "execution_count": null,
      "metadata": {
        "id": "IC5yN7t0Yllk",
        "outputId": "7e257b7c-3927-4794-b924-6f3a6efe9aba"
      },
      "outputs": [
        {
          "data": {
            "text/plain": [
              "300"
            ]
          },
          "execution_count": 283,
          "metadata": {},
          "output_type": "execute_result"
        }
      ],
      "source": [
        "# размер необходимого вектора ембеддинга\n",
        "emb_size = word2vec.vectors.shape[1]\n",
        "emb_size"
      ]
    },
    {
      "cell_type": "code",
      "execution_count": null,
      "metadata": {
        "id": "WE9czLfHYlll",
        "outputId": "40287dce-54f7-44b7-d37f-1e9e2b48e04a"
      },
      "outputs": [
        {
          "name": "stdout",
          "output_type": "stream",
          "text": [
            "Wall time: 7min 19s\n"
          ]
        }
      ],
      "source": [
        "%%time\n",
        "\n",
        "X_csr = csr_matrix(X.T)\n",
        "svd = TruncatedSVD(n_components=emb_size, n_iter=5, random_state=42)\n",
        "svd.fit(X_csr)\n",
        "\n",
        "X_new = svd.transform(X_csr)"
      ]
    },
    {
      "cell_type": "code",
      "execution_count": null,
      "metadata": {
        "id": "rK5Wbt2lYlll",
        "outputId": "722467f2-63b5-4e92-c996-26e147ff3a75"
      },
      "outputs": [
        {
          "data": {
            "text/plain": [
              "(272542, 300)"
            ]
          },
          "execution_count": 286,
          "metadata": {},
          "output_type": "execute_result"
        }
      ],
      "source": [
        "# размерность ембеддинга\n",
        "X_new.shape"
      ]
    },
    {
      "cell_type": "code",
      "execution_count": null,
      "metadata": {
        "id": "fb58Rpy2Yllm"
      },
      "outputs": [],
      "source": [
        "import pickle\n",
        "with open('tfidf_embedding.pkl', 'wb') as tfidf_embedding_file:\n",
        "    pickle.dump(X_new, tfidf_embedding_file)    \n",
        "# with open('word2vec.pkl', 'rb') as word2vec_file:\n",
        "#     word2vec = pickle.load(word2vec.pkl) "
      ]
    },
    {
      "cell_type": "markdown",
      "metadata": {
        "id": "HPuQO3MhYlln"
      },
      "source": [
        "Нормализуем матрицу"
      ]
    },
    {
      "cell_type": "code",
      "execution_count": null,
      "metadata": {
        "id": "Zt58_tJMYlln"
      },
      "outputs": [],
      "source": [
        "from sklearn.preprocessing import normalize"
      ]
    },
    {
      "cell_type": "code",
      "execution_count": null,
      "metadata": {
        "id": "ZUmMyOwuYlln"
      },
      "outputs": [],
      "source": [
        "X_normilize = normalize(X_new, axis=1)"
      ]
    },
    {
      "cell_type": "markdown",
      "metadata": {
        "id": "G7BnJXVpYllo"
      },
      "source": [
        "Собираем ембеддинги в словарь."
      ]
    },
    {
      "cell_type": "code",
      "execution_count": null,
      "metadata": {
        "id": "nUUad0ItYllo"
      },
      "outputs": [],
      "source": [
        "tfidf_vec = {item:X_normilize[i] for i,item in enumerate(feature_list)}  "
      ]
    },
    {
      "cell_type": "markdown",
      "metadata": {
        "id": "Q9xhn_ssYllo"
      },
      "source": [
        "#### Модель word2vec + tfidf"
      ]
    },
    {
      "cell_type": "markdown",
      "metadata": {
        "id": "HyzgqjqyYllo"
      },
      "source": [
        "Разработаем новый класс для загрузчика. Использовать будем сумму эмбеддингов word2vec и tfidf."
      ]
    },
    {
      "cell_type": "code",
      "execution_count": null,
      "metadata": {
        "id": "xq71rA9aYllo"
      },
      "outputs": [],
      "source": [
        "class TwitterDataset_context_window_tfidf(Dataset):\n",
        "    def __init__(self, data: pd.DataFrame, feature_column: str, target_column: str, word2vec: gensim.models.Word2Vec,\n",
        "                tfidf_vec: dict):\n",
        "        \n",
        "        self.tokenizer = nltk.WordPunctTokenizer()\n",
        "        \n",
        "        self.data = data\n",
        "\n",
        "        self.feature_column = feature_column\n",
        "        self.target_column = target_column\n",
        "\n",
        "        self.word2vec = word2vec\n",
        "        self.tfidf_vec = tfidf_vec\n",
        "\n",
        "        self.label2num = lambda label: 0 if label == 0 else 1\n",
        "        self.mean = np.mean(word2vec.vectors, axis=0)\n",
        "        self.std = np.std(word2vec.vectors, axis=0)      \n",
        "    \n",
        "    def __getitem__(self, item):\n",
        "        text = self.data[self.feature_column][item]\n",
        "        label = self.label2num(self.data[self.target_column][item])\n",
        "\n",
        "        tokens = self.get_tokens_(text)\n",
        "        embeddings = self.get_embeddings_(tokens)\n",
        "\n",
        "        return {\"feature\": embeddings, \"target\": label}\n",
        "\n",
        "    def get_tokens_(self, text):\n",
        "        # Получи все токены из текста и профильтруй их\n",
        "        text = re.sub(r\"http?://[^,\\s]+,?\",\"\",text)\n",
        "        text = re.sub(r'@[\\w]+',\"\",text)\n",
        "        line = tokenizer.tokenize(text.lower())\n",
        "        filtered_line = [w for w in line if all(c not in string.punctuation for c in w) and len(w) > 3]\n",
        "        filtered_line = [word for word in filtered_line if word not in stopWords]\n",
        "        return filtered_line\n",
        "\n",
        "    def get_embeddings_(self, tokens):\n",
        "      \n",
        "        embeddings = []       \n",
        "\n",
        "        for idx, word in enumerate(tokens): \n",
        "            word_embedding =  self.word2vec.get_vector('python') *0.0\n",
        "            find_emb = False\n",
        "            if  word in self.word2vec:\n",
        "                word_embedding += (self.word2vec.get_vector(word) - self.mean)/self.std\n",
        "                find_emb = True\n",
        "            if  word in self.tfidf_vec:\n",
        "                word_embedding += self.tfidf_vec[word]\n",
        "                find_emb = True\n",
        "            if find_emb:\n",
        "                embeddings.append(word_embedding)  \n",
        "       \n",
        "        # было ранее\n",
        "        #embeddings = [((self.word2vec.get_vector(w) - self.mean)/self.std) for w in tokens if w in self.word2vec] \n",
        "  \n",
        "        if len(embeddings) == 0:\n",
        "            embeddings = np.zeros((1, self.word2vec.vector_size))\n",
        "        else:\n",
        "            embeddings = np.array(embeddings)\n",
        "            if len(embeddings.shape) == 1:\n",
        "                embeddings = embeddings.reshape(-1, 1)\n",
        " \n",
        "        return embeddings\n",
        "\n",
        "    def __len__(self):\n",
        "        return self.data.shape[0]"
      ]
    },
    {
      "cell_type": "code",
      "execution_count": null,
      "metadata": {
        "id": "tq1ra0f9Yllp"
      },
      "outputs": [],
      "source": [
        "dev_word2vec_tfidf = TwitterDataset_context_window_tfidf(dev_data, \"text\", \"emotion\", word2vec, tfidf_vec)"
      ]
    },
    {
      "cell_type": "code",
      "execution_count": null,
      "metadata": {
        "id": "V4aWRQGeYllp",
        "outputId": "1823f339-7fcb-4007-fa19-19ebfa8f5cde"
      },
      "outputs": [
        {
          "data": {
            "text/plain": [
              "{'feature': array([[-0.02615493, -1.2498533 ,  0.30613846, ...,  0.45147184,\n",
              "          2.8304925 , -2.5080595 ],\n",
              "        [-1.7594566 ,  0.02923906, -0.68109316, ...,  0.08646335,\n",
              "         -1.132029  ,  0.69043213],\n",
              "        [ 0.6142764 ,  0.78092414, -2.503302  , ...,  0.26314852,\n",
              "          0.80110484,  0.39050657],\n",
              "        ...,\n",
              "        [ 0.9292662 ,  1.2742614 , -0.07795607, ..., -0.979371  ,\n",
              "          0.74874896, -1.8027185 ],\n",
              "        [ 0.3034666 ,  1.1909688 ,  1.9497143 , ..., -0.5160077 ,\n",
              "          0.38224748, -0.7147519 ],\n",
              "        [ 0.73338914,  0.16750537, -0.20423055, ..., -0.19839445,\n",
              "          0.95621556, -0.53127974]], dtype=float32),\n",
              " 'target': 0}"
            ]
          },
          "execution_count": 361,
          "metadata": {},
          "output_type": "execute_result"
        }
      ],
      "source": [
        "# проверяем работоспособность\n",
        "next(iter(dev_word2vec_tfidf))"
      ]
    },
    {
      "cell_type": "code",
      "execution_count": null,
      "metadata": {
        "id": "Dco6eNRHYllp"
      },
      "outputs": [],
      "source": [
        "batch_size = 1024\n",
        "num_workers = 0 # 4 - для collab, 0 - local\n",
        "\n",
        "def average_emb(batch):\n",
        "    features = [np.mean(b[\"feature\"], axis=0) for b in batch]\n",
        "    targets = [b[\"target\"] for b in batch]\n",
        "    return {\"features\": torch.FloatTensor(np.array(features)), \"targets\": torch.LongTensor(np.array(targets))}\n",
        "\n",
        "\n",
        "train_size = math.ceil(len(dev_word2vec_tfidf) * 0.8)\n",
        "\n",
        "train, valid = random_split(dev_word2vec_tfidf, [train_size, len(dev_word2vec_tfidf) - train_size])\n",
        "\n",
        "#для local num_workers = 0\n",
        "train_loader = DataLoader(train, batch_size=batch_size, num_workers=num_workers, shuffle=True, \\\n",
        "                          drop_last=True, collate_fn=average_emb)\n",
        "valid_loader = DataLoader(valid, batch_size=batch_size, num_workers=num_workers, shuffle=False, \\\n",
        "                          drop_last=False, collate_fn=average_emb)"
      ]
    },
    {
      "cell_type": "code",
      "execution_count": null,
      "metadata": {
        "id": "hc01n9TzYllq"
      },
      "outputs": [],
      "source": [
        "model = MyClassifier(num_classes, vector_size) \n",
        "criterion = torch.nn.CrossEntropyLoss() # Твой лосс\n",
        "optimizer = torch.optim.Adam(model.parameters()) # Твой оптимайзер"
      ]
    },
    {
      "cell_type": "code",
      "execution_count": null,
      "metadata": {
        "colab": {
          "referenced_widgets": [
            "9cbba47623c545098236c179da2bf4a9",
            "8d7ffca5fe8c43a4977a0006fdde68ad",
            "4deda756ed7f49178de5f40a93e50624",
            "ac203fe99acc48a6bc81d8a975fa0d8f",
            "c088e9471a824c519787bbaaf608ba72",
            "20346384f9924e7294b877405b0fc403",
            "8b4c7a509fb547238582c1a205b15829",
            "166f02d16f7c42728b063de4fcc397b6",
            "b42d5a15ffbd411cb2b0519026b86fd4",
            "28750c9e2550492f85fedddfd940874a"
          ]
        },
        "id": "C71mmoTGYllq",
        "outputId": "a0494319-4c35-46d0-eb96-1e4ae59a397a"
      },
      "outputs": [
        {
          "data": {
            "application/vnd.jupyter.widget-view+json": {
              "model_id": "9cbba47623c545098236c179da2bf4a9",
              "version_major": 2,
              "version_minor": 0
            },
            "text/plain": [
              "Epoch 1. Train Loss: 0:   0%|          | 0/1000 [00:00<?, ?it/s]"
            ]
          },
          "metadata": {},
          "output_type": "display_data"
        },
        {
          "data": {
            "application/vnd.jupyter.widget-view+json": {
              "model_id": "8d7ffca5fe8c43a4977a0006fdde68ad",
              "version_major": 2,
              "version_minor": 0
            },
            "text/plain": [
              "Test Loss: 0, Test Acc: 0:   0%|          | 0/250 [00:00<?, ?it/s]"
            ]
          },
          "metadata": {},
          "output_type": "display_data"
        },
        {
          "name": "stdout",
          "output_type": "stream",
          "text": [
            "{'Test Loss': 0.5215481994152069, 'Test Acc': 0.7376484375}\n"
          ]
        },
        {
          "data": {
            "application/vnd.jupyter.widget-view+json": {
              "model_id": "4deda756ed7f49178de5f40a93e50624",
              "version_major": 2,
              "version_minor": 0
            },
            "text/plain": [
              "Epoch 2. Train Loss: 0:   0%|          | 0/1000 [00:00<?, ?it/s]"
            ]
          },
          "metadata": {},
          "output_type": "display_data"
        },
        {
          "data": {
            "application/vnd.jupyter.widget-view+json": {
              "model_id": "ac203fe99acc48a6bc81d8a975fa0d8f",
              "version_major": 2,
              "version_minor": 0
            },
            "text/plain": [
              "Test Loss: 0, Test Acc: 0:   0%|          | 0/250 [00:00<?, ?it/s]"
            ]
          },
          "metadata": {},
          "output_type": "display_data"
        },
        {
          "name": "stdout",
          "output_type": "stream",
          "text": [
            "{'Test Loss': 0.5136371834278106, 'Test Acc': 0.7435078125}\n"
          ]
        },
        {
          "data": {
            "application/vnd.jupyter.widget-view+json": {
              "model_id": "c088e9471a824c519787bbaaf608ba72",
              "version_major": 2,
              "version_minor": 0
            },
            "text/plain": [
              "Epoch 3. Train Loss: 0:   0%|          | 0/1000 [00:00<?, ?it/s]"
            ]
          },
          "metadata": {},
          "output_type": "display_data"
        },
        {
          "data": {
            "application/vnd.jupyter.widget-view+json": {
              "model_id": "20346384f9924e7294b877405b0fc403",
              "version_major": 2,
              "version_minor": 0
            },
            "text/plain": [
              "Test Loss: 0, Test Acc: 0:   0%|          | 0/250 [00:00<?, ?it/s]"
            ]
          },
          "metadata": {},
          "output_type": "display_data"
        },
        {
          "name": "stdout",
          "output_type": "stream",
          "text": [
            "{'Test Loss': 0.5081174191236496, 'Test Acc': 0.747}\n"
          ]
        },
        {
          "data": {
            "application/vnd.jupyter.widget-view+json": {
              "model_id": "8b4c7a509fb547238582c1a205b15829",
              "version_major": 2,
              "version_minor": 0
            },
            "text/plain": [
              "Epoch 4. Train Loss: 0:   0%|          | 0/1000 [00:00<?, ?it/s]"
            ]
          },
          "metadata": {},
          "output_type": "display_data"
        },
        {
          "data": {
            "application/vnd.jupyter.widget-view+json": {
              "model_id": "166f02d16f7c42728b063de4fcc397b6",
              "version_major": 2,
              "version_minor": 0
            },
            "text/plain": [
              "Test Loss: 0, Test Acc: 0:   0%|          | 0/250 [00:00<?, ?it/s]"
            ]
          },
          "metadata": {},
          "output_type": "display_data"
        },
        {
          "name": "stdout",
          "output_type": "stream",
          "text": [
            "{'Test Loss': 0.5089289728403091, 'Test Acc': 0.7457578125}\n"
          ]
        },
        {
          "data": {
            "application/vnd.jupyter.widget-view+json": {
              "model_id": "b42d5a15ffbd411cb2b0519026b86fd4",
              "version_major": 2,
              "version_minor": 0
            },
            "text/plain": [
              "Epoch 5. Train Loss: 0:   0%|          | 0/1000 [00:00<?, ?it/s]"
            ]
          },
          "metadata": {},
          "output_type": "display_data"
        },
        {
          "data": {
            "application/vnd.jupyter.widget-view+json": {
              "model_id": "28750c9e2550492f85fedddfd940874a",
              "version_major": 2,
              "version_minor": 0
            },
            "text/plain": [
              "Test Loss: 0, Test Acc: 0:   0%|          | 0/250 [00:00<?, ?it/s]"
            ]
          },
          "metadata": {},
          "output_type": "display_data"
        },
        {
          "name": "stdout",
          "output_type": "stream",
          "text": [
            "{'Test Loss': 0.5054598613977432, 'Test Acc': 0.74891015625}\n",
            "Wall time: 23min 46s\n"
          ]
        }
      ],
      "source": [
        "%%time\n",
        "\n",
        "num_epochs = 5\n",
        "\n",
        "best_metric = np.inf\n",
        "for e in range(num_epochs):\n",
        "    training(model, optimizer, criterion, train_loader, e, device)\n",
        "    log = testing(model, criterion, valid_loader, device)\n",
        "    print(log)\n",
        "    if log[\"Test Loss\"] < best_metric:\n",
        "        torch.save(model.state_dict(), \"8u.pt\")\n",
        "        best_metric = log[\"Test Loss\"]"
      ]
    },
    {
      "cell_type": "code",
      "execution_count": null,
      "metadata": {
        "scrolled": false,
        "colab": {
          "referenced_widgets": [
            "394d453b87954c69b7d77f66f8bcf079"
          ]
        },
        "id": "pf8C_WOzYllq",
        "outputId": "767cf7e3-1d6f-4b45-fce4-478285013a96"
      },
      "outputs": [
        {
          "data": {
            "application/vnd.jupyter.widget-view+json": {
              "model_id": "394d453b87954c69b7d77f66f8bcf079",
              "version_major": 2,
              "version_minor": 0
            },
            "text/plain": [
              "Test Loss: 0, Test Acc: 0:   0%|          | 0/313 [00:00<?, ?it/s]"
            ]
          },
          "metadata": {},
          "output_type": "display_data"
        },
        {
          "name": "stdout",
          "output_type": "stream",
          "text": [
            "{'Test Loss': 0.5050846653434035, 'Test Acc': 0.7495600788738019, 'model': 'word2vec_tfidf'}\n"
          ]
        }
      ],
      "source": [
        "test_loader = DataLoader(\n",
        "    TwitterDataset_context_window_tfidf(test_data, \"text\", \"emotion\", word2vec, tfidf_vec), \n",
        "    batch_size=batch_size, \n",
        "    num_workers=num_workers, \n",
        "    shuffle=False,\n",
        "    drop_last=False, \n",
        "    collate_fn=average_emb)\n",
        "\n",
        "model.load_state_dict(torch.load(\"model_word2vec_tfidf.pt\", map_location=device))\n",
        "\n",
        "res = testing(model, criterion, test_loader, device=device)\n",
        "res['model'] = 'word2vec_tfidf' \n",
        "result_list.append(res)\n",
        "\n",
        "print(res)"
      ]
    },
    {
      "cell_type": "markdown",
      "metadata": {
        "id": "LW9cIL2iYllr"
      },
      "source": [
        "#### Модель tfidf"
      ]
    },
    {
      "cell_type": "markdown",
      "metadata": {
        "id": "sYzhXPvcYllr"
      },
      "source": [
        "Разработаем новый класс для загрузчика. Использовать будем эмбеддинги только от tfidf."
      ]
    },
    {
      "cell_type": "code",
      "execution_count": null,
      "metadata": {
        "id": "7WEF9SgZYllr"
      },
      "outputs": [],
      "source": [
        "class TwitterDataset_tfidf(Dataset):\n",
        "    def __init__(self, data: pd.DataFrame, feature_column: str, target_column: str, tfidf_vec: dict):\n",
        "        \n",
        "        self.tokenizer = nltk.WordPunctTokenizer()\n",
        "        \n",
        "        self.data = data\n",
        "\n",
        "        self.feature_column = feature_column\n",
        "        self.target_column = target_column\n",
        "\n",
        "        self.tfidf_vec = tfidf_vec\n",
        "\n",
        "        self.label2num = lambda label: 0 if label == 0 else 1\n",
        "    \n",
        "    def __getitem__(self, item):\n",
        "        text = self.data[self.feature_column][item]\n",
        "        label = self.label2num(self.data[self.target_column][item])\n",
        "\n",
        "        tokens = self.get_tokens_(text)\n",
        "        embeddings = self.get_embeddings_(tokens)\n",
        "\n",
        "        return {\"feature\": embeddings, \"target\": label}\n",
        "\n",
        "    def get_tokens_(self, text):\n",
        "        # Получи все токены из текста и профильтруй их\n",
        "        text = re.sub(r\"http?://[^,\\s]+,?\",\"\",text)\n",
        "        text = re.sub(r'@[\\w]+',\"\",text)\n",
        "        line = tokenizer.tokenize(text.lower())\n",
        "        filtered_line = [w for w in line if all(c not in string.punctuation for c in w) and len(w) > 3]\n",
        "        filtered_line = [word for word in filtered_line if word not in stopWords]\n",
        "        return filtered_line\n",
        "\n",
        "    def get_embeddings_(self, tokens):     \n",
        "     \n",
        "        embeddings = [self.tfidf_vec[w] for w in tokens if w in self.tfidf_vec] \n",
        "  \n",
        "        if len(embeddings) == 0:\n",
        "            embeddings = np.zeros((1, len(self.tfidf_vec['python'])))\n",
        "        else:\n",
        "            embeddings = np.array(embeddings)\n",
        "            if len(embeddings.shape) == 1:\n",
        "                embeddings = embeddings.reshape(-1, 1)\n",
        " \n",
        "        return embeddings\n",
        "\n",
        "    def __len__(self):\n",
        "        return self.data.shape[0]"
      ]
    },
    {
      "cell_type": "code",
      "execution_count": null,
      "metadata": {
        "id": "xmW3FtyWYlls"
      },
      "outputs": [],
      "source": [
        "dev_tfidf = TwitterDataset_tfidf(dev_data, \"text\", \"emotion\", tfidf_vec)"
      ]
    },
    {
      "cell_type": "code",
      "execution_count": null,
      "metadata": {
        "id": "OlN7pqd9Ylls",
        "outputId": "d4785b1a-71f0-46c0-bdde-0d6912369983"
      },
      "outputs": [
        {
          "data": {
            "text/plain": [
              "{'feature': array([[ 0.34376383, -0.13543272, -0.03109602, ...,  0.09354725,\n",
              "          0.03781341,  0.1162918 ],\n",
              "        [ 0.28541137, -0.12134647, -0.00409091, ...,  0.03636526,\n",
              "         -0.05584035,  0.02064438],\n",
              "        [ 0.39056758, -0.10716692, -0.02006971, ...,  0.07460458,\n",
              "         -0.01679963,  0.07828123],\n",
              "        [ 0.03587312, -0.02140533, -0.00550975, ..., -0.01044692,\n",
              "         -0.01048095,  0.00174522],\n",
              "        [ 0.28541137, -0.12134647, -0.00409091, ...,  0.03636526,\n",
              "         -0.05584035,  0.02064438],\n",
              "        [ 0.16970135, -0.00366991,  0.02041105, ...,  0.00086289,\n",
              "         -0.00151392, -0.00183806]]),\n",
              " 'target': 0}"
            ]
          },
          "execution_count": 343,
          "metadata": {},
          "output_type": "execute_result"
        }
      ],
      "source": [
        "# проверим работоспособность\n",
        "next(iter(dev_tfidf))"
      ]
    },
    {
      "cell_type": "code",
      "execution_count": null,
      "metadata": {
        "id": "OHYJp5tRYllt"
      },
      "outputs": [],
      "source": [
        "batch_size = 1024\n",
        "num_workers = 0 # 4 - для collab, 0 - local\n",
        "\n",
        "def average_emb(batch):\n",
        "    features = [np.mean(b[\"feature\"], axis=0) for b in batch]\n",
        "    targets = [b[\"target\"] for b in batch]\n",
        "    return {\"features\": torch.FloatTensor(np.array(features)), \"targets\": torch.LongTensor(np.array(targets))}\n",
        "\n",
        "\n",
        "train_size = math.ceil(len(dev_tfidf) * 0.8)\n",
        "\n",
        "train, valid = random_split(dev_tfidf, [train_size, len(dev_tfidf) - train_size])\n",
        "\n",
        "#для local num_workers = 0\n",
        "train_loader = DataLoader(train, batch_size=batch_size, num_workers=num_workers, shuffle=True, \\\n",
        "                          drop_last=True, collate_fn=average_emb)\n",
        "valid_loader = DataLoader(valid, batch_size=batch_size, num_workers=num_workers, shuffle=False, \\\n",
        "                          drop_last=False, collate_fn=average_emb)"
      ]
    },
    {
      "cell_type": "code",
      "execution_count": null,
      "metadata": {
        "id": "tuAWDCnQYllt"
      },
      "outputs": [],
      "source": [
        "model = MyClassifier(num_classes, vector_size) \n",
        "criterion = torch.nn.CrossEntropyLoss() # Твой лосс\n",
        "optimizer = torch.optim.Adam(model.parameters()) # Твой оптимайзер"
      ]
    },
    {
      "cell_type": "code",
      "execution_count": null,
      "metadata": {
        "colab": {
          "referenced_widgets": [
            "39d708ef741e4a3b9b659067dfb38601",
            "4dd16e49fb614720918800bd42cd6884",
            "363ee28a4f9a4f7087dbcb2c8e51783f",
            "80526b91172f463e901c76d434b0af4f",
            "2a8383b00a3f423b9ecdd5d8e9f4071b",
            "4b72688348654acfa992fe9fded4ec91",
            "8a9fca97b0124275b5cc8362e0842fff",
            "5b2ea3aba52e49b89f7969ec545a378a",
            "4691cb81e1c54ada885f12bc6343b084",
            "ea6a46d52eea470e9b81cf78f1014ba8"
          ]
        },
        "id": "rDPqIDKqYllu",
        "outputId": "053b2fad-c716-40a2-b5b3-122ce662e18e"
      },
      "outputs": [
        {
          "data": {
            "application/vnd.jupyter.widget-view+json": {
              "model_id": "39d708ef741e4a3b9b659067dfb38601",
              "version_major": 2,
              "version_minor": 0
            },
            "text/plain": [
              "Epoch 1. Train Loss: 0:   0%|          | 0/1000 [00:00<?, ?it/s]"
            ]
          },
          "metadata": {},
          "output_type": "display_data"
        },
        {
          "data": {
            "application/vnd.jupyter.widget-view+json": {
              "model_id": "4dd16e49fb614720918800bd42cd6884",
              "version_major": 2,
              "version_minor": 0
            },
            "text/plain": [
              "Test Loss: 0, Test Acc: 0:   0%|          | 0/250 [00:00<?, ?it/s]"
            ]
          },
          "metadata": {},
          "output_type": "display_data"
        },
        {
          "name": "stdout",
          "output_type": "stream",
          "text": [
            "{'Test Loss': 0.5231797255277634, 'Test Acc': 0.7365}\n"
          ]
        },
        {
          "data": {
            "application/vnd.jupyter.widget-view+json": {
              "model_id": "363ee28a4f9a4f7087dbcb2c8e51783f",
              "version_major": 2,
              "version_minor": 0
            },
            "text/plain": [
              "Epoch 2. Train Loss: 0:   0%|          | 0/1000 [00:00<?, ?it/s]"
            ]
          },
          "metadata": {},
          "output_type": "display_data"
        },
        {
          "data": {
            "application/vnd.jupyter.widget-view+json": {
              "model_id": "80526b91172f463e901c76d434b0af4f",
              "version_major": 2,
              "version_minor": 0
            },
            "text/plain": [
              "Test Loss: 0, Test Acc: 0:   0%|          | 0/250 [00:00<?, ?it/s]"
            ]
          },
          "metadata": {},
          "output_type": "display_data"
        },
        {
          "name": "stdout",
          "output_type": "stream",
          "text": [
            "{'Test Loss': 0.5174574016332626, 'Test Acc': 0.74133984375}\n"
          ]
        },
        {
          "data": {
            "application/vnd.jupyter.widget-view+json": {
              "model_id": "2a8383b00a3f423b9ecdd5d8e9f4071b",
              "version_major": 2,
              "version_minor": 0
            },
            "text/plain": [
              "Epoch 3. Train Loss: 0:   0%|          | 0/1000 [00:00<?, ?it/s]"
            ]
          },
          "metadata": {},
          "output_type": "display_data"
        },
        {
          "data": {
            "application/vnd.jupyter.widget-view+json": {
              "model_id": "4b72688348654acfa992fe9fded4ec91",
              "version_major": 2,
              "version_minor": 0
            },
            "text/plain": [
              "Test Loss: 0, Test Acc: 0:   0%|          | 0/250 [00:00<?, ?it/s]"
            ]
          },
          "metadata": {},
          "output_type": "display_data"
        },
        {
          "name": "stdout",
          "output_type": "stream",
          "text": [
            "{'Test Loss': 0.5134593592882156, 'Test Acc': 0.7434921875}\n"
          ]
        },
        {
          "data": {
            "application/vnd.jupyter.widget-view+json": {
              "model_id": "8a9fca97b0124275b5cc8362e0842fff",
              "version_major": 2,
              "version_minor": 0
            },
            "text/plain": [
              "Epoch 4. Train Loss: 0:   0%|          | 0/1000 [00:00<?, ?it/s]"
            ]
          },
          "metadata": {},
          "output_type": "display_data"
        },
        {
          "data": {
            "application/vnd.jupyter.widget-view+json": {
              "model_id": "5b2ea3aba52e49b89f7969ec545a378a",
              "version_major": 2,
              "version_minor": 0
            },
            "text/plain": [
              "Test Loss: 0, Test Acc: 0:   0%|          | 0/250 [00:00<?, ?it/s]"
            ]
          },
          "metadata": {},
          "output_type": "display_data"
        },
        {
          "name": "stdout",
          "output_type": "stream",
          "text": [
            "{'Test Loss': 0.5111263029575348, 'Test Acc': 0.74498828125}\n"
          ]
        },
        {
          "data": {
            "application/vnd.jupyter.widget-view+json": {
              "model_id": "4691cb81e1c54ada885f12bc6343b084",
              "version_major": 2,
              "version_minor": 0
            },
            "text/plain": [
              "Epoch 5. Train Loss: 0:   0%|          | 0/1000 [00:00<?, ?it/s]"
            ]
          },
          "metadata": {},
          "output_type": "display_data"
        },
        {
          "data": {
            "application/vnd.jupyter.widget-view+json": {
              "model_id": "ea6a46d52eea470e9b81cf78f1014ba8",
              "version_major": 2,
              "version_minor": 0
            },
            "text/plain": [
              "Test Loss: 0, Test Acc: 0:   0%|          | 0/250 [00:00<?, ?it/s]"
            ]
          },
          "metadata": {},
          "output_type": "display_data"
        },
        {
          "name": "stdout",
          "output_type": "stream",
          "text": [
            "{'Test Loss': 0.5097995635271072, 'Test Acc': 0.74565625}\n",
            "Wall time: 14min 42s\n"
          ]
        }
      ],
      "source": [
        "%%time\n",
        "\n",
        "num_epochs = 5\n",
        "\n",
        "best_metric = np.inf\n",
        "for e in range(num_epochs):\n",
        "    training(model, optimizer, criterion, train_loader, e, device)\n",
        "    log = testing(model, criterion, valid_loader, device)\n",
        "    print(log)\n",
        "    if log[\"Test Loss\"] < best_metric:\n",
        "        torch.save(model.state_dict(), \"model_tfidf.pt\")\n",
        "        best_metric = log[\"Test Loss\"]"
      ]
    },
    {
      "cell_type": "code",
      "execution_count": null,
      "metadata": {
        "colab": {
          "referenced_widgets": [
            "451b63ddbc464ea4bb14cb5cbf26b55f"
          ]
        },
        "id": "hufzVsuNYllu",
        "outputId": "690b9299-8597-46b7-fed5-7ad5ac28f1c1"
      },
      "outputs": [
        {
          "data": {
            "application/vnd.jupyter.widget-view+json": {
              "model_id": "451b63ddbc464ea4bb14cb5cbf26b55f",
              "version_major": 2,
              "version_minor": 0
            },
            "text/plain": [
              "Test Loss: 0, Test Acc: 0:   0%|          | 0/313 [00:00<?, ?it/s]"
            ]
          },
          "metadata": {},
          "output_type": "display_data"
        },
        {
          "name": "stdout",
          "output_type": "stream",
          "text": [
            "{'Test Loss': 0.5101874263141863, 'Test Acc': 0.7449923871805112, 'model': 'tfidf'}\n"
          ]
        }
      ],
      "source": [
        "test_loader = DataLoader(\n",
        "    TwitterDataset_tfidf(test_data, \"text\", \"emotion\", tfidf_vec), \n",
        "    batch_size=batch_size, \n",
        "    num_workers=num_workers, \n",
        "    shuffle=False,\n",
        "    drop_last=False, \n",
        "    collate_fn=average_emb)\n",
        "\n",
        "model.load_state_dict(torch.load(\"model_tfidf.pt\", map_location=device))\n",
        "\n",
        "res = testing(model, criterion, test_loader, device=device)\n",
        "res['model'] = 'tfidf' \n",
        "result_list.append(res)\n",
        "\n",
        "print(res)"
      ]
    },
    {
      "cell_type": "markdown",
      "metadata": {
        "id": "j5QUGbLPYllu"
      },
      "source": [
        "Соберем все полученные результаты в итоговую табличку."
      ]
    },
    {
      "cell_type": "code",
      "execution_count": null,
      "metadata": {
        "id": "bK3RhLB4Yllv"
      },
      "outputs": [],
      "source": [
        "pd_result = pd.DataFrame(result_list).sort_values(by=['Test Acc'], ascending=False)"
      ]
    },
    {
      "cell_type": "markdown",
      "metadata": {
        "id": "zU8DbYfdYllv"
      },
      "source": [
        "# Итоги исследования"
      ]
    },
    {
      "cell_type": "markdown",
      "metadata": {
        "id": "BAJqwQjhYllv"
      },
      "source": [
        "Были построены четыре различные модели для решения задачи семантической классификации твитов.\n",
        "\n",
        "- **word2vec** - модель, в которой использовались ембеддинги предообученной модели от gensim. Для неищзвестных слов эмбеддинги пропускались.\n",
        "- **word2vec context window** - модель, в которой ембеддинги неизвестных слов представлялись суммой ембеддингов контекста. Ширина контекста бралась в два токена слева и справа.\n",
        "- **tfidf** - модель, для которой были получены ембеддинги благодаря **TfidfVectorizer** из sklearn. До требуемой размерности (300), матрица сжималась через **SVD** разложение.\n",
        "- **word2vec_tfidf** - модель, в которой ембеддинг слова представлялся суммой ембеддингов от word2vec и tfidf."
      ]
    },
    {
      "cell_type": "markdown",
      "metadata": {
        "id": "g9TUYq2fYllv"
      },
      "source": [
        "Для решения задачи классификации (для двух классов) была построена простейшая нейросеть из трех полносвязных слоев, c батчнормализацией.\n",
        "\n",
        "В качестве функции потерь при обучении нейросети использовалась кросс-энтропия. Для оценки качества модели была выбрана метрика accuracy.\n",
        "\n",
        "Твиты в данных были частично предобработаны. Убраны стоп - слова, знаки пунктуации. Вырезаны http адреса и никнаймы @блабла."
      ]
    },
    {
      "cell_type": "markdown",
      "metadata": {
        "id": "ylutC9ECYllw"
      },
      "source": [
        "Полученные результаты сведены в итоговую таблицу:"
      ]
    },
    {
      "cell_type": "code",
      "execution_count": null,
      "metadata": {
        "id": "BnYzSHAzYllw",
        "outputId": "a1b583b0-ae4d-49cc-c785-19034bb61cb3"
      },
      "outputs": [
        {
          "data": {
            "text/html": [
              "<div>\n",
              "<style scoped>\n",
              "    .dataframe tbody tr th:only-of-type {\n",
              "        vertical-align: middle;\n",
              "    }\n",
              "\n",
              "    .dataframe tbody tr th {\n",
              "        vertical-align: top;\n",
              "    }\n",
              "\n",
              "    .dataframe thead th {\n",
              "        text-align: right;\n",
              "    }\n",
              "</style>\n",
              "<table border=\"1\" class=\"dataframe\">\n",
              "  <thead>\n",
              "    <tr style=\"text-align: right;\">\n",
              "      <th></th>\n",
              "      <th>Test Loss</th>\n",
              "      <th>Test Acc</th>\n",
              "      <th>model</th>\n",
              "    </tr>\n",
              "  </thead>\n",
              "  <tbody>\n",
              "    <tr>\n",
              "      <th>2</th>\n",
              "      <td>0.505085</td>\n",
              "      <td>0.749560</td>\n",
              "      <td>word2vec_tfidf</td>\n",
              "    </tr>\n",
              "    <tr>\n",
              "      <th>0</th>\n",
              "      <td>0.508335</td>\n",
              "      <td>0.747679</td>\n",
              "      <td>word2vec</td>\n",
              "    </tr>\n",
              "    <tr>\n",
              "      <th>1</th>\n",
              "      <td>0.511253</td>\n",
              "      <td>0.745470</td>\n",
              "      <td>word2vec context window</td>\n",
              "    </tr>\n",
              "    <tr>\n",
              "      <th>3</th>\n",
              "      <td>0.510187</td>\n",
              "      <td>0.744992</td>\n",
              "      <td>tfidf</td>\n",
              "    </tr>\n",
              "  </tbody>\n",
              "</table>\n",
              "</div>"
            ],
            "text/plain": [
              "   Test Loss  Test Acc                    model\n",
              "2   0.505085  0.749560           word2vec_tfidf\n",
              "0   0.508335  0.747679                 word2vec\n",
              "1   0.511253  0.745470  word2vec context window\n",
              "3   0.510187  0.744992                    tfidf"
            ]
          },
          "execution_count": 372,
          "metadata": {},
          "output_type": "execute_result"
        }
      ],
      "source": [
        "pd_result"
      ]
    },
    {
      "cell_type": "markdown",
      "metadata": {
        "id": "m_XqzLwgYllw"
      },
      "source": [
        "Наилучшие результаты показала модель word2vec_tfidf. По-видимому, за счет того, что в \"контекстную\" предобученную на \"чужеродном\" корпусе слов модель word2vec, была внесена добавочная информация о нашем конкретном корпусе твитов. Так как, tfidf обучался непосредственно на данных нашей задачи."
      ]
    }
  ],
  "metadata": {
    "accelerator": "GPU",
    "colab": {
      "collapsed_sections": [],
      "machine_shape": "hm",
      "name": "Andrey_Bondarchuk_stepik_id_346032105[homework]embeddings .ipynb",
      "provenance": []
    },
    "kernelspec": {
      "display_name": "Python 3",
      "language": "python",
      "name": "python3"
    },
    "language_info": {
      "codemirror_mode": {
        "name": "ipython",
        "version": 3
      },
      "file_extension": ".py",
      "mimetype": "text/x-python",
      "name": "python",
      "nbconvert_exporter": "python",
      "pygments_lexer": "ipython3",
      "version": "3.9.0"
    },
    "varInspector": {
      "cols": {
        "lenName": 16,
        "lenType": 16,
        "lenVar": 40
      },
      "kernels_config": {
        "python": {
          "delete_cmd_postfix": "",
          "delete_cmd_prefix": "del ",
          "library": "var_list.py",
          "varRefreshCmd": "print(var_dic_list())"
        },
        "r": {
          "delete_cmd_postfix": ") ",
          "delete_cmd_prefix": "rm(",
          "library": "var_list.r",
          "varRefreshCmd": "cat(var_dic_list()) "
        }
      },
      "types_to_exclude": [
        "module",
        "function",
        "builtin_function_or_method",
        "instance",
        "_Feature"
      ],
      "window_display": false
    },
    "widgets": {
      "application/vnd.jupyter.widget-state+json": {
        "00d2944400ba4a2a858a2bddec204769": {
          "model_module": "@jupyter-widgets/controls",
          "model_module_version": "1.5.0",
          "model_name": "ProgressStyleModel",
          "state": {
            "_model_module": "@jupyter-widgets/controls",
            "_model_module_version": "1.5.0",
            "_model_name": "ProgressStyleModel",
            "_view_count": null,
            "_view_module": "@jupyter-widgets/base",
            "_view_module_version": "1.2.0",
            "_view_name": "StyleView",
            "bar_color": null,
            "description_width": ""
          }
        },
        "00d7e6dca381430bb0920baf2488ac1f": {
          "model_module": "@jupyter-widgets/controls",
          "model_module_version": "1.5.0",
          "model_name": "DescriptionStyleModel",
          "state": {
            "_model_module": "@jupyter-widgets/controls",
            "_model_module_version": "1.5.0",
            "_model_name": "DescriptionStyleModel",
            "_view_count": null,
            "_view_module": "@jupyter-widgets/base",
            "_view_module_version": "1.2.0",
            "_view_name": "StyleView",
            "description_width": ""
          }
        },
        "056e49ee13384453878470edc0739b97": {
          "model_module": "@jupyter-widgets/controls",
          "model_module_version": "1.5.0",
          "model_name": "HBoxModel",
          "state": {
            "_dom_classes": [],
            "_model_module": "@jupyter-widgets/controls",
            "_model_module_version": "1.5.0",
            "_model_name": "HBoxModel",
            "_view_count": null,
            "_view_module": "@jupyter-widgets/controls",
            "_view_module_version": "1.5.0",
            "_view_name": "HBoxView",
            "box_style": "",
            "children": [
              "IPY_MODEL_b8dc4f964122416cbf8bb2c18c0d3378",
              "IPY_MODEL_f0d36533c4dc448db0e8111850ac32cd",
              "IPY_MODEL_8ac2059e8716412c87fe2262585b8c13"
            ],
            "layout": "IPY_MODEL_9c05532af5ea4073a6866ebb04b44fc8"
          }
        },
        "06a7577fdca043b785af86fb19a0a49f": {
          "model_module": "@jupyter-widgets/base",
          "model_module_version": "1.2.0",
          "model_name": "LayoutModel",
          "state": {
            "_model_module": "@jupyter-widgets/base",
            "_model_module_version": "1.2.0",
            "_model_name": "LayoutModel",
            "_view_count": null,
            "_view_module": "@jupyter-widgets/base",
            "_view_module_version": "1.2.0",
            "_view_name": "LayoutView",
            "align_content": null,
            "align_items": null,
            "align_self": null,
            "border": null,
            "bottom": null,
            "display": null,
            "flex": null,
            "flex_flow": null,
            "grid_area": null,
            "grid_auto_columns": null,
            "grid_auto_flow": null,
            "grid_auto_rows": null,
            "grid_column": null,
            "grid_gap": null,
            "grid_row": null,
            "grid_template_areas": null,
            "grid_template_columns": null,
            "grid_template_rows": null,
            "height": null,
            "justify_content": null,
            "justify_items": null,
            "left": null,
            "margin": null,
            "max_height": null,
            "max_width": null,
            "min_height": null,
            "min_width": null,
            "object_fit": null,
            "object_position": null,
            "order": null,
            "overflow": null,
            "overflow_x": null,
            "overflow_y": null,
            "padding": null,
            "right": null,
            "top": null,
            "visibility": null,
            "width": null
          }
        },
        "0833cef25c4c4369a29186e000573e28": {
          "model_module": "@jupyter-widgets/controls",
          "model_module_version": "1.5.0",
          "model_name": "FloatProgressModel",
          "state": {
            "_dom_classes": [],
            "_model_module": "@jupyter-widgets/controls",
            "_model_module_version": "1.5.0",
            "_model_name": "FloatProgressModel",
            "_view_count": null,
            "_view_module": "@jupyter-widgets/controls",
            "_view_module_version": "1.5.0",
            "_view_name": "ProgressView",
            "bar_style": "success",
            "description": "",
            "description_tooltip": null,
            "layout": "IPY_MODEL_d601f0a937c84660a9ec31d197d97bc6",
            "max": 250,
            "min": 0,
            "orientation": "horizontal",
            "style": "IPY_MODEL_5f29eda1a2bb459ebe5fc956fd381177",
            "value": 250
          }
        },
        "0973a5913f92492896c2c0a52a3cbd29": {
          "model_module": "@jupyter-widgets/base",
          "model_module_version": "1.2.0",
          "model_name": "LayoutModel",
          "state": {
            "_model_module": "@jupyter-widgets/base",
            "_model_module_version": "1.2.0",
            "_model_name": "LayoutModel",
            "_view_count": null,
            "_view_module": "@jupyter-widgets/base",
            "_view_module_version": "1.2.0",
            "_view_name": "LayoutView",
            "align_content": null,
            "align_items": null,
            "align_self": null,
            "border": null,
            "bottom": null,
            "display": null,
            "flex": null,
            "flex_flow": null,
            "grid_area": null,
            "grid_auto_columns": null,
            "grid_auto_flow": null,
            "grid_auto_rows": null,
            "grid_column": null,
            "grid_gap": null,
            "grid_row": null,
            "grid_template_areas": null,
            "grid_template_columns": null,
            "grid_template_rows": null,
            "height": null,
            "justify_content": null,
            "justify_items": null,
            "left": null,
            "margin": null,
            "max_height": null,
            "max_width": null,
            "min_height": null,
            "min_width": null,
            "object_fit": null,
            "object_position": null,
            "order": null,
            "overflow": null,
            "overflow_x": null,
            "overflow_y": null,
            "padding": null,
            "right": null,
            "top": null,
            "visibility": null,
            "width": null
          }
        },
        "0d0e9e97daf34503b428f885e2e684d5": {
          "model_module": "@jupyter-widgets/base",
          "model_module_version": "1.2.0",
          "model_name": "LayoutModel",
          "state": {
            "_model_module": "@jupyter-widgets/base",
            "_model_module_version": "1.2.0",
            "_model_name": "LayoutModel",
            "_view_count": null,
            "_view_module": "@jupyter-widgets/base",
            "_view_module_version": "1.2.0",
            "_view_name": "LayoutView",
            "align_content": null,
            "align_items": null,
            "align_self": null,
            "border": null,
            "bottom": null,
            "display": null,
            "flex": null,
            "flex_flow": null,
            "grid_area": null,
            "grid_auto_columns": null,
            "grid_auto_flow": null,
            "grid_auto_rows": null,
            "grid_column": null,
            "grid_gap": null,
            "grid_row": null,
            "grid_template_areas": null,
            "grid_template_columns": null,
            "grid_template_rows": null,
            "height": null,
            "justify_content": null,
            "justify_items": null,
            "left": null,
            "margin": null,
            "max_height": null,
            "max_width": null,
            "min_height": null,
            "min_width": null,
            "object_fit": null,
            "object_position": null,
            "order": null,
            "overflow": null,
            "overflow_x": null,
            "overflow_y": null,
            "padding": null,
            "right": null,
            "top": null,
            "visibility": null,
            "width": null
          }
        },
        "0d4f9e29cf4b4f7181a02de1f91c3902": {
          "model_module": "@jupyter-widgets/controls",
          "model_module_version": "1.5.0",
          "model_name": "DescriptionStyleModel",
          "state": {
            "_model_module": "@jupyter-widgets/controls",
            "_model_module_version": "1.5.0",
            "_model_name": "DescriptionStyleModel",
            "_view_count": null,
            "_view_module": "@jupyter-widgets/base",
            "_view_module_version": "1.2.0",
            "_view_name": "StyleView",
            "description_width": ""
          }
        },
        "115f8b9117c14a60807135283f819265": {
          "model_module": "@jupyter-widgets/controls",
          "model_module_version": "1.5.0",
          "model_name": "HBoxModel",
          "state": {
            "_dom_classes": [],
            "_model_module": "@jupyter-widgets/controls",
            "_model_module_version": "1.5.0",
            "_model_name": "HBoxModel",
            "_view_count": null,
            "_view_module": "@jupyter-widgets/controls",
            "_view_module_version": "1.5.0",
            "_view_name": "HBoxView",
            "box_style": "",
            "children": [
              "IPY_MODEL_1efecf5869a64a84bb069e136cfb901d",
              "IPY_MODEL_d678cedf06ae4a439e42f86c560dadad",
              "IPY_MODEL_469f1258b47c4b82a05d94cd53c06c7a"
            ],
            "layout": "IPY_MODEL_41b8281aabbb422aad4d95ea3075f449"
          }
        },
        "13b55ac7660f4ddda6abe5412ff2eda5": {
          "model_module": "@jupyter-widgets/base",
          "model_module_version": "1.2.0",
          "model_name": "LayoutModel",
          "state": {
            "_model_module": "@jupyter-widgets/base",
            "_model_module_version": "1.2.0",
            "_model_name": "LayoutModel",
            "_view_count": null,
            "_view_module": "@jupyter-widgets/base",
            "_view_module_version": "1.2.0",
            "_view_name": "LayoutView",
            "align_content": null,
            "align_items": null,
            "align_self": null,
            "border": null,
            "bottom": null,
            "display": null,
            "flex": null,
            "flex_flow": null,
            "grid_area": null,
            "grid_auto_columns": null,
            "grid_auto_flow": null,
            "grid_auto_rows": null,
            "grid_column": null,
            "grid_gap": null,
            "grid_row": null,
            "grid_template_areas": null,
            "grid_template_columns": null,
            "grid_template_rows": null,
            "height": null,
            "justify_content": null,
            "justify_items": null,
            "left": null,
            "margin": null,
            "max_height": null,
            "max_width": null,
            "min_height": null,
            "min_width": null,
            "object_fit": null,
            "object_position": null,
            "order": null,
            "overflow": null,
            "overflow_x": null,
            "overflow_y": null,
            "padding": null,
            "right": null,
            "top": null,
            "visibility": null,
            "width": null
          }
        },
        "18bd011d5b8e4e78bee36d22aec40e09": {
          "model_module": "@jupyter-widgets/controls",
          "model_module_version": "1.5.0",
          "model_name": "DescriptionStyleModel",
          "state": {
            "_model_module": "@jupyter-widgets/controls",
            "_model_module_version": "1.5.0",
            "_model_name": "DescriptionStyleModel",
            "_view_count": null,
            "_view_module": "@jupyter-widgets/base",
            "_view_module_version": "1.2.0",
            "_view_name": "StyleView",
            "description_width": ""
          }
        },
        "1a65d9d7ec154f4a9b8ab711fcaf8e30": {
          "model_module": "@jupyter-widgets/base",
          "model_module_version": "1.2.0",
          "model_name": "LayoutModel",
          "state": {
            "_model_module": "@jupyter-widgets/base",
            "_model_module_version": "1.2.0",
            "_model_name": "LayoutModel",
            "_view_count": null,
            "_view_module": "@jupyter-widgets/base",
            "_view_module_version": "1.2.0",
            "_view_name": "LayoutView",
            "align_content": null,
            "align_items": null,
            "align_self": null,
            "border": null,
            "bottom": null,
            "display": null,
            "flex": null,
            "flex_flow": null,
            "grid_area": null,
            "grid_auto_columns": null,
            "grid_auto_flow": null,
            "grid_auto_rows": null,
            "grid_column": null,
            "grid_gap": null,
            "grid_row": null,
            "grid_template_areas": null,
            "grid_template_columns": null,
            "grid_template_rows": null,
            "height": null,
            "justify_content": null,
            "justify_items": null,
            "left": null,
            "margin": null,
            "max_height": null,
            "max_width": null,
            "min_height": null,
            "min_width": null,
            "object_fit": null,
            "object_position": null,
            "order": null,
            "overflow": null,
            "overflow_x": null,
            "overflow_y": null,
            "padding": null,
            "right": null,
            "top": null,
            "visibility": null,
            "width": null
          }
        },
        "1b7d17302acf4b06b6b6dfe3c94c214d": {
          "model_module": "@jupyter-widgets/controls",
          "model_module_version": "1.5.0",
          "model_name": "ProgressStyleModel",
          "state": {
            "_model_module": "@jupyter-widgets/controls",
            "_model_module_version": "1.5.0",
            "_model_name": "ProgressStyleModel",
            "_view_count": null,
            "_view_module": "@jupyter-widgets/base",
            "_view_module_version": "1.2.0",
            "_view_name": "StyleView",
            "bar_color": null,
            "description_width": ""
          }
        },
        "1b80b68a8a9540dc8e7ff7c197282002": {
          "model_module": "@jupyter-widgets/controls",
          "model_module_version": "1.5.0",
          "model_name": "FloatProgressModel",
          "state": {
            "_dom_classes": [],
            "_model_module": "@jupyter-widgets/controls",
            "_model_module_version": "1.5.0",
            "_model_name": "FloatProgressModel",
            "_view_count": null,
            "_view_module": "@jupyter-widgets/controls",
            "_view_module_version": "1.5.0",
            "_view_name": "ProgressView",
            "bar_style": "success",
            "description": "",
            "description_tooltip": null,
            "layout": "IPY_MODEL_562a55aaadea493994e209613ab644a0",
            "max": 1000,
            "min": 0,
            "orientation": "horizontal",
            "style": "IPY_MODEL_a1c9553b2a63477cafadf60a16f20201",
            "value": 1000
          }
        },
        "1cf6867469074b68b3804aba69262950": {
          "model_module": "@jupyter-widgets/controls",
          "model_module_version": "1.5.0",
          "model_name": "ProgressStyleModel",
          "state": {
            "_model_module": "@jupyter-widgets/controls",
            "_model_module_version": "1.5.0",
            "_model_name": "ProgressStyleModel",
            "_view_count": null,
            "_view_module": "@jupyter-widgets/base",
            "_view_module_version": "1.2.0",
            "_view_name": "StyleView",
            "bar_color": null,
            "description_width": ""
          }
        },
        "1e9d12a05a6f4c568025ad8a1927d6dc": {
          "model_module": "@jupyter-widgets/base",
          "model_module_version": "1.2.0",
          "model_name": "LayoutModel",
          "state": {
            "_model_module": "@jupyter-widgets/base",
            "_model_module_version": "1.2.0",
            "_model_name": "LayoutModel",
            "_view_count": null,
            "_view_module": "@jupyter-widgets/base",
            "_view_module_version": "1.2.0",
            "_view_name": "LayoutView",
            "align_content": null,
            "align_items": null,
            "align_self": null,
            "border": null,
            "bottom": null,
            "display": null,
            "flex": null,
            "flex_flow": null,
            "grid_area": null,
            "grid_auto_columns": null,
            "grid_auto_flow": null,
            "grid_auto_rows": null,
            "grid_column": null,
            "grid_gap": null,
            "grid_row": null,
            "grid_template_areas": null,
            "grid_template_columns": null,
            "grid_template_rows": null,
            "height": null,
            "justify_content": null,
            "justify_items": null,
            "left": null,
            "margin": null,
            "max_height": null,
            "max_width": null,
            "min_height": null,
            "min_width": null,
            "object_fit": null,
            "object_position": null,
            "order": null,
            "overflow": null,
            "overflow_x": null,
            "overflow_y": null,
            "padding": null,
            "right": null,
            "top": null,
            "visibility": null,
            "width": null
          }
        },
        "1efecf5869a64a84bb069e136cfb901d": {
          "model_module": "@jupyter-widgets/controls",
          "model_module_version": "1.5.0",
          "model_name": "HTMLModel",
          "state": {
            "_dom_classes": [],
            "_model_module": "@jupyter-widgets/controls",
            "_model_module_version": "1.5.0",
            "_model_name": "HTMLModel",
            "_view_count": null,
            "_view_module": "@jupyter-widgets/controls",
            "_view_module_version": "1.5.0",
            "_view_name": "HTMLView",
            "description": "",
            "description_tooltip": null,
            "layout": "IPY_MODEL_8d6d96f4b0ab42b59c450c7c94c6ca2c",
            "placeholder": "​",
            "style": "IPY_MODEL_e0dab4b99b2d4ea19f0ca1aa293d60ed",
            "value": "Epoch 5. Train Loss: 0.5004: 100%"
          }
        },
        "209f95f6d1fc4731a6760ee152ed3cd2": {
          "model_module": "@jupyter-widgets/controls",
          "model_module_version": "1.5.0",
          "model_name": "HBoxModel",
          "state": {
            "_dom_classes": [],
            "_model_module": "@jupyter-widgets/controls",
            "_model_module_version": "1.5.0",
            "_model_name": "HBoxModel",
            "_view_count": null,
            "_view_module": "@jupyter-widgets/controls",
            "_view_module_version": "1.5.0",
            "_view_name": "HBoxView",
            "box_style": "",
            "children": [
              "IPY_MODEL_479115169ce9499cabccb16c950a8825",
              "IPY_MODEL_491dc4a61eb548cc92ed161f194b9802",
              "IPY_MODEL_e6389099176f4e969fdd700afa1170da"
            ],
            "layout": "IPY_MODEL_364d0339fb9c41aaa97690c8f73a82c0"
          }
        },
        "214252e3db784041b11a0e0fbe49dce6": {
          "model_module": "@jupyter-widgets/base",
          "model_module_version": "1.2.0",
          "model_name": "LayoutModel",
          "state": {
            "_model_module": "@jupyter-widgets/base",
            "_model_module_version": "1.2.0",
            "_model_name": "LayoutModel",
            "_view_count": null,
            "_view_module": "@jupyter-widgets/base",
            "_view_module_version": "1.2.0",
            "_view_name": "LayoutView",
            "align_content": null,
            "align_items": null,
            "align_self": null,
            "border": null,
            "bottom": null,
            "display": null,
            "flex": null,
            "flex_flow": null,
            "grid_area": null,
            "grid_auto_columns": null,
            "grid_auto_flow": null,
            "grid_auto_rows": null,
            "grid_column": null,
            "grid_gap": null,
            "grid_row": null,
            "grid_template_areas": null,
            "grid_template_columns": null,
            "grid_template_rows": null,
            "height": null,
            "justify_content": null,
            "justify_items": null,
            "left": null,
            "margin": null,
            "max_height": null,
            "max_width": null,
            "min_height": null,
            "min_width": null,
            "object_fit": null,
            "object_position": null,
            "order": null,
            "overflow": null,
            "overflow_x": null,
            "overflow_y": null,
            "padding": null,
            "right": null,
            "top": null,
            "visibility": null,
            "width": null
          }
        },
        "21f848eaa0854430a6d9b7e2e30c338d": {
          "model_module": "@jupyter-widgets/base",
          "model_module_version": "1.2.0",
          "model_name": "LayoutModel",
          "state": {
            "_model_module": "@jupyter-widgets/base",
            "_model_module_version": "1.2.0",
            "_model_name": "LayoutModel",
            "_view_count": null,
            "_view_module": "@jupyter-widgets/base",
            "_view_module_version": "1.2.0",
            "_view_name": "LayoutView",
            "align_content": null,
            "align_items": null,
            "align_self": null,
            "border": null,
            "bottom": null,
            "display": null,
            "flex": null,
            "flex_flow": null,
            "grid_area": null,
            "grid_auto_columns": null,
            "grid_auto_flow": null,
            "grid_auto_rows": null,
            "grid_column": null,
            "grid_gap": null,
            "grid_row": null,
            "grid_template_areas": null,
            "grid_template_columns": null,
            "grid_template_rows": null,
            "height": null,
            "justify_content": null,
            "justify_items": null,
            "left": null,
            "margin": null,
            "max_height": null,
            "max_width": null,
            "min_height": null,
            "min_width": null,
            "object_fit": null,
            "object_position": null,
            "order": null,
            "overflow": null,
            "overflow_x": null,
            "overflow_y": null,
            "padding": null,
            "right": null,
            "top": null,
            "visibility": null,
            "width": null
          }
        },
        "289d28002995405a9a4d08b868bb90e3": {
          "model_module": "@jupyter-widgets/controls",
          "model_module_version": "1.5.0",
          "model_name": "ProgressStyleModel",
          "state": {
            "_model_module": "@jupyter-widgets/controls",
            "_model_module_version": "1.5.0",
            "_model_name": "ProgressStyleModel",
            "_view_count": null,
            "_view_module": "@jupyter-widgets/base",
            "_view_module_version": "1.2.0",
            "_view_name": "StyleView",
            "bar_color": null,
            "description_width": ""
          }
        },
        "2a548ce928e14835af8ef561b8bca7ab": {
          "model_module": "@jupyter-widgets/controls",
          "model_module_version": "1.5.0",
          "model_name": "DescriptionStyleModel",
          "state": {
            "_model_module": "@jupyter-widgets/controls",
            "_model_module_version": "1.5.0",
            "_model_name": "DescriptionStyleModel",
            "_view_count": null,
            "_view_module": "@jupyter-widgets/base",
            "_view_module_version": "1.2.0",
            "_view_name": "StyleView",
            "description_width": ""
          }
        },
        "2b8c2262fa6644de86f21beb9de45423": {
          "model_module": "@jupyter-widgets/base",
          "model_module_version": "1.2.0",
          "model_name": "LayoutModel",
          "state": {
            "_model_module": "@jupyter-widgets/base",
            "_model_module_version": "1.2.0",
            "_model_name": "LayoutModel",
            "_view_count": null,
            "_view_module": "@jupyter-widgets/base",
            "_view_module_version": "1.2.0",
            "_view_name": "LayoutView",
            "align_content": null,
            "align_items": null,
            "align_self": null,
            "border": null,
            "bottom": null,
            "display": null,
            "flex": null,
            "flex_flow": null,
            "grid_area": null,
            "grid_auto_columns": null,
            "grid_auto_flow": null,
            "grid_auto_rows": null,
            "grid_column": null,
            "grid_gap": null,
            "grid_row": null,
            "grid_template_areas": null,
            "grid_template_columns": null,
            "grid_template_rows": null,
            "height": null,
            "justify_content": null,
            "justify_items": null,
            "left": null,
            "margin": null,
            "max_height": null,
            "max_width": null,
            "min_height": null,
            "min_width": null,
            "object_fit": null,
            "object_position": null,
            "order": null,
            "overflow": null,
            "overflow_x": null,
            "overflow_y": null,
            "padding": null,
            "right": null,
            "top": null,
            "visibility": null,
            "width": null
          }
        },
        "2c165a2b83384b19b4e43da19e7bf248": {
          "model_module": "@jupyter-widgets/controls",
          "model_module_version": "1.5.0",
          "model_name": "HBoxModel",
          "state": {
            "_dom_classes": [],
            "_model_module": "@jupyter-widgets/controls",
            "_model_module_version": "1.5.0",
            "_model_name": "HBoxModel",
            "_view_count": null,
            "_view_module": "@jupyter-widgets/controls",
            "_view_module_version": "1.5.0",
            "_view_name": "HBoxView",
            "box_style": "",
            "children": [
              "IPY_MODEL_9279bc60f21d4694a2b9c03189befd89",
              "IPY_MODEL_ba31b3c72f44428f8c00e0848ace9810",
              "IPY_MODEL_72014077806b43ff885df2cb44a07633"
            ],
            "layout": "IPY_MODEL_fe82a61cae1c4d52b7c46765c6352cb0"
          }
        },
        "31707e8b4cbc49b8947ddacbcc55a2c3": {
          "model_module": "@jupyter-widgets/controls",
          "model_module_version": "1.5.0",
          "model_name": "FloatProgressModel",
          "state": {
            "_dom_classes": [],
            "_model_module": "@jupyter-widgets/controls",
            "_model_module_version": "1.5.0",
            "_model_name": "FloatProgressModel",
            "_view_count": null,
            "_view_module": "@jupyter-widgets/controls",
            "_view_module_version": "1.5.0",
            "_view_name": "ProgressView",
            "bar_style": "success",
            "description": "",
            "description_tooltip": null,
            "layout": "IPY_MODEL_35b52b9604bd4225b644d6b78720043c",
            "max": 313,
            "min": 0,
            "orientation": "horizontal",
            "style": "IPY_MODEL_1cf6867469074b68b3804aba69262950",
            "value": 313
          }
        },
        "33125168c4724c2f8f438f803a0c2767": {
          "model_module": "@jupyter-widgets/controls",
          "model_module_version": "1.5.0",
          "model_name": "ProgressStyleModel",
          "state": {
            "_model_module": "@jupyter-widgets/controls",
            "_model_module_version": "1.5.0",
            "_model_name": "ProgressStyleModel",
            "_view_count": null,
            "_view_module": "@jupyter-widgets/base",
            "_view_module_version": "1.2.0",
            "_view_name": "StyleView",
            "bar_color": null,
            "description_width": ""
          }
        },
        "33b5d905218f4357882ac0fba463edf3": {
          "model_module": "@jupyter-widgets/controls",
          "model_module_version": "1.5.0",
          "model_name": "HBoxModel",
          "state": {
            "_dom_classes": [],
            "_model_module": "@jupyter-widgets/controls",
            "_model_module_version": "1.5.0",
            "_model_name": "HBoxModel",
            "_view_count": null,
            "_view_module": "@jupyter-widgets/controls",
            "_view_module_version": "1.5.0",
            "_view_name": "HBoxView",
            "box_style": "",
            "children": [
              "IPY_MODEL_5ec39551f190403d916ea95fd389b955",
              "IPY_MODEL_1b80b68a8a9540dc8e7ff7c197282002",
              "IPY_MODEL_9b1876f14ce44d628226896840718c3c"
            ],
            "layout": "IPY_MODEL_7498500e936146c6b6bd8d7f693047da"
          }
        },
        "350ef099381a473b9119967ee3c035f8": {
          "model_module": "@jupyter-widgets/base",
          "model_module_version": "1.2.0",
          "model_name": "LayoutModel",
          "state": {
            "_model_module": "@jupyter-widgets/base",
            "_model_module_version": "1.2.0",
            "_model_name": "LayoutModel",
            "_view_count": null,
            "_view_module": "@jupyter-widgets/base",
            "_view_module_version": "1.2.0",
            "_view_name": "LayoutView",
            "align_content": null,
            "align_items": null,
            "align_self": null,
            "border": null,
            "bottom": null,
            "display": null,
            "flex": null,
            "flex_flow": null,
            "grid_area": null,
            "grid_auto_columns": null,
            "grid_auto_flow": null,
            "grid_auto_rows": null,
            "grid_column": null,
            "grid_gap": null,
            "grid_row": null,
            "grid_template_areas": null,
            "grid_template_columns": null,
            "grid_template_rows": null,
            "height": null,
            "justify_content": null,
            "justify_items": null,
            "left": null,
            "margin": null,
            "max_height": null,
            "max_width": null,
            "min_height": null,
            "min_width": null,
            "object_fit": null,
            "object_position": null,
            "order": null,
            "overflow": null,
            "overflow_x": null,
            "overflow_y": null,
            "padding": null,
            "right": null,
            "top": null,
            "visibility": null,
            "width": null
          }
        },
        "35b52b9604bd4225b644d6b78720043c": {
          "model_module": "@jupyter-widgets/base",
          "model_module_version": "1.2.0",
          "model_name": "LayoutModel",
          "state": {
            "_model_module": "@jupyter-widgets/base",
            "_model_module_version": "1.2.0",
            "_model_name": "LayoutModel",
            "_view_count": null,
            "_view_module": "@jupyter-widgets/base",
            "_view_module_version": "1.2.0",
            "_view_name": "LayoutView",
            "align_content": null,
            "align_items": null,
            "align_self": null,
            "border": null,
            "bottom": null,
            "display": null,
            "flex": null,
            "flex_flow": null,
            "grid_area": null,
            "grid_auto_columns": null,
            "grid_auto_flow": null,
            "grid_auto_rows": null,
            "grid_column": null,
            "grid_gap": null,
            "grid_row": null,
            "grid_template_areas": null,
            "grid_template_columns": null,
            "grid_template_rows": null,
            "height": null,
            "justify_content": null,
            "justify_items": null,
            "left": null,
            "margin": null,
            "max_height": null,
            "max_width": null,
            "min_height": null,
            "min_width": null,
            "object_fit": null,
            "object_position": null,
            "order": null,
            "overflow": null,
            "overflow_x": null,
            "overflow_y": null,
            "padding": null,
            "right": null,
            "top": null,
            "visibility": null,
            "width": null
          }
        },
        "364d0339fb9c41aaa97690c8f73a82c0": {
          "model_module": "@jupyter-widgets/base",
          "model_module_version": "1.2.0",
          "model_name": "LayoutModel",
          "state": {
            "_model_module": "@jupyter-widgets/base",
            "_model_module_version": "1.2.0",
            "_model_name": "LayoutModel",
            "_view_count": null,
            "_view_module": "@jupyter-widgets/base",
            "_view_module_version": "1.2.0",
            "_view_name": "LayoutView",
            "align_content": null,
            "align_items": null,
            "align_self": null,
            "border": null,
            "bottom": null,
            "display": null,
            "flex": null,
            "flex_flow": null,
            "grid_area": null,
            "grid_auto_columns": null,
            "grid_auto_flow": null,
            "grid_auto_rows": null,
            "grid_column": null,
            "grid_gap": null,
            "grid_row": null,
            "grid_template_areas": null,
            "grid_template_columns": null,
            "grid_template_rows": null,
            "height": null,
            "justify_content": null,
            "justify_items": null,
            "left": null,
            "margin": null,
            "max_height": null,
            "max_width": null,
            "min_height": null,
            "min_width": null,
            "object_fit": null,
            "object_position": null,
            "order": null,
            "overflow": null,
            "overflow_x": null,
            "overflow_y": null,
            "padding": null,
            "right": null,
            "top": null,
            "visibility": null,
            "width": null
          }
        },
        "37a9ef8490e34e23bc658a92fc820489": {
          "model_module": "@jupyter-widgets/base",
          "model_module_version": "1.2.0",
          "model_name": "LayoutModel",
          "state": {
            "_model_module": "@jupyter-widgets/base",
            "_model_module_version": "1.2.0",
            "_model_name": "LayoutModel",
            "_view_count": null,
            "_view_module": "@jupyter-widgets/base",
            "_view_module_version": "1.2.0",
            "_view_name": "LayoutView",
            "align_content": null,
            "align_items": null,
            "align_self": null,
            "border": null,
            "bottom": null,
            "display": null,
            "flex": null,
            "flex_flow": null,
            "grid_area": null,
            "grid_auto_columns": null,
            "grid_auto_flow": null,
            "grid_auto_rows": null,
            "grid_column": null,
            "grid_gap": null,
            "grid_row": null,
            "grid_template_areas": null,
            "grid_template_columns": null,
            "grid_template_rows": null,
            "height": null,
            "justify_content": null,
            "justify_items": null,
            "left": null,
            "margin": null,
            "max_height": null,
            "max_width": null,
            "min_height": null,
            "min_width": null,
            "object_fit": null,
            "object_position": null,
            "order": null,
            "overflow": null,
            "overflow_x": null,
            "overflow_y": null,
            "padding": null,
            "right": null,
            "top": null,
            "visibility": null,
            "width": null
          }
        },
        "3bfcaf9ff93642e684ac3ba0307d3d5d": {
          "model_module": "@jupyter-widgets/base",
          "model_module_version": "1.2.0",
          "model_name": "LayoutModel",
          "state": {
            "_model_module": "@jupyter-widgets/base",
            "_model_module_version": "1.2.0",
            "_model_name": "LayoutModel",
            "_view_count": null,
            "_view_module": "@jupyter-widgets/base",
            "_view_module_version": "1.2.0",
            "_view_name": "LayoutView",
            "align_content": null,
            "align_items": null,
            "align_self": null,
            "border": null,
            "bottom": null,
            "display": null,
            "flex": null,
            "flex_flow": null,
            "grid_area": null,
            "grid_auto_columns": null,
            "grid_auto_flow": null,
            "grid_auto_rows": null,
            "grid_column": null,
            "grid_gap": null,
            "grid_row": null,
            "grid_template_areas": null,
            "grid_template_columns": null,
            "grid_template_rows": null,
            "height": null,
            "justify_content": null,
            "justify_items": null,
            "left": null,
            "margin": null,
            "max_height": null,
            "max_width": null,
            "min_height": null,
            "min_width": null,
            "object_fit": null,
            "object_position": null,
            "order": null,
            "overflow": null,
            "overflow_x": null,
            "overflow_y": null,
            "padding": null,
            "right": null,
            "top": null,
            "visibility": null,
            "width": null
          }
        },
        "3ce303e4c1ec4adba6c2fe27b1f870f7": {
          "model_module": "@jupyter-widgets/controls",
          "model_module_version": "1.5.0",
          "model_name": "DescriptionStyleModel",
          "state": {
            "_model_module": "@jupyter-widgets/controls",
            "_model_module_version": "1.5.0",
            "_model_name": "DescriptionStyleModel",
            "_view_count": null,
            "_view_module": "@jupyter-widgets/base",
            "_view_module_version": "1.2.0",
            "_view_name": "StyleView",
            "description_width": ""
          }
        },
        "3cfab298434e473388a256603b2770aa": {
          "model_module": "@jupyter-widgets/controls",
          "model_module_version": "1.5.0",
          "model_name": "FloatProgressModel",
          "state": {
            "_dom_classes": [],
            "_model_module": "@jupyter-widgets/controls",
            "_model_module_version": "1.5.0",
            "_model_name": "FloatProgressModel",
            "_view_count": null,
            "_view_module": "@jupyter-widgets/controls",
            "_view_module_version": "1.5.0",
            "_view_name": "ProgressView",
            "bar_style": "success",
            "description": "",
            "description_tooltip": null,
            "layout": "IPY_MODEL_dd100dd1a1844176868153d82181cbd0",
            "max": 1000,
            "min": 0,
            "orientation": "horizontal",
            "style": "IPY_MODEL_00d2944400ba4a2a858a2bddec204769",
            "value": 1000
          }
        },
        "3f95493bec0e43089b25ccb456d8884b": {
          "model_module": "@jupyter-widgets/controls",
          "model_module_version": "1.5.0",
          "model_name": "DescriptionStyleModel",
          "state": {
            "_model_module": "@jupyter-widgets/controls",
            "_model_module_version": "1.5.0",
            "_model_name": "DescriptionStyleModel",
            "_view_count": null,
            "_view_module": "@jupyter-widgets/base",
            "_view_module_version": "1.2.0",
            "_view_name": "StyleView",
            "description_width": ""
          }
        },
        "41b8281aabbb422aad4d95ea3075f449": {
          "model_module": "@jupyter-widgets/base",
          "model_module_version": "1.2.0",
          "model_name": "LayoutModel",
          "state": {
            "_model_module": "@jupyter-widgets/base",
            "_model_module_version": "1.2.0",
            "_model_name": "LayoutModel",
            "_view_count": null,
            "_view_module": "@jupyter-widgets/base",
            "_view_module_version": "1.2.0",
            "_view_name": "LayoutView",
            "align_content": null,
            "align_items": null,
            "align_self": null,
            "border": null,
            "bottom": null,
            "display": null,
            "flex": null,
            "flex_flow": null,
            "grid_area": null,
            "grid_auto_columns": null,
            "grid_auto_flow": null,
            "grid_auto_rows": null,
            "grid_column": null,
            "grid_gap": null,
            "grid_row": null,
            "grid_template_areas": null,
            "grid_template_columns": null,
            "grid_template_rows": null,
            "height": null,
            "justify_content": null,
            "justify_items": null,
            "left": null,
            "margin": null,
            "max_height": null,
            "max_width": null,
            "min_height": null,
            "min_width": null,
            "object_fit": null,
            "object_position": null,
            "order": null,
            "overflow": null,
            "overflow_x": null,
            "overflow_y": null,
            "padding": null,
            "right": null,
            "top": null,
            "visibility": null,
            "width": null
          }
        },
        "437b8d4cac644962b453643b48ac0dca": {
          "model_module": "@jupyter-widgets/base",
          "model_module_version": "1.2.0",
          "model_name": "LayoutModel",
          "state": {
            "_model_module": "@jupyter-widgets/base",
            "_model_module_version": "1.2.0",
            "_model_name": "LayoutModel",
            "_view_count": null,
            "_view_module": "@jupyter-widgets/base",
            "_view_module_version": "1.2.0",
            "_view_name": "LayoutView",
            "align_content": null,
            "align_items": null,
            "align_self": null,
            "border": null,
            "bottom": null,
            "display": null,
            "flex": null,
            "flex_flow": null,
            "grid_area": null,
            "grid_auto_columns": null,
            "grid_auto_flow": null,
            "grid_auto_rows": null,
            "grid_column": null,
            "grid_gap": null,
            "grid_row": null,
            "grid_template_areas": null,
            "grid_template_columns": null,
            "grid_template_rows": null,
            "height": null,
            "justify_content": null,
            "justify_items": null,
            "left": null,
            "margin": null,
            "max_height": null,
            "max_width": null,
            "min_height": null,
            "min_width": null,
            "object_fit": null,
            "object_position": null,
            "order": null,
            "overflow": null,
            "overflow_x": null,
            "overflow_y": null,
            "padding": null,
            "right": null,
            "top": null,
            "visibility": null,
            "width": null
          }
        },
        "469f1258b47c4b82a05d94cd53c06c7a": {
          "model_module": "@jupyter-widgets/controls",
          "model_module_version": "1.5.0",
          "model_name": "HTMLModel",
          "state": {
            "_dom_classes": [],
            "_model_module": "@jupyter-widgets/controls",
            "_model_module_version": "1.5.0",
            "_model_name": "HTMLModel",
            "_view_count": null,
            "_view_module": "@jupyter-widgets/controls",
            "_view_module_version": "1.5.0",
            "_view_name": "HTMLView",
            "description": "",
            "description_tooltip": null,
            "layout": "IPY_MODEL_61eeb6d0d06745d1abc80bc44e5ed199",
            "placeholder": "​",
            "style": "IPY_MODEL_6d418767477542b5bfcb509d9271ab6f",
            "value": " 1000/1000 [02:07&lt;00:00, 10.10it/s]"
          }
        },
        "479115169ce9499cabccb16c950a8825": {
          "model_module": "@jupyter-widgets/controls",
          "model_module_version": "1.5.0",
          "model_name": "HTMLModel",
          "state": {
            "_dom_classes": [],
            "_model_module": "@jupyter-widgets/controls",
            "_model_module_version": "1.5.0",
            "_model_name": "HTMLModel",
            "_view_count": null,
            "_view_module": "@jupyter-widgets/controls",
            "_view_module_version": "1.5.0",
            "_view_name": "HTMLView",
            "description": "",
            "description_tooltip": null,
            "layout": "IPY_MODEL_a80ac767d8ba4590b82ab708e2985cb1",
            "placeholder": "​",
            "style": "IPY_MODEL_b84cb2f675b2454fb41a3c7014928c7d",
            "value": "Test Loss: 0.4975, Test Acc: 0.7607: 100%"
          }
        },
        "491dc4a61eb548cc92ed161f194b9802": {
          "model_module": "@jupyter-widgets/controls",
          "model_module_version": "1.5.0",
          "model_name": "FloatProgressModel",
          "state": {
            "_dom_classes": [],
            "_model_module": "@jupyter-widgets/controls",
            "_model_module_version": "1.5.0",
            "_model_name": "FloatProgressModel",
            "_view_count": null,
            "_view_module": "@jupyter-widgets/controls",
            "_view_module_version": "1.5.0",
            "_view_name": "ProgressView",
            "bar_style": "success",
            "description": "",
            "description_tooltip": null,
            "layout": "IPY_MODEL_f424ef931e284132bdd5ce8a9aedc8c3",
            "max": 250,
            "min": 0,
            "orientation": "horizontal",
            "style": "IPY_MODEL_70d06f0041f94b1e869e3be52eb8c813",
            "value": 250
          }
        },
        "5201f77c739e4a4984621bca393c5fc0": {
          "model_module": "@jupyter-widgets/controls",
          "model_module_version": "1.5.0",
          "model_name": "HTMLModel",
          "state": {
            "_dom_classes": [],
            "_model_module": "@jupyter-widgets/controls",
            "_model_module_version": "1.5.0",
            "_model_name": "HTMLModel",
            "_view_count": null,
            "_view_module": "@jupyter-widgets/controls",
            "_view_module_version": "1.5.0",
            "_view_name": "HTMLView",
            "description": "",
            "description_tooltip": null,
            "layout": "IPY_MODEL_eb9485dd55954d7e8849fb8b4e8c8076",
            "placeholder": "​",
            "style": "IPY_MODEL_e654e62b020649c7b193e0676dac3302",
            "value": " 1000/1000 [02:08&lt;00:00,  9.18it/s]"
          }
        },
        "53f52fea05114b94a7641acf5360653e": {
          "model_module": "@jupyter-widgets/controls",
          "model_module_version": "1.5.0",
          "model_name": "HTMLModel",
          "state": {
            "_dom_classes": [],
            "_model_module": "@jupyter-widgets/controls",
            "_model_module_version": "1.5.0",
            "_model_name": "HTMLModel",
            "_view_count": null,
            "_view_module": "@jupyter-widgets/controls",
            "_view_module_version": "1.5.0",
            "_view_name": "HTMLView",
            "description": "",
            "description_tooltip": null,
            "layout": "IPY_MODEL_06a7577fdca043b785af86fb19a0a49f",
            "placeholder": "​",
            "style": "IPY_MODEL_3f95493bec0e43089b25ccb456d8884b",
            "value": " 250/250 [00:33&lt;00:00, 11.00it/s]"
          }
        },
        "556066a38a324ca9a0aa22efef32e242": {
          "model_module": "@jupyter-widgets/controls",
          "model_module_version": "1.5.0",
          "model_name": "ProgressStyleModel",
          "state": {
            "_model_module": "@jupyter-widgets/controls",
            "_model_module_version": "1.5.0",
            "_model_name": "ProgressStyleModel",
            "_view_count": null,
            "_view_module": "@jupyter-widgets/base",
            "_view_module_version": "1.2.0",
            "_view_name": "StyleView",
            "bar_color": null,
            "description_width": ""
          }
        },
        "562a55aaadea493994e209613ab644a0": {
          "model_module": "@jupyter-widgets/base",
          "model_module_version": "1.2.0",
          "model_name": "LayoutModel",
          "state": {
            "_model_module": "@jupyter-widgets/base",
            "_model_module_version": "1.2.0",
            "_model_name": "LayoutModel",
            "_view_count": null,
            "_view_module": "@jupyter-widgets/base",
            "_view_module_version": "1.2.0",
            "_view_name": "LayoutView",
            "align_content": null,
            "align_items": null,
            "align_self": null,
            "border": null,
            "bottom": null,
            "display": null,
            "flex": null,
            "flex_flow": null,
            "grid_area": null,
            "grid_auto_columns": null,
            "grid_auto_flow": null,
            "grid_auto_rows": null,
            "grid_column": null,
            "grid_gap": null,
            "grid_row": null,
            "grid_template_areas": null,
            "grid_template_columns": null,
            "grid_template_rows": null,
            "height": null,
            "justify_content": null,
            "justify_items": null,
            "left": null,
            "margin": null,
            "max_height": null,
            "max_width": null,
            "min_height": null,
            "min_width": null,
            "object_fit": null,
            "object_position": null,
            "order": null,
            "overflow": null,
            "overflow_x": null,
            "overflow_y": null,
            "padding": null,
            "right": null,
            "top": null,
            "visibility": null,
            "width": null
          }
        },
        "5ec39551f190403d916ea95fd389b955": {
          "model_module": "@jupyter-widgets/controls",
          "model_module_version": "1.5.0",
          "model_name": "HTMLModel",
          "state": {
            "_dom_classes": [],
            "_model_module": "@jupyter-widgets/controls",
            "_model_module_version": "1.5.0",
            "_model_name": "HTMLModel",
            "_view_count": null,
            "_view_module": "@jupyter-widgets/controls",
            "_view_module_version": "1.5.0",
            "_view_name": "HTMLView",
            "description": "",
            "description_tooltip": null,
            "layout": "IPY_MODEL_13b55ac7660f4ddda6abe5412ff2eda5",
            "placeholder": "​",
            "style": "IPY_MODEL_e817d25bfe8f4336a3c61a425da14a57",
            "value": "Epoch 1. Train Loss: 0.5251: 100%"
          }
        },
        "5f29eda1a2bb459ebe5fc956fd381177": {
          "model_module": "@jupyter-widgets/controls",
          "model_module_version": "1.5.0",
          "model_name": "ProgressStyleModel",
          "state": {
            "_model_module": "@jupyter-widgets/controls",
            "_model_module_version": "1.5.0",
            "_model_name": "ProgressStyleModel",
            "_view_count": null,
            "_view_module": "@jupyter-widgets/base",
            "_view_module_version": "1.2.0",
            "_view_name": "StyleView",
            "bar_color": null,
            "description_width": ""
          }
        },
        "5f45e42f5cad4b01b79dbdcb574112fc": {
          "model_module": "@jupyter-widgets/controls",
          "model_module_version": "1.5.0",
          "model_name": "ProgressStyleModel",
          "state": {
            "_model_module": "@jupyter-widgets/controls",
            "_model_module_version": "1.5.0",
            "_model_name": "ProgressStyleModel",
            "_view_count": null,
            "_view_module": "@jupyter-widgets/base",
            "_view_module_version": "1.2.0",
            "_view_name": "StyleView",
            "bar_color": null,
            "description_width": ""
          }
        },
        "61ccb7c5caec466686a398132704e00e": {
          "model_module": "@jupyter-widgets/controls",
          "model_module_version": "1.5.0",
          "model_name": "HBoxModel",
          "state": {
            "_dom_classes": [],
            "_model_module": "@jupyter-widgets/controls",
            "_model_module_version": "1.5.0",
            "_model_name": "HBoxModel",
            "_view_count": null,
            "_view_module": "@jupyter-widgets/controls",
            "_view_module_version": "1.5.0",
            "_view_name": "HBoxView",
            "box_style": "",
            "children": [
              "IPY_MODEL_659bb39091664aaba1421553578e4b48",
              "IPY_MODEL_8b26e509454149b6be09bb40aecadfcb",
              "IPY_MODEL_fc0421996e204a588eaa5438581a8846"
            ],
            "layout": "IPY_MODEL_0d0e9e97daf34503b428f885e2e684d5"
          }
        },
        "61eeb6d0d06745d1abc80bc44e5ed199": {
          "model_module": "@jupyter-widgets/base",
          "model_module_version": "1.2.0",
          "model_name": "LayoutModel",
          "state": {
            "_model_module": "@jupyter-widgets/base",
            "_model_module_version": "1.2.0",
            "_model_name": "LayoutModel",
            "_view_count": null,
            "_view_module": "@jupyter-widgets/base",
            "_view_module_version": "1.2.0",
            "_view_name": "LayoutView",
            "align_content": null,
            "align_items": null,
            "align_self": null,
            "border": null,
            "bottom": null,
            "display": null,
            "flex": null,
            "flex_flow": null,
            "grid_area": null,
            "grid_auto_columns": null,
            "grid_auto_flow": null,
            "grid_auto_rows": null,
            "grid_column": null,
            "grid_gap": null,
            "grid_row": null,
            "grid_template_areas": null,
            "grid_template_columns": null,
            "grid_template_rows": null,
            "height": null,
            "justify_content": null,
            "justify_items": null,
            "left": null,
            "margin": null,
            "max_height": null,
            "max_width": null,
            "min_height": null,
            "min_width": null,
            "object_fit": null,
            "object_position": null,
            "order": null,
            "overflow": null,
            "overflow_x": null,
            "overflow_y": null,
            "padding": null,
            "right": null,
            "top": null,
            "visibility": null,
            "width": null
          }
        },
        "63d057d063ba4089b789d0b3a7de981f": {
          "model_module": "@jupyter-widgets/controls",
          "model_module_version": "1.5.0",
          "model_name": "DescriptionStyleModel",
          "state": {
            "_model_module": "@jupyter-widgets/controls",
            "_model_module_version": "1.5.0",
            "_model_name": "DescriptionStyleModel",
            "_view_count": null,
            "_view_module": "@jupyter-widgets/base",
            "_view_module_version": "1.2.0",
            "_view_name": "StyleView",
            "description_width": ""
          }
        },
        "655a4b20080a4274add02b2becc2c75c": {
          "model_module": "@jupyter-widgets/controls",
          "model_module_version": "1.5.0",
          "model_name": "DescriptionStyleModel",
          "state": {
            "_model_module": "@jupyter-widgets/controls",
            "_model_module_version": "1.5.0",
            "_model_name": "DescriptionStyleModel",
            "_view_count": null,
            "_view_module": "@jupyter-widgets/base",
            "_view_module_version": "1.2.0",
            "_view_name": "StyleView",
            "description_width": ""
          }
        },
        "659bb39091664aaba1421553578e4b48": {
          "model_module": "@jupyter-widgets/controls",
          "model_module_version": "1.5.0",
          "model_name": "HTMLModel",
          "state": {
            "_dom_classes": [],
            "_model_module": "@jupyter-widgets/controls",
            "_model_module_version": "1.5.0",
            "_model_name": "HTMLModel",
            "_view_count": null,
            "_view_module": "@jupyter-widgets/controls",
            "_view_module_version": "1.5.0",
            "_view_name": "HTMLView",
            "description": "",
            "description_tooltip": null,
            "layout": "IPY_MODEL_c5f82c47ad9744d2b8af7e27def5e013",
            "placeholder": "​",
            "style": "IPY_MODEL_2a548ce928e14835af8ef561b8bca7ab",
            "value": "Test Loss: 0.4862, Test Acc: 0.75: 100%"
          }
        },
        "6d418767477542b5bfcb509d9271ab6f": {
          "model_module": "@jupyter-widgets/controls",
          "model_module_version": "1.5.0",
          "model_name": "DescriptionStyleModel",
          "state": {
            "_model_module": "@jupyter-widgets/controls",
            "_model_module_version": "1.5.0",
            "_model_name": "DescriptionStyleModel",
            "_view_count": null,
            "_view_module": "@jupyter-widgets/base",
            "_view_module_version": "1.2.0",
            "_view_name": "StyleView",
            "description_width": ""
          }
        },
        "70d06f0041f94b1e869e3be52eb8c813": {
          "model_module": "@jupyter-widgets/controls",
          "model_module_version": "1.5.0",
          "model_name": "ProgressStyleModel",
          "state": {
            "_model_module": "@jupyter-widgets/controls",
            "_model_module_version": "1.5.0",
            "_model_name": "ProgressStyleModel",
            "_view_count": null,
            "_view_module": "@jupyter-widgets/base",
            "_view_module_version": "1.2.0",
            "_view_name": "StyleView",
            "bar_color": null,
            "description_width": ""
          }
        },
        "71a47e672d0b47c08de25c6286c1ece7": {
          "model_module": "@jupyter-widgets/controls",
          "model_module_version": "1.5.0",
          "model_name": "DescriptionStyleModel",
          "state": {
            "_model_module": "@jupyter-widgets/controls",
            "_model_module_version": "1.5.0",
            "_model_name": "DescriptionStyleModel",
            "_view_count": null,
            "_view_module": "@jupyter-widgets/base",
            "_view_module_version": "1.2.0",
            "_view_name": "StyleView",
            "description_width": ""
          }
        },
        "72014077806b43ff885df2cb44a07633": {
          "model_module": "@jupyter-widgets/controls",
          "model_module_version": "1.5.0",
          "model_name": "HTMLModel",
          "state": {
            "_dom_classes": [],
            "_model_module": "@jupyter-widgets/controls",
            "_model_module_version": "1.5.0",
            "_model_name": "HTMLModel",
            "_view_count": null,
            "_view_module": "@jupyter-widgets/controls",
            "_view_module_version": "1.5.0",
            "_view_name": "HTMLView",
            "description": "",
            "description_tooltip": null,
            "layout": "IPY_MODEL_350ef099381a473b9119967ee3c035f8",
            "placeholder": "​",
            "style": "IPY_MODEL_761a5fc5d6ca43d6adf2943ce1df18c0",
            "value": " 1000/1000 [02:07&lt;00:00,  8.22it/s]"
          }
        },
        "7498500e936146c6b6bd8d7f693047da": {
          "model_module": "@jupyter-widgets/base",
          "model_module_version": "1.2.0",
          "model_name": "LayoutModel",
          "state": {
            "_model_module": "@jupyter-widgets/base",
            "_model_module_version": "1.2.0",
            "_model_name": "LayoutModel",
            "_view_count": null,
            "_view_module": "@jupyter-widgets/base",
            "_view_module_version": "1.2.0",
            "_view_name": "LayoutView",
            "align_content": null,
            "align_items": null,
            "align_self": null,
            "border": null,
            "bottom": null,
            "display": null,
            "flex": null,
            "flex_flow": null,
            "grid_area": null,
            "grid_auto_columns": null,
            "grid_auto_flow": null,
            "grid_auto_rows": null,
            "grid_column": null,
            "grid_gap": null,
            "grid_row": null,
            "grid_template_areas": null,
            "grid_template_columns": null,
            "grid_template_rows": null,
            "height": null,
            "justify_content": null,
            "justify_items": null,
            "left": null,
            "margin": null,
            "max_height": null,
            "max_width": null,
            "min_height": null,
            "min_width": null,
            "object_fit": null,
            "object_position": null,
            "order": null,
            "overflow": null,
            "overflow_x": null,
            "overflow_y": null,
            "padding": null,
            "right": null,
            "top": null,
            "visibility": null,
            "width": null
          }
        },
        "761a5fc5d6ca43d6adf2943ce1df18c0": {
          "model_module": "@jupyter-widgets/controls",
          "model_module_version": "1.5.0",
          "model_name": "DescriptionStyleModel",
          "state": {
            "_model_module": "@jupyter-widgets/controls",
            "_model_module_version": "1.5.0",
            "_model_name": "DescriptionStyleModel",
            "_view_count": null,
            "_view_module": "@jupyter-widgets/base",
            "_view_module_version": "1.2.0",
            "_view_name": "StyleView",
            "description_width": ""
          }
        },
        "76f5b85ab30a420185d3832762257879": {
          "model_module": "@jupyter-widgets/controls",
          "model_module_version": "1.5.0",
          "model_name": "DescriptionStyleModel",
          "state": {
            "_model_module": "@jupyter-widgets/controls",
            "_model_module_version": "1.5.0",
            "_model_name": "DescriptionStyleModel",
            "_view_count": null,
            "_view_module": "@jupyter-widgets/base",
            "_view_module_version": "1.2.0",
            "_view_name": "StyleView",
            "description_width": ""
          }
        },
        "78c20b8cc9e14f94869c5573a66c34ba": {
          "model_module": "@jupyter-widgets/controls",
          "model_module_version": "1.5.0",
          "model_name": "DescriptionStyleModel",
          "state": {
            "_model_module": "@jupyter-widgets/controls",
            "_model_module_version": "1.5.0",
            "_model_name": "DescriptionStyleModel",
            "_view_count": null,
            "_view_module": "@jupyter-widgets/base",
            "_view_module_version": "1.2.0",
            "_view_name": "StyleView",
            "description_width": ""
          }
        },
        "795ea88090b543d691c93a7098450fb1": {
          "model_module": "@jupyter-widgets/controls",
          "model_module_version": "1.5.0",
          "model_name": "FloatProgressModel",
          "state": {
            "_dom_classes": [],
            "_model_module": "@jupyter-widgets/controls",
            "_model_module_version": "1.5.0",
            "_model_name": "FloatProgressModel",
            "_view_count": null,
            "_view_module": "@jupyter-widgets/controls",
            "_view_module_version": "1.5.0",
            "_view_name": "ProgressView",
            "bar_style": "success",
            "description": "",
            "description_tooltip": null,
            "layout": "IPY_MODEL_0973a5913f92492896c2c0a52a3cbd29",
            "max": 250,
            "min": 0,
            "orientation": "horizontal",
            "style": "IPY_MODEL_556066a38a324ca9a0aa22efef32e242",
            "value": 250
          }
        },
        "7beb3fd51b63462d83bcc5b03effac3f": {
          "model_module": "@jupyter-widgets/base",
          "model_module_version": "1.2.0",
          "model_name": "LayoutModel",
          "state": {
            "_model_module": "@jupyter-widgets/base",
            "_model_module_version": "1.2.0",
            "_model_name": "LayoutModel",
            "_view_count": null,
            "_view_module": "@jupyter-widgets/base",
            "_view_module_version": "1.2.0",
            "_view_name": "LayoutView",
            "align_content": null,
            "align_items": null,
            "align_self": null,
            "border": null,
            "bottom": null,
            "display": null,
            "flex": null,
            "flex_flow": null,
            "grid_area": null,
            "grid_auto_columns": null,
            "grid_auto_flow": null,
            "grid_auto_rows": null,
            "grid_column": null,
            "grid_gap": null,
            "grid_row": null,
            "grid_template_areas": null,
            "grid_template_columns": null,
            "grid_template_rows": null,
            "height": null,
            "justify_content": null,
            "justify_items": null,
            "left": null,
            "margin": null,
            "max_height": null,
            "max_width": null,
            "min_height": null,
            "min_width": null,
            "object_fit": null,
            "object_position": null,
            "order": null,
            "overflow": null,
            "overflow_x": null,
            "overflow_y": null,
            "padding": null,
            "right": null,
            "top": null,
            "visibility": null,
            "width": null
          }
        },
        "7f006484ccf84abba8c9f255c09de1dc": {
          "model_module": "@jupyter-widgets/base",
          "model_module_version": "1.2.0",
          "model_name": "LayoutModel",
          "state": {
            "_model_module": "@jupyter-widgets/base",
            "_model_module_version": "1.2.0",
            "_model_name": "LayoutModel",
            "_view_count": null,
            "_view_module": "@jupyter-widgets/base",
            "_view_module_version": "1.2.0",
            "_view_name": "LayoutView",
            "align_content": null,
            "align_items": null,
            "align_self": null,
            "border": null,
            "bottom": null,
            "display": null,
            "flex": null,
            "flex_flow": null,
            "grid_area": null,
            "grid_auto_columns": null,
            "grid_auto_flow": null,
            "grid_auto_rows": null,
            "grid_column": null,
            "grid_gap": null,
            "grid_row": null,
            "grid_template_areas": null,
            "grid_template_columns": null,
            "grid_template_rows": null,
            "height": null,
            "justify_content": null,
            "justify_items": null,
            "left": null,
            "margin": null,
            "max_height": null,
            "max_width": null,
            "min_height": null,
            "min_width": null,
            "object_fit": null,
            "object_position": null,
            "order": null,
            "overflow": null,
            "overflow_x": null,
            "overflow_y": null,
            "padding": null,
            "right": null,
            "top": null,
            "visibility": null,
            "width": null
          }
        },
        "83b5a366b8bc47da809dc2dcd1882edc": {
          "model_module": "@jupyter-widgets/controls",
          "model_module_version": "1.5.0",
          "model_name": "HBoxModel",
          "state": {
            "_dom_classes": [],
            "_model_module": "@jupyter-widgets/controls",
            "_model_module_version": "1.5.0",
            "_model_name": "HBoxModel",
            "_view_count": null,
            "_view_module": "@jupyter-widgets/controls",
            "_view_module_version": "1.5.0",
            "_view_name": "HBoxView",
            "box_style": "",
            "children": [
              "IPY_MODEL_fb8842ea7971459eb566e555bd2be03c",
              "IPY_MODEL_3cfab298434e473388a256603b2770aa",
              "IPY_MODEL_5201f77c739e4a4984621bca393c5fc0"
            ],
            "layout": "IPY_MODEL_b4b0ae1eef284297b8f08c1e97581518"
          }
        },
        "8695d8a8f4554d6da1cb087f31f0a1df": {
          "model_module": "@jupyter-widgets/controls",
          "model_module_version": "1.5.0",
          "model_name": "HTMLModel",
          "state": {
            "_dom_classes": [],
            "_model_module": "@jupyter-widgets/controls",
            "_model_module_version": "1.5.0",
            "_model_name": "HTMLModel",
            "_view_count": null,
            "_view_module": "@jupyter-widgets/controls",
            "_view_module_version": "1.5.0",
            "_view_name": "HTMLView",
            "description": "",
            "description_tooltip": null,
            "layout": "IPY_MODEL_7beb3fd51b63462d83bcc5b03effac3f",
            "placeholder": "​",
            "style": "IPY_MODEL_dd4d098bbee54d04ae76b21becc501a0",
            "value": "Test Loss: 0.4782, Test Acc: 0.7588: 100%"
          }
        },
        "8ac2059e8716412c87fe2262585b8c13": {
          "model_module": "@jupyter-widgets/controls",
          "model_module_version": "1.5.0",
          "model_name": "HTMLModel",
          "state": {
            "_dom_classes": [],
            "_model_module": "@jupyter-widgets/controls",
            "_model_module_version": "1.5.0",
            "_model_name": "HTMLModel",
            "_view_count": null,
            "_view_module": "@jupyter-widgets/controls",
            "_view_module_version": "1.5.0",
            "_view_name": "HTMLView",
            "description": "",
            "description_tooltip": null,
            "layout": "IPY_MODEL_cc9b517f8fad4e799f3abf465f329369",
            "placeholder": "​",
            "style": "IPY_MODEL_0d4f9e29cf4b4f7181a02de1f91c3902",
            "value": " 1000/1000 [02:07&lt;00:00, 10.11it/s]"
          }
        },
        "8b26e509454149b6be09bb40aecadfcb": {
          "model_module": "@jupyter-widgets/controls",
          "model_module_version": "1.5.0",
          "model_name": "FloatProgressModel",
          "state": {
            "_dom_classes": [],
            "_model_module": "@jupyter-widgets/controls",
            "_model_module_version": "1.5.0",
            "_model_name": "FloatProgressModel",
            "_view_count": null,
            "_view_module": "@jupyter-widgets/controls",
            "_view_module_version": "1.5.0",
            "_view_name": "ProgressView",
            "bar_style": "success",
            "description": "",
            "description_tooltip": null,
            "layout": "IPY_MODEL_aa323a4e2d334b718d8cdfaa42d4242c",
            "max": 250,
            "min": 0,
            "orientation": "horizontal",
            "style": "IPY_MODEL_33125168c4724c2f8f438f803a0c2767",
            "value": 250
          }
        },
        "8d6d96f4b0ab42b59c450c7c94c6ca2c": {
          "model_module": "@jupyter-widgets/base",
          "model_module_version": "1.2.0",
          "model_name": "LayoutModel",
          "state": {
            "_model_module": "@jupyter-widgets/base",
            "_model_module_version": "1.2.0",
            "_model_name": "LayoutModel",
            "_view_count": null,
            "_view_module": "@jupyter-widgets/base",
            "_view_module_version": "1.2.0",
            "_view_name": "LayoutView",
            "align_content": null,
            "align_items": null,
            "align_self": null,
            "border": null,
            "bottom": null,
            "display": null,
            "flex": null,
            "flex_flow": null,
            "grid_area": null,
            "grid_auto_columns": null,
            "grid_auto_flow": null,
            "grid_auto_rows": null,
            "grid_column": null,
            "grid_gap": null,
            "grid_row": null,
            "grid_template_areas": null,
            "grid_template_columns": null,
            "grid_template_rows": null,
            "height": null,
            "justify_content": null,
            "justify_items": null,
            "left": null,
            "margin": null,
            "max_height": null,
            "max_width": null,
            "min_height": null,
            "min_width": null,
            "object_fit": null,
            "object_position": null,
            "order": null,
            "overflow": null,
            "overflow_x": null,
            "overflow_y": null,
            "padding": null,
            "right": null,
            "top": null,
            "visibility": null,
            "width": null
          }
        },
        "91114d2bba3340c497f252553be11527": {
          "model_module": "@jupyter-widgets/controls",
          "model_module_version": "1.5.0",
          "model_name": "DescriptionStyleModel",
          "state": {
            "_model_module": "@jupyter-widgets/controls",
            "_model_module_version": "1.5.0",
            "_model_name": "DescriptionStyleModel",
            "_view_count": null,
            "_view_module": "@jupyter-widgets/base",
            "_view_module_version": "1.2.0",
            "_view_name": "StyleView",
            "description_width": ""
          }
        },
        "9279bc60f21d4694a2b9c03189befd89": {
          "model_module": "@jupyter-widgets/controls",
          "model_module_version": "1.5.0",
          "model_name": "HTMLModel",
          "state": {
            "_dom_classes": [],
            "_model_module": "@jupyter-widgets/controls",
            "_model_module_version": "1.5.0",
            "_model_name": "HTMLModel",
            "_view_count": null,
            "_view_module": "@jupyter-widgets/controls",
            "_view_module_version": "1.5.0",
            "_view_name": "HTMLView",
            "description": "",
            "description_tooltip": null,
            "layout": "IPY_MODEL_1e9d12a05a6f4c568025ad8a1927d6dc",
            "placeholder": "​",
            "style": "IPY_MODEL_78c20b8cc9e14f94869c5573a66c34ba",
            "value": "Epoch 4. Train Loss: 0.479: 100%"
          }
        },
        "9724872bc0ed40868a0c7584a77e4acd": {
          "model_module": "@jupyter-widgets/controls",
          "model_module_version": "1.5.0",
          "model_name": "HTMLModel",
          "state": {
            "_dom_classes": [],
            "_model_module": "@jupyter-widgets/controls",
            "_model_module_version": "1.5.0",
            "_model_name": "HTMLModel",
            "_view_count": null,
            "_view_module": "@jupyter-widgets/controls",
            "_view_module_version": "1.5.0",
            "_view_name": "HTMLView",
            "description": "",
            "description_tooltip": null,
            "layout": "IPY_MODEL_edeace6647d74c709754df8ba7b04014",
            "placeholder": "​",
            "style": "IPY_MODEL_a6a36f781dfe44d4a44fd40c56e21dc6",
            "value": "Test Loss: 0.5345, Test Acc: 0.7402: 100%"
          }
        },
        "9773ef299044434da15393295edf1a28": {
          "model_module": "@jupyter-widgets/base",
          "model_module_version": "1.2.0",
          "model_name": "LayoutModel",
          "state": {
            "_model_module": "@jupyter-widgets/base",
            "_model_module_version": "1.2.0",
            "_model_name": "LayoutModel",
            "_view_count": null,
            "_view_module": "@jupyter-widgets/base",
            "_view_module_version": "1.2.0",
            "_view_name": "LayoutView",
            "align_content": null,
            "align_items": null,
            "align_self": null,
            "border": null,
            "bottom": null,
            "display": null,
            "flex": null,
            "flex_flow": null,
            "grid_area": null,
            "grid_auto_columns": null,
            "grid_auto_flow": null,
            "grid_auto_rows": null,
            "grid_column": null,
            "grid_gap": null,
            "grid_row": null,
            "grid_template_areas": null,
            "grid_template_columns": null,
            "grid_template_rows": null,
            "height": null,
            "justify_content": null,
            "justify_items": null,
            "left": null,
            "margin": null,
            "max_height": null,
            "max_width": null,
            "min_height": null,
            "min_width": null,
            "object_fit": null,
            "object_position": null,
            "order": null,
            "overflow": null,
            "overflow_x": null,
            "overflow_y": null,
            "padding": null,
            "right": null,
            "top": null,
            "visibility": null,
            "width": null
          }
        },
        "9acb0ec180f34cd599027b82388df5d6": {
          "model_module": "@jupyter-widgets/base",
          "model_module_version": "1.2.0",
          "model_name": "LayoutModel",
          "state": {
            "_model_module": "@jupyter-widgets/base",
            "_model_module_version": "1.2.0",
            "_model_name": "LayoutModel",
            "_view_count": null,
            "_view_module": "@jupyter-widgets/base",
            "_view_module_version": "1.2.0",
            "_view_name": "LayoutView",
            "align_content": null,
            "align_items": null,
            "align_self": null,
            "border": null,
            "bottom": null,
            "display": null,
            "flex": null,
            "flex_flow": null,
            "grid_area": null,
            "grid_auto_columns": null,
            "grid_auto_flow": null,
            "grid_auto_rows": null,
            "grid_column": null,
            "grid_gap": null,
            "grid_row": null,
            "grid_template_areas": null,
            "grid_template_columns": null,
            "grid_template_rows": null,
            "height": null,
            "justify_content": null,
            "justify_items": null,
            "left": null,
            "margin": null,
            "max_height": null,
            "max_width": null,
            "min_height": null,
            "min_width": null,
            "object_fit": null,
            "object_position": null,
            "order": null,
            "overflow": null,
            "overflow_x": null,
            "overflow_y": null,
            "padding": null,
            "right": null,
            "top": null,
            "visibility": null,
            "width": null
          }
        },
        "9b1876f14ce44d628226896840718c3c": {
          "model_module": "@jupyter-widgets/controls",
          "model_module_version": "1.5.0",
          "model_name": "HTMLModel",
          "state": {
            "_dom_classes": [],
            "_model_module": "@jupyter-widgets/controls",
            "_model_module_version": "1.5.0",
            "_model_name": "HTMLModel",
            "_view_count": null,
            "_view_module": "@jupyter-widgets/controls",
            "_view_module_version": "1.5.0",
            "_view_name": "HTMLView",
            "description": "",
            "description_tooltip": null,
            "layout": "IPY_MODEL_3bfcaf9ff93642e684ac3ba0307d3d5d",
            "placeholder": "​",
            "style": "IPY_MODEL_71a47e672d0b47c08de25c6286c1ece7",
            "value": " 1000/1000 [02:09&lt;00:00, 10.18it/s]"
          }
        },
        "9c05532af5ea4073a6866ebb04b44fc8": {
          "model_module": "@jupyter-widgets/base",
          "model_module_version": "1.2.0",
          "model_name": "LayoutModel",
          "state": {
            "_model_module": "@jupyter-widgets/base",
            "_model_module_version": "1.2.0",
            "_model_name": "LayoutModel",
            "_view_count": null,
            "_view_module": "@jupyter-widgets/base",
            "_view_module_version": "1.2.0",
            "_view_name": "LayoutView",
            "align_content": null,
            "align_items": null,
            "align_self": null,
            "border": null,
            "bottom": null,
            "display": null,
            "flex": null,
            "flex_flow": null,
            "grid_area": null,
            "grid_auto_columns": null,
            "grid_auto_flow": null,
            "grid_auto_rows": null,
            "grid_column": null,
            "grid_gap": null,
            "grid_row": null,
            "grid_template_areas": null,
            "grid_template_columns": null,
            "grid_template_rows": null,
            "height": null,
            "justify_content": null,
            "justify_items": null,
            "left": null,
            "margin": null,
            "max_height": null,
            "max_width": null,
            "min_height": null,
            "min_width": null,
            "object_fit": null,
            "object_position": null,
            "order": null,
            "overflow": null,
            "overflow_x": null,
            "overflow_y": null,
            "padding": null,
            "right": null,
            "top": null,
            "visibility": null,
            "width": null
          }
        },
        "9e3c7ae2b92c406fa830529ae0b2292e": {
          "model_module": "@jupyter-widgets/base",
          "model_module_version": "1.2.0",
          "model_name": "LayoutModel",
          "state": {
            "_model_module": "@jupyter-widgets/base",
            "_model_module_version": "1.2.0",
            "_model_name": "LayoutModel",
            "_view_count": null,
            "_view_module": "@jupyter-widgets/base",
            "_view_module_version": "1.2.0",
            "_view_name": "LayoutView",
            "align_content": null,
            "align_items": null,
            "align_self": null,
            "border": null,
            "bottom": null,
            "display": null,
            "flex": null,
            "flex_flow": null,
            "grid_area": null,
            "grid_auto_columns": null,
            "grid_auto_flow": null,
            "grid_auto_rows": null,
            "grid_column": null,
            "grid_gap": null,
            "grid_row": null,
            "grid_template_areas": null,
            "grid_template_columns": null,
            "grid_template_rows": null,
            "height": null,
            "justify_content": null,
            "justify_items": null,
            "left": null,
            "margin": null,
            "max_height": null,
            "max_width": null,
            "min_height": null,
            "min_width": null,
            "object_fit": null,
            "object_position": null,
            "order": null,
            "overflow": null,
            "overflow_x": null,
            "overflow_y": null,
            "padding": null,
            "right": null,
            "top": null,
            "visibility": null,
            "width": null
          }
        },
        "a0afbf41fcd248a5b176d1ee06506b9b": {
          "model_module": "@jupyter-widgets/base",
          "model_module_version": "1.2.0",
          "model_name": "LayoutModel",
          "state": {
            "_model_module": "@jupyter-widgets/base",
            "_model_module_version": "1.2.0",
            "_model_name": "LayoutModel",
            "_view_count": null,
            "_view_module": "@jupyter-widgets/base",
            "_view_module_version": "1.2.0",
            "_view_name": "LayoutView",
            "align_content": null,
            "align_items": null,
            "align_self": null,
            "border": null,
            "bottom": null,
            "display": null,
            "flex": null,
            "flex_flow": null,
            "grid_area": null,
            "grid_auto_columns": null,
            "grid_auto_flow": null,
            "grid_auto_rows": null,
            "grid_column": null,
            "grid_gap": null,
            "grid_row": null,
            "grid_template_areas": null,
            "grid_template_columns": null,
            "grid_template_rows": null,
            "height": null,
            "justify_content": null,
            "justify_items": null,
            "left": null,
            "margin": null,
            "max_height": null,
            "max_width": null,
            "min_height": null,
            "min_width": null,
            "object_fit": null,
            "object_position": null,
            "order": null,
            "overflow": null,
            "overflow_x": null,
            "overflow_y": null,
            "padding": null,
            "right": null,
            "top": null,
            "visibility": null,
            "width": null
          }
        },
        "a1c9553b2a63477cafadf60a16f20201": {
          "model_module": "@jupyter-widgets/controls",
          "model_module_version": "1.5.0",
          "model_name": "ProgressStyleModel",
          "state": {
            "_model_module": "@jupyter-widgets/controls",
            "_model_module_version": "1.5.0",
            "_model_name": "ProgressStyleModel",
            "_view_count": null,
            "_view_module": "@jupyter-widgets/base",
            "_view_module_version": "1.2.0",
            "_view_name": "StyleView",
            "bar_color": null,
            "description_width": ""
          }
        },
        "a6a36f781dfe44d4a44fd40c56e21dc6": {
          "model_module": "@jupyter-widgets/controls",
          "model_module_version": "1.5.0",
          "model_name": "DescriptionStyleModel",
          "state": {
            "_model_module": "@jupyter-widgets/controls",
            "_model_module_version": "1.5.0",
            "_model_name": "DescriptionStyleModel",
            "_view_count": null,
            "_view_module": "@jupyter-widgets/base",
            "_view_module_version": "1.2.0",
            "_view_name": "StyleView",
            "description_width": ""
          }
        },
        "a80ac767d8ba4590b82ab708e2985cb1": {
          "model_module": "@jupyter-widgets/base",
          "model_module_version": "1.2.0",
          "model_name": "LayoutModel",
          "state": {
            "_model_module": "@jupyter-widgets/base",
            "_model_module_version": "1.2.0",
            "_model_name": "LayoutModel",
            "_view_count": null,
            "_view_module": "@jupyter-widgets/base",
            "_view_module_version": "1.2.0",
            "_view_name": "LayoutView",
            "align_content": null,
            "align_items": null,
            "align_self": null,
            "border": null,
            "bottom": null,
            "display": null,
            "flex": null,
            "flex_flow": null,
            "grid_area": null,
            "grid_auto_columns": null,
            "grid_auto_flow": null,
            "grid_auto_rows": null,
            "grid_column": null,
            "grid_gap": null,
            "grid_row": null,
            "grid_template_areas": null,
            "grid_template_columns": null,
            "grid_template_rows": null,
            "height": null,
            "justify_content": null,
            "justify_items": null,
            "left": null,
            "margin": null,
            "max_height": null,
            "max_width": null,
            "min_height": null,
            "min_width": null,
            "object_fit": null,
            "object_position": null,
            "order": null,
            "overflow": null,
            "overflow_x": null,
            "overflow_y": null,
            "padding": null,
            "right": null,
            "top": null,
            "visibility": null,
            "width": null
          }
        },
        "aa323a4e2d334b718d8cdfaa42d4242c": {
          "model_module": "@jupyter-widgets/base",
          "model_module_version": "1.2.0",
          "model_name": "LayoutModel",
          "state": {
            "_model_module": "@jupyter-widgets/base",
            "_model_module_version": "1.2.0",
            "_model_name": "LayoutModel",
            "_view_count": null,
            "_view_module": "@jupyter-widgets/base",
            "_view_module_version": "1.2.0",
            "_view_name": "LayoutView",
            "align_content": null,
            "align_items": null,
            "align_self": null,
            "border": null,
            "bottom": null,
            "display": null,
            "flex": null,
            "flex_flow": null,
            "grid_area": null,
            "grid_auto_columns": null,
            "grid_auto_flow": null,
            "grid_auto_rows": null,
            "grid_column": null,
            "grid_gap": null,
            "grid_row": null,
            "grid_template_areas": null,
            "grid_template_columns": null,
            "grid_template_rows": null,
            "height": null,
            "justify_content": null,
            "justify_items": null,
            "left": null,
            "margin": null,
            "max_height": null,
            "max_width": null,
            "min_height": null,
            "min_width": null,
            "object_fit": null,
            "object_position": null,
            "order": null,
            "overflow": null,
            "overflow_x": null,
            "overflow_y": null,
            "padding": null,
            "right": null,
            "top": null,
            "visibility": null,
            "width": null
          }
        },
        "ac64e3b0f8b94db68bc6e84f2b0b4dc7": {
          "model_module": "@jupyter-widgets/controls",
          "model_module_version": "1.5.0",
          "model_name": "HBoxModel",
          "state": {
            "_dom_classes": [],
            "_model_module": "@jupyter-widgets/controls",
            "_model_module_version": "1.5.0",
            "_model_name": "HBoxModel",
            "_view_count": null,
            "_view_module": "@jupyter-widgets/controls",
            "_view_module_version": "1.5.0",
            "_view_name": "HBoxView",
            "box_style": "",
            "children": [
              "IPY_MODEL_e26bbd4b631247839d4149837369e87b",
              "IPY_MODEL_795ea88090b543d691c93a7098450fb1",
              "IPY_MODEL_fe0d12ff5c95478a8f5e2d83a8138413"
            ],
            "layout": "IPY_MODEL_2b8c2262fa6644de86f21beb9de45423"
          }
        },
        "b0a2e11333a94e2aa17f14659479dc3d": {
          "model_module": "@jupyter-widgets/base",
          "model_module_version": "1.2.0",
          "model_name": "LayoutModel",
          "state": {
            "_model_module": "@jupyter-widgets/base",
            "_model_module_version": "1.2.0",
            "_model_name": "LayoutModel",
            "_view_count": null,
            "_view_module": "@jupyter-widgets/base",
            "_view_module_version": "1.2.0",
            "_view_name": "LayoutView",
            "align_content": null,
            "align_items": null,
            "align_self": null,
            "border": null,
            "bottom": null,
            "display": null,
            "flex": null,
            "flex_flow": null,
            "grid_area": null,
            "grid_auto_columns": null,
            "grid_auto_flow": null,
            "grid_auto_rows": null,
            "grid_column": null,
            "grid_gap": null,
            "grid_row": null,
            "grid_template_areas": null,
            "grid_template_columns": null,
            "grid_template_rows": null,
            "height": null,
            "justify_content": null,
            "justify_items": null,
            "left": null,
            "margin": null,
            "max_height": null,
            "max_width": null,
            "min_height": null,
            "min_width": null,
            "object_fit": null,
            "object_position": null,
            "order": null,
            "overflow": null,
            "overflow_x": null,
            "overflow_y": null,
            "padding": null,
            "right": null,
            "top": null,
            "visibility": null,
            "width": null
          }
        },
        "b239c6accfb941be98a9c0621e8b578b": {
          "model_module": "@jupyter-widgets/base",
          "model_module_version": "1.2.0",
          "model_name": "LayoutModel",
          "state": {
            "_model_module": "@jupyter-widgets/base",
            "_model_module_version": "1.2.0",
            "_model_name": "LayoutModel",
            "_view_count": null,
            "_view_module": "@jupyter-widgets/base",
            "_view_module_version": "1.2.0",
            "_view_name": "LayoutView",
            "align_content": null,
            "align_items": null,
            "align_self": null,
            "border": null,
            "bottom": null,
            "display": null,
            "flex": null,
            "flex_flow": null,
            "grid_area": null,
            "grid_auto_columns": null,
            "grid_auto_flow": null,
            "grid_auto_rows": null,
            "grid_column": null,
            "grid_gap": null,
            "grid_row": null,
            "grid_template_areas": null,
            "grid_template_columns": null,
            "grid_template_rows": null,
            "height": null,
            "justify_content": null,
            "justify_items": null,
            "left": null,
            "margin": null,
            "max_height": null,
            "max_width": null,
            "min_height": null,
            "min_width": null,
            "object_fit": null,
            "object_position": null,
            "order": null,
            "overflow": null,
            "overflow_x": null,
            "overflow_y": null,
            "padding": null,
            "right": null,
            "top": null,
            "visibility": null,
            "width": null
          }
        },
        "b381cde1af834546911e8888b3cf8d1b": {
          "model_module": "@jupyter-widgets/controls",
          "model_module_version": "1.5.0",
          "model_name": "ProgressStyleModel",
          "state": {
            "_model_module": "@jupyter-widgets/controls",
            "_model_module_version": "1.5.0",
            "_model_name": "ProgressStyleModel",
            "_view_count": null,
            "_view_module": "@jupyter-widgets/base",
            "_view_module_version": "1.2.0",
            "_view_name": "StyleView",
            "bar_color": null,
            "description_width": ""
          }
        },
        "b4b0ae1eef284297b8f08c1e97581518": {
          "model_module": "@jupyter-widgets/base",
          "model_module_version": "1.2.0",
          "model_name": "LayoutModel",
          "state": {
            "_model_module": "@jupyter-widgets/base",
            "_model_module_version": "1.2.0",
            "_model_name": "LayoutModel",
            "_view_count": null,
            "_view_module": "@jupyter-widgets/base",
            "_view_module_version": "1.2.0",
            "_view_name": "LayoutView",
            "align_content": null,
            "align_items": null,
            "align_self": null,
            "border": null,
            "bottom": null,
            "display": null,
            "flex": null,
            "flex_flow": null,
            "grid_area": null,
            "grid_auto_columns": null,
            "grid_auto_flow": null,
            "grid_auto_rows": null,
            "grid_column": null,
            "grid_gap": null,
            "grid_row": null,
            "grid_template_areas": null,
            "grid_template_columns": null,
            "grid_template_rows": null,
            "height": null,
            "justify_content": null,
            "justify_items": null,
            "left": null,
            "margin": null,
            "max_height": null,
            "max_width": null,
            "min_height": null,
            "min_width": null,
            "object_fit": null,
            "object_position": null,
            "order": null,
            "overflow": null,
            "overflow_x": null,
            "overflow_y": null,
            "padding": null,
            "right": null,
            "top": null,
            "visibility": null,
            "width": null
          }
        },
        "b84cb2f675b2454fb41a3c7014928c7d": {
          "model_module": "@jupyter-widgets/controls",
          "model_module_version": "1.5.0",
          "model_name": "DescriptionStyleModel",
          "state": {
            "_model_module": "@jupyter-widgets/controls",
            "_model_module_version": "1.5.0",
            "_model_name": "DescriptionStyleModel",
            "_view_count": null,
            "_view_module": "@jupyter-widgets/base",
            "_view_module_version": "1.2.0",
            "_view_name": "StyleView",
            "description_width": ""
          }
        },
        "b8dc4f964122416cbf8bb2c18c0d3378": {
          "model_module": "@jupyter-widgets/controls",
          "model_module_version": "1.5.0",
          "model_name": "HTMLModel",
          "state": {
            "_dom_classes": [],
            "_model_module": "@jupyter-widgets/controls",
            "_model_module_version": "1.5.0",
            "_model_name": "HTMLModel",
            "_view_count": null,
            "_view_module": "@jupyter-widgets/controls",
            "_view_module_version": "1.5.0",
            "_view_name": "HTMLView",
            "description": "",
            "description_tooltip": null,
            "layout": "IPY_MODEL_d1430548dd534ab59738d78d4547bbd5",
            "placeholder": "​",
            "style": "IPY_MODEL_00d7e6dca381430bb0920baf2488ac1f",
            "value": "Epoch 3. Train Loss: 0.4698: 100%"
          }
        },
        "b97778a692cc4a9e8b797eec96c5a512": {
          "model_module": "@jupyter-widgets/controls",
          "model_module_version": "1.5.0",
          "model_name": "DescriptionStyleModel",
          "state": {
            "_model_module": "@jupyter-widgets/controls",
            "_model_module_version": "1.5.0",
            "_model_name": "DescriptionStyleModel",
            "_view_count": null,
            "_view_module": "@jupyter-widgets/base",
            "_view_module_version": "1.2.0",
            "_view_name": "StyleView",
            "description_width": ""
          }
        },
        "ba31b3c72f44428f8c00e0848ace9810": {
          "model_module": "@jupyter-widgets/controls",
          "model_module_version": "1.5.0",
          "model_name": "FloatProgressModel",
          "state": {
            "_dom_classes": [],
            "_model_module": "@jupyter-widgets/controls",
            "_model_module_version": "1.5.0",
            "_model_name": "FloatProgressModel",
            "_view_count": null,
            "_view_module": "@jupyter-widgets/controls",
            "_view_module_version": "1.5.0",
            "_view_name": "ProgressView",
            "bar_style": "success",
            "description": "",
            "description_tooltip": null,
            "layout": "IPY_MODEL_21f848eaa0854430a6d9b7e2e30c338d",
            "max": 1000,
            "min": 0,
            "orientation": "horizontal",
            "style": "IPY_MODEL_b381cde1af834546911e8888b3cf8d1b",
            "value": 1000
          }
        },
        "c5f82c47ad9744d2b8af7e27def5e013": {
          "model_module": "@jupyter-widgets/base",
          "model_module_version": "1.2.0",
          "model_name": "LayoutModel",
          "state": {
            "_model_module": "@jupyter-widgets/base",
            "_model_module_version": "1.2.0",
            "_model_name": "LayoutModel",
            "_view_count": null,
            "_view_module": "@jupyter-widgets/base",
            "_view_module_version": "1.2.0",
            "_view_name": "LayoutView",
            "align_content": null,
            "align_items": null,
            "align_self": null,
            "border": null,
            "bottom": null,
            "display": null,
            "flex": null,
            "flex_flow": null,
            "grid_area": null,
            "grid_auto_columns": null,
            "grid_auto_flow": null,
            "grid_auto_rows": null,
            "grid_column": null,
            "grid_gap": null,
            "grid_row": null,
            "grid_template_areas": null,
            "grid_template_columns": null,
            "grid_template_rows": null,
            "height": null,
            "justify_content": null,
            "justify_items": null,
            "left": null,
            "margin": null,
            "max_height": null,
            "max_width": null,
            "min_height": null,
            "min_width": null,
            "object_fit": null,
            "object_position": null,
            "order": null,
            "overflow": null,
            "overflow_x": null,
            "overflow_y": null,
            "padding": null,
            "right": null,
            "top": null,
            "visibility": null,
            "width": null
          }
        },
        "c9c5a64434874ce4b81e68a19e984aef": {
          "model_module": "@jupyter-widgets/base",
          "model_module_version": "1.2.0",
          "model_name": "LayoutModel",
          "state": {
            "_model_module": "@jupyter-widgets/base",
            "_model_module_version": "1.2.0",
            "_model_name": "LayoutModel",
            "_view_count": null,
            "_view_module": "@jupyter-widgets/base",
            "_view_module_version": "1.2.0",
            "_view_name": "LayoutView",
            "align_content": null,
            "align_items": null,
            "align_self": null,
            "border": null,
            "bottom": null,
            "display": null,
            "flex": null,
            "flex_flow": null,
            "grid_area": null,
            "grid_auto_columns": null,
            "grid_auto_flow": null,
            "grid_auto_rows": null,
            "grid_column": null,
            "grid_gap": null,
            "grid_row": null,
            "grid_template_areas": null,
            "grid_template_columns": null,
            "grid_template_rows": null,
            "height": null,
            "justify_content": null,
            "justify_items": null,
            "left": null,
            "margin": null,
            "max_height": null,
            "max_width": null,
            "min_height": null,
            "min_width": null,
            "object_fit": null,
            "object_position": null,
            "order": null,
            "overflow": null,
            "overflow_x": null,
            "overflow_y": null,
            "padding": null,
            "right": null,
            "top": null,
            "visibility": null,
            "width": null
          }
        },
        "cc4df2978de04b6b9a96a8562a4e585f": {
          "model_module": "@jupyter-widgets/controls",
          "model_module_version": "1.5.0",
          "model_name": "HTMLModel",
          "state": {
            "_dom_classes": [],
            "_model_module": "@jupyter-widgets/controls",
            "_model_module_version": "1.5.0",
            "_model_name": "HTMLModel",
            "_view_count": null,
            "_view_module": "@jupyter-widgets/controls",
            "_view_module_version": "1.5.0",
            "_view_name": "HTMLView",
            "description": "",
            "description_tooltip": null,
            "layout": "IPY_MODEL_ffe8548b63324647a1108f15b4e978b0",
            "placeholder": "​",
            "style": "IPY_MODEL_b97778a692cc4a9e8b797eec96c5a512",
            "value": "Test Loss: 0.4757, Test Acc: 0.7676: 100%"
          }
        },
        "cc9b517f8fad4e799f3abf465f329369": {
          "model_module": "@jupyter-widgets/base",
          "model_module_version": "1.2.0",
          "model_name": "LayoutModel",
          "state": {
            "_model_module": "@jupyter-widgets/base",
            "_model_module_version": "1.2.0",
            "_model_name": "LayoutModel",
            "_view_count": null,
            "_view_module": "@jupyter-widgets/base",
            "_view_module_version": "1.2.0",
            "_view_name": "LayoutView",
            "align_content": null,
            "align_items": null,
            "align_self": null,
            "border": null,
            "bottom": null,
            "display": null,
            "flex": null,
            "flex_flow": null,
            "grid_area": null,
            "grid_auto_columns": null,
            "grid_auto_flow": null,
            "grid_auto_rows": null,
            "grid_column": null,
            "grid_gap": null,
            "grid_row": null,
            "grid_template_areas": null,
            "grid_template_columns": null,
            "grid_template_rows": null,
            "height": null,
            "justify_content": null,
            "justify_items": null,
            "left": null,
            "margin": null,
            "max_height": null,
            "max_width": null,
            "min_height": null,
            "min_width": null,
            "object_fit": null,
            "object_position": null,
            "order": null,
            "overflow": null,
            "overflow_x": null,
            "overflow_y": null,
            "padding": null,
            "right": null,
            "top": null,
            "visibility": null,
            "width": null
          }
        },
        "ccebc39e28484c36a2f40589b3bf1f11": {
          "model_module": "@jupyter-widgets/controls",
          "model_module_version": "1.5.0",
          "model_name": "HTMLModel",
          "state": {
            "_dom_classes": [],
            "_model_module": "@jupyter-widgets/controls",
            "_model_module_version": "1.5.0",
            "_model_name": "HTMLModel",
            "_view_count": null,
            "_view_module": "@jupyter-widgets/controls",
            "_view_module_version": "1.5.0",
            "_view_name": "HTMLView",
            "description": "",
            "description_tooltip": null,
            "layout": "IPY_MODEL_9773ef299044434da15393295edf1a28",
            "placeholder": "​",
            "style": "IPY_MODEL_3ce303e4c1ec4adba6c2fe27b1f870f7",
            "value": " 313/313 [00:42&lt;00:00, 11.53it/s]"
          }
        },
        "d1430548dd534ab59738d78d4547bbd5": {
          "model_module": "@jupyter-widgets/base",
          "model_module_version": "1.2.0",
          "model_name": "LayoutModel",
          "state": {
            "_model_module": "@jupyter-widgets/base",
            "_model_module_version": "1.2.0",
            "_model_name": "LayoutModel",
            "_view_count": null,
            "_view_module": "@jupyter-widgets/base",
            "_view_module_version": "1.2.0",
            "_view_name": "LayoutView",
            "align_content": null,
            "align_items": null,
            "align_self": null,
            "border": null,
            "bottom": null,
            "display": null,
            "flex": null,
            "flex_flow": null,
            "grid_area": null,
            "grid_auto_columns": null,
            "grid_auto_flow": null,
            "grid_auto_rows": null,
            "grid_column": null,
            "grid_gap": null,
            "grid_row": null,
            "grid_template_areas": null,
            "grid_template_columns": null,
            "grid_template_rows": null,
            "height": null,
            "justify_content": null,
            "justify_items": null,
            "left": null,
            "margin": null,
            "max_height": null,
            "max_width": null,
            "min_height": null,
            "min_width": null,
            "object_fit": null,
            "object_position": null,
            "order": null,
            "overflow": null,
            "overflow_x": null,
            "overflow_y": null,
            "padding": null,
            "right": null,
            "top": null,
            "visibility": null,
            "width": null
          }
        },
        "d4ead11d3d034819a242a0e38da91588": {
          "model_module": "@jupyter-widgets/controls",
          "model_module_version": "1.5.0",
          "model_name": "HBoxModel",
          "state": {
            "_dom_classes": [],
            "_model_module": "@jupyter-widgets/controls",
            "_model_module_version": "1.5.0",
            "_model_name": "HBoxModel",
            "_view_count": null,
            "_view_module": "@jupyter-widgets/controls",
            "_view_module_version": "1.5.0",
            "_view_name": "HBoxView",
            "box_style": "",
            "children": [
              "IPY_MODEL_9724872bc0ed40868a0c7584a77e4acd",
              "IPY_MODEL_31707e8b4cbc49b8947ddacbcc55a2c3",
              "IPY_MODEL_ccebc39e28484c36a2f40589b3bf1f11"
            ],
            "layout": "IPY_MODEL_214252e3db784041b11a0e0fbe49dce6"
          }
        },
        "d601f0a937c84660a9ec31d197d97bc6": {
          "model_module": "@jupyter-widgets/base",
          "model_module_version": "1.2.0",
          "model_name": "LayoutModel",
          "state": {
            "_model_module": "@jupyter-widgets/base",
            "_model_module_version": "1.2.0",
            "_model_name": "LayoutModel",
            "_view_count": null,
            "_view_module": "@jupyter-widgets/base",
            "_view_module_version": "1.2.0",
            "_view_name": "LayoutView",
            "align_content": null,
            "align_items": null,
            "align_self": null,
            "border": null,
            "bottom": null,
            "display": null,
            "flex": null,
            "flex_flow": null,
            "grid_area": null,
            "grid_auto_columns": null,
            "grid_auto_flow": null,
            "grid_auto_rows": null,
            "grid_column": null,
            "grid_gap": null,
            "grid_row": null,
            "grid_template_areas": null,
            "grid_template_columns": null,
            "grid_template_rows": null,
            "height": null,
            "justify_content": null,
            "justify_items": null,
            "left": null,
            "margin": null,
            "max_height": null,
            "max_width": null,
            "min_height": null,
            "min_width": null,
            "object_fit": null,
            "object_position": null,
            "order": null,
            "overflow": null,
            "overflow_x": null,
            "overflow_y": null,
            "padding": null,
            "right": null,
            "top": null,
            "visibility": null,
            "width": null
          }
        },
        "d678cedf06ae4a439e42f86c560dadad": {
          "model_module": "@jupyter-widgets/controls",
          "model_module_version": "1.5.0",
          "model_name": "FloatProgressModel",
          "state": {
            "_dom_classes": [],
            "_model_module": "@jupyter-widgets/controls",
            "_model_module_version": "1.5.0",
            "_model_name": "FloatProgressModel",
            "_view_count": null,
            "_view_module": "@jupyter-widgets/controls",
            "_view_module_version": "1.5.0",
            "_view_name": "ProgressView",
            "bar_style": "success",
            "description": "",
            "description_tooltip": null,
            "layout": "IPY_MODEL_a0afbf41fcd248a5b176d1ee06506b9b",
            "max": 1000,
            "min": 0,
            "orientation": "horizontal",
            "style": "IPY_MODEL_1b7d17302acf4b06b6b6dfe3c94c214d",
            "value": 1000
          }
        },
        "da78e21456234a498fa82fcdf98c0af4": {
          "model_module": "@jupyter-widgets/base",
          "model_module_version": "1.2.0",
          "model_name": "LayoutModel",
          "state": {
            "_model_module": "@jupyter-widgets/base",
            "_model_module_version": "1.2.0",
            "_model_name": "LayoutModel",
            "_view_count": null,
            "_view_module": "@jupyter-widgets/base",
            "_view_module_version": "1.2.0",
            "_view_name": "LayoutView",
            "align_content": null,
            "align_items": null,
            "align_self": null,
            "border": null,
            "bottom": null,
            "display": null,
            "flex": null,
            "flex_flow": null,
            "grid_area": null,
            "grid_auto_columns": null,
            "grid_auto_flow": null,
            "grid_auto_rows": null,
            "grid_column": null,
            "grid_gap": null,
            "grid_row": null,
            "grid_template_areas": null,
            "grid_template_columns": null,
            "grid_template_rows": null,
            "height": null,
            "justify_content": null,
            "justify_items": null,
            "left": null,
            "margin": null,
            "max_height": null,
            "max_width": null,
            "min_height": null,
            "min_width": null,
            "object_fit": null,
            "object_position": null,
            "order": null,
            "overflow": null,
            "overflow_x": null,
            "overflow_y": null,
            "padding": null,
            "right": null,
            "top": null,
            "visibility": null,
            "width": null
          }
        },
        "dd100dd1a1844176868153d82181cbd0": {
          "model_module": "@jupyter-widgets/base",
          "model_module_version": "1.2.0",
          "model_name": "LayoutModel",
          "state": {
            "_model_module": "@jupyter-widgets/base",
            "_model_module_version": "1.2.0",
            "_model_name": "LayoutModel",
            "_view_count": null,
            "_view_module": "@jupyter-widgets/base",
            "_view_module_version": "1.2.0",
            "_view_name": "LayoutView",
            "align_content": null,
            "align_items": null,
            "align_self": null,
            "border": null,
            "bottom": null,
            "display": null,
            "flex": null,
            "flex_flow": null,
            "grid_area": null,
            "grid_auto_columns": null,
            "grid_auto_flow": null,
            "grid_auto_rows": null,
            "grid_column": null,
            "grid_gap": null,
            "grid_row": null,
            "grid_template_areas": null,
            "grid_template_columns": null,
            "grid_template_rows": null,
            "height": null,
            "justify_content": null,
            "justify_items": null,
            "left": null,
            "margin": null,
            "max_height": null,
            "max_width": null,
            "min_height": null,
            "min_width": null,
            "object_fit": null,
            "object_position": null,
            "order": null,
            "overflow": null,
            "overflow_x": null,
            "overflow_y": null,
            "padding": null,
            "right": null,
            "top": null,
            "visibility": null,
            "width": null
          }
        },
        "dd4d098bbee54d04ae76b21becc501a0": {
          "model_module": "@jupyter-widgets/controls",
          "model_module_version": "1.5.0",
          "model_name": "DescriptionStyleModel",
          "state": {
            "_model_module": "@jupyter-widgets/controls",
            "_model_module_version": "1.5.0",
            "_model_name": "DescriptionStyleModel",
            "_view_count": null,
            "_view_module": "@jupyter-widgets/base",
            "_view_module_version": "1.2.0",
            "_view_name": "StyleView",
            "description_width": ""
          }
        },
        "df04a8bd53c84694aa0e475307db8bd1": {
          "model_module": "@jupyter-widgets/controls",
          "model_module_version": "1.5.0",
          "model_name": "HBoxModel",
          "state": {
            "_dom_classes": [],
            "_model_module": "@jupyter-widgets/controls",
            "_model_module_version": "1.5.0",
            "_model_name": "HBoxModel",
            "_view_count": null,
            "_view_module": "@jupyter-widgets/controls",
            "_view_module_version": "1.5.0",
            "_view_name": "HBoxView",
            "box_style": "",
            "children": [
              "IPY_MODEL_cc4df2978de04b6b9a96a8562a4e585f",
              "IPY_MODEL_0833cef25c4c4369a29186e000573e28",
              "IPY_MODEL_53f52fea05114b94a7641acf5360653e"
            ],
            "layout": "IPY_MODEL_7f006484ccf84abba8c9f255c09de1dc"
          }
        },
        "e0dab4b99b2d4ea19f0ca1aa293d60ed": {
          "model_module": "@jupyter-widgets/controls",
          "model_module_version": "1.5.0",
          "model_name": "DescriptionStyleModel",
          "state": {
            "_model_module": "@jupyter-widgets/controls",
            "_model_module_version": "1.5.0",
            "_model_name": "DescriptionStyleModel",
            "_view_count": null,
            "_view_module": "@jupyter-widgets/base",
            "_view_module_version": "1.2.0",
            "_view_name": "StyleView",
            "description_width": ""
          }
        },
        "e12f0059618b41e6ac67ffc5c8ba030d": {
          "model_module": "@jupyter-widgets/controls",
          "model_module_version": "1.5.0",
          "model_name": "HBoxModel",
          "state": {
            "_dom_classes": [],
            "_model_module": "@jupyter-widgets/controls",
            "_model_module_version": "1.5.0",
            "_model_name": "HBoxModel",
            "_view_count": null,
            "_view_module": "@jupyter-widgets/controls",
            "_view_module_version": "1.5.0",
            "_view_name": "HBoxView",
            "box_style": "",
            "children": [
              "IPY_MODEL_8695d8a8f4554d6da1cb087f31f0a1df",
              "IPY_MODEL_ed0ba4f2925043bf9ea1ad973d14cce5",
              "IPY_MODEL_f82e236886a842c3b7ef7aab604c2d03"
            ],
            "layout": "IPY_MODEL_37a9ef8490e34e23bc658a92fc820489"
          }
        },
        "e26bbd4b631247839d4149837369e87b": {
          "model_module": "@jupyter-widgets/controls",
          "model_module_version": "1.5.0",
          "model_name": "HTMLModel",
          "state": {
            "_dom_classes": [],
            "_model_module": "@jupyter-widgets/controls",
            "_model_module_version": "1.5.0",
            "_model_name": "HTMLModel",
            "_view_count": null,
            "_view_module": "@jupyter-widgets/controls",
            "_view_module_version": "1.5.0",
            "_view_name": "HTMLView",
            "description": "",
            "description_tooltip": null,
            "layout": "IPY_MODEL_1a65d9d7ec154f4a9b8ab711fcaf8e30",
            "placeholder": "​",
            "style": "IPY_MODEL_ecf2a6f5137e42b7b01791ff24f377dc",
            "value": "Test Loss: 0.4835, Test Acc: 0.7598: 100%"
          }
        },
        "e6389099176f4e969fdd700afa1170da": {
          "model_module": "@jupyter-widgets/controls",
          "model_module_version": "1.5.0",
          "model_name": "HTMLModel",
          "state": {
            "_dom_classes": [],
            "_model_module": "@jupyter-widgets/controls",
            "_model_module_version": "1.5.0",
            "_model_name": "HTMLModel",
            "_view_count": null,
            "_view_module": "@jupyter-widgets/controls",
            "_view_module_version": "1.5.0",
            "_view_name": "HTMLView",
            "description": "",
            "description_tooltip": null,
            "layout": "IPY_MODEL_437b8d4cac644962b453643b48ac0dca",
            "placeholder": "​",
            "style": "IPY_MODEL_18bd011d5b8e4e78bee36d22aec40e09",
            "value": " 250/250 [00:33&lt;00:00, 10.96it/s]"
          }
        },
        "e654e62b020649c7b193e0676dac3302": {
          "model_module": "@jupyter-widgets/controls",
          "model_module_version": "1.5.0",
          "model_name": "DescriptionStyleModel",
          "state": {
            "_model_module": "@jupyter-widgets/controls",
            "_model_module_version": "1.5.0",
            "_model_name": "DescriptionStyleModel",
            "_view_count": null,
            "_view_module": "@jupyter-widgets/base",
            "_view_module_version": "1.2.0",
            "_view_name": "StyleView",
            "description_width": ""
          }
        },
        "e817d25bfe8f4336a3c61a425da14a57": {
          "model_module": "@jupyter-widgets/controls",
          "model_module_version": "1.5.0",
          "model_name": "DescriptionStyleModel",
          "state": {
            "_model_module": "@jupyter-widgets/controls",
            "_model_module_version": "1.5.0",
            "_model_name": "DescriptionStyleModel",
            "_view_count": null,
            "_view_module": "@jupyter-widgets/base",
            "_view_module_version": "1.2.0",
            "_view_name": "StyleView",
            "description_width": ""
          }
        },
        "eb9485dd55954d7e8849fb8b4e8c8076": {
          "model_module": "@jupyter-widgets/base",
          "model_module_version": "1.2.0",
          "model_name": "LayoutModel",
          "state": {
            "_model_module": "@jupyter-widgets/base",
            "_model_module_version": "1.2.0",
            "_model_name": "LayoutModel",
            "_view_count": null,
            "_view_module": "@jupyter-widgets/base",
            "_view_module_version": "1.2.0",
            "_view_name": "LayoutView",
            "align_content": null,
            "align_items": null,
            "align_self": null,
            "border": null,
            "bottom": null,
            "display": null,
            "flex": null,
            "flex_flow": null,
            "grid_area": null,
            "grid_auto_columns": null,
            "grid_auto_flow": null,
            "grid_auto_rows": null,
            "grid_column": null,
            "grid_gap": null,
            "grid_row": null,
            "grid_template_areas": null,
            "grid_template_columns": null,
            "grid_template_rows": null,
            "height": null,
            "justify_content": null,
            "justify_items": null,
            "left": null,
            "margin": null,
            "max_height": null,
            "max_width": null,
            "min_height": null,
            "min_width": null,
            "object_fit": null,
            "object_position": null,
            "order": null,
            "overflow": null,
            "overflow_x": null,
            "overflow_y": null,
            "padding": null,
            "right": null,
            "top": null,
            "visibility": null,
            "width": null
          }
        },
        "ecf2a6f5137e42b7b01791ff24f377dc": {
          "model_module": "@jupyter-widgets/controls",
          "model_module_version": "1.5.0",
          "model_name": "DescriptionStyleModel",
          "state": {
            "_model_module": "@jupyter-widgets/controls",
            "_model_module_version": "1.5.0",
            "_model_name": "DescriptionStyleModel",
            "_view_count": null,
            "_view_module": "@jupyter-widgets/base",
            "_view_module_version": "1.2.0",
            "_view_name": "StyleView",
            "description_width": ""
          }
        },
        "ed0ba4f2925043bf9ea1ad973d14cce5": {
          "model_module": "@jupyter-widgets/controls",
          "model_module_version": "1.5.0",
          "model_name": "FloatProgressModel",
          "state": {
            "_dom_classes": [],
            "_model_module": "@jupyter-widgets/controls",
            "_model_module_version": "1.5.0",
            "_model_name": "FloatProgressModel",
            "_view_count": null,
            "_view_module": "@jupyter-widgets/controls",
            "_view_module_version": "1.5.0",
            "_view_name": "ProgressView",
            "bar_style": "success",
            "description": "",
            "description_tooltip": null,
            "layout": "IPY_MODEL_b239c6accfb941be98a9c0621e8b578b",
            "max": 250,
            "min": 0,
            "orientation": "horizontal",
            "style": "IPY_MODEL_289d28002995405a9a4d08b868bb90e3",
            "value": 250
          }
        },
        "edeace6647d74c709754df8ba7b04014": {
          "model_module": "@jupyter-widgets/base",
          "model_module_version": "1.2.0",
          "model_name": "LayoutModel",
          "state": {
            "_model_module": "@jupyter-widgets/base",
            "_model_module_version": "1.2.0",
            "_model_name": "LayoutModel",
            "_view_count": null,
            "_view_module": "@jupyter-widgets/base",
            "_view_module_version": "1.2.0",
            "_view_name": "LayoutView",
            "align_content": null,
            "align_items": null,
            "align_self": null,
            "border": null,
            "bottom": null,
            "display": null,
            "flex": null,
            "flex_flow": null,
            "grid_area": null,
            "grid_auto_columns": null,
            "grid_auto_flow": null,
            "grid_auto_rows": null,
            "grid_column": null,
            "grid_gap": null,
            "grid_row": null,
            "grid_template_areas": null,
            "grid_template_columns": null,
            "grid_template_rows": null,
            "height": null,
            "justify_content": null,
            "justify_items": null,
            "left": null,
            "margin": null,
            "max_height": null,
            "max_width": null,
            "min_height": null,
            "min_width": null,
            "object_fit": null,
            "object_position": null,
            "order": null,
            "overflow": null,
            "overflow_x": null,
            "overflow_y": null,
            "padding": null,
            "right": null,
            "top": null,
            "visibility": null,
            "width": null
          }
        },
        "f0d36533c4dc448db0e8111850ac32cd": {
          "model_module": "@jupyter-widgets/controls",
          "model_module_version": "1.5.0",
          "model_name": "FloatProgressModel",
          "state": {
            "_dom_classes": [],
            "_model_module": "@jupyter-widgets/controls",
            "_model_module_version": "1.5.0",
            "_model_name": "FloatProgressModel",
            "_view_count": null,
            "_view_module": "@jupyter-widgets/controls",
            "_view_module_version": "1.5.0",
            "_view_name": "ProgressView",
            "bar_style": "success",
            "description": "",
            "description_tooltip": null,
            "layout": "IPY_MODEL_b0a2e11333a94e2aa17f14659479dc3d",
            "max": 1000,
            "min": 0,
            "orientation": "horizontal",
            "style": "IPY_MODEL_5f45e42f5cad4b01b79dbdcb574112fc",
            "value": 1000
          }
        },
        "f424ef931e284132bdd5ce8a9aedc8c3": {
          "model_module": "@jupyter-widgets/base",
          "model_module_version": "1.2.0",
          "model_name": "LayoutModel",
          "state": {
            "_model_module": "@jupyter-widgets/base",
            "_model_module_version": "1.2.0",
            "_model_name": "LayoutModel",
            "_view_count": null,
            "_view_module": "@jupyter-widgets/base",
            "_view_module_version": "1.2.0",
            "_view_name": "LayoutView",
            "align_content": null,
            "align_items": null,
            "align_self": null,
            "border": null,
            "bottom": null,
            "display": null,
            "flex": null,
            "flex_flow": null,
            "grid_area": null,
            "grid_auto_columns": null,
            "grid_auto_flow": null,
            "grid_auto_rows": null,
            "grid_column": null,
            "grid_gap": null,
            "grid_row": null,
            "grid_template_areas": null,
            "grid_template_columns": null,
            "grid_template_rows": null,
            "height": null,
            "justify_content": null,
            "justify_items": null,
            "left": null,
            "margin": null,
            "max_height": null,
            "max_width": null,
            "min_height": null,
            "min_width": null,
            "object_fit": null,
            "object_position": null,
            "order": null,
            "overflow": null,
            "overflow_x": null,
            "overflow_y": null,
            "padding": null,
            "right": null,
            "top": null,
            "visibility": null,
            "width": null
          }
        },
        "f82e236886a842c3b7ef7aab604c2d03": {
          "model_module": "@jupyter-widgets/controls",
          "model_module_version": "1.5.0",
          "model_name": "HTMLModel",
          "state": {
            "_dom_classes": [],
            "_model_module": "@jupyter-widgets/controls",
            "_model_module_version": "1.5.0",
            "_model_name": "HTMLModel",
            "_view_count": null,
            "_view_module": "@jupyter-widgets/controls",
            "_view_module_version": "1.5.0",
            "_view_name": "HTMLView",
            "description": "",
            "description_tooltip": null,
            "layout": "IPY_MODEL_c9c5a64434874ce4b81e68a19e984aef",
            "placeholder": "​",
            "style": "IPY_MODEL_76f5b85ab30a420185d3832762257879",
            "value": " 250/250 [00:34&lt;00:00,  9.53it/s]"
          }
        },
        "fb8842ea7971459eb566e555bd2be03c": {
          "model_module": "@jupyter-widgets/controls",
          "model_module_version": "1.5.0",
          "model_name": "HTMLModel",
          "state": {
            "_dom_classes": [],
            "_model_module": "@jupyter-widgets/controls",
            "_model_module_version": "1.5.0",
            "_model_name": "HTMLModel",
            "_view_count": null,
            "_view_module": "@jupyter-widgets/controls",
            "_view_module_version": "1.5.0",
            "_view_name": "HTMLView",
            "description": "",
            "description_tooltip": null,
            "layout": "IPY_MODEL_9acb0ec180f34cd599027b82388df5d6",
            "placeholder": "​",
            "style": "IPY_MODEL_91114d2bba3340c497f252553be11527",
            "value": "Epoch 2. Train Loss: 0.5189: 100%"
          }
        },
        "fc0421996e204a588eaa5438581a8846": {
          "model_module": "@jupyter-widgets/controls",
          "model_module_version": "1.5.0",
          "model_name": "HTMLModel",
          "state": {
            "_dom_classes": [],
            "_model_module": "@jupyter-widgets/controls",
            "_model_module_version": "1.5.0",
            "_model_name": "HTMLModel",
            "_view_count": null,
            "_view_module": "@jupyter-widgets/controls",
            "_view_module_version": "1.5.0",
            "_view_name": "HTMLView",
            "description": "",
            "description_tooltip": null,
            "layout": "IPY_MODEL_9e3c7ae2b92c406fa830529ae0b2292e",
            "placeholder": "​",
            "style": "IPY_MODEL_63d057d063ba4089b789d0b3a7de981f",
            "value": " 250/250 [00:34&lt;00:00,  8.97it/s]"
          }
        },
        "fe0d12ff5c95478a8f5e2d83a8138413": {
          "model_module": "@jupyter-widgets/controls",
          "model_module_version": "1.5.0",
          "model_name": "HTMLModel",
          "state": {
            "_dom_classes": [],
            "_model_module": "@jupyter-widgets/controls",
            "_model_module_version": "1.5.0",
            "_model_name": "HTMLModel",
            "_view_count": null,
            "_view_module": "@jupyter-widgets/controls",
            "_view_module_version": "1.5.0",
            "_view_name": "HTMLView",
            "description": "",
            "description_tooltip": null,
            "layout": "IPY_MODEL_da78e21456234a498fa82fcdf98c0af4",
            "placeholder": "​",
            "style": "IPY_MODEL_655a4b20080a4274add02b2becc2c75c",
            "value": " 250/250 [00:33&lt;00:00, 11.16it/s]"
          }
        },
        "fe82a61cae1c4d52b7c46765c6352cb0": {
          "model_module": "@jupyter-widgets/base",
          "model_module_version": "1.2.0",
          "model_name": "LayoutModel",
          "state": {
            "_model_module": "@jupyter-widgets/base",
            "_model_module_version": "1.2.0",
            "_model_name": "LayoutModel",
            "_view_count": null,
            "_view_module": "@jupyter-widgets/base",
            "_view_module_version": "1.2.0",
            "_view_name": "LayoutView",
            "align_content": null,
            "align_items": null,
            "align_self": null,
            "border": null,
            "bottom": null,
            "display": null,
            "flex": null,
            "flex_flow": null,
            "grid_area": null,
            "grid_auto_columns": null,
            "grid_auto_flow": null,
            "grid_auto_rows": null,
            "grid_column": null,
            "grid_gap": null,
            "grid_row": null,
            "grid_template_areas": null,
            "grid_template_columns": null,
            "grid_template_rows": null,
            "height": null,
            "justify_content": null,
            "justify_items": null,
            "left": null,
            "margin": null,
            "max_height": null,
            "max_width": null,
            "min_height": null,
            "min_width": null,
            "object_fit": null,
            "object_position": null,
            "order": null,
            "overflow": null,
            "overflow_x": null,
            "overflow_y": null,
            "padding": null,
            "right": null,
            "top": null,
            "visibility": null,
            "width": null
          }
        },
        "ffe8548b63324647a1108f15b4e978b0": {
          "model_module": "@jupyter-widgets/base",
          "model_module_version": "1.2.0",
          "model_name": "LayoutModel",
          "state": {
            "_model_module": "@jupyter-widgets/base",
            "_model_module_version": "1.2.0",
            "_model_name": "LayoutModel",
            "_view_count": null,
            "_view_module": "@jupyter-widgets/base",
            "_view_module_version": "1.2.0",
            "_view_name": "LayoutView",
            "align_content": null,
            "align_items": null,
            "align_self": null,
            "border": null,
            "bottom": null,
            "display": null,
            "flex": null,
            "flex_flow": null,
            "grid_area": null,
            "grid_auto_columns": null,
            "grid_auto_flow": null,
            "grid_auto_rows": null,
            "grid_column": null,
            "grid_gap": null,
            "grid_row": null,
            "grid_template_areas": null,
            "grid_template_columns": null,
            "grid_template_rows": null,
            "height": null,
            "justify_content": null,
            "justify_items": null,
            "left": null,
            "margin": null,
            "max_height": null,
            "max_width": null,
            "min_height": null,
            "min_width": null,
            "object_fit": null,
            "object_position": null,
            "order": null,
            "overflow": null,
            "overflow_x": null,
            "overflow_y": null,
            "padding": null,
            "right": null,
            "top": null,
            "visibility": null,
            "width": null
          }
        }
      }
    }
  },
  "nbformat": 4,
  "nbformat_minor": 0
}