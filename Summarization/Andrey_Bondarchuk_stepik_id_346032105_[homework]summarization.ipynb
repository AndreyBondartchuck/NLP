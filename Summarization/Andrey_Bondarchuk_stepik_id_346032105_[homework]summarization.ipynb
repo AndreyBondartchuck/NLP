{
  "cells": [
    {
      "cell_type": "markdown",
      "metadata": {
        "id": "raFMCg61zB2C"
      },
      "source": [
        "Andrey_Bondarchuk_stepik_id_346032105"
      ]
    },
    {
      "cell_type": "markdown",
      "source": [
        "https://colab.research.google.com/drive/1gBoVNDEI3jlRcJcjDVqZaI0_WKe4Oigr?usp=sharing"
      ],
      "metadata": {
        "id": "NMhgAjTkjURb"
      }
    },
    {
      "cell_type": "markdown",
      "metadata": {
        "id": "tWJTCBu4Tveb"
      },
      "source": [
        "<img src=\"https://static.wixstatic.com/media/66c28f_db7a1ba3e35b4b17a6688472c889b7bf~mv2_d_2777_1254_s_2.png/v1/fill/w_710,h_320,al_c,q_85,usm_0.66_1.00_0.01/logo_yellow_white.webp\" width=1000, height=450>\n",
        "<h3 style=\"text-align: center;\"><b>Физтех-Школа Прикладной математики и информатики (ФПМИ) МФТИ</b></h3>"
      ]
    },
    {
      "cell_type": "markdown",
      "metadata": {
        "id": "Kmb8UhIzOnfK"
      },
      "source": [
        "# Text Summarization\n",
        "\n",
        "Всем привет! Сегодня мы познакомимся с задачей суммаризации текста на примере генерации \"сжатых\" новостей. Рассмотрим некоторые базовые решения и познакомимся с архитектурами нейросетей для решения задачи.\n",
        "Датасет: gazeta.ru\n",
        "\n",
        "\n",
        "`Ноутбук создан на основе семинара Гусева Ильи на кафедре компьютерной лингвистики ABBYY МФТИ.`\n",
        "\n",
        "https://github.com/IlyaGusev/summarus\n",
        "\n",
        "Загрузим датасет и необходимые библиотеки"
      ]
    },
    {
      "cell_type": "code",
      "execution_count": null,
      "metadata": {
        "id": "OqkLTkFRfXvA"
      },
      "outputs": [],
      "source": [
        "!wget -q https://www.dropbox.com/s/43l702z5a5i2w8j/gazeta_train.txt\n",
        "!wget -q https://www.dropbox.com/s/k2egt3sug0hb185/gazeta_val.txt\n",
        "!wget -q https://www.dropbox.com/s/3gki5n5djs9w0v6/gazeta_test.txt"
      ]
    },
    {
      "cell_type": "code",
      "execution_count": null,
      "metadata": {
        "colab": {
          "base_uri": "https://localhost:8080/"
        },
        "id": "SXS1sdYZCluU",
        "outputId": "b96bf2a1-ffc9-4227-9eb4-ee8db1c30b3f"
      },
      "outputs": [
        {
          "output_type": "stream",
          "name": "stdout",
          "text": [
            "\u001b[K     |████████████████████████████████| 55 kB 2.5 MB/s \n",
            "\u001b[K     |████████████████████████████████| 54 kB 3.4 MB/s \n",
            "\u001b[K     |████████████████████████████████| 8.2 MB 16.7 MB/s \n",
            "\u001b[?25h  Building wheel for summa (setup.py) ... \u001b[?25l\u001b[?25hdone\n"
          ]
        }
      ],
      "source": [
        "!pip -q install razdel networkx pymorphy2 nltk rouge==0.3.1 summa "
      ]
    },
    {
      "cell_type": "markdown",
      "metadata": {
        "id": "Wa0NfryxbPUP"
      },
      "source": [
        "## Dataset"
      ]
    },
    {
      "cell_type": "markdown",
      "metadata": {
        "id": "eesnclfDDV3F"
      },
      "source": [
        "Посмотрим на то, как устроен датасет"
      ]
    },
    {
      "cell_type": "code",
      "execution_count": null,
      "metadata": {
        "colab": {
          "base_uri": "https://localhost:8080/"
        },
        "id": "Mz6CZYKQhnd-",
        "outputId": "f4ecaf0c-cdb8-4039-d688-2347f9a41c2e"
      },
      "outputs": [
        {
          "output_type": "stream",
          "name": "stdout",
          "text": [
            "{\"url\": \"https://www.gazeta.ru/financial/2011/11/30/3852658.shtml\", \"text\": \"«По итогам 2011 года чистый отток может составить примерно $80 млрд, в следующем году — около $20 млрд. При этом мы ожидаем, что со второго полугодия 2012 года начнется приток капитала», — заявил «Интерфаксу» замминистра экономического развития Андрей Клепач. Официальные прогнозы по выводу капитала из России становятся все пессимистичными: еще летом власти полагали, что из страны уйдет не более $35 млрд, в сентябре Минэкономразвития назвал цифру $50 млрд, в начале ноября Центробанк пересмотрел оценку до $70 млрд. Очередное изменение прогноза было ожидаемо: по расчетам Центробанка , за январь — октябрь чистый отток капитала достиг $64 млрд, причем в последние месяцы он ускорился: в сентябре он составил $14 млрд, в октябре — $13 млрд против среднего ежемесячного оттока в $6—8 млрд в первом полугодии. «После октябрьских данных Минэкономразвития вынуждено было изменить оценку, настаивать на $70 млрд означало ожидать серьезного замедления оттока капитала на непонятно каких причинах», — говорит главный экономист BNP Paribas Юлия Цепляева. «В последние два месяца отток капитала ускорится, на декабрь приходится значительная часть выплат по внешним долгам, что приводит к усилению оттока, особенно если они не рефинансируются новыми кредитами», — соглашается главный экономист ФК «Открытие» Владимир Тихомиров. Прогнозируемый Минэкономразвития отток капитала — один из самых высоких за последние 20 лет. Больше ушло лишь в 2008 году на фоне разрастания финансового кризиса и российско-грузинской войны — $133,7 млрд. В кризисный 2009 год из России утекло $56,1 млрд. Главный фактор ускорения оттока капитала в 2011 году — нестабильность на внешних финансовых рынках и рост опасений относительно второй волны рецессии. «Это реакция на неуверенность, которую генерирует Европа с долговыми проблемами. В случае новой волны глобальной турбулентности Россия — одна из самых уязвимых стран», — говорит Цепляева. Еще одна причина — ослабление рубля. «Привлекательность вложений снижается на фоне того, что рубль перестал укрепляться, а ставки по депозитам достаточно низкие. В результате экспортеры не полностью возвращают экспортную выручку», — говорит Тихомиров. Внутри страны эксперты не видят особых причин для бегства капитала. «Ситуация выглядит достаточно позитивно, очень хорошие макроэкономические результаты за год, особенно на фоне других стран. С политической точки зрения все достаточно понятно и предсказуемо, итог выборов очевиден», — говорит экономист ИК «Тройка Диалог» Антон Струченевский. Тем не менее политический фактор играет роль. «Бизнесу важно не только, кто будет президентом, он ждет ясности с перестановками в правительстве. В наших условиях административный ресурс важнее всего для успешности бизнеса», — говорит Цепляева, добавляя, что отток капитала продолжится до завершения президентских выборов.\", \"title\": \"Прогноз не успевает за оттоком\", \"summary\": \"В 2011 году из России уйдет $80 млрд, считают в Минэкономразвития. Менее месяца назад Центробанк давал оценку $70 млрд, повысив первоначальный прогноз вдвое. Отток капитала из страны усиливается из-за кризиса в Европе, а в декабре российским компаниям выплачивать внешние долги. На движение капитала повлияли и выборы: несмотря на их предсказуемость, бизнес хочет ясности с перестановками в правительстве.\", \"date\": \"2011-11-30 18:33:39\"}\n",
            "52400\n",
            "5265\n",
            "5770\n"
          ]
        }
      ],
      "source": [
        "!head -n 1 gazeta_train.txt\n",
        "!cat gazeta_train.txt | wc -l\n",
        "!cat gazeta_val.txt | wc -l\n",
        "!cat gazeta_test.txt | wc -l"
      ]
    },
    {
      "cell_type": "code",
      "execution_count": null,
      "metadata": {
        "id": "5pZ2UGS2DGjH"
      },
      "outputs": [],
      "source": [
        "import json\n",
        "import random\n",
        "\n",
        "def read_gazeta_records(file_name, shuffle=True, sort_by_date=False):\n",
        "    assert shuffle != sort_by_date\n",
        "    records = []\n",
        "    with open(file_name, \"r\") as r:\n",
        "        for line in r:\n",
        "            records.append(json.loads(line))\n",
        "    if sort_by_date:\n",
        "        records.sort(key=lambda x: x[\"date\"])\n",
        "    if shuffle:\n",
        "        random.shuffle\n",
        "    return records"
      ]
    },
    {
      "cell_type": "code",
      "execution_count": null,
      "metadata": {
        "id": "GNDp-BunEA91"
      },
      "outputs": [],
      "source": [
        "train_records = read_gazeta_records(\"gazeta_train.txt\")\n",
        "val_records = read_gazeta_records(\"gazeta_val.txt\")\n",
        "test_records = read_gazeta_records(\"gazeta_test.txt\")"
      ]
    },
    {
      "cell_type": "code",
      "execution_count": null,
      "metadata": {
        "colab": {
          "base_uri": "https://localhost:8080/"
        },
        "id": "hhAq1LhJU_eC",
        "outputId": "c8e62907-3e0f-462f-80f7-52ebda32a052"
      },
      "outputs": [
        {
          "output_type": "execute_result",
          "data": {
            "text/plain": [
              "{'date': '2011-11-30 18:33:39',\n",
              " 'summary': 'В 2011 году из России уйдет $80 млрд, считают в Минэкономразвития. Менее месяца назад Центробанк давал оценку $70 млрд, повысив первоначальный прогноз вдвое. Отток капитала из страны усиливается из-за кризиса в Европе, а в декабре российским компаниям выплачивать внешние долги. На движение капитала повлияли и выборы: несмотря на их предсказуемость, бизнес хочет ясности с перестановками в правительстве.',\n",
              " 'text': '«По итогам 2011 года чистый отток может составить примерно $80 млрд, в следующем году — около $20 млрд. При этом мы ожидаем, что со второго полугодия 2012 года начнется приток капитала», — заявил «Интерфаксу» замминистра экономического развития Андрей Клепач. Официальные прогнозы по выводу капитала из России становятся все пессимистичными: еще летом власти полагали, что из страны уйдет не более $35 млрд, в сентябре Минэкономразвития назвал цифру $50 млрд, в начале ноября Центробанк пересмотрел оценку до $70 млрд. Очередное изменение прогноза было ожидаемо: по расчетам Центробанка , за январь — октябрь чистый отток капитала достиг $64 млрд, причем в последние месяцы он ускорился: в сентябре он составил $14 млрд, в октябре — $13 млрд против среднего ежемесячного оттока в $6—8 млрд в первом полугодии. «После октябрьских данных Минэкономразвития вынуждено было изменить оценку, настаивать на $70 млрд означало ожидать серьезного замедления оттока капитала на непонятно каких причинах», — говорит главный экономист BNP Paribas Юлия Цепляева. «В последние два месяца отток капитала ускорится, на декабрь приходится значительная часть выплат по внешним долгам, что приводит к усилению оттока, особенно если они не рефинансируются новыми кредитами», — соглашается главный экономист ФК «Открытие» Владимир Тихомиров. Прогнозируемый Минэкономразвития отток капитала — один из самых высоких за последние 20 лет. Больше ушло лишь в 2008 году на фоне разрастания финансового кризиса и российско-грузинской войны — $133,7 млрд. В кризисный 2009 год из России утекло $56,1 млрд. Главный фактор ускорения оттока капитала в 2011 году — нестабильность на внешних финансовых рынках и рост опасений относительно второй волны рецессии. «Это реакция на неуверенность, которую генерирует Европа с долговыми проблемами. В случае новой волны глобальной турбулентности Россия — одна из самых уязвимых стран», — говорит Цепляева. Еще одна причина — ослабление рубля. «Привлекательность вложений снижается на фоне того, что рубль перестал укрепляться, а ставки по депозитам достаточно низкие. В результате экспортеры не полностью возвращают экспортную выручку», — говорит Тихомиров. Внутри страны эксперты не видят особых причин для бегства капитала. «Ситуация выглядит достаточно позитивно, очень хорошие макроэкономические результаты за год, особенно на фоне других стран. С политической точки зрения все достаточно понятно и предсказуемо, итог выборов очевиден», — говорит экономист ИК «Тройка Диалог» Антон Струченевский. Тем не менее политический фактор играет роль. «Бизнесу важно не только, кто будет президентом, он ждет ясности с перестановками в правительстве. В наших условиях административный ресурс важнее всего для успешности бизнеса», — говорит Цепляева, добавляя, что отток капитала продолжится до завершения президентских выборов.',\n",
              " 'title': 'Прогноз не успевает за оттоком',\n",
              " 'url': 'https://www.gazeta.ru/financial/2011/11/30/3852658.shtml'}"
            ]
          },
          "metadata": {},
          "execution_count": 13
        }
      ],
      "source": [
        "train_records[0]"
      ]
    },
    {
      "cell_type": "code",
      "execution_count": null,
      "metadata": {
        "id": "397gjsNfFBZ_"
      },
      "outputs": [],
      "source": [
        "from nltk.translate.bleu_score import corpus_bleu\n",
        "from rouge import Rouge\n",
        "\n",
        "def calc_scores(references, predictions, metric=\"all\"):\n",
        "    print(\"Count:\", len(predictions))\n",
        "    print(\"Ref:\", references[-1])\n",
        "    print(\"Hyp:\", predictions[-1])\n",
        "    \n",
        "    bleu = 0\n",
        "    rouge_2f = 0\n",
        "    \n",
        "    if metric in (\"bleu\", \"all\"):\n",
        "        bleu = corpus_bleu([[r] for r in references], predictions)\n",
        "        print(\"BLEU: \", bleu)\n",
        "    if metric in (\"rouge\", \"all\"):\n",
        "        rouge = Rouge()\n",
        "        scores = rouge.get_scores(predictions, references, avg=True)\n",
        "        rouge_2f = scores['rouge-2']['f']\n",
        "        print(\"ROUGE: \", scores)\n",
        "\n",
        "    return bleu , rouge_2f"
      ]
    },
    {
      "cell_type": "markdown",
      "metadata": {
        "id": "aaJKNsUGFBaA"
      },
      "source": [
        "## Extractive RNN"
      ]
    },
    {
      "cell_type": "markdown",
      "metadata": {
        "id": "l3izlm8HFBaC"
      },
      "source": [
        "### BPE\n",
        "Для начала сделаем BPE токенизацию"
      ]
    },
    {
      "cell_type": "code",
      "execution_count": null,
      "metadata": {
        "colab": {
          "base_uri": "https://localhost:8080/"
        },
        "id": "2DMVtloWFBaC",
        "outputId": "ea1c6887-9e36-476f-f195-75337b5462d6"
      },
      "outputs": [
        {
          "output_type": "stream",
          "name": "stdout",
          "text": [
            "Looking in indexes: https://pypi.org/simple, https://us-python.pkg.dev/colab-wheels/public/simple/\n",
            "Collecting youtokentome\n",
            "  Downloading youtokentome-1.0.6-cp37-cp37m-manylinux2010_x86_64.whl (1.7 MB)\n",
            "\u001b[K     |████████████████████████████████| 1.7 MB 5.3 MB/s \n",
            "\u001b[?25hRequirement already satisfied: Click>=7.0 in /usr/local/lib/python3.7/dist-packages (from youtokentome) (7.1.2)\n",
            "Installing collected packages: youtokentome\n",
            "Successfully installed youtokentome-1.0.6\n"
          ]
        }
      ],
      "source": [
        "!pip install youtokentome"
      ]
    },
    {
      "cell_type": "code",
      "execution_count": null,
      "metadata": {
        "colab": {
          "base_uri": "https://localhost:8080/"
        },
        "id": "Yg9T6q0wFBaF",
        "outputId": "ed9c675f-86f6-449a-c517-7e367e5a3d9b"
      },
      "outputs": [
        {
          "output_type": "stream",
          "name": "stdout",
          "text": [
            "CPU times: user 27.8 s, sys: 2.29 s, total: 30 s\n",
            "Wall time: 24.4 s\n"
          ]
        }
      ],
      "source": [
        "%%time\n",
        "import youtokentome as yttm\n",
        "\n",
        "def train_bpe(records, model_path, model_type=\"bpe\", vocab_size=10000, lower=True):\n",
        "    temp_file_name = \"temp.txt\"\n",
        "    with open(temp_file_name, \"w\") as temp:\n",
        "        for record in records:\n",
        "            text, summary = record['text'], record['summary']\n",
        "            if lower:\n",
        "                summary = summary.lower()\n",
        "                text = text.lower()\n",
        "            if not text or not summary:\n",
        "                continue\n",
        "            temp.write(text + \"\\n\")\n",
        "            temp.write(summary + \"\\n\")\n",
        "    yttm.BPE.train(data=temp_file_name, vocab_size=vocab_size, model=model_path)\n",
        "\n",
        "train_bpe(train_records, \"BPE_model.bin\")"
      ]
    },
    {
      "cell_type": "markdown",
      "metadata": {
        "id": "jJFAJHTtFBaF"
      },
      "source": [
        "### Словарь\n",
        "Составим словарь для индексации токенов"
      ]
    },
    {
      "cell_type": "code",
      "execution_count": null,
      "metadata": {
        "id": "MueXtatmFBaG"
      },
      "outputs": [],
      "source": [
        "bpe_processor = yttm.BPE('BPE_model.bin')\n",
        "vocabulary = bpe_processor.vocab()"
      ]
    },
    {
      "cell_type": "markdown",
      "metadata": {
        "id": "Z_C_p7tHFBaH"
      },
      "source": [
        "### Кэш oracle summary\n",
        "Закэшируем oracle summary, чтобы не пересчитывать их каждый раз"
      ]
    },
    {
      "cell_type": "code",
      "execution_count": null,
      "metadata": {
        "colab": {
          "base_uri": "https://localhost:8080/",
          "height": 150,
          "referenced_widgets": [
            "12f1e80f5e02483ca63252ff070f9f8e",
            "65c7d4e4beee4994b26da9f3e6e942e1",
            "12ad0284ddc54b79bf972be685fa42a4",
            "045c9bc0f6dd4919a5de67d858e6ecf7",
            "9a08996cd210421e8d9d1d322e7fda62",
            "9b7c7c3d004140a3814df18f9f103b80",
            "31213de8beaf4e058c27bafc0afac05b",
            "d9e6e08df6c74e9ea500709d7e4569d7",
            "f678ebaa44934681bf3c8d636a184082",
            "95e6dfd29c05454188c08c480568843d",
            "38c86e39a6644024801a501c25345f93",
            "6874b8c3f68d4e58a8298faf1a146b31",
            "10b269ef1f3b4f6fa5c56e6a22f5ce02",
            "1f5ae7f08ff3428f823a16c70d0eead9",
            "b2b118af211f4f1db9e5f421b21cd5ba",
            "bb9743aa1501496cbb7c9b9b52caf1b7",
            "fa843a2622754851a6f3434d719470f6",
            "5e06b82118744df685d4eb15a6510a49",
            "a39eeafe4556403c8b3e6b8993e136fe",
            "676f60c324a74f2288d1e194b3a94c1e",
            "c4b0a46f3902458199c7c7e9ed35db32",
            "c6615434a5734491b479c7a7d413f5dc",
            "b2e3a74cd51d471692ce029371126347",
            "417e647facab4151b8ef68d56736332e",
            "8af7b1dbe61741399368b7fc40fa83fe",
            "ccc2e08d9ff1426fbb863d570f5486a0",
            "9f20474fb16341358987ce1b56fc6070",
            "c68cf6b99ea74f3580d96b546d495c2b",
            "c8ecf9567b764c7693d4b17d653a4057",
            "c5c5e675831741f3b8d64ceaa01d1800",
            "39d6d61af7b44bfca8a9b07b85e73db9",
            "dbb3282c485b410785d2e99f5e799e1d",
            "d834ca55a63a40018537297f6fa81676"
          ]
        },
        "id": "Fp23tuPbFBaH",
        "outputId": "03a800df-d7d0-4d54-f7a4-90886db061e1"
      },
      "outputs": [
        {
          "output_type": "display_data",
          "data": {
            "text/plain": [
              "0it [00:00, ?it/s]"
            ],
            "application/vnd.jupyter.widget-view+json": {
              "version_major": 2,
              "version_minor": 0,
              "model_id": "12f1e80f5e02483ca63252ff070f9f8e"
            }
          },
          "metadata": {}
        },
        {
          "output_type": "display_data",
          "data": {
            "text/plain": [
              "0it [00:00, ?it/s]"
            ],
            "application/vnd.jupyter.widget-view+json": {
              "version_major": 2,
              "version_minor": 0,
              "model_id": "6874b8c3f68d4e58a8298faf1a146b31"
            }
          },
          "metadata": {}
        },
        {
          "output_type": "display_data",
          "data": {
            "text/plain": [
              "0it [00:00, ?it/s]"
            ],
            "application/vnd.jupyter.widget-view+json": {
              "version_major": 2,
              "version_minor": 0,
              "model_id": "b2e3a74cd51d471692ce029371126347"
            }
          },
          "metadata": {}
        },
        {
          "output_type": "stream",
          "name": "stdout",
          "text": [
            "CPU times: user 6min 46s, sys: 1.56 s, total: 6min 48s\n",
            "Wall time: 6min 49s\n"
          ]
        }
      ],
      "source": [
        "%%time\n",
        "\n",
        "from rouge import Rouge\n",
        "import razdel\n",
        "from tqdm.notebook import tqdm\n",
        "\n",
        "import copy\n",
        "\n",
        "def build_oracle_summary_greedy(text, gold_summary, calc_score, lower=True, max_sentences=30):\n",
        "    '''\n",
        "    Жадное построение oracle summary\n",
        "    '''\n",
        "    gold_summary = gold_summary.lower() if lower else gold_summary\n",
        "    # Делим текст на предложения\n",
        "    sentences = [sentence.text.lower() if lower else sentence.text for sentence in razdel.sentenize(text)][:max_sentences]\n",
        "    n_sentences = len(sentences)\n",
        "    oracle_summary_sentences = set()\n",
        "    \n",
        "    score = -1.0\n",
        "    summaries = []\n",
        "    for _ in range(n_sentences):\n",
        "        for i in range(n_sentences):\n",
        "            if i in oracle_summary_sentences:\n",
        "                continue\n",
        "            current_summary_sentences = copy.copy(oracle_summary_sentences)\n",
        "            # Добавляем какое-то предложения к уже существующему summary\n",
        "            current_summary_sentences.add(i)\n",
        "            current_summary = \" \".join([sentences[index] for index in sorted(list(current_summary_sentences))])\n",
        "            # Считаем метрики\n",
        "            current_score = calc_score(current_summary, gold_summary)\n",
        "            summaries.append((current_score, current_summary_sentences))\n",
        "        # Если получилось улучшить метрики с добавлением какого-либо предложения, то пробуем добавить ещё\n",
        "        # Иначе на этом заканчиваем\n",
        "        best_summary_score, best_summary_sentences = max(summaries)\n",
        "        if best_summary_score <= score:\n",
        "            break\n",
        "        oracle_summary_sentences = best_summary_sentences\n",
        "        score = best_summary_score\n",
        "    oracle_summary = \" \".join([sentences[index] for index in sorted(list(oracle_summary_sentences))])\n",
        "    return oracle_summary, oracle_summary_sentences\n",
        "\n",
        "def calc_single_score(pred_summary, gold_summary, rouge):\n",
        "    return rouge.get_scores([pred_summary], [gold_summary], avg=True)['rouge-2']['f']\n",
        "\n",
        "def add_oracle_summary_to_records(records, max_sentences=30, lower=True, nrows=1000):\n",
        "    rouge = Rouge()\n",
        "    for i, record in tqdm(enumerate(records)):\n",
        "        if i >= nrows:\n",
        "            break\n",
        "        text = record[\"text\"]\n",
        "        summary = record[\"summary\"]\n",
        "\n",
        "        summary = summary.lower() if lower else summary\n",
        "        sentences = [sentence.text.lower() if lower else sentence.text for sentence in razdel.sentenize(text)][:max_sentences]\n",
        "        oracle_summary, sentences_indicies = build_oracle_summary_greedy(text, summary, calc_score=lambda x, y: calc_single_score(x, y, rouge),\n",
        "                                                                         lower=lower, max_sentences=max_sentences)\n",
        "        record[\"sentences\"] = sentences\n",
        "        record[\"oracle_sentences\"] = list(sentences_indicies)\n",
        "        record[\"oracle_summary\"] = oracle_summary\n",
        "\n",
        "    return records[:nrows]\n",
        "\n",
        "ext_train_records = add_oracle_summary_to_records(train_records, nrows=2048)\n",
        "ext_val_records = add_oracle_summary_to_records(val_records, nrows=256)\n",
        "ext_test_records = add_oracle_summary_to_records(test_records, nrows=256)"
      ]
    },
    {
      "cell_type": "markdown",
      "metadata": {
        "id": "teKOFxutZVXI"
      },
      "source": [
        "Сериализуем объекты, чтобы при перезапуске ноутбука не терять время на построение oracle summary"
      ]
    },
    {
      "cell_type": "code",
      "execution_count": null,
      "metadata": {
        "id": "XbtVFEVjRxUC"
      },
      "outputs": [],
      "source": [
        "import pickle"
      ]
    },
    {
      "cell_type": "code",
      "execution_count": null,
      "metadata": {
        "id": "-x62YeFLP11g"
      },
      "outputs": [],
      "source": [
        "with open('ext_train_records.pickle', 'wb') as f:\n",
        "    pickle.dump(ext_train_records, f)\n",
        "with open('ext_val_records.pickle', 'wb') as f:\n",
        "    pickle.dump(ext_val_records, f)\n",
        "with open('ext_test_records.pickle', 'wb') as f:\n",
        "    pickle.dump(ext_test_records, f)"
      ]
    },
    {
      "cell_type": "code",
      "execution_count": null,
      "metadata": {
        "id": "hvcFcBQ1aOlp"
      },
      "outputs": [],
      "source": [
        "with open('ext_train_records.pickle', 'rb') as f:\n",
        "    ext_train_records = pickle.load(f)\n",
        "with open('ext_val_records.pickle', 'rb') as f:\n",
        "    ext_val_records = pickle.load(f)\n",
        "with open('ext_test_records.pickle', 'rb') as f:\n",
        "    ext_test_records = pickle.load(f)"
      ]
    },
    {
      "cell_type": "markdown",
      "metadata": {
        "id": "eoO457cEaSW2"
      },
      "source": [
        "Посмотрим на балансировку классов, рассчитиаем веса классов на train для Кросс-Энтропии. Расчет весов классов будем проводить по формуле"
      ]
    },
    {
      "cell_type": "markdown",
      "metadata": {
        "id": "8MGJkxiUJ9MI"
      },
      "source": [
        "![image.png](data:image/png;base64,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)"
      ]
    },
    {
      "cell_type": "code",
      "execution_count": null,
      "metadata": {
        "colab": {
          "base_uri": "https://localhost:8080/"
        },
        "id": "plcwGpv7f4SS",
        "outputId": "680f38eb-e93d-4c04-c4dd-3b2e6598fd41"
      },
      "outputs": [
        {
          "output_type": "execute_result",
          "data": {
            "text/plain": [
              "[0.07688880511335401, 0.923111194886646]"
            ]
          },
          "metadata": {},
          "execution_count": 21
        }
      ],
      "source": [
        "count_positive_class = 0\n",
        "count_all_class = 0\n",
        "for record in ext_train_records:\n",
        "    count_positive_class += len(record['oracle_sentences'])\n",
        "    count_all_class += len(record['sentences']) \n",
        "# нулевой класс, первый класс (0, 1) \n",
        "weights= [count_positive_class/count_all_class,  1 - count_positive_class/count_all_class]\n",
        "weights"
      ]
    },
    {
      "cell_type": "code",
      "execution_count": null,
      "metadata": {
        "id": "kWKMyPZUhjfw"
      },
      "outputs": [],
      "source": [
        "assert sum(weights) == 1"
      ]
    },
    {
      "cell_type": "markdown",
      "metadata": {
        "id": "NndCFEhOa4sP"
      },
      "source": [
        "**Вывод: Классы несбалансированы. Поэтому для целевого класса необходимо увеличить вес.**"
      ]
    },
    {
      "cell_type": "markdown",
      "metadata": {
        "id": "UlXXc8qUHC5m"
      },
      "source": [
        "### Составление батчей"
      ]
    },
    {
      "cell_type": "code",
      "execution_count": null,
      "metadata": {
        "colab": {
          "base_uri": "https://localhost:8080/"
        },
        "id": "YATQKCuqHPo3",
        "outputId": "f09cc0b8-9b79-4d06-e973-c9a4cb8865ce"
      },
      "outputs": [
        {
          "output_type": "execute_result",
          "data": {
            "text/plain": [
              "device(type='cuda')"
            ]
          },
          "metadata": {},
          "execution_count": 23
        }
      ],
      "source": [
        "import torch\n",
        "device = torch.device('cuda' if torch.cuda.is_available() else 'cpu')\n",
        "device"
      ]
    },
    {
      "cell_type": "code",
      "execution_count": null,
      "metadata": {
        "id": "MNyxstTChK3C"
      },
      "outputs": [],
      "source": [
        "import random\n",
        "import math\n",
        "import razdel\n",
        "import torch\n",
        "import numpy as np\n",
        "from rouge import Rouge\n",
        "\n",
        "\n",
        "class BatchIterator():\n",
        "    def __init__(self, records, vocabulary, batch_size, bpe_processor, shuffle=True, lower=True, max_sentences=30, max_sentence_length=50, device=torch.device('cpu')):\n",
        "        self.records = records\n",
        "        self.num_samples = len(records)\n",
        "        self.batch_size = batch_size\n",
        "        self.bpe_processor = bpe_processor\n",
        "        self.shuffle = shuffle\n",
        "        self.batches_count = int(math.ceil(self.num_samples / batch_size))\n",
        "        self.lower = lower\n",
        "        self.rouge = Rouge()\n",
        "        self.vocabulary = vocabulary\n",
        "        self.max_sentences = max_sentences\n",
        "        self.max_sentence_length = max_sentence_length\n",
        "        self.device = device\n",
        "        \n",
        "    def __len__(self):\n",
        "        return self.batches_count\n",
        "    \n",
        "    def __iter__(self):\n",
        "        indices = np.arange(self.num_samples)\n",
        "        if self.shuffle:\n",
        "            np.random.shuffle(indices)\n",
        "\n",
        "        for start in range(0, self.num_samples, self.batch_size):\n",
        "            end = min(start + self.batch_size, self.num_samples)\n",
        "            batch_indices = indices[start:end]\n",
        "\n",
        "            batch_inputs = []\n",
        "            batch_outputs = []\n",
        "            max_sentence_length = 0\n",
        "            max_sentences = 0\n",
        "            batch_records = []\n",
        "\n",
        "            for data_ind in batch_indices:\n",
        "                \n",
        "                record = self.records[data_ind]\n",
        "                batch_records.append(record)\n",
        "                text = record[\"text\"]\n",
        "                summary = record[\"summary\"]\n",
        "                summary = summary.lower() if self.lower else summary\n",
        "\n",
        "                if \"sentences\" not in record:\n",
        "                    sentences = [sentence.text.lower() if self.lower else sentence.text for sentence in razdel.sentenize(text)][:self.max_sentences]\n",
        "                else:\n",
        "                    sentences = record[\"sentences\"]\n",
        "                max_sentences = max(len(sentences), max_sentences)\n",
        "                \n",
        "                # номера предложений, которые в нашем саммари\n",
        "                if \"oracle_sentences\" not in record:\n",
        "                    calc_score = lambda x, y: calc_single_score(x, y, self.rouge)\n",
        "                    sentences_indicies = build_oracle_summary_greedy(text, summary, calc_score=calc_score, lower=self.lower, max_sentences=self.max_sentences)[1]\n",
        "                else:   \n",
        "                    sentences_indicies = record[\"oracle_sentences\"]\n",
        "                \n",
        "                # inputs - индексы слов в предложении\n",
        "                inputs = [bpe_processor.encode(sentence)[:self.max_sentence_length] for sentence in sentences]\n",
        "                max_sentence_length = max(max_sentence_length, max([len(tokens) for tokens in inputs]))\n",
        "                \n",
        "                # получение метки класса предложения\n",
        "                outputs = [int(i in sentences_indicies) for i in range(len(sentences))]\n",
        "                batch_inputs.append(inputs)\n",
        "                batch_outputs.append(outputs)\n",
        "\n",
        "            tensor_inputs = torch.zeros((self.batch_size, max_sentences, max_sentence_length), dtype=torch.long, device=self.device)\n",
        "            # we add index 2 for padding\n",
        "            # YOUR CODE ------------------------------------------------------------------------------------------------\n",
        "            tensor_outputs = 2 * torch.ones((self.batch_size, max_sentences), dtype=torch.float32, device=self.device)\n",
        "            # ----------------------------------------------------------------------------------------------------------\n",
        "  \n",
        "            for i, inputs in enumerate(batch_inputs):\n",
        "                for j, sentence_tokens in enumerate(inputs):\n",
        "                    tensor_inputs[i][j][:len(sentence_tokens)] = torch.tensor(sentence_tokens, dtype=torch.int64)\n",
        "\n",
        "            for i, outputs in enumerate(batch_outputs):\n",
        "                tensor_outputs[i][:len(outputs)] = torch.LongTensor(outputs)\n",
        "\n",
        "            tensor_outputs = tensor_outputs.long()\n",
        "            yield {\n",
        "                'inputs': tensor_inputs,\n",
        "                'outputs': tensor_outputs,\n",
        "                'records': batch_records\n",
        "            }"
      ]
    },
    {
      "cell_type": "code",
      "execution_count": null,
      "metadata": {
        "id": "5ug9MIObdi03"
      },
      "outputs": [],
      "source": [
        "train_iterator = BatchIterator(ext_train_records, vocabulary, 32, bpe_processor, device=device)\n",
        "val_iterator = BatchIterator(ext_val_records, vocabulary, 32, bpe_processor, device=device)\n",
        "test_iterator = BatchIterator(ext_test_records, vocabulary, 32, bpe_processor, device=device)"
      ]
    },
    {
      "cell_type": "markdown",
      "metadata": {
        "id": "yPlJMg0_dQM-"
      },
      "source": [
        "## Extractor -  SummaRuNNer\n",
        " https://arxiv.org/pdf/1611.04230.pdf\n"
      ]
    },
    {
      "cell_type": "markdown",
      "metadata": {
        "id": "4BSsnfe4t1uK"
      },
      "source": [
        "### Homework\n",
        "\n",
        "* В данной реализации в `outputs` в качестве padding используется индекс 0. Измените в функции \\_\\_iter__ индекс padding, чтобы он не совпадал с классом 0 или 1, например, 2.\n",
        "* В качестве criterion используйте `CrossEntropyLoss`вместо `BCEWithLogitsLoss`\n",
        "* Из-за смены criterion, вы уже должны подавать на вход criterion ни одно число, а logits для каждого класса. Перед подачей logits вы можете отфильтровать предсказания для класса padding. В этом пункте вам придется изменять файл `train_model.py`, а именно функциии `train` и `evaluate`.\n",
        "* Используйте два варианта обучения: c весами в `CrossEntropyLoss` и без\n",
        "* Также сравните `inference`, когда вы ранжируете logits, и когды вы выбирате предложения, у котрых logits > 0, в двух вариантах обучения. \n",
        "* Реализуйте дополнительно характеристику предложения `novelty`. Как влияет добавление `novelty` на качество summary?\n",
        "* Постарайтесь улучшить качество модели, полученной на семинаре: $BLEU \\approx 0.45$"
      ]
    },
    {
      "cell_type": "code",
      "execution_count": null,
      "metadata": {
        "id": "iW7iS76KeEdO"
      },
      "outputs": [],
      "source": [
        "import numpy as np\n",
        "\n",
        "import torch\n",
        "import torch.nn as nn\n",
        "import torch.nn.functional as F\n",
        "import torch.optim as optim\n",
        "from torch.autograd import Variable\n",
        "\n",
        "from torch.nn.utils.rnn import pack_padded_sequence as pack\n",
        "from torch.nn.utils.rnn import pad_packed_sequence as unpack\n",
        "\n",
        "class SentenceEncoderRNN(nn.Module):\n",
        "    def __init__(self, input_size, embedding_dim, hidden_size, n_layers=3, dropout=0.3, bidirectional=True):\n",
        "        super().__init__()\n",
        "\n",
        "        num_directions = 2 if bidirectional else 1\n",
        "        assert hidden_size % num_directions == 0\n",
        "        hidden_size = hidden_size // num_directions\n",
        "\n",
        "        self.embedding_dim = embedding_dim\n",
        "        self.input_size = input_size\n",
        "        self.hidden_size = hidden_size\n",
        "        self.n_layers = n_layers\n",
        "        self.dropout = dropout\n",
        "        self.bidirectional = bidirectional\n",
        "\n",
        "        self.embedding_layer = nn.Embedding(input_size, embedding_dim)\n",
        "        self.rnn_layer = nn.LSTM(embedding_dim, hidden_size, n_layers, dropout=dropout, bidirectional=bidirectional, batch_first=True)\n",
        "        self.dropout_layer = nn.Dropout(dropout)\n",
        "\n",
        "    def forward(self, inputs, hidden=None):\n",
        "        embedded = self.dropout_layer(self.embedding_layer(inputs))\n",
        "        outputs, _ = self.rnn_layer(embedded, hidden)\n",
        "        sentences_embeddings = torch.mean(outputs, 1)\n",
        "        # [batch_size, hidden_size]\n",
        "        return sentences_embeddings\n",
        "\n",
        "class SentenceTaggerRNN(nn.Module):\n",
        "    def __init__(self,\n",
        "                 vocabulary_size,\n",
        "                 use_content=True,\n",
        "                 use_salience=True,\n",
        "                 use_novelty=True,\n",
        "                 token_embedding_dim=128,\n",
        "                 sentence_encoder_hidden_size=256,\n",
        "                 hidden_size=256,\n",
        "                 bidirectional=True,\n",
        "                 sentence_encoder_n_layers=2,\n",
        "                 sentence_encoder_dropout=0.3,\n",
        "                 sentence_encoder_bidirectional=True,\n",
        "                 n_layers=2,\n",
        "                 dropout=0.3):\n",
        "        \n",
        "        super().__init__()\n",
        "\n",
        "        num_directions = 2 if bidirectional else 1\n",
        "        assert hidden_size % num_directions == 0\n",
        "        hidden_size = hidden_size // num_directions\n",
        "\n",
        "        self.hidden_size = hidden_size\n",
        "        self.n_layers = n_layers\n",
        "        self.dropout = dropout\n",
        "        self.bidirectional = bidirectional\n",
        "\n",
        "        self.sentence_encoder = SentenceEncoderRNN(vocabulary_size, token_embedding_dim,\n",
        "                                                   sentence_encoder_hidden_size, sentence_encoder_n_layers, \n",
        "                                                   sentence_encoder_dropout, sentence_encoder_bidirectional)\n",
        "        \n",
        "        self.rnn_layer = nn.LSTM(sentence_encoder_hidden_size, hidden_size, n_layers, dropout=dropout,\n",
        "                           bidirectional=bidirectional, batch_first=True)\n",
        "        \n",
        "        self.dropout_layer = nn.Dropout(dropout)\n",
        "        self.content_linear_layer = nn.Linear(hidden_size * 2, 1)\n",
        "        self.document_linear_layer = nn.Linear(hidden_size * 2, hidden_size * 2)\n",
        "        self.salience_linear_layer = nn.Linear(hidden_size * 2, hidden_size * 2)\n",
        "       \n",
        "        # YOUR CODE ------------------------------------------------------------------------------------------\n",
        "        self.novelty_linear_layer = nn.Linear(hidden_size * 2, hidden_size * 2, bias=False)\n",
        "        # ----------------------------------------------------------------------------------------------------\n",
        "\n",
        "        self.tanh_layer = nn.Tanh()\n",
        "\n",
        "        self.use_content = use_content\n",
        "        self.use_salience = use_salience\n",
        "        self.use_novelty = use_novelty\n",
        "\n",
        "    def forward(self, inputs, hidden=None):\n",
        "        # parameters of the probability\n",
        "        content = 0\n",
        "        salience = 0\n",
        "        novelty = 0\n",
        "\n",
        "        # [batch_size, seq num, seq_len]\n",
        "        batch_size = inputs.size(0)\n",
        "        sentences_count = inputs.size(1)\n",
        "        tokens_count = inputs.size(2)\n",
        "        inputs = inputs.reshape(-1, tokens_count)\n",
        "        # [batch_size * seq num, seq_len]\n",
        "\n",
        "        embedded_sentences = self.sentence_encoder(inputs)\n",
        "        embedded_sentences = self.dropout_layer(embedded_sentences.reshape(batch_size, sentences_count, -1))\n",
        "        # [batch_size *  seq num, seq_len, hidden_size] -> [batch_size, seq num, hidden_size]\n",
        "\n",
        "        outputs, _ = self.rnn_layer(embedded_sentences, hidden)\n",
        "        # [batch_size, seq num, hidden_size]\n",
        "\n",
        "        document_embedding = self.tanh_layer(self.document_linear_layer(torch.mean(outputs, 1)))\n",
        "        # [batch_size, hidden_size]\n",
        "\n",
        "        # W * h^T\n",
        "        if self.use_content:\n",
        "            content = self.content_linear_layer(outputs).squeeze(2) # 1-representation\n",
        "        # [batch_size, seq num]\n",
        "\n",
        "        # h^T * W * d\n",
        "        if self.use_salience:\n",
        "            salience = torch.bmm(outputs, self.salience_linear_layer(document_embedding).unsqueeze(2)).squeeze(2) # 2-representation\n",
        "        # [batch_size, seq num, hidden_size] * [batch_size, hidden_size, 1] = [batch_size, seq num, ]\n",
        "\n",
        "        if self.use_novelty:\n",
        "            # at every step add novelty to prediction of the sentence\n",
        "            predictions = content + salience\n",
        "            \n",
        "            # 0) initialize summary_representation and novelty by zeros\n",
        "            # YOUR CODE --------------------------------------------------------------\n",
        "            summary_representation = embedded_sentences.new_zeros((batch_size, self.hidden_size * 2))\n",
        "            novelty = content.new_zeros((batch_size, sentences_count))\n",
        "            # ------------------------------------------------------------------------\n",
        "\n",
        "            for sentence_num in range(sentences_count):\n",
        "                pass\n",
        "                # 1) take sentence_num_state from outputs(representation of the sentence with number sentence_num)\n",
        "                # 2) calculate novelty for current sentence\n",
        "                # 3) add novelty to predictions\n",
        "                # 4) calculcate probability for current sentence\n",
        "                # 5) add sentence_num_state with the weight which is equal to probability to summary_representation \n",
        "\n",
        "                # YOUR CODE ---------------------------------------------------------------------------------------\n",
        "                novelty_intermediate = self.novelty_linear_layer(torch.tanh(summary_representation)).unsqueeze(2)\n",
        "                sentence_num_state = outputs[:, sentence_num, :]\n",
        "                novelty[:, sentence_num] = -torch.bmm(sentence_num_state.unsqueeze(1), novelty_intermediate).squeeze(2).squeeze(1)\n",
        "                predictions[:, sentence_num] += novelty[:, sentence_num]\n",
        "                probabilities = torch.sigmoid(predictions[:, sentence_num])\n",
        "                summary_representation += torch.mv(sentence_num_state.transpose(0, 1), probabilities)\n",
        "                # -------------------------------------------------------------------------------------------------\n",
        "\n",
        "        return content + salience + novelty"
      ]
    },
    {
      "cell_type": "markdown",
      "metadata": {
        "id": "QxpL3AtOrctD"
      },
      "source": [
        "## Model\n",
        "$P\\left(y_{j} = 1 \\mid \\mathbf{h}_{j}, \\mathbf{s}_{j}, \\mathbf{d}\\right)=\\sigma\\left(W_{c} \\mathbf{h}_{j} + \\mathbf{h}_{j}^{T} W_{s} \\mathbf{d}\\right)$\n",
        "--------------------"
      ]
    },
    {
      "cell_type": "markdown",
      "metadata": {
        "id": "Zlate1WuBV7R"
      },
      "source": [
        "https://arxiv.org/pdf/1611.04230.pdf"
      ]
    },
    {
      "cell_type": "markdown",
      "metadata": {
        "id": "T4JK0j74A9tZ"
      },
      "source": [
        "![image.png](data:image/png;base64,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)"
      ]
    },
    {
      "cell_type": "markdown",
      "metadata": {
        "id": "FNw-K7PUAxgz"
      },
      "source": [
        "![image.png](data:image/png;base64,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)"
      ]
    },
    {
      "cell_type": "code",
      "execution_count": null,
      "metadata": {
        "colab": {
          "base_uri": "https://localhost:8080/"
        },
        "id": "-QC1ZmuQfB7f",
        "outputId": "d24227c0-8956-4066-fc0f-35107a3fd58f"
      },
      "outputs": [
        {
          "output_type": "stream",
          "name": "stdout",
          "text": [
            "Trainable params: 2927361\n"
          ]
        }
      ],
      "source": [
        "vocab_size = len(vocabulary)\n",
        "\n",
        "model = SentenceTaggerRNN(vocab_size, use_novelty=False).to(device)\n",
        "\n",
        "params_count = np.sum([p.numel() for p in model.parameters() if p.requires_grad])\n",
        "print(\"Trainable params: {}\".format(params_count))"
      ]
    },
    {
      "cell_type": "code",
      "execution_count": null,
      "metadata": {
        "colab": {
          "base_uri": "https://localhost:8080/"
        },
        "id": "f9Q3aFHhgsB4",
        "outputId": "9fff3326-76d4-415a-e0fe-771b042815a0"
      },
      "outputs": [
        {
          "output_type": "stream",
          "name": "stdout",
          "text": [
            "sentence_encoder.embedding_layer.weight: 1280000\n",
            "sentence_encoder.rnn_layer.weight_ih_l0: 65536\n",
            "sentence_encoder.rnn_layer.weight_hh_l0: 65536\n",
            "sentence_encoder.rnn_layer.bias_ih_l0: 512\n",
            "sentence_encoder.rnn_layer.bias_hh_l0: 512\n",
            "sentence_encoder.rnn_layer.weight_ih_l0_reverse: 65536\n",
            "sentence_encoder.rnn_layer.weight_hh_l0_reverse: 65536\n",
            "sentence_encoder.rnn_layer.bias_ih_l0_reverse: 512\n",
            "sentence_encoder.rnn_layer.bias_hh_l0_reverse: 512\n",
            "sentence_encoder.rnn_layer.weight_ih_l1: 131072\n",
            "sentence_encoder.rnn_layer.weight_hh_l1: 65536\n",
            "sentence_encoder.rnn_layer.bias_ih_l1: 512\n",
            "sentence_encoder.rnn_layer.bias_hh_l1: 512\n",
            "sentence_encoder.rnn_layer.weight_ih_l1_reverse: 131072\n",
            "sentence_encoder.rnn_layer.weight_hh_l1_reverse: 65536\n",
            "sentence_encoder.rnn_layer.bias_ih_l1_reverse: 512\n",
            "sentence_encoder.rnn_layer.bias_hh_l1_reverse: 512\n",
            "rnn_layer.weight_ih_l0: 131072\n",
            "rnn_layer.weight_hh_l0: 65536\n",
            "rnn_layer.bias_ih_l0: 512\n",
            "rnn_layer.bias_hh_l0: 512\n",
            "rnn_layer.weight_ih_l0_reverse: 131072\n",
            "rnn_layer.weight_hh_l0_reverse: 65536\n",
            "rnn_layer.bias_ih_l0_reverse: 512\n",
            "rnn_layer.bias_hh_l0_reverse: 512\n",
            "rnn_layer.weight_ih_l1: 131072\n",
            "rnn_layer.weight_hh_l1: 65536\n",
            "rnn_layer.bias_ih_l1: 512\n",
            "rnn_layer.bias_hh_l1: 512\n",
            "rnn_layer.weight_ih_l1_reverse: 131072\n",
            "rnn_layer.weight_hh_l1_reverse: 65536\n",
            "rnn_layer.bias_ih_l1_reverse: 512\n",
            "rnn_layer.bias_hh_l1_reverse: 512\n",
            "content_linear_layer.weight: 256\n",
            "content_linear_layer.bias: 1\n",
            "document_linear_layer.weight: 65536\n",
            "document_linear_layer.bias: 256\n",
            "salience_linear_layer.weight: 65536\n",
            "salience_linear_layer.bias: 256\n",
            "novelty_linear_layer.weight: 65536\n"
          ]
        }
      ],
      "source": [
        "for name, param in model.named_parameters():\n",
        "    print(f\"{name}: {param.numel()}\")"
      ]
    },
    {
      "cell_type": "markdown",
      "metadata": {
        "id": "Qh_qtkS8RiwT"
      },
      "source": [
        "### Файл train_model.py"
      ]
    },
    {
      "cell_type": "code",
      "execution_count": null,
      "metadata": {
        "id": "05s8UWh81cjG",
        "colab": {
          "base_uri": "https://localhost:8080/"
        },
        "outputId": "f0275460-b1b5-49a9-b789-3f5ae8fe0347"
      },
      "outputs": [
        {
          "output_type": "stream",
          "name": "stdout",
          "text": [
            "Downloading...\n",
            "From: https://drive.google.com/uc?id=1MiS_iczALcyF7zGDPY6niyeD82P0_PBH\n",
            "To: /content/drive/MyDrive/train_model.py\n",
            "\r  0% 0.00/4.31k [00:00<?, ?B/s]\r100% 4.31k/4.31k [00:00<00:00, 5.90MB/s]\n"
          ]
        }
      ],
      "source": [
        "#!gdown https://drive.google.com/uc?id=1MiS_iczALcyF7zGDPY6niyeD82P0_PBH -O train_model.py\n",
        "# import train_model\n",
        "# import imp \n",
        "# imp.reload(train_model)\n",
        "# from train_model import train_with_logs"
      ]
    },
    {
      "cell_type": "code",
      "execution_count": null,
      "metadata": {
        "id": "W-VallKzRcRW"
      },
      "outputs": [],
      "source": [
        "import matplotlib\n",
        "import time\n",
        "import math\n",
        "import torch\n",
        "import re\n",
        "import razdel\n",
        "matplotlib.rcParams.update({'figure.figsize': (16, 12), 'font.size': 14})\n",
        "import matplotlib.pyplot as plt\n",
        "from IPython.display import clear_output\n",
        "\n",
        "def train(model, iterator, optimizer, criterion, clip, train_history=None, valid_history=None):\n",
        "    model.train()\n",
        "    \n",
        "    epoch_loss = 0\n",
        "    history = []\n",
        "    for i, batch in enumerate(iterator):\n",
        "        \n",
        "        # YOUR CODE ------------------------------------------------------------\n",
        "        labels = batch['outputs'].view(-1) \n",
        "        class_1 = model(batch['inputs']).view(-1)\n",
        "        class_1 = torch.sigmoid(class_1)\n",
        "        class_0 = torch.ones(class_1.shape[0]).to(device) - class_1\n",
        "        logits = torch.cat([class_0.unsqueeze(1),class_1.unsqueeze(1)], - 1)\n",
        "        \n",
        "        loss = criterion(logits, labels)\n",
        "        # ----------------------------------------------------------------------\n",
        "        \n",
        "        optimizer.zero_grad()\n",
        "        loss.backward()\n",
        "        torch.nn.utils.clip_grad_norm_(model.parameters(), clip)\n",
        "        optimizer.step()\n",
        "        \n",
        "        epoch_loss += loss.item()\n",
        "        history.append(loss.item())\n",
        "        if (i+1)%10==0:\n",
        "            fig, ax = plt.subplots(nrows=1, ncols=2, figsize=(12, 8))\n",
        "\n",
        "            clear_output(True)\n",
        "            ax[0].plot(history, label='train loss')\n",
        "            ax[0].set_xlabel('Batch')\n",
        "            ax[0].set_title('Train loss')\n",
        "            if train_history is not None:\n",
        "                ax[1].plot(train_history, label='general train history')\n",
        "                ax[1].set_xlabel('Epoch')\n",
        "            if valid_history is not None:\n",
        "                ax[1].plot(valid_history, label='general valid history')\n",
        "            plt.legend()\n",
        "            \n",
        "            plt.show()\n",
        "        \n",
        "    return epoch_loss / len(iterator)\n",
        "\n",
        "def evaluate(model, iterator, criterion):\n",
        "    model.eval()\n",
        "    \n",
        "    epoch_loss = 0\n",
        "    history = []\n",
        "    \n",
        "    with torch.no_grad():\n",
        "    \n",
        "        for i, batch in enumerate(iterator):\n",
        "\n",
        "            # YOUR CODE --------------------------------------------------------\n",
        "            labels = batch['outputs'].view(-1)       \n",
        "            class_1 = model(batch['inputs']).view(-1)\n",
        "            class_1 = torch.sigmoid(class_1)\n",
        "            class_0 = torch.ones(class_1.shape[0]).to(device) - class_1\n",
        "            logits = torch.cat([class_0.unsqueeze(1),class_1.unsqueeze(1)], - 1)\n",
        "            \n",
        "            loss = criterion(logits, labels)\n",
        "            # ------------------------------------------------------------------\n",
        "            \n",
        "            epoch_loss += loss.item()\n",
        "    return epoch_loss / len(iterator)\n",
        "\n",
        "def epoch_time(start_time, end_time):\n",
        "    elapsed_time = end_time - start_time\n",
        "    elapsed_mins = int(elapsed_time / 60)\n",
        "    elapsed_secs = int(elapsed_time - (elapsed_mins * 60))\n",
        "    return elapsed_mins, elapsed_secs\n",
        "\n",
        "\n",
        "def train_with_logs(model, train_iterator, valid_iterator, optimizer, criterion, N_EPOCHS, CLIP):\n",
        "    \n",
        "    train_history = []\n",
        "    valid_history = []    \n",
        "    \n",
        "    best_valid_loss = float('inf')\n",
        "    best_epoch = 0\n",
        "    for epoch in range(N_EPOCHS):\n",
        "        \n",
        "        start_time = time.time()\n",
        "        \n",
        "        train_loss = train(model, train_iterator, optimizer, criterion, CLIP, train_history, valid_history)\n",
        "        valid_loss = evaluate(model, valid_iterator, criterion)\n",
        "        \n",
        "        end_time = time.time()\n",
        "        \n",
        "        epoch_mins, epoch_secs = epoch_time(start_time, end_time)\n",
        "        \n",
        "        if valid_loss < best_valid_loss:\n",
        "            best_valid_loss = valid_loss\n",
        "            torch.save(model.state_dict(), 'best-val-model.pt')\n",
        "            best_epoch = epoch \n",
        "        \n",
        "        train_history.append(train_loss)\n",
        "        valid_history.append(valid_loss)\n",
        "        print(f'Epoch: {epoch+1:02} | Time: {epoch_mins}m {epoch_secs}s')\n",
        "        print(f'\\tTrain Loss: {train_loss:.3f} | Train PPL: {math.exp(train_loss):7.3f}')\n",
        "        print(f'\\t Val. Loss: {valid_loss:.3f} |  Val. PPL: {math.exp(valid_loss):7.3f}')\n",
        "    print(f'BEST Epoch: {best_epoch+1:02}' )\n",
        "        \n",
        "def punct_detokenize(text):\n",
        "    text = text.strip()\n",
        "    punctuation = \",.!?:;%\"\n",
        "    closing_punctuation = \")]}\"\n",
        "    opening_punctuation = \"([}\"\n",
        "    for ch in punctuation + closing_punctuation:\n",
        "        text = text.replace(\" \" + ch, ch)\n",
        "    for ch in opening_punctuation:\n",
        "        text = text.replace(ch + \" \", ch)\n",
        "    res = [r'\"\\s[^\"]+\\s\"', r\"'\\s[^']+\\s'\"]\n",
        "    for r in res:\n",
        "        for f in re.findall(r, text, re.U):\n",
        "            text = text.replace(f, f[0] + f[2:-2] + f[-1])\n",
        "    text = text.replace(\"' s\", \"'s\").replace(\" 's\", \"'s\")\n",
        "    text = text.strip()\n",
        "    return text\n",
        "\n",
        "\n",
        "def postprocess(ref, hyp, is_multiple_ref=False, detokenize_after=False, tokenize_after=True):\n",
        "    if is_multiple_ref:\n",
        "        reference_sents = ref.split(\" s_s \")\n",
        "        decoded_sents = hyp.split(\"s_s\")\n",
        "        hyp = [w.replace(\"<\", \"&lt;\").replace(\">\", \"&gt;\").strip() for w in decoded_sents]\n",
        "        ref = [w.replace(\"<\", \"&lt;\").replace(\">\", \"&gt;\").strip() for w in reference_sents]\n",
        "        hyp = \" \".join(hyp)\n",
        "        ref = \" \".join(ref)\n",
        "    ref = ref.strip()\n",
        "    hyp = hyp.strip()\n",
        "    if detokenize_after:\n",
        "        hyp = punct_detokenize(hyp)\n",
        "        ref = punct_detokenize(ref)\n",
        "    if tokenize_after:\n",
        "        hyp = hyp.replace(\"@@UNKNOWN@@\", \"<unk>\")\n",
        "        hyp = \" \".join([token.text for token in razdel.tokenize(hyp)])\n",
        "        ref = \" \".join([token.text for token in razdel.tokenize(ref)])\n",
        "    return ref, hyp"
      ]
    },
    {
      "cell_type": "markdown",
      "metadata": {
        "id": "IPUFNx8cmr5B"
      },
      "source": [
        "## Тренеруем модели и сохраняем веса "
      ]
    },
    {
      "cell_type": "code",
      "execution_count": null,
      "metadata": {
        "id": "nq0Sra1V0wz2"
      },
      "outputs": [],
      "source": [
        "N_EPOCHS = 20\n",
        "CLIP = 1\n",
        "LR = 5e-6"
      ]
    },
    {
      "cell_type": "code",
      "execution_count": null,
      "metadata": {
        "id": "rwrhG4v71yts"
      },
      "outputs": [],
      "source": [
        "def _train(model, use_class_weights, N_EPOCHS, CLIP, lr=LR):\n",
        "    optimizer = optim.Adam(model.parameters(), lr)\n",
        "    if use_class_weights:\n",
        "        # weights depend on the number of objects of class 0 and 1\n",
        "        # YOUR CODE ------------------------------------------------------------\n",
        "        count_positive_class = 0\n",
        "        count_all_class = 0\n",
        "        for record in ext_train_records:\n",
        "            count_positive_class += len(record['oracle_sentences'])\n",
        "            count_all_class += len(record['sentences'])\n",
        "\n",
        "        weights= [count_positive_class/count_all_class,  1 - count_positive_class/count_all_class]\n",
        "        weights = torch.tensor(weights)\n",
        "        # ----------------------------------------------------------------------\n",
        "        criterion = nn.CrossEntropyLoss(weight=weights, ignore_index = 2)\n",
        "    else:\n",
        "        criterion = nn.CrossEntropyLoss(ignore_index = 2)\n",
        "\n",
        "    loss_function = criterion.to(device)\n",
        "    \n",
        "    train_with_logs(model, train_iterator, val_iterator, optimizer, loss_function, N_EPOCHS, CLIP)"
      ]
    },
    {
      "cell_type": "markdown",
      "metadata": {
        "id": "Ib2X7uKbtVW5"
      },
      "source": [
        "### Модель NoNoveltyNoWeights (без novelty и без балансировки весов )"
      ]
    },
    {
      "cell_type": "code",
      "execution_count": null,
      "metadata": {
        "colab": {
          "base_uri": "https://localhost:8080/",
          "height": 594
        },
        "id": "6TA551musKuc",
        "outputId": "2972657c-eb02-44dd-810d-4073bdc48860"
      },
      "outputs": [
        {
          "data": {
            "image/png": "[encoded data removed]",
            "text/plain": [
              "<Figure size 864x576 with 2 Axes>"
            ]
          },
          "metadata": {},
          "output_type": "display_data"
        },
        {
          "name": "stdout",
          "output_type": "stream",
          "text": [
            "Epoch: 30 | Time: 0m 9s\n",
            "\tTrain Loss: 0.390 | Train PPL:   1.477\n",
            "\t Val. Loss: 0.405 |  Val. PPL:   1.499\n",
            "BEST Epoch: 29\n"
          ]
        }
      ],
      "source": [
        "model = SentenceTaggerRNN(vocab_size, use_novelty=False).to(device)\n",
        "_train(model, False, 30, CLIP)"
      ]
    },
    {
      "cell_type": "markdown",
      "metadata": {
        "id": "JiVh0qkN3WdD"
      },
      "source": [
        "**Вывод:** Модель начиная с 5 эпохи практически перестает обучаться."
      ]
    },
    {
      "cell_type": "markdown",
      "metadata": {
        "id": "9RWPMUCOvLdL"
      },
      "source": [
        "Сохраним веса модели в отдельном файле"
      ]
    },
    {
      "cell_type": "code",
      "source": [
        ""
      ],
      "metadata": {
        "id": "JhZWZ76tC_2r"
      },
      "execution_count": null,
      "outputs": []
    },
    {
      "cell_type": "code",
      "execution_count": null,
      "metadata": {
        "id": "SYBdoya7vINZ"
      },
      "outputs": [],
      "source": [
        "!cp best-val-model.pt NoNoveltyNoWeights.pt"
      ]
    },
    {
      "cell_type": "markdown",
      "metadata": {
        "id": "VoXYb6sEv12l"
      },
      "source": [
        "### Модель WithNoveltyNoWeights (c novelty и без балансировки весов)"
      ]
    },
    {
      "cell_type": "code",
      "execution_count": null,
      "metadata": {
        "id": "iILzfWAFwFdu"
      },
      "outputs": [],
      "source": [
        "model = SentenceTaggerRNN(vocab_size, use_novelty=True).to(device)"
      ]
    },
    {
      "cell_type": "code",
      "execution_count": null,
      "metadata": {
        "colab": {
          "base_uri": "https://localhost:8080/",
          "height": 594
        },
        "id": "LiD4sPi0vSAI",
        "outputId": "df2bd172-21b8-47b3-8aaa-ad8135bdcbbc"
      },
      "outputs": [
        {
          "data": {
            "image/png": "[encoded data removed]",
            "text/plain": [
              "<Figure size 864x576 with 2 Axes>"
            ]
          },
          "metadata": {},
          "output_type": "display_data"
        },
        {
          "name": "stdout",
          "output_type": "stream",
          "text": [
            "Epoch: 30 | Time: 0m 10s\n",
            "\tTrain Loss: 0.385 | Train PPL:   1.470\n",
            "\t Val. Loss: 0.395 |  Val. PPL:   1.485\n",
            "BEST Epoch: 28\n"
          ]
        }
      ],
      "source": [
        "_train(model, False, 30, CLIP)"
      ]
    },
    {
      "cell_type": "markdown",
      "metadata": {
        "id": "-UY1N2cS30Hf"
      },
      "source": [
        "У данной модели наименьший лосс за 30 эпох."
      ]
    },
    {
      "cell_type": "code",
      "execution_count": null,
      "metadata": {
        "id": "gsAP4EoNwXsp"
      },
      "outputs": [],
      "source": [
        "!cp best-val-model.pt WithNoveltyNoWeights.pt"
      ]
    },
    {
      "cell_type": "markdown",
      "metadata": {
        "id": "hvoCoVv5xEad"
      },
      "source": [
        "### Модель NoNoveltyWithWeights (без novelty с балансировкой весов)"
      ]
    },
    {
      "cell_type": "code",
      "execution_count": null,
      "metadata": {
        "colab": {
          "base_uri": "https://localhost:8080/",
          "height": 594
        },
        "id": "T1nIblMSxWY_",
        "outputId": "29bf98ec-540d-44f4-d84d-72c59da668f0"
      },
      "outputs": [
        {
          "data": {
            "image/png": "[encoded data removed]",
            "text/plain": [
              "<Figure size 864x576 with 2 Axes>"
            ]
          },
          "metadata": {},
          "output_type": "display_data"
        },
        {
          "name": "stdout",
          "output_type": "stream",
          "text": [
            "Epoch: 30 | Time: 0m 9s\n",
            "\tTrain Loss: 0.627 | Train PPL:   1.871\n",
            "\t Val. Loss: 0.610 |  Val. PPL:   1.841\n",
            "BEST Epoch: 28\n"
          ]
        }
      ],
      "source": [
        "model = SentenceTaggerRNN(vocab_size, use_novelty=False).to(device)\n",
        "_train(model, True, 30, CLIP, lr = LR)"
      ]
    },
    {
      "cell_type": "code",
      "execution_count": null,
      "metadata": {
        "id": "CMOnciITxWhQ"
      },
      "outputs": [],
      "source": [
        "!cp best-val-model.pt NoNoveltyWithWeights.pt"
      ]
    },
    {
      "cell_type": "markdown",
      "metadata": {
        "id": "vEgCgxDFzF9G"
      },
      "source": [
        "### Модель WithNoveltyWithWeights (c novelty с балансировкой весов)"
      ]
    },
    {
      "cell_type": "code",
      "execution_count": null,
      "metadata": {
        "colab": {
          "base_uri": "https://localhost:8080/",
          "height": 594
        },
        "id": "SHUzZ6idzDLf",
        "outputId": "1992ed3b-37b8-4568-916d-40d9cd6bf973"
      },
      "outputs": [
        {
          "data": {
            "image/png": "[encoded data removed]",
            "text/plain": [
              "<Figure size 864x576 with 2 Axes>"
            ]
          },
          "metadata": {},
          "output_type": "display_data"
        },
        {
          "name": "stdout",
          "output_type": "stream",
          "text": [
            "Epoch: 25 | Time: 0m 10s\n",
            "\tTrain Loss: 0.624 | Train PPL:   1.867\n",
            "\t Val. Loss: 0.607 |  Val. PPL:   1.835\n",
            "BEST Epoch: 22\n"
          ]
        }
      ],
      "source": [
        "model = SentenceTaggerRNN(vocab_size, use_novelty=True).to(device)\n",
        "_train(model, True, 25, CLIP, lr = LR)"
      ]
    },
    {
      "cell_type": "code",
      "execution_count": null,
      "metadata": {
        "id": "lQx9LWDMxWkn"
      },
      "outputs": [],
      "source": [
        "!cp best-val-model.pt WithNoveltyWithWeights.pt"
      ]
    },
    {
      "cell_type": "markdown",
      "metadata": {
        "id": "vuv4Sh2Vj5Yr"
      },
      "source": [
        "## Inference"
      ]
    },
    {
      "cell_type": "markdown",
      "source": [
        "Функция расчета метрик с ранжированием"
      ],
      "metadata": {
        "id": "uDTs970lDkCK"
      }
    },
    {
      "cell_type": "code",
      "source": [
        "#from train_model import punct_detokenize, postprocess\n",
        "\n",
        "def inference_summarunner_argsort(model, iterator, top_k=3):\n",
        "\n",
        "    references = []\n",
        "    predictions = []\n",
        "\n",
        "    model.eval()\n",
        "    for batch in test_iterator:\n",
        "\n",
        "        labels = batch['outputs']\n",
        "        logits = model(batch['inputs'])\n",
        "        logits = torch.where( (labels!=2), logits, (torch.ones(labels.shape)* (- 1000.)).to(device)) #без паддинга  \n",
        "        sum_in = torch.argsort(logits, dim=1)[:, -top_k:]\n",
        "        \n",
        "        for i in range(len(batch['outputs'])):\n",
        "\n",
        "            summary = batch['records'][i]['summary'].lower()\n",
        "            pred_summary = ' '.join([batch['records'][i]['sentences'][ind] for ind in sum_in.sort(dim=1)[0][i]])\n",
        "            summary, pred_summary = postprocess(summary, pred_summary)\n",
        "\n",
        "            references.append(summary)\n",
        "            predictions.append(pred_summary)\n",
        "\n",
        "    bleu, rouge_2f = calc_scores(references, predictions)\n",
        "    return bleu, rouge_2f"
      ],
      "metadata": {
        "id": "6OFQSxWKDgeC"
      },
      "execution_count": null,
      "outputs": []
    },
    {
      "cell_type": "markdown",
      "source": [
        "Функция расчета метрик с отсечкой логитов по порогу"
      ],
      "metadata": {
        "id": "AMbUgF9vDqrC"
      }
    },
    {
      "cell_type": "code",
      "source": [
        "def inference_summarunner_treshhold(model, iterator, treshhold = 1.7):\n",
        "\n",
        "    references = []\n",
        "    predictions = []\n",
        "\n",
        "    model.eval()\n",
        "    for batch in iterator:\n",
        "\n",
        "        labels = batch['outputs']\n",
        "        logits = model(batch['inputs'])\n",
        "        logits = torch.where( (logits >= treshhold), logits, (torch.ones(labels.shape)* (- 1.)).to(device)) \n",
        " \n",
        "        for i in range(labels.shape[0]):\n",
        "            sum_in = [ind for ind in range(labels.shape[1]) if (logits[i][ind] > 0)] \n",
        "            if len(sum_in) == 0:\n",
        "                continue     \n",
        "            \n",
        "            summary = batch['records'][i]['summary'].lower()  \n",
        "\n",
        "            pred_summary = ' '.join([batch['records'][i]['sentences'][ind] for ind in sum_in])\n",
        "            summary, pred_summary = postprocess(summary, pred_summary)\n",
        "    \n",
        "            references.append(summary)\n",
        "            predictions.append(pred_summary)\n",
        "\n",
        "    if len(predictions) == 0:\n",
        "        bleu, rouge_2f = (0. , 0.)\n",
        "    else:    \n",
        "        bleu, rouge_2f = calc_scores(references, predictions)\n",
        "    \n",
        "    return bleu, rouge_2f"
      ],
      "metadata": {
        "id": "uxIbHBd2DgeD"
      },
      "execution_count": null,
      "outputs": []
    },
    {
      "cell_type": "markdown",
      "source": [
        "Веса обученных моделей загружаем с google диска."
      ],
      "metadata": {
        "id": "JeTTuv1K6xcz"
      }
    },
    {
      "cell_type": "code",
      "execution_count": null,
      "metadata": {
        "colab": {
          "base_uri": "https://localhost:8080/"
        },
        "id": "nzKyUobxoTLB",
        "outputId": "edc88dc3-ee8f-4b02-9120-dcdc741a1b24"
      },
      "outputs": [
        {
          "output_type": "stream",
          "name": "stdout",
          "text": [
            "Mounted at /content/drive\n"
          ]
        }
      ],
      "source": [
        "from google.colab import drive\n",
        "drive.mount('/content/drive')"
      ]
    },
    {
      "cell_type": "code",
      "execution_count": null,
      "metadata": {
        "colab": {
          "base_uri": "https://localhost:8080/"
        },
        "id": "izi9qG_nod5d",
        "outputId": "bf9446d0-8c98-444a-c235-3fabe77431e2"
      },
      "outputs": [
        {
          "output_type": "stream",
          "name": "stdout",
          "text": [
            "/content/drive/MyDrive\n"
          ]
        }
      ],
      "source": [
        "%cd ./drive/MyDrive\n",
        "# %ls"
      ]
    },
    {
      "cell_type": "markdown",
      "source": [
        "Собирать результаты будем для итоговой таблицы в pandas dataframe"
      ],
      "metadata": {
        "id": "arNANpNn7nGc"
      }
    },
    {
      "cell_type": "code",
      "source": [
        "import pandas as pd"
      ],
      "metadata": {
        "id": "tKbXVhPO-fFD"
      },
      "execution_count": null,
      "outputs": []
    },
    {
      "cell_type": "code",
      "source": [
        "pd_list = []"
      ],
      "metadata": {
        "id": "VKL1AhxZ8OSI"
      },
      "execution_count": null,
      "outputs": []
    },
    {
      "cell_type": "markdown",
      "source": [
        "### Модель NoNoveltyNoWeights (без novelty и без балансировки весов )"
      ],
      "metadata": {
        "id": "QAaMUtA2CpzV"
      }
    },
    {
      "cell_type": "code",
      "source": [
        "model = SentenceTaggerRNN(vocab_size, use_novelty=False).to(device)\n",
        "model.load_state_dict(torch.load('NoNoveltyNoWeights.pt', map_location=torch.device(device)))"
      ],
      "metadata": {
        "colab": {
          "base_uri": "https://localhost:8080/"
        },
        "id": "D5-oRDlQCpOI",
        "outputId": "f0d88884-bb13-48ff-a34e-8659aedf64b9"
      },
      "execution_count": null,
      "outputs": [
        {
          "output_type": "execute_result",
          "data": {
            "text/plain": [
              "<All keys matched successfully>"
            ]
          },
          "metadata": {},
          "execution_count": 212
        }
      ]
    },
    {
      "cell_type": "markdown",
      "source": [
        "#### Ранжирование"
      ],
      "metadata": {
        "id": "SlQT79z6D54h"
      }
    },
    {
      "cell_type": "code",
      "source": [
        "bleu, rouge_2f = inference_summarunner_argsort(model, test_iterator, 3)"
      ],
      "metadata": {
        "colab": {
          "base_uri": "https://localhost:8080/"
        },
        "outputId": "269d7a13-5a72-4235-efc6-95eac5d26741",
        "id": "ZyobAFXbD54i"
      },
      "execution_count": null,
      "outputs": [
        {
          "output_type": "stream",
          "name": "stdout",
          "text": [
            "Count: 256\n",
            "Ref: опасные трещины найдены уже в десятках самолетов boeing 737 ng . американскому производителю , чьи новейшие лайнеры и так прикованы к земле из-за двух авиакатастроф , теперь грозят новые убытки .\n",
            "Hyp: подозрения , павшие почти две недели назад на один из самых массовых самолетов в мире boeing 737 ng , подтвердились и теперь могут привести к отзыву треснувших самолетов , а для boeing — обернуться новыми репутационными и финансовыми потерями . как сообщают американские сми , число дефектных самолетов уже измеряется десятками . о новой проблеме с популярными лайнерами семейства boeing 737 стало известно в конце сентября , когда инженеры компании случайно обнаружили трещины в их конструкции .\n",
            "BLEU:  0.4215674985857657\n",
            "ROUGE:  {'rouge-1': {'f': 0.29638653870477505, 'p': 0.2743133305107193, 'r': 0.34076586516959567}, 'rouge-2': {'f': 0.1277542601866094, 'p': 0.11594179678790467, 'r': 0.15211318224762435}, 'rouge-l': {'f': 0.25148457570056376, 'p': 0.24628925786354472, 'r': 0.3060328677551002}}\n"
          ]
        }
      ]
    },
    {
      "cell_type": "code",
      "source": [
        "pd_list.append({'novelty':'Нет','weigts':'Нет', 'inference':'argsort','BLEU':round(bleu,7),'rouge_2f':round(rouge_2f,7)})"
      ],
      "metadata": {
        "id": "F7R4VP6iD54i"
      },
      "execution_count": null,
      "outputs": []
    },
    {
      "cell_type": "markdown",
      "source": [
        "#### Отсечка логитов "
      ],
      "metadata": {
        "id": "LCG0u0M_D54i"
      }
    },
    {
      "cell_type": "code",
      "execution_count": null,
      "metadata": {
        "id": "k6ZQz2xbD54j"
      },
      "outputs": [],
      "source": [
        "bleu, rouge_2f = inference_summarunner_treshhold(model, test_iterator, 0)"
      ]
    },
    {
      "cell_type": "code",
      "execution_count": null,
      "metadata": {
        "id": "SRCCJ7EhD54j"
      },
      "outputs": [],
      "source": [
        "pd_list.append({'novelty':'Нет','weigts':'Нет', 'inference':'treshhold - 0.0','BLEU':round(bleu,7),'rouge_2f':round(rouge_2f,7)})"
      ]
    },
    {
      "cell_type": "code",
      "execution_count": null,
      "metadata": {
        "colab": {
          "base_uri": "https://localhost:8080/",
          "height": 112
        },
        "outputId": "0aad7edc-19fb-4514-ed18-b7384d17fdd3",
        "id": "6BBD7jVBD54j"
      },
      "outputs": [
        {
          "output_type": "execute_result",
          "data": {
            "text/plain": [
              "  novelty weigts        inference      BLEU  rouge_2f\n",
              "0     Нет    Нет          argsort  0.421567  0.127754\n",
              "1     Нет    Нет  treshhold - 0.0  0.000000  0.000000"
            ],
            "text/html": [
              "\n",
              "  <div id=\"df-571d3e29-dade-49ea-b540-100bd38a7df6\">\n",
              "    <div class=\"colab-df-container\">\n",
              "      <div>\n",
              "<style scoped>\n",
              "    .dataframe tbody tr th:only-of-type {\n",
              "        vertical-align: middle;\n",
              "    }\n",
              "\n",
              "    .dataframe tbody tr th {\n",
              "        vertical-align: top;\n",
              "    }\n",
              "\n",
              "    .dataframe thead th {\n",
              "        text-align: right;\n",
              "    }\n",
              "</style>\n",
              "<table border=\"1\" class=\"dataframe\">\n",
              "  <thead>\n",
              "    <tr style=\"text-align: right;\">\n",
              "      <th></th>\n",
              "      <th>novelty</th>\n",
              "      <th>weigts</th>\n",
              "      <th>inference</th>\n",
              "      <th>BLEU</th>\n",
              "      <th>rouge_2f</th>\n",
              "    </tr>\n",
              "  </thead>\n",
              "  <tbody>\n",
              "    <tr>\n",
              "      <th>0</th>\n",
              "      <td>Нет</td>\n",
              "      <td>Нет</td>\n",
              "      <td>argsort</td>\n",
              "      <td>0.421567</td>\n",
              "      <td>0.127754</td>\n",
              "    </tr>\n",
              "    <tr>\n",
              "      <th>1</th>\n",
              "      <td>Нет</td>\n",
              "      <td>Нет</td>\n",
              "      <td>treshhold - 0.0</td>\n",
              "      <td>0.000000</td>\n",
              "      <td>0.000000</td>\n",
              "    </tr>\n",
              "  </tbody>\n",
              "</table>\n",
              "</div>\n",
              "      <button class=\"colab-df-convert\" onclick=\"convertToInteractive('df-571d3e29-dade-49ea-b540-100bd38a7df6')\"\n",
              "              title=\"Convert this dataframe to an interactive table.\"\n",
              "              style=\"display:none;\">\n",
              "        \n",
              "  <svg xmlns=\"http://www.w3.org/2000/svg\" height=\"24px\"viewBox=\"0 0 24 24\"\n",
              "       width=\"24px\">\n",
              "    <path d=\"M0 0h24v24H0V0z\" fill=\"none\"/>\n",
              "    <path d=\"M18.56 5.44l.94 2.06.94-2.06 2.06-.94-2.06-.94-.94-2.06-.94 2.06-2.06.94zm-11 1L8.5 8.5l.94-2.06 2.06-.94-2.06-.94L8.5 2.5l-.94 2.06-2.06.94zm10 10l.94 2.06.94-2.06 2.06-.94-2.06-.94-.94-2.06-.94 2.06-2.06.94z\"/><path d=\"M17.41 7.96l-1.37-1.37c-.4-.4-.92-.59-1.43-.59-.52 0-1.04.2-1.43.59L10.3 9.45l-7.72 7.72c-.78.78-.78 2.05 0 2.83L4 21.41c.39.39.9.59 1.41.59.51 0 1.02-.2 1.41-.59l7.78-7.78 2.81-2.81c.8-.78.8-2.07 0-2.86zM5.41 20L4 18.59l7.72-7.72 1.47 1.35L5.41 20z\"/>\n",
              "  </svg>\n",
              "      </button>\n",
              "      \n",
              "  <style>\n",
              "    .colab-df-container {\n",
              "      display:flex;\n",
              "      flex-wrap:wrap;\n",
              "      gap: 12px;\n",
              "    }\n",
              "\n",
              "    .colab-df-convert {\n",
              "      background-color: #E8F0FE;\n",
              "      border: none;\n",
              "      border-radius: 50%;\n",
              "      cursor: pointer;\n",
              "      display: none;\n",
              "      fill: #1967D2;\n",
              "      height: 32px;\n",
              "      padding: 0 0 0 0;\n",
              "      width: 32px;\n",
              "    }\n",
              "\n",
              "    .colab-df-convert:hover {\n",
              "      background-color: #E2EBFA;\n",
              "      box-shadow: 0px 1px 2px rgba(60, 64, 67, 0.3), 0px 1px 3px 1px rgba(60, 64, 67, 0.15);\n",
              "      fill: #174EA6;\n",
              "    }\n",
              "\n",
              "    [theme=dark] .colab-df-convert {\n",
              "      background-color: #3B4455;\n",
              "      fill: #D2E3FC;\n",
              "    }\n",
              "\n",
              "    [theme=dark] .colab-df-convert:hover {\n",
              "      background-color: #434B5C;\n",
              "      box-shadow: 0px 1px 3px 1px rgba(0, 0, 0, 0.15);\n",
              "      filter: drop-shadow(0px 1px 2px rgba(0, 0, 0, 0.3));\n",
              "      fill: #FFFFFF;\n",
              "    }\n",
              "  </style>\n",
              "\n",
              "      <script>\n",
              "        const buttonEl =\n",
              "          document.querySelector('#df-571d3e29-dade-49ea-b540-100bd38a7df6 button.colab-df-convert');\n",
              "        buttonEl.style.display =\n",
              "          google.colab.kernel.accessAllowed ? 'block' : 'none';\n",
              "\n",
              "        async function convertToInteractive(key) {\n",
              "          const element = document.querySelector('#df-571d3e29-dade-49ea-b540-100bd38a7df6');\n",
              "          const dataTable =\n",
              "            await google.colab.kernel.invokeFunction('convertToInteractive',\n",
              "                                                     [key], {});\n",
              "          if (!dataTable) return;\n",
              "\n",
              "          const docLinkHtml = 'Like what you see? Visit the ' +\n",
              "            '<a target=\"_blank\" href=https://colab.research.google.com/notebooks/data_table.ipynb>data table notebook</a>'\n",
              "            + ' to learn more about interactive tables.';\n",
              "          element.innerHTML = '';\n",
              "          dataTable['output_type'] = 'display_data';\n",
              "          await google.colab.output.renderOutput(dataTable, element);\n",
              "          const docLink = document.createElement('div');\n",
              "          docLink.innerHTML = docLinkHtml;\n",
              "          element.appendChild(docLink);\n",
              "        }\n",
              "      </script>\n",
              "    </div>\n",
              "  </div>\n",
              "  "
            ]
          },
          "metadata": {},
          "execution_count": 217
        }
      ],
      "source": [
        "pd.DataFrame(pd_list)"
      ]
    },
    {
      "cell_type": "markdown",
      "source": [
        "### Модель WithNoveltyNoWeights (c novelty и без балансировки весов)"
      ],
      "metadata": {
        "id": "91-5vsQ36nac"
      }
    },
    {
      "cell_type": "code",
      "execution_count": null,
      "metadata": {
        "colab": {
          "base_uri": "https://localhost:8080/"
        },
        "id": "ywYWcdEh5BqL",
        "outputId": "9f57b44f-c076-4f94-8bf8-8a4df093b4d1"
      },
      "outputs": [
        {
          "output_type": "execute_result",
          "data": {
            "text/plain": [
              "<All keys matched successfully>"
            ]
          },
          "metadata": {},
          "execution_count": 218
        }
      ],
      "source": [
        "model = SentenceTaggerRNN(vocab_size, use_novelty=True).to(device)\n",
        "model.load_state_dict(torch.load('WithNoveltyNoWeights.pt', map_location=torch.device(device)))"
      ]
    },
    {
      "cell_type": "markdown",
      "source": [
        "#### Ранжирование"
      ],
      "metadata": {
        "id": "4aIK5SQj6Nvs"
      }
    },
    {
      "cell_type": "code",
      "source": [
        "bleu, rouge_2f = inference_summarunner_argsort(model, test_iterator, 3)"
      ],
      "metadata": {
        "colab": {
          "base_uri": "https://localhost:8080/"
        },
        "id": "FUkaZ6t2csNF",
        "outputId": "073b9fb5-9abe-4a55-b32a-cd5330f5776b"
      },
      "execution_count": null,
      "outputs": [
        {
          "output_type": "stream",
          "name": "stdout",
          "text": [
            "Count: 256\n",
            "Ref: в российском совете по правам человека — серьезные кадровые перестановки . указом президента назначен новый председатель совета — это журналист и экс-секретарь общественной палаты валерий фадеев . предыдущий глава спч михаил федотов покинул свой пост , согласно официальной версии , из-за достижения предельного возраста пребывания на госслужбе . при этом сми со ссылкой на источники сообщают , что есть и другие причины кадровых изменений в спч .\n",
            "Hyp: новым председателем совета при президенте россии по развитию гражданского общества и правам человека ( спч ) назначен журналист и общественный деятель валерий фадеев . соответствующий указ уже подписан президентом рф . сми со ссылкой на источники , знакомые с ситуацией , сообщают , что отставка федотова связана не только с возрастом , но и с его деятельностью .\n",
            "BLEU:  0.41253144093742955\n",
            "ROUGE:  {'rouge-1': {'f': 0.2892309994568357, 'p': 0.264988854783944, 'r': 0.33547180794457643}, 'rouge-2': {'f': 0.12337181780282197, 'p': 0.11078451513033359, 'r': 0.14867727723745303}, 'rouge-l': {'f': 0.24441394769613764, 'p': 0.23708643730071258, 'r': 0.30000654756505807}}\n"
          ]
        }
      ]
    },
    {
      "cell_type": "code",
      "source": [
        "pd_list.append({'novelty':'Да','weigts':'Нет', 'inference':'argsort','BLEU':round(bleu,7),'rouge_2f':round(rouge_2f,7)})"
      ],
      "metadata": {
        "id": "LXGCkaNW8YLi"
      },
      "execution_count": null,
      "outputs": []
    },
    {
      "cell_type": "markdown",
      "source": [
        "#### Отсечка логитов "
      ],
      "metadata": {
        "id": "Z-cTJLkr6cII"
      }
    },
    {
      "cell_type": "code",
      "execution_count": null,
      "metadata": {
        "id": "mwy6irOW4cR_"
      },
      "outputs": [],
      "source": [
        "bleu, rouge_2f = inference_summarunner_treshhold(model, test_iterator, 1.7)\n"
      ]
    },
    {
      "cell_type": "code",
      "source": [
        "pd_list.append({'novelty':'Да','weigts':'Нет', 'inference':'treshhold - 1.7','BLEU':round(bleu,7),'rouge_2f':round(rouge_2f,7)})"
      ],
      "metadata": {
        "id": "Tj9qgea5-Lrb"
      },
      "execution_count": null,
      "outputs": []
    },
    {
      "cell_type": "code",
      "execution_count": null,
      "metadata": {
        "id": "TPs457jz4ccP",
        "colab": {
          "base_uri": "https://localhost:8080/"
        },
        "outputId": "423d9de6-8419-4af6-85e0-a78abc0555e7"
      },
      "outputs": [
        {
          "output_type": "stream",
          "name": "stdout",
          "text": [
            "Count: 256\n",
            "Ref: парламент израиля объявил о самороспуске и назначил третьи подряд выборы в кнессет . главная причина — неспособность биньямина нетаньяху и его противника бени ганца сформировать коалицию и новое правительство . политический кризис в израиле продолжается уже год , и пока неизвестно , помогут ли очередные выборы найти выход из ситуации .\n",
            "Hyp: парламент израиля утвердил закон о проведении 2 марта 2020 года внеочередных выборов . документ поддержали 94 депутата кнессета из 120 , таким образом , парламент объявил о самороспуске . на заседании присутствовали премьер-министр израиля , лидер партии « ликуд » биньямин нетаньяху и победитель прошлых выборов — глава блока « кахоль-лаван » бени ганц . с 12 декабря кнессет официально прекратил свою работу , а все ведущие партии страны снова начали подготовку к выборам — уже третьим внеочередным подряд . такого в истории израиля еще не было .\n",
            "BLEU:  0.27221133867358355\n",
            "ROUGE:  {'rouge-1': {'f': 0.28701667622494464, 'p': 0.21092527232798358, 'r': 0.4791630160378058}, 'rouge-2': {'f': 0.12054983162604427, 'p': 0.08562583843874882, 'r': 0.2212654281295647}, 'rouge-l': {'f': 0.2102299733340775, 'p': 0.19204521376780354, 'r': 0.43577115778748743}}\n"
          ]
        }
      ],
      "source": [
        "bleu, rouge_2f = inference_summarunner_treshhold(model, test_iterator, 0)"
      ]
    },
    {
      "cell_type": "code",
      "execution_count": null,
      "metadata": {
        "id": "-p0AfpOj4cfw"
      },
      "outputs": [],
      "source": [
        "pd_list.append({'novelty':'Да','weigts':'Нет', 'inference':'treshhold - 0.0','BLEU':round(bleu,7),'rouge_2f':round(rouge_2f,7)})"
      ]
    },
    {
      "cell_type": "code",
      "execution_count": null,
      "metadata": {
        "id": "ZtpjBNKEy4NQ",
        "colab": {
          "base_uri": "https://localhost:8080/",
          "height": 206
        },
        "outputId": "54e3877c-1705-433a-8fd6-40ea0ff14b61"
      },
      "outputs": [
        {
          "output_type": "execute_result",
          "data": {
            "text/plain": [
              "  novelty weigts        inference      BLEU  rouge_2f\n",
              "0     Нет    Нет          argsort  0.421567  0.127754\n",
              "1     Нет    Нет  treshhold - 0.0  0.000000  0.000000\n",
              "2      Да    Нет          argsort  0.412531  0.123372\n",
              "3      Да    Нет  treshhold - 1.7  0.000000  0.000000\n",
              "4      Да    Нет  treshhold - 0.0  0.000000  0.000000"
            ],
            "text/html": [
              "\n",
              "  <div id=\"df-17e24211-6f1a-4894-bec8-c72b51815e00\">\n",
              "    <div class=\"colab-df-container\">\n",
              "      <div>\n",
              "<style scoped>\n",
              "    .dataframe tbody tr th:only-of-type {\n",
              "        vertical-align: middle;\n",
              "    }\n",
              "\n",
              "    .dataframe tbody tr th {\n",
              "        vertical-align: top;\n",
              "    }\n",
              "\n",
              "    .dataframe thead th {\n",
              "        text-align: right;\n",
              "    }\n",
              "</style>\n",
              "<table border=\"1\" class=\"dataframe\">\n",
              "  <thead>\n",
              "    <tr style=\"text-align: right;\">\n",
              "      <th></th>\n",
              "      <th>novelty</th>\n",
              "      <th>weigts</th>\n",
              "      <th>inference</th>\n",
              "      <th>BLEU</th>\n",
              "      <th>rouge_2f</th>\n",
              "    </tr>\n",
              "  </thead>\n",
              "  <tbody>\n",
              "    <tr>\n",
              "      <th>0</th>\n",
              "      <td>Нет</td>\n",
              "      <td>Нет</td>\n",
              "      <td>argsort</td>\n",
              "      <td>0.421567</td>\n",
              "      <td>0.127754</td>\n",
              "    </tr>\n",
              "    <tr>\n",
              "      <th>1</th>\n",
              "      <td>Нет</td>\n",
              "      <td>Нет</td>\n",
              "      <td>treshhold - 0.0</td>\n",
              "      <td>0.000000</td>\n",
              "      <td>0.000000</td>\n",
              "    </tr>\n",
              "    <tr>\n",
              "      <th>2</th>\n",
              "      <td>Да</td>\n",
              "      <td>Нет</td>\n",
              "      <td>argsort</td>\n",
              "      <td>0.412531</td>\n",
              "      <td>0.123372</td>\n",
              "    </tr>\n",
              "    <tr>\n",
              "      <th>3</th>\n",
              "      <td>Да</td>\n",
              "      <td>Нет</td>\n",
              "      <td>treshhold - 1.7</td>\n",
              "      <td>0.000000</td>\n",
              "      <td>0.000000</td>\n",
              "    </tr>\n",
              "    <tr>\n",
              "      <th>4</th>\n",
              "      <td>Да</td>\n",
              "      <td>Нет</td>\n",
              "      <td>treshhold - 0.0</td>\n",
              "      <td>0.000000</td>\n",
              "      <td>0.000000</td>\n",
              "    </tr>\n",
              "  </tbody>\n",
              "</table>\n",
              "</div>\n",
              "      <button class=\"colab-df-convert\" onclick=\"convertToInteractive('df-17e24211-6f1a-4894-bec8-c72b51815e00')\"\n",
              "              title=\"Convert this dataframe to an interactive table.\"\n",
              "              style=\"display:none;\">\n",
              "        \n",
              "  <svg xmlns=\"http://www.w3.org/2000/svg\" height=\"24px\"viewBox=\"0 0 24 24\"\n",
              "       width=\"24px\">\n",
              "    <path d=\"M0 0h24v24H0V0z\" fill=\"none\"/>\n",
              "    <path d=\"M18.56 5.44l.94 2.06.94-2.06 2.06-.94-2.06-.94-.94-2.06-.94 2.06-2.06.94zm-11 1L8.5 8.5l.94-2.06 2.06-.94-2.06-.94L8.5 2.5l-.94 2.06-2.06.94zm10 10l.94 2.06.94-2.06 2.06-.94-2.06-.94-.94-2.06-.94 2.06-2.06.94z\"/><path d=\"M17.41 7.96l-1.37-1.37c-.4-.4-.92-.59-1.43-.59-.52 0-1.04.2-1.43.59L10.3 9.45l-7.72 7.72c-.78.78-.78 2.05 0 2.83L4 21.41c.39.39.9.59 1.41.59.51 0 1.02-.2 1.41-.59l7.78-7.78 2.81-2.81c.8-.78.8-2.07 0-2.86zM5.41 20L4 18.59l7.72-7.72 1.47 1.35L5.41 20z\"/>\n",
              "  </svg>\n",
              "      </button>\n",
              "      \n",
              "  <style>\n",
              "    .colab-df-container {\n",
              "      display:flex;\n",
              "      flex-wrap:wrap;\n",
              "      gap: 12px;\n",
              "    }\n",
              "\n",
              "    .colab-df-convert {\n",
              "      background-color: #E8F0FE;\n",
              "      border: none;\n",
              "      border-radius: 50%;\n",
              "      cursor: pointer;\n",
              "      display: none;\n",
              "      fill: #1967D2;\n",
              "      height: 32px;\n",
              "      padding: 0 0 0 0;\n",
              "      width: 32px;\n",
              "    }\n",
              "\n",
              "    .colab-df-convert:hover {\n",
              "      background-color: #E2EBFA;\n",
              "      box-shadow: 0px 1px 2px rgba(60, 64, 67, 0.3), 0px 1px 3px 1px rgba(60, 64, 67, 0.15);\n",
              "      fill: #174EA6;\n",
              "    }\n",
              "\n",
              "    [theme=dark] .colab-df-convert {\n",
              "      background-color: #3B4455;\n",
              "      fill: #D2E3FC;\n",
              "    }\n",
              "\n",
              "    [theme=dark] .colab-df-convert:hover {\n",
              "      background-color: #434B5C;\n",
              "      box-shadow: 0px 1px 3px 1px rgba(0, 0, 0, 0.15);\n",
              "      filter: drop-shadow(0px 1px 2px rgba(0, 0, 0, 0.3));\n",
              "      fill: #FFFFFF;\n",
              "    }\n",
              "  </style>\n",
              "\n",
              "      <script>\n",
              "        const buttonEl =\n",
              "          document.querySelector('#df-17e24211-6f1a-4894-bec8-c72b51815e00 button.colab-df-convert');\n",
              "        buttonEl.style.display =\n",
              "          google.colab.kernel.accessAllowed ? 'block' : 'none';\n",
              "\n",
              "        async function convertToInteractive(key) {\n",
              "          const element = document.querySelector('#df-17e24211-6f1a-4894-bec8-c72b51815e00');\n",
              "          const dataTable =\n",
              "            await google.colab.kernel.invokeFunction('convertToInteractive',\n",
              "                                                     [key], {});\n",
              "          if (!dataTable) return;\n",
              "\n",
              "          const docLinkHtml = 'Like what you see? Visit the ' +\n",
              "            '<a target=\"_blank\" href=https://colab.research.google.com/notebooks/data_table.ipynb>data table notebook</a>'\n",
              "            + ' to learn more about interactive tables.';\n",
              "          element.innerHTML = '';\n",
              "          dataTable['output_type'] = 'display_data';\n",
              "          await google.colab.output.renderOutput(dataTable, element);\n",
              "          const docLink = document.createElement('div');\n",
              "          docLink.innerHTML = docLinkHtml;\n",
              "          element.appendChild(docLink);\n",
              "        }\n",
              "      </script>\n",
              "    </div>\n",
              "  </div>\n",
              "  "
            ]
          },
          "metadata": {},
          "execution_count": 224
        }
      ],
      "source": [
        "pd.DataFrame(pd_list)"
      ]
    },
    {
      "cell_type": "markdown",
      "source": [
        "### Модель NoNoveltyWithWeights (без novelty с балансировкой весов)"
      ],
      "metadata": {
        "id": "7roDXVWBCRPk"
      }
    },
    {
      "cell_type": "code",
      "source": [
        "model = SentenceTaggerRNN(vocab_size, use_novelty=False).to(device)\n",
        "model.load_state_dict(torch.load('NoNoveltyWithWeights.pt', map_location=torch.device(device)))"
      ],
      "metadata": {
        "colab": {
          "base_uri": "https://localhost:8080/"
        },
        "id": "YQpLOHx0CEg9",
        "outputId": "1533be51-50a2-40ea-d64b-7908c6478082"
      },
      "execution_count": null,
      "outputs": [
        {
          "output_type": "execute_result",
          "data": {
            "text/plain": [
              "<All keys matched successfully>"
            ]
          },
          "metadata": {},
          "execution_count": 225
        }
      ]
    },
    {
      "cell_type": "markdown",
      "source": [
        "#### Ранжирование"
      ],
      "metadata": {
        "id": "wKFvTADgJicF"
      }
    },
    {
      "cell_type": "code",
      "source": [
        "bleu, rouge_2f = inference_summarunner_argsort(model, test_iterator, 3)"
      ],
      "metadata": {
        "colab": {
          "base_uri": "https://localhost:8080/"
        },
        "outputId": "d1871a40-ec7b-4322-a1fe-430eb73fb5e8",
        "id": "uxbYa2ZUJicF"
      },
      "execution_count": null,
      "outputs": [
        {
          "output_type": "stream",
          "name": "stdout",
          "text": [
            "Count: 256\n",
            "Ref: звезда « людей икс » , « фантастических тварей » и « большой маленькой лжи » зои кравиц исполнит роль женщины-кошки в очередном фильме про бэтмена . самого темного рыцаря в грядущей ленте сыграет роберт паттинсон .\n",
            "Hyp: роль селины кайл , которая известна фанатам комиксов как женщина-кошка , в грядущем фильме о бэтмене исполнит 30-летняя американская актриса зои кравиц . согласно variety , режиссер ленты мэтт ривз выбирал между тремя кандидатками — помимо зои , в шорт-лист входили зази битц ( « джокер » ) , эйса гонсалес ( « малыш на драйве » , « алита : боевой ангел » ) , а также обладательница премии « оскар » за « девушку из дании » алисия викандер . ожидается , что к съемкам картины ее создатели приступят либо в конце этого года , либо уже в начале следующего .\n",
            "BLEU:  0.4483358093852308\n",
            "ROUGE:  {'rouge-1': {'f': 0.31733181247536907, 'p': 0.3031341514395032, 'r': 0.3531967563454291}, 'rouge-2': {'f': 0.14277322190268435, 'p': 0.13475932187114895, 'r': 0.16339726182715172}, 'rouge-l': {'f': 0.2715462303275748, 'p': 0.2739258120398609, 'r': 0.31860412654243897}}\n"
          ]
        }
      ]
    },
    {
      "cell_type": "code",
      "source": [
        "pd_list.append({'novelty':'Нет','weigts':'Да', 'inference':'argsort','BLEU':round(bleu,7),'rouge_2f':round(rouge_2f,7)})"
      ],
      "metadata": {
        "id": "6JDiUHiIJicF"
      },
      "execution_count": null,
      "outputs": []
    },
    {
      "cell_type": "markdown",
      "source": [
        "#### Отсечка логитов "
      ],
      "metadata": {
        "id": "TEKuXFmnJicF"
      }
    },
    {
      "cell_type": "code",
      "execution_count": null,
      "metadata": {
        "colab": {
          "base_uri": "https://localhost:8080/"
        },
        "outputId": "2008eea0-18e4-481d-ccd2-c94db300e416",
        "id": "rlaOyjkMJicF"
      },
      "outputs": [
        {
          "output_type": "stream",
          "name": "stdout",
          "text": [
            "Count: 256\n",
            "Ref: сыгравший одного из основных персонажей в британском сериале « годы » максим болдри исполнит « ключевую роль » в сериале по мотивам « властелина колец » , сообщило руководство стримингового сервиса amazon . в компании подчеркнули , что отбор актеров для участия в проекте все еще продолжается .\n",
            "Hyp: создатели телесериала стримингового сервиса amazon « властелин колец » пригласили британского актера максима болдри , известного по шоу « годы » производства « би-би-си » , на главную роль в фэнтези-проекте . первые сообщения о возможном участии болдри в съемках « властелина колец » появились осенью 2019 года , однако на тот момент он еще не подписал контракт , в связи с чем его не включили в список из 15 актеров , о работе с которыми представители amazon рассказали в январе 2020 года . один из руководителей телевизионного департамента компании вернон сандерс заявил , что в настоящий момент все еще идет отбор на несколько ключевых ролей .\n",
            "BLEU:  0.44505364881502335\n",
            "ROUGE:  {'rouge-1': {'f': 0.3176162758570592, 'p': 0.30440671381648843, 'r': 0.3532421452538977}, 'rouge-2': {'f': 0.14282897443704307, 'p': 0.1354089826140035, 'r': 0.1635207496850145}, 'rouge-l': {'f': 0.2717911710171118, 'p': 0.2754237348958269, 'r': 0.3189429223198798}}\n"
          ]
        }
      ],
      "source": [
        "bleu, rouge_2f = inference_summarunner_treshhold(model, test_iterator, 1.7)\n"
      ]
    },
    {
      "cell_type": "code",
      "source": [
        "pd_list.append({'novelty':'Нет','weigts':'Да', 'inference':'treshhold - 1.7','BLEU':round(bleu,7),'rouge_2f':round(rouge_2f,7)})"
      ],
      "metadata": {
        "id": "iMi2WcWVJicF"
      },
      "execution_count": null,
      "outputs": []
    },
    {
      "cell_type": "code",
      "execution_count": null,
      "metadata": {
        "colab": {
          "base_uri": "https://localhost:8080/"
        },
        "outputId": "607b9cde-26bd-408e-d48e-21b030c11fd7",
        "id": "BJdmC_QnJicG"
      },
      "outputs": [
        {
          "output_type": "stream",
          "name": "stdout",
          "text": [
            "Count: 256\n",
            "Ref: мировой лидер по выбросам углекислого газа — китай — в ближайшее время не намерен активно развивать « зеленую » энергетику . несмотря на слова о заботе об экологии , пекин строит новые угольные станции . таким образом китай пытается поддержать снижающийся экономический рост .\n",
            "Hyp: пока в европе занимаются развитием возобновляемых источников энергии , в китае готовятся построить новые угольные станции . об этом пишет онлайн-трекер и некоммерческая организация по мониторингу энергетических мощностей global energy monitor со штаб-квартирой в сан-франциско , сша . судя по спутниковым фотографиям , в ближайшее время в кнр будут построены новые угольные электростанции мощностью 121,3 гвт , сообщает нко . кроме того , ранее замороженное строительство электростанций мощностью 26,4 гвт будет возобновлено . таким образом , в ближайшем будущем китай создаст 148 гвт новых мощностей угольной генерации . как сообщало ранее агентство reuters , китайские власти одобрили строительство 40 новых угольных шахт только в первые три квартала 2019 года .\n",
            "BLEU:  0.2873924682749411\n",
            "ROUGE:  {'rouge-1': {'f': 0.29481426682124395, 'p': 0.22477760405565275, 'r': 0.46348014540347143}, 'rouge-2': {'f': 0.12578401232814312, 'p': 0.0928968795590543, 'r': 0.21476519779876327}, 'rouge-l': {'f': 0.2235179649434347, 'p': 0.20452951517496823, 'r': 0.4212623935421279}}\n"
          ]
        }
      ],
      "source": [
        "bleu, rouge_2f = inference_summarunner_treshhold(model, test_iterator, 0)"
      ]
    },
    {
      "cell_type": "code",
      "execution_count": null,
      "metadata": {
        "id": "5DoL6hH8JicG"
      },
      "outputs": [],
      "source": [
        "pd_list.append({'novelty':'Нет','weigts':'Да', 'inference':'treshhold - 0.0','BLEU':round(bleu,7),'rouge_2f':round(rouge_2f,7)})"
      ]
    },
    {
      "cell_type": "code",
      "execution_count": null,
      "metadata": {
        "colab": {
          "base_uri": "https://localhost:8080/",
          "height": 300
        },
        "outputId": "f5007dbf-099c-4f0d-9be4-d1cd662d9def",
        "id": "qCXFaLUZJicG"
      },
      "outputs": [
        {
          "output_type": "execute_result",
          "data": {
            "text/plain": [
              "  novelty weigts        inference      BLEU  rouge_2f\n",
              "0     Нет    Нет          argsort  0.421567  0.127754\n",
              "1     Нет    Нет  treshhold - 0.0  0.000000  0.000000\n",
              "2      Да    Нет          argsort  0.412531  0.123372\n",
              "3      Да    Нет  treshhold - 1.7  0.000000  0.000000\n",
              "4      Да    Нет  treshhold - 0.0  0.000000  0.000000\n",
              "5     Нет     Да          argsort  0.448336  0.142773\n",
              "6     Нет     Да  treshhold - 1.7  0.445054  0.142829\n",
              "7     Нет     Да  treshhold - 0.0  0.287392  0.125784"
            ],
            "text/html": [
              "\n",
              "  <div id=\"df-a045d0fe-144f-4c8f-b701-fd0cbef91840\">\n",
              "    <div class=\"colab-df-container\">\n",
              "      <div>\n",
              "<style scoped>\n",
              "    .dataframe tbody tr th:only-of-type {\n",
              "        vertical-align: middle;\n",
              "    }\n",
              "\n",
              "    .dataframe tbody tr th {\n",
              "        vertical-align: top;\n",
              "    }\n",
              "\n",
              "    .dataframe thead th {\n",
              "        text-align: right;\n",
              "    }\n",
              "</style>\n",
              "<table border=\"1\" class=\"dataframe\">\n",
              "  <thead>\n",
              "    <tr style=\"text-align: right;\">\n",
              "      <th></th>\n",
              "      <th>novelty</th>\n",
              "      <th>weigts</th>\n",
              "      <th>inference</th>\n",
              "      <th>BLEU</th>\n",
              "      <th>rouge_2f</th>\n",
              "    </tr>\n",
              "  </thead>\n",
              "  <tbody>\n",
              "    <tr>\n",
              "      <th>0</th>\n",
              "      <td>Нет</td>\n",
              "      <td>Нет</td>\n",
              "      <td>argsort</td>\n",
              "      <td>0.421567</td>\n",
              "      <td>0.127754</td>\n",
              "    </tr>\n",
              "    <tr>\n",
              "      <th>1</th>\n",
              "      <td>Нет</td>\n",
              "      <td>Нет</td>\n",
              "      <td>treshhold - 0.0</td>\n",
              "      <td>0.000000</td>\n",
              "      <td>0.000000</td>\n",
              "    </tr>\n",
              "    <tr>\n",
              "      <th>2</th>\n",
              "      <td>Да</td>\n",
              "      <td>Нет</td>\n",
              "      <td>argsort</td>\n",
              "      <td>0.412531</td>\n",
              "      <td>0.123372</td>\n",
              "    </tr>\n",
              "    <tr>\n",
              "      <th>3</th>\n",
              "      <td>Да</td>\n",
              "      <td>Нет</td>\n",
              "      <td>treshhold - 1.7</td>\n",
              "      <td>0.000000</td>\n",
              "      <td>0.000000</td>\n",
              "    </tr>\n",
              "    <tr>\n",
              "      <th>4</th>\n",
              "      <td>Да</td>\n",
              "      <td>Нет</td>\n",
              "      <td>treshhold - 0.0</td>\n",
              "      <td>0.000000</td>\n",
              "      <td>0.000000</td>\n",
              "    </tr>\n",
              "    <tr>\n",
              "      <th>5</th>\n",
              "      <td>Нет</td>\n",
              "      <td>Да</td>\n",
              "      <td>argsort</td>\n",
              "      <td>0.448336</td>\n",
              "      <td>0.142773</td>\n",
              "    </tr>\n",
              "    <tr>\n",
              "      <th>6</th>\n",
              "      <td>Нет</td>\n",
              "      <td>Да</td>\n",
              "      <td>treshhold - 1.7</td>\n",
              "      <td>0.445054</td>\n",
              "      <td>0.142829</td>\n",
              "    </tr>\n",
              "    <tr>\n",
              "      <th>7</th>\n",
              "      <td>Нет</td>\n",
              "      <td>Да</td>\n",
              "      <td>treshhold - 0.0</td>\n",
              "      <td>0.287392</td>\n",
              "      <td>0.125784</td>\n",
              "    </tr>\n",
              "  </tbody>\n",
              "</table>\n",
              "</div>\n",
              "      <button class=\"colab-df-convert\" onclick=\"convertToInteractive('df-a045d0fe-144f-4c8f-b701-fd0cbef91840')\"\n",
              "              title=\"Convert this dataframe to an interactive table.\"\n",
              "              style=\"display:none;\">\n",
              "        \n",
              "  <svg xmlns=\"http://www.w3.org/2000/svg\" height=\"24px\"viewBox=\"0 0 24 24\"\n",
              "       width=\"24px\">\n",
              "    <path d=\"M0 0h24v24H0V0z\" fill=\"none\"/>\n",
              "    <path d=\"M18.56 5.44l.94 2.06.94-2.06 2.06-.94-2.06-.94-.94-2.06-.94 2.06-2.06.94zm-11 1L8.5 8.5l.94-2.06 2.06-.94-2.06-.94L8.5 2.5l-.94 2.06-2.06.94zm10 10l.94 2.06.94-2.06 2.06-.94-2.06-.94-.94-2.06-.94 2.06-2.06.94z\"/><path d=\"M17.41 7.96l-1.37-1.37c-.4-.4-.92-.59-1.43-.59-.52 0-1.04.2-1.43.59L10.3 9.45l-7.72 7.72c-.78.78-.78 2.05 0 2.83L4 21.41c.39.39.9.59 1.41.59.51 0 1.02-.2 1.41-.59l7.78-7.78 2.81-2.81c.8-.78.8-2.07 0-2.86zM5.41 20L4 18.59l7.72-7.72 1.47 1.35L5.41 20z\"/>\n",
              "  </svg>\n",
              "      </button>\n",
              "      \n",
              "  <style>\n",
              "    .colab-df-container {\n",
              "      display:flex;\n",
              "      flex-wrap:wrap;\n",
              "      gap: 12px;\n",
              "    }\n",
              "\n",
              "    .colab-df-convert {\n",
              "      background-color: #E8F0FE;\n",
              "      border: none;\n",
              "      border-radius: 50%;\n",
              "      cursor: pointer;\n",
              "      display: none;\n",
              "      fill: #1967D2;\n",
              "      height: 32px;\n",
              "      padding: 0 0 0 0;\n",
              "      width: 32px;\n",
              "    }\n",
              "\n",
              "    .colab-df-convert:hover {\n",
              "      background-color: #E2EBFA;\n",
              "      box-shadow: 0px 1px 2px rgba(60, 64, 67, 0.3), 0px 1px 3px 1px rgba(60, 64, 67, 0.15);\n",
              "      fill: #174EA6;\n",
              "    }\n",
              "\n",
              "    [theme=dark] .colab-df-convert {\n",
              "      background-color: #3B4455;\n",
              "      fill: #D2E3FC;\n",
              "    }\n",
              "\n",
              "    [theme=dark] .colab-df-convert:hover {\n",
              "      background-color: #434B5C;\n",
              "      box-shadow: 0px 1px 3px 1px rgba(0, 0, 0, 0.15);\n",
              "      filter: drop-shadow(0px 1px 2px rgba(0, 0, 0, 0.3));\n",
              "      fill: #FFFFFF;\n",
              "    }\n",
              "  </style>\n",
              "\n",
              "      <script>\n",
              "        const buttonEl =\n",
              "          document.querySelector('#df-a045d0fe-144f-4c8f-b701-fd0cbef91840 button.colab-df-convert');\n",
              "        buttonEl.style.display =\n",
              "          google.colab.kernel.accessAllowed ? 'block' : 'none';\n",
              "\n",
              "        async function convertToInteractive(key) {\n",
              "          const element = document.querySelector('#df-a045d0fe-144f-4c8f-b701-fd0cbef91840');\n",
              "          const dataTable =\n",
              "            await google.colab.kernel.invokeFunction('convertToInteractive',\n",
              "                                                     [key], {});\n",
              "          if (!dataTable) return;\n",
              "\n",
              "          const docLinkHtml = 'Like what you see? Visit the ' +\n",
              "            '<a target=\"_blank\" href=https://colab.research.google.com/notebooks/data_table.ipynb>data table notebook</a>'\n",
              "            + ' to learn more about interactive tables.';\n",
              "          element.innerHTML = '';\n",
              "          dataTable['output_type'] = 'display_data';\n",
              "          await google.colab.output.renderOutput(dataTable, element);\n",
              "          const docLink = document.createElement('div');\n",
              "          docLink.innerHTML = docLinkHtml;\n",
              "          element.appendChild(docLink);\n",
              "        }\n",
              "      </script>\n",
              "    </div>\n",
              "  </div>\n",
              "  "
            ]
          },
          "metadata": {},
          "execution_count": 232
        }
      ],
      "source": [
        "pd.DataFrame(pd_list)"
      ]
    },
    {
      "cell_type": "markdown",
      "source": [
        "### Модель WithNoveltyWithWeights (c novelty с балансировкой весов)"
      ],
      "metadata": {
        "id": "0_DuccHsJ1ru"
      }
    },
    {
      "cell_type": "code",
      "source": [
        "model = SentenceTaggerRNN(vocab_size, use_novelty=True).to(device)\n",
        "model.load_state_dict(torch.load('WithNoveltyWithWeights.pt', map_location=torch.device(device)))"
      ],
      "metadata": {
        "colab": {
          "base_uri": "https://localhost:8080/"
        },
        "id": "t9pbgJEGJ7RK",
        "outputId": "cb0225d6-80a8-40b1-a0af-81685628e813"
      },
      "execution_count": null,
      "outputs": [
        {
          "output_type": "execute_result",
          "data": {
            "text/plain": [
              "<All keys matched successfully>"
            ]
          },
          "metadata": {},
          "execution_count": 233
        }
      ]
    },
    {
      "cell_type": "markdown",
      "source": [
        "#### Ранжирование"
      ],
      "metadata": {
        "id": "Ow7ciUsVJ7RL"
      }
    },
    {
      "cell_type": "code",
      "source": [
        "bleu, rouge_2f = inference_summarunner_argsort(model, test_iterator, 3)"
      ],
      "metadata": {
        "colab": {
          "base_uri": "https://localhost:8080/"
        },
        "outputId": "e1e605ac-c4ec-4924-e9e4-ea0a3bd69bed",
        "id": "X47_K9agJ7RL"
      },
      "execution_count": null,
      "outputs": [
        {
          "output_type": "stream",
          "name": "stdout",
          "text": [
            "Count: 256\n",
            "Ref: мировой лидер по выбросам углекислого газа — китай — в ближайшее время не намерен активно развивать « зеленую » энергетику . несмотря на слова о заботе об экологии , пекин строит новые угольные станции . таким образом китай пытается поддержать снижающийся экономический рост .\n",
            "Hyp: пока в европе занимаются развитием возобновляемых источников энергии , в китае готовятся построить новые угольные станции . об этом пишет онлайн-трекер и некоммерческая организация по мониторингу энергетических мощностей global energy monitor со штаб-квартирой в сан-франциско , сша . судя по спутниковым фотографиям , в ближайшее время в кнр будут построены новые угольные электростанции мощностью 121,3 гвт , сообщает нко .\n",
            "BLEU:  0.4483358093852308\n",
            "ROUGE:  {'rouge-1': {'f': 0.31733181247536907, 'p': 0.30313415143950306, 'r': 0.35319675634542935}, 'rouge-2': {'f': 0.14277322190268427, 'p': 0.1347593218711489, 'r': 0.16339726182715175}, 'rouge-l': {'f': 0.27154623032757474, 'p': 0.27392581203986105, 'r': 0.31860412654243914}}\n"
          ]
        }
      ]
    },
    {
      "cell_type": "code",
      "source": [
        "pd_list.append({'novelty':'Да','weigts':'Да', 'inference':'argsort','BLEU':round(bleu,7),'rouge_2f':round(rouge_2f,7)})"
      ],
      "metadata": {
        "id": "ruNLntUbJ7RL"
      },
      "execution_count": null,
      "outputs": []
    },
    {
      "cell_type": "markdown",
      "source": [
        "#### Отсечка логитов "
      ],
      "metadata": {
        "id": "pdHk77C3J7RL"
      }
    },
    {
      "cell_type": "code",
      "execution_count": null,
      "metadata": {
        "colab": {
          "base_uri": "https://localhost:8080/"
        },
        "outputId": "d10b60e8-4268-4cf7-cc7e-2bb20657461b",
        "id": "J54b_ukTJ7RM"
      },
      "outputs": [
        {
          "output_type": "stream",
          "name": "stdout",
          "text": [
            "Count: 256\n",
            "Ref: в детройте в возрасте 80 лет умер режиссер константин бромберг , автор хитов советского проката « чародеи » и « приключения электроника » . после перестройки он переехал жить в сша , где уже не работал в кино , однако продолжал обсуждать возможность продолжения его « праздничных » блокбастеров .\n",
            "Hyp: сценарист и писатель михаил идов сообщил на своей странице в фейсбуке о смерти режиссера фильмов « чародеи » и « приключения электроника » константина бромберга . « два дня назад в детройте скончался режиссер константин бромберг , постановщик советских мегахитов « чародеи » и « приключения электроника » .\n",
            "BLEU:  0.4795289512461312\n",
            "ROUGE:  {'rouge-1': {'f': 0.31656711875822885, 'p': 0.3238933153923643, 'r': 0.32943444880189615}, 'rouge-2': {'f': 0.1435197359246945, 'p': 0.1465065903792664, 'r': 0.15276484574785879}, 'rouge-l': {'f': 0.27042393091253325, 'p': 0.29113243214732404, 'r': 0.29601745812865393}}\n"
          ]
        }
      ],
      "source": [
        "bleu, rouge_2f = inference_summarunner_treshhold(model, test_iterator, 1.7)\n"
      ]
    },
    {
      "cell_type": "code",
      "source": [
        "pd_list.append({'novelty':'Да','weigts':'Да', 'inference':'treshhold - 1.7','BLEU':round(bleu,7),'rouge_2f':round(rouge_2f,7)})"
      ],
      "metadata": {
        "id": "A9YJ3Ci7J7RM"
      },
      "execution_count": null,
      "outputs": []
    },
    {
      "cell_type": "code",
      "execution_count": null,
      "metadata": {
        "colab": {
          "base_uri": "https://localhost:8080/"
        },
        "outputId": "712ecad4-c428-4286-f3e8-b461e6b6fee2",
        "id": "NHC33ZrFJ7RM"
      },
      "outputs": [
        {
          "output_type": "stream",
          "name": "stdout",
          "text": [
            "Count: 256\n",
            "Ref: в москве 38-летний житель кабардино-балкарии жестоко избил пятилетнего пасынка . тетя ребенка стала очевидцем истязаний и сняла их на камеру — на кадрах видно , как мужчина заставляет мальчика отжиматься , а также периодически бьет его по лицу , после чего малыш падает . по данным следкома , это не первый раз , когда отчим применяет насилие в отношении детей своей супруги .\n",
            "Hyp: 38-летний житель кабардино-балкарии мурат шханухов стал фигурантом уголовного дела после того , как на камеру избил пятилетнего пасынка , сообщает столичный следственный комитет . уголовное преследование ведется по статье 117 ук рф « истязания » . по данным ведомства , мужчина не раз применял насилие не только к мальчику , но и другим малолетним детям супруги . в ходе расследования сотрудники следкома намерены дать оценку условиям проживания несовершеннолетних , а также действиям сотрудников органов системы профилактики — в связи с этим ведомство запустило проверку на наличие признаков халатности по статье 293 ук рф . ход расследования контролирует центральный аппарат ведомства . инцидент заинтересовалось и московское управление мвд — полиция уже опросила мужчину , передает риа « новости » .\n",
            "BLEU:  0.2723908151180013\n",
            "ROUGE:  {'rouge-1': {'f': 0.28666571213663145, 'p': 0.21092475862487642, 'r': 0.477891678955558}, 'rouge-2': {'f': 0.12006080920351722, 'p': 0.0853689547984708, 'r': 0.22042062333403192}, 'rouge-l': {'f': 0.2099460713302402, 'p': 0.19183699728689485, 'r': 0.43448980529711145}}\n"
          ]
        }
      ],
      "source": [
        "bleu, rouge_2f = inference_summarunner_treshhold(model, test_iterator, 0)"
      ]
    },
    {
      "cell_type": "code",
      "execution_count": null,
      "metadata": {
        "id": "2baKeXFIJ7RM"
      },
      "outputs": [],
      "source": [
        "pd_list.append({'novelty':'Да','weigts':'Да', 'inference':'treshhold - 0.0','BLEU':round(bleu,7),'rouge_2f':round(rouge_2f,7)})"
      ]
    },
    {
      "cell_type": "code",
      "execution_count": null,
      "metadata": {
        "id": "pzL06DOYJ7RM"
      },
      "outputs": [],
      "source": [
        "pd_result = pd.DataFrame(pd_list).sort_values(by=['BLEU'], ascending=False)\n",
        "pd_result.to_csv('result.csv', index=False)  "
      ]
    },
    {
      "cell_type": "code",
      "source": [
        "pd_result = pd.read_csv('result.csv')"
      ],
      "metadata": {
        "id": "NeQBQNogojWE"
      },
      "execution_count": null,
      "outputs": []
    },
    {
      "cell_type": "markdown",
      "source": [
        "# Итоговые выводы"
      ],
      "metadata": {
        "id": "vaDujVaKN7ET"
      }
    },
    {
      "cell_type": "markdown",
      "source": [
        "- Нами была рассмотрена модель SummaRNN - Summarunner для решения задачи суммаризации текста.\n",
        "\n",
        "- Модель использовалась для датасета gazeta.ru. Заметим, что датасет имеет явно выраженный дисбаланс классов в пропорции весов 0.077 для класса 1, и  0.923 для 0 класса.\n",
        "\n",
        "- В исходную базовую модель была добавлнена дополнительно характеристика предложения novelty. Кроме того, для паддинга предложений был использован индекс 2, не совпадающий с индесами целевых классов 0 и 1.\n",
        "\n",
        "- В качестве функции потерь применялась CrossEntropyLoss в двух вариантах, с использованием корректирующих весов классов при обучении и без таковых.\n",
        "\n",
        "- в inference использовалось два метода выборки предложений для summary. Первый - ранжирование логитов и выборка трех топовых, и второй - с отсечкой логитов по положительному порогу. В качестве порога использовались значения 0 и 1.7 (Порог 1.7 подобран эмпирически, для достижения больших показателей метрики BLEU)\n",
        "\n",
        "- результаты исследования собраны в таблицу\n",
        " ниже"
      ],
      "metadata": {
        "id": "vItdOvYsOKqY"
      }
    },
    {
      "cell_type": "code",
      "source": [
        "pd_result"
      ],
      "metadata": {
        "colab": {
          "base_uri": "https://localhost:8080/",
          "height": 394
        },
        "id": "vyUS6JwbJ7RM",
        "outputId": "f3390c68-7c1a-47d7-b3fb-a70d141409d7"
      },
      "execution_count": null,
      "outputs": [
        {
          "output_type": "execute_result",
          "data": {
            "text/plain": [
              "   novelty weigts        inference      BLEU  rouge_2f\n",
              "0       Да     Да  treshhold - 1.7  0.479529  0.143520\n",
              "1      Нет     Да          argsort  0.448336  0.142773\n",
              "2       Да     Да          argsort  0.448336  0.142773\n",
              "3      Нет     Да  treshhold - 1.7  0.445054  0.142829\n",
              "4      Нет    Нет          argsort  0.421567  0.127754\n",
              "5       Да    Нет          argsort  0.412531  0.123372\n",
              "6      Нет     Да  treshhold - 0.0  0.287392  0.125784\n",
              "7       Да     Да  treshhold - 0.0  0.272391  0.120061\n",
              "8      Нет    Нет  treshhold - 0.0  0.000000  0.000000\n",
              "9       Да    Нет  treshhold - 1.7  0.000000  0.000000\n",
              "10      Да    Нет  treshhold - 0.0  0.000000  0.000000"
            ],
            "text/html": [
              "\n",
              "  <div id=\"df-2a9d90e2-a521-4f93-b860-bfc878fa871a\">\n",
              "    <div class=\"colab-df-container\">\n",
              "      <div>\n",
              "<style scoped>\n",
              "    .dataframe tbody tr th:only-of-type {\n",
              "        vertical-align: middle;\n",
              "    }\n",
              "\n",
              "    .dataframe tbody tr th {\n",
              "        vertical-align: top;\n",
              "    }\n",
              "\n",
              "    .dataframe thead th {\n",
              "        text-align: right;\n",
              "    }\n",
              "</style>\n",
              "<table border=\"1\" class=\"dataframe\">\n",
              "  <thead>\n",
              "    <tr style=\"text-align: right;\">\n",
              "      <th></th>\n",
              "      <th>novelty</th>\n",
              "      <th>weigts</th>\n",
              "      <th>inference</th>\n",
              "      <th>BLEU</th>\n",
              "      <th>rouge_2f</th>\n",
              "    </tr>\n",
              "  </thead>\n",
              "  <tbody>\n",
              "    <tr>\n",
              "      <th>0</th>\n",
              "      <td>Да</td>\n",
              "      <td>Да</td>\n",
              "      <td>treshhold - 1.7</td>\n",
              "      <td>0.479529</td>\n",
              "      <td>0.143520</td>\n",
              "    </tr>\n",
              "    <tr>\n",
              "      <th>1</th>\n",
              "      <td>Нет</td>\n",
              "      <td>Да</td>\n",
              "      <td>argsort</td>\n",
              "      <td>0.448336</td>\n",
              "      <td>0.142773</td>\n",
              "    </tr>\n",
              "    <tr>\n",
              "      <th>2</th>\n",
              "      <td>Да</td>\n",
              "      <td>Да</td>\n",
              "      <td>argsort</td>\n",
              "      <td>0.448336</td>\n",
              "      <td>0.142773</td>\n",
              "    </tr>\n",
              "    <tr>\n",
              "      <th>3</th>\n",
              "      <td>Нет</td>\n",
              "      <td>Да</td>\n",
              "      <td>treshhold - 1.7</td>\n",
              "      <td>0.445054</td>\n",
              "      <td>0.142829</td>\n",
              "    </tr>\n",
              "    <tr>\n",
              "      <th>4</th>\n",
              "      <td>Нет</td>\n",
              "      <td>Нет</td>\n",
              "      <td>argsort</td>\n",
              "      <td>0.421567</td>\n",
              "      <td>0.127754</td>\n",
              "    </tr>\n",
              "    <tr>\n",
              "      <th>5</th>\n",
              "      <td>Да</td>\n",
              "      <td>Нет</td>\n",
              "      <td>argsort</td>\n",
              "      <td>0.412531</td>\n",
              "      <td>0.123372</td>\n",
              "    </tr>\n",
              "    <tr>\n",
              "      <th>6</th>\n",
              "      <td>Нет</td>\n",
              "      <td>Да</td>\n",
              "      <td>treshhold - 0.0</td>\n",
              "      <td>0.287392</td>\n",
              "      <td>0.125784</td>\n",
              "    </tr>\n",
              "    <tr>\n",
              "      <th>7</th>\n",
              "      <td>Да</td>\n",
              "      <td>Да</td>\n",
              "      <td>treshhold - 0.0</td>\n",
              "      <td>0.272391</td>\n",
              "      <td>0.120061</td>\n",
              "    </tr>\n",
              "    <tr>\n",
              "      <th>8</th>\n",
              "      <td>Нет</td>\n",
              "      <td>Нет</td>\n",
              "      <td>treshhold - 0.0</td>\n",
              "      <td>0.000000</td>\n",
              "      <td>0.000000</td>\n",
              "    </tr>\n",
              "    <tr>\n",
              "      <th>9</th>\n",
              "      <td>Да</td>\n",
              "      <td>Нет</td>\n",
              "      <td>treshhold - 1.7</td>\n",
              "      <td>0.000000</td>\n",
              "      <td>0.000000</td>\n",
              "    </tr>\n",
              "    <tr>\n",
              "      <th>10</th>\n",
              "      <td>Да</td>\n",
              "      <td>Нет</td>\n",
              "      <td>treshhold - 0.0</td>\n",
              "      <td>0.000000</td>\n",
              "      <td>0.000000</td>\n",
              "    </tr>\n",
              "  </tbody>\n",
              "</table>\n",
              "</div>\n",
              "      <button class=\"colab-df-convert\" onclick=\"convertToInteractive('df-2a9d90e2-a521-4f93-b860-bfc878fa871a')\"\n",
              "              title=\"Convert this dataframe to an interactive table.\"\n",
              "              style=\"display:none;\">\n",
              "        \n",
              "  <svg xmlns=\"http://www.w3.org/2000/svg\" height=\"24px\"viewBox=\"0 0 24 24\"\n",
              "       width=\"24px\">\n",
              "    <path d=\"M0 0h24v24H0V0z\" fill=\"none\"/>\n",
              "    <path d=\"M18.56 5.44l.94 2.06.94-2.06 2.06-.94-2.06-.94-.94-2.06-.94 2.06-2.06.94zm-11 1L8.5 8.5l.94-2.06 2.06-.94-2.06-.94L8.5 2.5l-.94 2.06-2.06.94zm10 10l.94 2.06.94-2.06 2.06-.94-2.06-.94-.94-2.06-.94 2.06-2.06.94z\"/><path d=\"M17.41 7.96l-1.37-1.37c-.4-.4-.92-.59-1.43-.59-.52 0-1.04.2-1.43.59L10.3 9.45l-7.72 7.72c-.78.78-.78 2.05 0 2.83L4 21.41c.39.39.9.59 1.41.59.51 0 1.02-.2 1.41-.59l7.78-7.78 2.81-2.81c.8-.78.8-2.07 0-2.86zM5.41 20L4 18.59l7.72-7.72 1.47 1.35L5.41 20z\"/>\n",
              "  </svg>\n",
              "      </button>\n",
              "      \n",
              "  <style>\n",
              "    .colab-df-container {\n",
              "      display:flex;\n",
              "      flex-wrap:wrap;\n",
              "      gap: 12px;\n",
              "    }\n",
              "\n",
              "    .colab-df-convert {\n",
              "      background-color: #E8F0FE;\n",
              "      border: none;\n",
              "      border-radius: 50%;\n",
              "      cursor: pointer;\n",
              "      display: none;\n",
              "      fill: #1967D2;\n",
              "      height: 32px;\n",
              "      padding: 0 0 0 0;\n",
              "      width: 32px;\n",
              "    }\n",
              "\n",
              "    .colab-df-convert:hover {\n",
              "      background-color: #E2EBFA;\n",
              "      box-shadow: 0px 1px 2px rgba(60, 64, 67, 0.3), 0px 1px 3px 1px rgba(60, 64, 67, 0.15);\n",
              "      fill: #174EA6;\n",
              "    }\n",
              "\n",
              "    [theme=dark] .colab-df-convert {\n",
              "      background-color: #3B4455;\n",
              "      fill: #D2E3FC;\n",
              "    }\n",
              "\n",
              "    [theme=dark] .colab-df-convert:hover {\n",
              "      background-color: #434B5C;\n",
              "      box-shadow: 0px 1px 3px 1px rgba(0, 0, 0, 0.15);\n",
              "      filter: drop-shadow(0px 1px 2px rgba(0, 0, 0, 0.3));\n",
              "      fill: #FFFFFF;\n",
              "    }\n",
              "  </style>\n",
              "\n",
              "      <script>\n",
              "        const buttonEl =\n",
              "          document.querySelector('#df-2a9d90e2-a521-4f93-b860-bfc878fa871a button.colab-df-convert');\n",
              "        buttonEl.style.display =\n",
              "          google.colab.kernel.accessAllowed ? 'block' : 'none';\n",
              "\n",
              "        async function convertToInteractive(key) {\n",
              "          const element = document.querySelector('#df-2a9d90e2-a521-4f93-b860-bfc878fa871a');\n",
              "          const dataTable =\n",
              "            await google.colab.kernel.invokeFunction('convertToInteractive',\n",
              "                                                     [key], {});\n",
              "          if (!dataTable) return;\n",
              "\n",
              "          const docLinkHtml = 'Like what you see? Visit the ' +\n",
              "            '<a target=\"_blank\" href=https://colab.research.google.com/notebooks/data_table.ipynb>data table notebook</a>'\n",
              "            + ' to learn more about interactive tables.';\n",
              "          element.innerHTML = '';\n",
              "          dataTable['output_type'] = 'display_data';\n",
              "          await google.colab.output.renderOutput(dataTable, element);\n",
              "          const docLink = document.createElement('div');\n",
              "          docLink.innerHTML = docLinkHtml;\n",
              "          element.appendChild(docLink);\n",
              "        }\n",
              "      </script>\n",
              "    </div>\n",
              "  </div>\n",
              "  "
            ]
          },
          "metadata": {},
          "execution_count": 12
        }
      ]
    },
    {
      "cell_type": "markdown",
      "source": [
        "Мы видим, что наилучший результат по **BLEU = 0.479529** показала модель с использованием **корректирующих весов** для крос энтропии при обучении и включенной характеристикой **novelty**. Для отбора логитов была использована отсечка **treshhold = 1.7**. (смотри строка 1 в таблице). С нулевой отсечкой положительных логитов данная модель \"провалилась\" до BLEU = 0.272391 (7 строка).\n",
        "\n",
        "Если посмотреть на перые три топ модели, то видно, что наличие корректирующих весов при обучении оказывает более сильное положительное воздействие на результат, чем включение характеристики novelty. \n",
        "\n",
        "Для моделей где в inference использовалась положительная отсечка отключение весов привело к нулевому результату, так как все логиты отрицательные (строки 8,9,10)"
      ],
      "metadata": {
        "id": "PaJj8_sXss8J"
      }
    }
  ],
  "metadata": {
    "colab": {
      "collapsed_sections": [],
      "name": "Andrey_Bondarchuk_stepik_id_346032105 [homework]summarization.ipynb",
      "provenance": [],
      "toc_visible": true
    },
    "kernelspec": {
      "display_name": "Python 3",
      "name": "python3"
    },
    "widgets": {
      "application/vnd.jupyter.widget-state+json": {
        "12f1e80f5e02483ca63252ff070f9f8e": {
          "model_module": "@jupyter-widgets/controls",
          "model_name": "HBoxModel",
          "model_module_version": "1.5.0",
          "state": {
            "_dom_classes": [],
            "_model_module": "@jupyter-widgets/controls",
            "_model_module_version": "1.5.0",
            "_model_name": "HBoxModel",
            "_view_count": null,
            "_view_module": "@jupyter-widgets/controls",
            "_view_module_version": "1.5.0",
            "_view_name": "HBoxView",
            "box_style": "",
            "children": [
              "IPY_MODEL_65c7d4e4beee4994b26da9f3e6e942e1",
              "IPY_MODEL_12ad0284ddc54b79bf972be685fa42a4",
              "IPY_MODEL_045c9bc0f6dd4919a5de67d858e6ecf7"
            ],
            "layout": "IPY_MODEL_9a08996cd210421e8d9d1d322e7fda62"
          }
        },
        "65c7d4e4beee4994b26da9f3e6e942e1": {
          "model_module": "@jupyter-widgets/controls",
          "model_name": "HTMLModel",
          "model_module_version": "1.5.0",
          "state": {
            "_dom_classes": [],
            "_model_module": "@jupyter-widgets/controls",
            "_model_module_version": "1.5.0",
            "_model_name": "HTMLModel",
            "_view_count": null,
            "_view_module": "@jupyter-widgets/controls",
            "_view_module_version": "1.5.0",
            "_view_name": "HTMLView",
            "description": "",
            "description_tooltip": null,
            "layout": "IPY_MODEL_9b7c7c3d004140a3814df18f9f103b80",
            "placeholder": "​",
            "style": "IPY_MODEL_31213de8beaf4e058c27bafc0afac05b",
            "value": ""
          }
        },
        "12ad0284ddc54b79bf972be685fa42a4": {
          "model_module": "@jupyter-widgets/controls",
          "model_name": "FloatProgressModel",
          "model_module_version": "1.5.0",
          "state": {
            "_dom_classes": [],
            "_model_module": "@jupyter-widgets/controls",
            "_model_module_version": "1.5.0",
            "_model_name": "FloatProgressModel",
            "_view_count": null,
            "_view_module": "@jupyter-widgets/controls",
            "_view_module_version": "1.5.0",
            "_view_name": "ProgressView",
            "bar_style": "danger",
            "description": "",
            "description_tooltip": null,
            "layout": "IPY_MODEL_d9e6e08df6c74e9ea500709d7e4569d7",
            "max": 1,
            "min": 0,
            "orientation": "horizontal",
            "style": "IPY_MODEL_f678ebaa44934681bf3c8d636a184082",
            "value": 1
          }
        },
        "045c9bc0f6dd4919a5de67d858e6ecf7": {
          "model_module": "@jupyter-widgets/controls",
          "model_name": "HTMLModel",
          "model_module_version": "1.5.0",
          "state": {
            "_dom_classes": [],
            "_model_module": "@jupyter-widgets/controls",
            "_model_module_version": "1.5.0",
            "_model_name": "HTMLModel",
            "_view_count": null,
            "_view_module": "@jupyter-widgets/controls",
            "_view_module_version": "1.5.0",
            "_view_name": "HTMLView",
            "description": "",
            "description_tooltip": null,
            "layout": "IPY_MODEL_95e6dfd29c05454188c08c480568843d",
            "placeholder": "​",
            "style": "IPY_MODEL_38c86e39a6644024801a501c25345f93",
            "value": " 2048/? [05:08&lt;00:00, 11.92it/s]"
          }
        },
        "9a08996cd210421e8d9d1d322e7fda62": {
          "model_module": "@jupyter-widgets/base",
          "model_name": "LayoutModel",
          "model_module_version": "1.2.0",
          "state": {
            "_model_module": "@jupyter-widgets/base",
            "_model_module_version": "1.2.0",
            "_model_name": "LayoutModel",
            "_view_count": null,
            "_view_module": "@jupyter-widgets/base",
            "_view_module_version": "1.2.0",
            "_view_name": "LayoutView",
            "align_content": null,
            "align_items": null,
            "align_self": null,
            "border": null,
            "bottom": null,
            "display": null,
            "flex": null,
            "flex_flow": null,
            "grid_area": null,
            "grid_auto_columns": null,
            "grid_auto_flow": null,
            "grid_auto_rows": null,
            "grid_column": null,
            "grid_gap": null,
            "grid_row": null,
            "grid_template_areas": null,
            "grid_template_columns": null,
            "grid_template_rows": null,
            "height": null,
            "justify_content": null,
            "justify_items": null,
            "left": null,
            "margin": null,
            "max_height": null,
            "max_width": null,
            "min_height": null,
            "min_width": null,
            "object_fit": null,
            "object_position": null,
            "order": null,
            "overflow": null,
            "overflow_x": null,
            "overflow_y": null,
            "padding": null,
            "right": null,
            "top": null,
            "visibility": null,
            "width": null
          }
        },
        "9b7c7c3d004140a3814df18f9f103b80": {
          "model_module": "@jupyter-widgets/base",
          "model_name": "LayoutModel",
          "model_module_version": "1.2.0",
          "state": {
            "_model_module": "@jupyter-widgets/base",
            "_model_module_version": "1.2.0",
            "_model_name": "LayoutModel",
            "_view_count": null,
            "_view_module": "@jupyter-widgets/base",
            "_view_module_version": "1.2.0",
            "_view_name": "LayoutView",
            "align_content": null,
            "align_items": null,
            "align_self": null,
            "border": null,
            "bottom": null,
            "display": null,
            "flex": null,
            "flex_flow": null,
            "grid_area": null,
            "grid_auto_columns": null,
            "grid_auto_flow": null,
            "grid_auto_rows": null,
            "grid_column": null,
            "grid_gap": null,
            "grid_row": null,
            "grid_template_areas": null,
            "grid_template_columns": null,
            "grid_template_rows": null,
            "height": null,
            "justify_content": null,
            "justify_items": null,
            "left": null,
            "margin": null,
            "max_height": null,
            "max_width": null,
            "min_height": null,
            "min_width": null,
            "object_fit": null,
            "object_position": null,
            "order": null,
            "overflow": null,
            "overflow_x": null,
            "overflow_y": null,
            "padding": null,
            "right": null,
            "top": null,
            "visibility": null,
            "width": null
          }
        },
        "31213de8beaf4e058c27bafc0afac05b": {
          "model_module": "@jupyter-widgets/controls",
          "model_name": "DescriptionStyleModel",
          "model_module_version": "1.5.0",
          "state": {
            "_model_module": "@jupyter-widgets/controls",
            "_model_module_version": "1.5.0",
            "_model_name": "DescriptionStyleModel",
            "_view_count": null,
            "_view_module": "@jupyter-widgets/base",
            "_view_module_version": "1.2.0",
            "_view_name": "StyleView",
            "description_width": ""
          }
        },
        "d9e6e08df6c74e9ea500709d7e4569d7": {
          "model_module": "@jupyter-widgets/base",
          "model_name": "LayoutModel",
          "model_module_version": "1.2.0",
          "state": {
            "_model_module": "@jupyter-widgets/base",
            "_model_module_version": "1.2.0",
            "_model_name": "LayoutModel",
            "_view_count": null,
            "_view_module": "@jupyter-widgets/base",
            "_view_module_version": "1.2.0",
            "_view_name": "LayoutView",
            "align_content": null,
            "align_items": null,
            "align_self": null,
            "border": null,
            "bottom": null,
            "display": null,
            "flex": null,
            "flex_flow": null,
            "grid_area": null,
            "grid_auto_columns": null,
            "grid_auto_flow": null,
            "grid_auto_rows": null,
            "grid_column": null,
            "grid_gap": null,
            "grid_row": null,
            "grid_template_areas": null,
            "grid_template_columns": null,
            "grid_template_rows": null,
            "height": null,
            "justify_content": null,
            "justify_items": null,
            "left": null,
            "margin": null,
            "max_height": null,
            "max_width": null,
            "min_height": null,
            "min_width": null,
            "object_fit": null,
            "object_position": null,
            "order": null,
            "overflow": null,
            "overflow_x": null,
            "overflow_y": null,
            "padding": null,
            "right": null,
            "top": null,
            "visibility": null,
            "width": "20px"
          }
        },
        "f678ebaa44934681bf3c8d636a184082": {
          "model_module": "@jupyter-widgets/controls",
          "model_name": "ProgressStyleModel",
          "model_module_version": "1.5.0",
          "state": {
            "_model_module": "@jupyter-widgets/controls",
            "_model_module_version": "1.5.0",
            "_model_name": "ProgressStyleModel",
            "_view_count": null,
            "_view_module": "@jupyter-widgets/base",
            "_view_module_version": "1.2.0",
            "_view_name": "StyleView",
            "bar_color": null,
            "description_width": ""
          }
        },
        "95e6dfd29c05454188c08c480568843d": {
          "model_module": "@jupyter-widgets/base",
          "model_name": "LayoutModel",
          "model_module_version": "1.2.0",
          "state": {
            "_model_module": "@jupyter-widgets/base",
            "_model_module_version": "1.2.0",
            "_model_name": "LayoutModel",
            "_view_count": null,
            "_view_module": "@jupyter-widgets/base",
            "_view_module_version": "1.2.0",
            "_view_name": "LayoutView",
            "align_content": null,
            "align_items": null,
            "align_self": null,
            "border": null,
            "bottom": null,
            "display": null,
            "flex": null,
            "flex_flow": null,
            "grid_area": null,
            "grid_auto_columns": null,
            "grid_auto_flow": null,
            "grid_auto_rows": null,
            "grid_column": null,
            "grid_gap": null,
            "grid_row": null,
            "grid_template_areas": null,
            "grid_template_columns": null,
            "grid_template_rows": null,
            "height": null,
            "justify_content": null,
            "justify_items": null,
            "left": null,
            "margin": null,
            "max_height": null,
            "max_width": null,
            "min_height": null,
            "min_width": null,
            "object_fit": null,
            "object_position": null,
            "order": null,
            "overflow": null,
            "overflow_x": null,
            "overflow_y": null,
            "padding": null,
            "right": null,
            "top": null,
            "visibility": null,
            "width": null
          }
        },
        "38c86e39a6644024801a501c25345f93": {
          "model_module": "@jupyter-widgets/controls",
          "model_name": "DescriptionStyleModel",
          "model_module_version": "1.5.0",
          "state": {
            "_model_module": "@jupyter-widgets/controls",
            "_model_module_version": "1.5.0",
            "_model_name": "DescriptionStyleModel",
            "_view_count": null,
            "_view_module": "@jupyter-widgets/base",
            "_view_module_version": "1.2.0",
            "_view_name": "StyleView",
            "description_width": ""
          }
        },
        "6874b8c3f68d4e58a8298faf1a146b31": {
          "model_module": "@jupyter-widgets/controls",
          "model_name": "HBoxModel",
          "model_module_version": "1.5.0",
          "state": {
            "_dom_classes": [],
            "_model_module": "@jupyter-widgets/controls",
            "_model_module_version": "1.5.0",
            "_model_name": "HBoxModel",
            "_view_count": null,
            "_view_module": "@jupyter-widgets/controls",
            "_view_module_version": "1.5.0",
            "_view_name": "HBoxView",
            "box_style": "",
            "children": [
              "IPY_MODEL_10b269ef1f3b4f6fa5c56e6a22f5ce02",
              "IPY_MODEL_1f5ae7f08ff3428f823a16c70d0eead9",
              "IPY_MODEL_b2b118af211f4f1db9e5f421b21cd5ba"
            ],
            "layout": "IPY_MODEL_bb9743aa1501496cbb7c9b9b52caf1b7"
          }
        },
        "10b269ef1f3b4f6fa5c56e6a22f5ce02": {
          "model_module": "@jupyter-widgets/controls",
          "model_name": "HTMLModel",
          "model_module_version": "1.5.0",
          "state": {
            "_dom_classes": [],
            "_model_module": "@jupyter-widgets/controls",
            "_model_module_version": "1.5.0",
            "_model_name": "HTMLModel",
            "_view_count": null,
            "_view_module": "@jupyter-widgets/controls",
            "_view_module_version": "1.5.0",
            "_view_name": "HTMLView",
            "description": "",
            "description_tooltip": null,
            "layout": "IPY_MODEL_fa843a2622754851a6f3434d719470f6",
            "placeholder": "​",
            "style": "IPY_MODEL_5e06b82118744df685d4eb15a6510a49",
            "value": ""
          }
        },
        "1f5ae7f08ff3428f823a16c70d0eead9": {
          "model_module": "@jupyter-widgets/controls",
          "model_name": "FloatProgressModel",
          "model_module_version": "1.5.0",
          "state": {
            "_dom_classes": [],
            "_model_module": "@jupyter-widgets/controls",
            "_model_module_version": "1.5.0",
            "_model_name": "FloatProgressModel",
            "_view_count": null,
            "_view_module": "@jupyter-widgets/controls",
            "_view_module_version": "1.5.0",
            "_view_name": "ProgressView",
            "bar_style": "danger",
            "description": "",
            "description_tooltip": null,
            "layout": "IPY_MODEL_a39eeafe4556403c8b3e6b8993e136fe",
            "max": 1,
            "min": 0,
            "orientation": "horizontal",
            "style": "IPY_MODEL_676f60c324a74f2288d1e194b3a94c1e",
            "value": 1
          }
        },
        "b2b118af211f4f1db9e5f421b21cd5ba": {
          "model_module": "@jupyter-widgets/controls",
          "model_name": "HTMLModel",
          "model_module_version": "1.5.0",
          "state": {
            "_dom_classes": [],
            "_model_module": "@jupyter-widgets/controls",
            "_model_module_version": "1.5.0",
            "_model_name": "HTMLModel",
            "_view_count": null,
            "_view_module": "@jupyter-widgets/controls",
            "_view_module_version": "1.5.0",
            "_view_name": "HTMLView",
            "description": "",
            "description_tooltip": null,
            "layout": "IPY_MODEL_c4b0a46f3902458199c7c7e9ed35db32",
            "placeholder": "​",
            "style": "IPY_MODEL_c6615434a5734491b479c7a7d413f5dc",
            "value": " 256/? [00:56&lt;00:00,  4.28it/s]"
          }
        },
        "bb9743aa1501496cbb7c9b9b52caf1b7": {
          "model_module": "@jupyter-widgets/base",
          "model_name": "LayoutModel",
          "model_module_version": "1.2.0",
          "state": {
            "_model_module": "@jupyter-widgets/base",
            "_model_module_version": "1.2.0",
            "_model_name": "LayoutModel",
            "_view_count": null,
            "_view_module": "@jupyter-widgets/base",
            "_view_module_version": "1.2.0",
            "_view_name": "LayoutView",
            "align_content": null,
            "align_items": null,
            "align_self": null,
            "border": null,
            "bottom": null,
            "display": null,
            "flex": null,
            "flex_flow": null,
            "grid_area": null,
            "grid_auto_columns": null,
            "grid_auto_flow": null,
            "grid_auto_rows": null,
            "grid_column": null,
            "grid_gap": null,
            "grid_row": null,
            "grid_template_areas": null,
            "grid_template_columns": null,
            "grid_template_rows": null,
            "height": null,
            "justify_content": null,
            "justify_items": null,
            "left": null,
            "margin": null,
            "max_height": null,
            "max_width": null,
            "min_height": null,
            "min_width": null,
            "object_fit": null,
            "object_position": null,
            "order": null,
            "overflow": null,
            "overflow_x": null,
            "overflow_y": null,
            "padding": null,
            "right": null,
            "top": null,
            "visibility": null,
            "width": null
          }
        },
        "fa843a2622754851a6f3434d719470f6": {
          "model_module": "@jupyter-widgets/base",
          "model_name": "LayoutModel",
          "model_module_version": "1.2.0",
          "state": {
            "_model_module": "@jupyter-widgets/base",
            "_model_module_version": "1.2.0",
            "_model_name": "LayoutModel",
            "_view_count": null,
            "_view_module": "@jupyter-widgets/base",
            "_view_module_version": "1.2.0",
            "_view_name": "LayoutView",
            "align_content": null,
            "align_items": null,
            "align_self": null,
            "border": null,
            "bottom": null,
            "display": null,
            "flex": null,
            "flex_flow": null,
            "grid_area": null,
            "grid_auto_columns": null,
            "grid_auto_flow": null,
            "grid_auto_rows": null,
            "grid_column": null,
            "grid_gap": null,
            "grid_row": null,
            "grid_template_areas": null,
            "grid_template_columns": null,
            "grid_template_rows": null,
            "height": null,
            "justify_content": null,
            "justify_items": null,
            "left": null,
            "margin": null,
            "max_height": null,
            "max_width": null,
            "min_height": null,
            "min_width": null,
            "object_fit": null,
            "object_position": null,
            "order": null,
            "overflow": null,
            "overflow_x": null,
            "overflow_y": null,
            "padding": null,
            "right": null,
            "top": null,
            "visibility": null,
            "width": null
          }
        },
        "5e06b82118744df685d4eb15a6510a49": {
          "model_module": "@jupyter-widgets/controls",
          "model_name": "DescriptionStyleModel",
          "model_module_version": "1.5.0",
          "state": {
            "_model_module": "@jupyter-widgets/controls",
            "_model_module_version": "1.5.0",
            "_model_name": "DescriptionStyleModel",
            "_view_count": null,
            "_view_module": "@jupyter-widgets/base",
            "_view_module_version": "1.2.0",
            "_view_name": "StyleView",
            "description_width": ""
          }
        },
        "a39eeafe4556403c8b3e6b8993e136fe": {
          "model_module": "@jupyter-widgets/base",
          "model_name": "LayoutModel",
          "model_module_version": "1.2.0",
          "state": {
            "_model_module": "@jupyter-widgets/base",
            "_model_module_version": "1.2.0",
            "_model_name": "LayoutModel",
            "_view_count": null,
            "_view_module": "@jupyter-widgets/base",
            "_view_module_version": "1.2.0",
            "_view_name": "LayoutView",
            "align_content": null,
            "align_items": null,
            "align_self": null,
            "border": null,
            "bottom": null,
            "display": null,
            "flex": null,
            "flex_flow": null,
            "grid_area": null,
            "grid_auto_columns": null,
            "grid_auto_flow": null,
            "grid_auto_rows": null,
            "grid_column": null,
            "grid_gap": null,
            "grid_row": null,
            "grid_template_areas": null,
            "grid_template_columns": null,
            "grid_template_rows": null,
            "height": null,
            "justify_content": null,
            "justify_items": null,
            "left": null,
            "margin": null,
            "max_height": null,
            "max_width": null,
            "min_height": null,
            "min_width": null,
            "object_fit": null,
            "object_position": null,
            "order": null,
            "overflow": null,
            "overflow_x": null,
            "overflow_y": null,
            "padding": null,
            "right": null,
            "top": null,
            "visibility": null,
            "width": "20px"
          }
        },
        "676f60c324a74f2288d1e194b3a94c1e": {
          "model_module": "@jupyter-widgets/controls",
          "model_name": "ProgressStyleModel",
          "model_module_version": "1.5.0",
          "state": {
            "_model_module": "@jupyter-widgets/controls",
            "_model_module_version": "1.5.0",
            "_model_name": "ProgressStyleModel",
            "_view_count": null,
            "_view_module": "@jupyter-widgets/base",
            "_view_module_version": "1.2.0",
            "_view_name": "StyleView",
            "bar_color": null,
            "description_width": ""
          }
        },
        "c4b0a46f3902458199c7c7e9ed35db32": {
          "model_module": "@jupyter-widgets/base",
          "model_name": "LayoutModel",
          "model_module_version": "1.2.0",
          "state": {
            "_model_module": "@jupyter-widgets/base",
            "_model_module_version": "1.2.0",
            "_model_name": "LayoutModel",
            "_view_count": null,
            "_view_module": "@jupyter-widgets/base",
            "_view_module_version": "1.2.0",
            "_view_name": "LayoutView",
            "align_content": null,
            "align_items": null,
            "align_self": null,
            "border": null,
            "bottom": null,
            "display": null,
            "flex": null,
            "flex_flow": null,
            "grid_area": null,
            "grid_auto_columns": null,
            "grid_auto_flow": null,
            "grid_auto_rows": null,
            "grid_column": null,
            "grid_gap": null,
            "grid_row": null,
            "grid_template_areas": null,
            "grid_template_columns": null,
            "grid_template_rows": null,
            "height": null,
            "justify_content": null,
            "justify_items": null,
            "left": null,
            "margin": null,
            "max_height": null,
            "max_width": null,
            "min_height": null,
            "min_width": null,
            "object_fit": null,
            "object_position": null,
            "order": null,
            "overflow": null,
            "overflow_x": null,
            "overflow_y": null,
            "padding": null,
            "right": null,
            "top": null,
            "visibility": null,
            "width": null
          }
        },
        "c6615434a5734491b479c7a7d413f5dc": {
          "model_module": "@jupyter-widgets/controls",
          "model_name": "DescriptionStyleModel",
          "model_module_version": "1.5.0",
          "state": {
            "_model_module": "@jupyter-widgets/controls",
            "_model_module_version": "1.5.0",
            "_model_name": "DescriptionStyleModel",
            "_view_count": null,
            "_view_module": "@jupyter-widgets/base",
            "_view_module_version": "1.2.0",
            "_view_name": "StyleView",
            "description_width": ""
          }
        },
        "b2e3a74cd51d471692ce029371126347": {
          "model_module": "@jupyter-widgets/controls",
          "model_name": "HBoxModel",
          "model_module_version": "1.5.0",
          "state": {
            "_dom_classes": [],
            "_model_module": "@jupyter-widgets/controls",
            "_model_module_version": "1.5.0",
            "_model_name": "HBoxModel",
            "_view_count": null,
            "_view_module": "@jupyter-widgets/controls",
            "_view_module_version": "1.5.0",
            "_view_name": "HBoxView",
            "box_style": "",
            "children": [
              "IPY_MODEL_417e647facab4151b8ef68d56736332e",
              "IPY_MODEL_8af7b1dbe61741399368b7fc40fa83fe",
              "IPY_MODEL_ccc2e08d9ff1426fbb863d570f5486a0"
            ],
            "layout": "IPY_MODEL_9f20474fb16341358987ce1b56fc6070"
          }
        },
        "417e647facab4151b8ef68d56736332e": {
          "model_module": "@jupyter-widgets/controls",
          "model_name": "HTMLModel",
          "model_module_version": "1.5.0",
          "state": {
            "_dom_classes": [],
            "_model_module": "@jupyter-widgets/controls",
            "_model_module_version": "1.5.0",
            "_model_name": "HTMLModel",
            "_view_count": null,
            "_view_module": "@jupyter-widgets/controls",
            "_view_module_version": "1.5.0",
            "_view_name": "HTMLView",
            "description": "",
            "description_tooltip": null,
            "layout": "IPY_MODEL_c68cf6b99ea74f3580d96b546d495c2b",
            "placeholder": "​",
            "style": "IPY_MODEL_c8ecf9567b764c7693d4b17d653a4057",
            "value": ""
          }
        },
        "8af7b1dbe61741399368b7fc40fa83fe": {
          "model_module": "@jupyter-widgets/controls",
          "model_name": "FloatProgressModel",
          "model_module_version": "1.5.0",
          "state": {
            "_dom_classes": [],
            "_model_module": "@jupyter-widgets/controls",
            "_model_module_version": "1.5.0",
            "_model_name": "FloatProgressModel",
            "_view_count": null,
            "_view_module": "@jupyter-widgets/controls",
            "_view_module_version": "1.5.0",
            "_view_name": "ProgressView",
            "bar_style": "danger",
            "description": "",
            "description_tooltip": null,
            "layout": "IPY_MODEL_c5c5e675831741f3b8d64ceaa01d1800",
            "max": 1,
            "min": 0,
            "orientation": "horizontal",
            "style": "IPY_MODEL_39d6d61af7b44bfca8a9b07b85e73db9",
            "value": 1
          }
        },
        "ccc2e08d9ff1426fbb863d570f5486a0": {
          "model_module": "@jupyter-widgets/controls",
          "model_name": "HTMLModel",
          "model_module_version": "1.5.0",
          "state": {
            "_dom_classes": [],
            "_model_module": "@jupyter-widgets/controls",
            "_model_module_version": "1.5.0",
            "_model_name": "HTMLModel",
            "_view_count": null,
            "_view_module": "@jupyter-widgets/controls",
            "_view_module_version": "1.5.0",
            "_view_name": "HTMLView",
            "description": "",
            "description_tooltip": null,
            "layout": "IPY_MODEL_dbb3282c485b410785d2e99f5e799e1d",
            "placeholder": "​",
            "style": "IPY_MODEL_d834ca55a63a40018537297f6fa81676",
            "value": " 256/? [00:45&lt;00:00,  4.05it/s]"
          }
        },
        "9f20474fb16341358987ce1b56fc6070": {
          "model_module": "@jupyter-widgets/base",
          "model_name": "LayoutModel",
          "model_module_version": "1.2.0",
          "state": {
            "_model_module": "@jupyter-widgets/base",
            "_model_module_version": "1.2.0",
            "_model_name": "LayoutModel",
            "_view_count": null,
            "_view_module": "@jupyter-widgets/base",
            "_view_module_version": "1.2.0",
            "_view_name": "LayoutView",
            "align_content": null,
            "align_items": null,
            "align_self": null,
            "border": null,
            "bottom": null,
            "display": null,
            "flex": null,
            "flex_flow": null,
            "grid_area": null,
            "grid_auto_columns": null,
            "grid_auto_flow": null,
            "grid_auto_rows": null,
            "grid_column": null,
            "grid_gap": null,
            "grid_row": null,
            "grid_template_areas": null,
            "grid_template_columns": null,
            "grid_template_rows": null,
            "height": null,
            "justify_content": null,
            "justify_items": null,
            "left": null,
            "margin": null,
            "max_height": null,
            "max_width": null,
            "min_height": null,
            "min_width": null,
            "object_fit": null,
            "object_position": null,
            "order": null,
            "overflow": null,
            "overflow_x": null,
            "overflow_y": null,
            "padding": null,
            "right": null,
            "top": null,
            "visibility": null,
            "width": null
          }
        },
        "c68cf6b99ea74f3580d96b546d495c2b": {
          "model_module": "@jupyter-widgets/base",
          "model_name": "LayoutModel",
          "model_module_version": "1.2.0",
          "state": {
            "_model_module": "@jupyter-widgets/base",
            "_model_module_version": "1.2.0",
            "_model_name": "LayoutModel",
            "_view_count": null,
            "_view_module": "@jupyter-widgets/base",
            "_view_module_version": "1.2.0",
            "_view_name": "LayoutView",
            "align_content": null,
            "align_items": null,
            "align_self": null,
            "border": null,
            "bottom": null,
            "display": null,
            "flex": null,
            "flex_flow": null,
            "grid_area": null,
            "grid_auto_columns": null,
            "grid_auto_flow": null,
            "grid_auto_rows": null,
            "grid_column": null,
            "grid_gap": null,
            "grid_row": null,
            "grid_template_areas": null,
            "grid_template_columns": null,
            "grid_template_rows": null,
            "height": null,
            "justify_content": null,
            "justify_items": null,
            "left": null,
            "margin": null,
            "max_height": null,
            "max_width": null,
            "min_height": null,
            "min_width": null,
            "object_fit": null,
            "object_position": null,
            "order": null,
            "overflow": null,
            "overflow_x": null,
            "overflow_y": null,
            "padding": null,
            "right": null,
            "top": null,
            "visibility": null,
            "width": null
          }
        },
        "c8ecf9567b764c7693d4b17d653a4057": {
          "model_module": "@jupyter-widgets/controls",
          "model_name": "DescriptionStyleModel",
          "model_module_version": "1.5.0",
          "state": {
            "_model_module": "@jupyter-widgets/controls",
            "_model_module_version": "1.5.0",
            "_model_name": "DescriptionStyleModel",
            "_view_count": null,
            "_view_module": "@jupyter-widgets/base",
            "_view_module_version": "1.2.0",
            "_view_name": "StyleView",
            "description_width": ""
          }
        },
        "c5c5e675831741f3b8d64ceaa01d1800": {
          "model_module": "@jupyter-widgets/base",
          "model_name": "LayoutModel",
          "model_module_version": "1.2.0",
          "state": {
            "_model_module": "@jupyter-widgets/base",
            "_model_module_version": "1.2.0",
            "_model_name": "LayoutModel",
            "_view_count": null,
            "_view_module": "@jupyter-widgets/base",
            "_view_module_version": "1.2.0",
            "_view_name": "LayoutView",
            "align_content": null,
            "align_items": null,
            "align_self": null,
            "border": null,
            "bottom": null,
            "display": null,
            "flex": null,
            "flex_flow": null,
            "grid_area": null,
            "grid_auto_columns": null,
            "grid_auto_flow": null,
            "grid_auto_rows": null,
            "grid_column": null,
            "grid_gap": null,
            "grid_row": null,
            "grid_template_areas": null,
            "grid_template_columns": null,
            "grid_template_rows": null,
            "height": null,
            "justify_content": null,
            "justify_items": null,
            "left": null,
            "margin": null,
            "max_height": null,
            "max_width": null,
            "min_height": null,
            "min_width": null,
            "object_fit": null,
            "object_position": null,
            "order": null,
            "overflow": null,
            "overflow_x": null,
            "overflow_y": null,
            "padding": null,
            "right": null,
            "top": null,
            "visibility": null,
            "width": "20px"
          }
        },
        "39d6d61af7b44bfca8a9b07b85e73db9": {
          "model_module": "@jupyter-widgets/controls",
          "model_name": "ProgressStyleModel",
          "model_module_version": "1.5.0",
          "state": {
            "_model_module": "@jupyter-widgets/controls",
            "_model_module_version": "1.5.0",
            "_model_name": "ProgressStyleModel",
            "_view_count": null,
            "_view_module": "@jupyter-widgets/base",
            "_view_module_version": "1.2.0",
            "_view_name": "StyleView",
            "bar_color": null,
            "description_width": ""
          }
        },
        "dbb3282c485b410785d2e99f5e799e1d": {
          "model_module": "@jupyter-widgets/base",
          "model_name": "LayoutModel",
          "model_module_version": "1.2.0",
          "state": {
            "_model_module": "@jupyter-widgets/base",
            "_model_module_version": "1.2.0",
            "_model_name": "LayoutModel",
            "_view_count": null,
            "_view_module": "@jupyter-widgets/base",
            "_view_module_version": "1.2.0",
            "_view_name": "LayoutView",
            "align_content": null,
            "align_items": null,
            "align_self": null,
            "border": null,
            "bottom": null,
            "display": null,
            "flex": null,
            "flex_flow": null,
            "grid_area": null,
            "grid_auto_columns": null,
            "grid_auto_flow": null,
            "grid_auto_rows": null,
            "grid_column": null,
            "grid_gap": null,
            "grid_row": null,
            "grid_template_areas": null,
            "grid_template_columns": null,
            "grid_template_rows": null,
            "height": null,
            "justify_content": null,
            "justify_items": null,
            "left": null,
            "margin": null,
            "max_height": null,
            "max_width": null,
            "min_height": null,
            "min_width": null,
            "object_fit": null,
            "object_position": null,
            "order": null,
            "overflow": null,
            "overflow_x": null,
            "overflow_y": null,
            "padding": null,
            "right": null,
            "top": null,
            "visibility": null,
            "width": null
          }
        },
        "d834ca55a63a40018537297f6fa81676": {
          "model_module": "@jupyter-widgets/controls",
          "model_name": "DescriptionStyleModel",
          "model_module_version": "1.5.0",
          "state": {
            "_model_module": "@jupyter-widgets/controls",
            "_model_module_version": "1.5.0",
            "_model_name": "DescriptionStyleModel",
            "_view_count": null,
            "_view_module": "@jupyter-widgets/base",
            "_view_module_version": "1.2.0",
            "_view_name": "StyleView",
            "description_width": ""
          }
        }
      }
    },
    "accelerator": "GPU",
    "gpuClass": "standard"
  },
  "nbformat": 4,
  "nbformat_minor": 0
}